{
 "cells": [
  {
   "cell_type": "markdown",
   "id": "1598bb87",
   "metadata": {},
   "source": [
    "# Structural Data\n",
    "As the structural values of the lsoa area, describe the background featuers of each lsoa.\n",
    "- population density\n",
    "- age groups (elderly)\n",
    "- ethnic (minority)"
   ]
  },
  {
   "cell_type": "code",
   "execution_count": 1,
   "id": "c499e140",
   "metadata": {},
   "outputs": [],
   "source": [
    "import pandas as pd\n",
    "import geopandas as gpd\n",
    "import matplotlib.pyplot as plt\n",
    "import numpy as np"
   ]
  },
  {
   "cell_type": "markdown",
   "id": "e02cb08a",
   "metadata": {
    "vscode": {
     "languageId": "plaintext"
    }
   },
   "source": [
    "## Population\n",
    "\n",
    "Population density and population growth rate"
   ]
  },
  {
   "cell_type": "code",
   "execution_count": 37,
   "id": "b3f931bb",
   "metadata": {},
   "outputs": [],
   "source": [
    "# reading population density\n",
    "density11_path = \"data/stru_data/mid-2011-lsoa-pop-density.xls\"\n",
    "pop_den11 = pd.ExcelFile(density11_path)"
   ]
  },
  {
   "cell_type": "code",
   "execution_count": 38,
   "id": "d6c16bfb",
   "metadata": {},
   "outputs": [],
   "source": [
    "# reading sheet\n",
    "df_den_11 = pop_den11.parse(sheet_name=\"Mid-2011 Density\") \n",
    "df_den_11['Mid-2011 population'] = df_den_11['People per Sq Km']*df_den_11['Area Sq Km']"
   ]
  },
  {
   "cell_type": "code",
   "execution_count": 39,
   "id": "efc2f425",
   "metadata": {},
   "outputs": [],
   "source": [
    "# select columns\n",
    "den11_col = ['Code', 'People per Sq Km', 'Mid-2011 population']\n",
    "den_11 = df_den_11[den11_col]"
   ]
  },
  {
   "cell_type": "code",
   "execution_count": 40,
   "id": "84c6d895",
   "metadata": {},
   "outputs": [
    {
     "data": {
      "application/vnd.microsoft.datawrangler.viewer.v0+json": {
       "columns": [
        {
         "name": "index",
         "rawType": "int64",
         "type": "integer"
        },
        {
         "name": "Code",
         "rawType": "object",
         "type": "string"
        },
        {
         "name": "Name",
         "rawType": "object",
         "type": "string"
        },
        {
         "name": "Mid-2014 population",
         "rawType": "int64",
         "type": "integer"
        },
        {
         "name": "Area Sq Km",
         "rawType": "float64",
         "type": "float"
        },
        {
         "name": "People per Sq Km",
         "rawType": "int64",
         "type": "integer"
        }
       ],
       "ref": "859a155a-cdfd-4f8b-8034-e9c5f5ccda4c",
       "rows": [
        [
         "0",
         "E01020634",
         "County Durham 001A",
         "1535",
         "6.4975",
         "236"
        ],
        [
         "1",
         "E01020635",
         "County Durham 001B",
         "1344",
         "1.6963",
         "792"
        ],
        [
         "2",
         "E01020636",
         "County Durham 001C",
         "1724",
         "0.9272",
         "1859"
        ],
        [
         "3",
         "E01020654",
         "County Durham 001D",
         "1871",
         "0.9884000000000001",
         "1893"
        ],
        [
         "4",
         "E01020676",
         "County Durham 001E",
         "1470",
         "5.471699999999999",
         "269"
        ]
       ],
       "shape": {
        "columns": 5,
        "rows": 5
       }
      },
      "text/html": [
       "<div>\n",
       "<style scoped>\n",
       "    .dataframe tbody tr th:only-of-type {\n",
       "        vertical-align: middle;\n",
       "    }\n",
       "\n",
       "    .dataframe tbody tr th {\n",
       "        vertical-align: top;\n",
       "    }\n",
       "\n",
       "    .dataframe thead th {\n",
       "        text-align: right;\n",
       "    }\n",
       "</style>\n",
       "<table border=\"1\" class=\"dataframe\">\n",
       "  <thead>\n",
       "    <tr style=\"text-align: right;\">\n",
       "      <th></th>\n",
       "      <th>Code</th>\n",
       "      <th>Name</th>\n",
       "      <th>Mid-2014 population</th>\n",
       "      <th>Area Sq Km</th>\n",
       "      <th>People per Sq Km</th>\n",
       "    </tr>\n",
       "  </thead>\n",
       "  <tbody>\n",
       "    <tr>\n",
       "      <th>0</th>\n",
       "      <td>E01020634</td>\n",
       "      <td>County Durham 001A</td>\n",
       "      <td>1535</td>\n",
       "      <td>6.4975</td>\n",
       "      <td>236</td>\n",
       "    </tr>\n",
       "    <tr>\n",
       "      <th>1</th>\n",
       "      <td>E01020635</td>\n",
       "      <td>County Durham 001B</td>\n",
       "      <td>1344</td>\n",
       "      <td>1.6963</td>\n",
       "      <td>792</td>\n",
       "    </tr>\n",
       "    <tr>\n",
       "      <th>2</th>\n",
       "      <td>E01020636</td>\n",
       "      <td>County Durham 001C</td>\n",
       "      <td>1724</td>\n",
       "      <td>0.9272</td>\n",
       "      <td>1859</td>\n",
       "    </tr>\n",
       "    <tr>\n",
       "      <th>3</th>\n",
       "      <td>E01020654</td>\n",
       "      <td>County Durham 001D</td>\n",
       "      <td>1871</td>\n",
       "      <td>0.9884</td>\n",
       "      <td>1893</td>\n",
       "    </tr>\n",
       "    <tr>\n",
       "      <th>4</th>\n",
       "      <td>E01020676</td>\n",
       "      <td>County Durham 001E</td>\n",
       "      <td>1470</td>\n",
       "      <td>5.4717</td>\n",
       "      <td>269</td>\n",
       "    </tr>\n",
       "  </tbody>\n",
       "</table>\n",
       "</div>"
      ],
      "text/plain": [
       "        Code                Name  Mid-2014 population  Area Sq Km  \\\n",
       "0  E01020634  County Durham 001A                 1535      6.4975   \n",
       "1  E01020635  County Durham 001B                 1344      1.6963   \n",
       "2  E01020636  County Durham 001C                 1724      0.9272   \n",
       "3  E01020654  County Durham 001D                 1871      0.9884   \n",
       "4  E01020676  County Durham 001E                 1470      5.4717   \n",
       "\n",
       "   People per Sq Km  \n",
       "0               236  \n",
       "1               792  \n",
       "2              1859  \n",
       "3              1893  \n",
       "4               269  "
      ]
     },
     "execution_count": 40,
     "metadata": {},
     "output_type": "execute_result"
    }
   ],
   "source": [
    "# reading the density for 2015\n",
    "density14_path = \"data/stru_data/SAPE20DT11-mid-2014-lsoa-population-density.xls\"\n",
    "pop_den14 = pd.ExcelFile(density14_path)\n",
    "df_den_14 = pop_den14.parse(sheet_name=\"Mid-2014 Population Density\", header = 4) \n",
    "df_den_14.head()"
   ]
  },
  {
   "cell_type": "code",
   "execution_count": 41,
   "id": "f6d63403",
   "metadata": {},
   "outputs": [],
   "source": [
    "# select columns\n",
    "den14_col = ['Code', 'Mid-2014 population', 'People per Sq Km']\n",
    "den_14 = df_den_14[den14_col]"
   ]
  },
  {
   "cell_type": "code",
   "execution_count": 42,
   "id": "89b0a636",
   "metadata": {},
   "outputs": [
    {
     "name": "stdout",
     "output_type": "stream",
     "text": [
      "   LSOA Code  2011_population_density  Mid-2011 population  \\\n",
      "0  E01020634               241.323586               1568.0   \n",
      "1  E01020635               811.766787               1377.0   \n",
      "2  E01020636              1827.006040               1694.0   \n",
      "3  E01020654              1764.467827               1744.0   \n",
      "4  E01020676               277.244732               1517.0   \n",
      "\n",
      "   Mid-2014 population  2014_population_density  \n",
      "0                 1535                      236  \n",
      "1                 1344                      792  \n",
      "2                 1724                     1859  \n",
      "3                 1871                     1893  \n",
      "4                 1470                      269  \n"
     ]
    },
    {
     "name": "stderr",
     "output_type": "stream",
     "text": [
      "C:\\Users\\hp\\AppData\\Local\\Temp\\ipykernel_29508\\2470234484.py:3: SettingWithCopyWarning: \n",
      "A value is trying to be set on a copy of a slice from a DataFrame\n",
      "\n",
      "See the caveats in the documentation: https://pandas.pydata.org/pandas-docs/stable/user_guide/indexing.html#returning-a-view-versus-a-copy\n",
      "  den_14.rename(columns={'Code': 'LSOA Code'}, inplace=True)\n",
      "C:\\Users\\hp\\AppData\\Local\\Temp\\ipykernel_29508\\2470234484.py:4: SettingWithCopyWarning: \n",
      "A value is trying to be set on a copy of a slice from a DataFrame\n",
      "\n",
      "See the caveats in the documentation: https://pandas.pydata.org/pandas-docs/stable/user_guide/indexing.html#returning-a-view-versus-a-copy\n",
      "  den_11.rename(columns={'Code': 'LSOA Code'}, inplace=True)\n",
      "C:\\Users\\hp\\AppData\\Local\\Temp\\ipykernel_29508\\2470234484.py:5: SettingWithCopyWarning: \n",
      "A value is trying to be set on a copy of a slice from a DataFrame\n",
      "\n",
      "See the caveats in the documentation: https://pandas.pydata.org/pandas-docs/stable/user_guide/indexing.html#returning-a-view-versus-a-copy\n",
      "  den_14.rename(columns={'People per Sq Km': '2014_population_density'}, inplace=True)\n",
      "C:\\Users\\hp\\AppData\\Local\\Temp\\ipykernel_29508\\2470234484.py:6: SettingWithCopyWarning: \n",
      "A value is trying to be set on a copy of a slice from a DataFrame\n",
      "\n",
      "See the caveats in the documentation: https://pandas.pydata.org/pandas-docs/stable/user_guide/indexing.html#returning-a-view-versus-a-copy\n",
      "  den_11.rename(columns={'People per Sq Km': '2011_population_density'}, inplace=True)\n"
     ]
    }
   ],
   "source": [
    "# join together\n",
    "# 把 df2 的列名改成一致\n",
    "den_14.rename(columns={'Code': 'LSOA Code'}, inplace=True)\n",
    "den_11.rename(columns={'Code': 'LSOA Code'}, inplace=True)\n",
    "den_14.rename(columns={'People per Sq Km': '2014_population_density'}, inplace=True)\n",
    "den_11.rename(columns={'People per Sq Km': '2011_population_density'}, inplace=True)\n",
    "\n",
    "# 然后 merge\n",
    "den_all = den_11.merge(den_14, on='LSOA Code', how='left')\n",
    "print(den_all.head())"
   ]
  },
  {
   "cell_type": "code",
   "execution_count": 43,
   "id": "51f2a91b",
   "metadata": {},
   "outputs": [
    {
     "name": "stdout",
     "output_type": "stream",
     "text": [
      "   LSOA Code  2011_population_density  Mid-2011 population  \\\n",
      "0  E01020634               241.323586               1568.0   \n",
      "1  E01020635               811.766787               1377.0   \n",
      "2  E01020636              1827.006040               1694.0   \n",
      "3  E01020654              1764.467827               1744.0   \n",
      "4  E01020676               277.244732               1517.0   \n",
      "\n",
      "   Mid-2014 population  2014_population_density  pop_growth_rate      avg_den  \n",
      "0                 1535                      236        -0.021046   238.661793  \n",
      "1                 1344                      792        -0.023965   801.883393  \n",
      "2                 1724                     1859         0.017710  1843.003020  \n",
      "3                 1871                     1893         0.072821  1828.733913  \n",
      "4                 1470                      269        -0.030982   273.122366  \n"
     ]
    }
   ],
   "source": [
    "den_all['pop_growth_rate'] = (den_all['Mid-2014 population'] - den_all['Mid-2011 population']) / den_all['Mid-2011 population']\n",
    "den_all['avg_den'] = (den_all['2011_population_density'] + den_all['2014_population_density']) / 2\n",
    "print(den_all.head())"
   ]
  },
  {
   "cell_type": "code",
   "execution_count": 44,
   "id": "8dcf76aa",
   "metadata": {},
   "outputs": [
    {
     "data": {
      "application/vnd.microsoft.datawrangler.viewer.v0+json": {
       "columns": [
        {
         "name": "index",
         "rawType": "object",
         "type": "string"
        },
        {
         "name": "0",
         "rawType": "int64",
         "type": "integer"
        }
       ],
       "ref": "bd7ae02a-1cd4-436d-8f66-1f5a4b81bb3c",
       "rows": [
        [
         "LSOA Code",
         "0"
        ],
        [
         "2011_population_density",
         "0"
        ],
        [
         "Mid-2011 population",
         "0"
        ],
        [
         "Mid-2014 population",
         "0"
        ],
        [
         "2014_population_density",
         "0"
        ],
        [
         "pop_growth_rate",
         "0"
        ],
        [
         "avg_den",
         "0"
        ]
       ],
       "shape": {
        "columns": 1,
        "rows": 7
       }
      },
      "text/plain": [
       "LSOA Code                  0\n",
       "2011_population_density    0\n",
       "Mid-2011 population        0\n",
       "Mid-2014 population        0\n",
       "2014_population_density    0\n",
       "pop_growth_rate            0\n",
       "avg_den                    0\n",
       "dtype: int64"
      ]
     },
     "execution_count": 44,
     "metadata": {},
     "output_type": "execute_result"
    }
   ],
   "source": [
    "den_all.isna().sum()"
   ]
  },
  {
   "cell_type": "code",
   "execution_count": 45,
   "id": "59731a0e",
   "metadata": {},
   "outputs": [
    {
     "data": {
      "text/plain": [
       "(4835, 7)"
      ]
     },
     "execution_count": 45,
     "metadata": {},
     "output_type": "execute_result"
    }
   ],
   "source": [
    "# read in lsoa shapefile\n",
    "london_gdf = gpd.read_file(\"data/statistical-gis-boundaries-london/statistical-gis-boundaries-london/ESRI/LSOA_2011_London_gen_MHW.shp\")\n",
    "\n",
    "# extract lsoa11cd as LSOA list\n",
    "london_lsoa_list = london_gdf['LSOA11CD'].unique()\n",
    "\n",
    "# select data in London area\n",
    "df_london_den = den_all[den_all['LSOA Code'].isin(london_lsoa_list)]\n",
    "df_london_den.shape"
   ]
  },
  {
   "cell_type": "markdown",
   "id": "1fa71747",
   "metadata": {},
   "source": [
    "## Age Group\n",
    "\n",
    "focusing on the elderly(over 65) percentage, as a description date."
   ]
  },
  {
   "cell_type": "code",
   "execution_count": 29,
   "id": "fc5c1bd3",
   "metadata": {},
   "outputs": [],
   "source": [
    "# read in files\n",
    "age12_path = \"data/stru_data/SAPE20DT12-mid-2012-lsoa-Broad_ages-estimates-formatted.xls\"\n",
    "age12 = pd.ExcelFile(age12_path)\n",
    "age_group_12 = age12.parse(sheet_name=\"Mid-2012 Persons\", header = 4) \n",
    "# age_group_14 = age.parse(sheet_name=\"Mid-2014 LSOA 2021\", header = 3) "
   ]
  },
  {
   "cell_type": "code",
   "execution_count": 30,
   "id": "711fdfb4",
   "metadata": {},
   "outputs": [
    {
     "name": "stdout",
     "output_type": "stream",
     "text": [
      "Index(['Area Codes', '65+', 'All Ages', 'elderly_per_12'], dtype='object')\n"
     ]
    },
    {
     "name": "stderr",
     "output_type": "stream",
     "text": [
      "C:\\Users\\hp\\AppData\\Local\\Temp\\ipykernel_29508\\3066496738.py:4: SettingWithCopyWarning: \n",
      "A value is trying to be set on a copy of a slice from a DataFrame.\n",
      "Try using .loc[row_indexer,col_indexer] = value instead\n",
      "\n",
      "See the caveats in the documentation: https://pandas.pydata.org/pandas-docs/stable/user_guide/indexing.html#returning-a-view-versus-a-copy\n",
      "  age_12[\"elderly_per_12\"] = age_12[\"65+\"] * 100 / age_12[\"All Ages\"]\n"
     ]
    }
   ],
   "source": [
    "# select columns\n",
    "age_col = ['Area Codes', '65+', 'All Ages']\n",
    "age_12 = age_group_12[age_col]\n",
    "age_12[\"elderly_per_12\"] = age_12[\"65+\"] * 100 / age_12[\"All Ages\"]\n",
    "print(age_12.columns)"
   ]
  },
  {
   "cell_type": "code",
   "execution_count": null,
   "id": "2a1f27da",
   "metadata": {},
   "outputs": [
    {
     "name": "stdout",
     "output_type": "stream",
     "text": [
      "Index(['Area Codes', '65+', 'All Ages', 'elderly_per_14'], dtype='object')\n"
     ]
    },
    {
     "name": "stderr",
     "output_type": "stream",
     "text": [
      "C:\\Users\\hp\\AppData\\Local\\Temp\\ipykernel_29508\\242502156.py:7: SettingWithCopyWarning: \n",
      "A value is trying to be set on a copy of a slice from a DataFrame.\n",
      "Try using .loc[row_indexer,col_indexer] = value instead\n",
      "\n",
      "See the caveats in the documentation: https://pandas.pydata.org/pandas-docs/stable/user_guide/indexing.html#returning-a-view-versus-a-copy\n",
      "  age_14[\"elderly_per_14\"] = age_14[\"65+\"] * 100 / age_14[\"All Ages\"]\n"
     ]
    }
   ],
   "source": [
    "# select columns\n",
    "age14_path = \"data/stru_data/SAPE20DT12-mid-2014-lsoa-Broad_ages-estimates-formatted.xls\"\n",
    "age14 = pd.ExcelFile(age14_path)\n",
    "age_group_14 = age14.parse(sheet_name=\"Mid-2014 Persons\", header = 4) \n",
    "age_col = ['Area Codes', '65+', 'All Ages']\n",
    "age_14 = age_group_14[age_col]\n",
    "age_14[\"elderly_per_14\"] = age_14[\"65+\"] * 100 / age_14[\"All Ages\"]\n",
    "print(age_14.columns)"
   ]
  },
  {
   "cell_type": "code",
   "execution_count": 34,
   "id": "a8b3dc4c",
   "metadata": {},
   "outputs": [],
   "source": [
    "age_group = age_12[[\"Area Codes\", \"elderly_per_12\"]].merge(age_14[[\"Area Codes\", \"elderly_per_14\"]], on = \"Area Codes\", how = \"left\")"
   ]
  },
  {
   "cell_type": "code",
   "execution_count": 36,
   "id": "7ce8ba07",
   "metadata": {},
   "outputs": [
    {
     "name": "stdout",
     "output_type": "stream",
     "text": [
      "   LSOA Code  elderly_per_12  elderly_per_14  senior_per\n",
      "0  E06000047       18.779180       19.604384   19.191782\n",
      "1  E01020634       22.251309       23.192182   22.721746\n",
      "2  E01020635       19.285714       20.907738   20.096726\n",
      "3  E01020636       19.530792       19.257541   19.394166\n",
      "4  E01020654       17.471264       21.485836   19.478550\n"
     ]
    }
   ],
   "source": [
    "age_group[\"senior_per\"] = (age_group[\"elderly_per_12\"] + age_group[\"elderly_per_14\"]) / 2\n",
    "age_group.rename(columns={'Area Codes': 'LSOA Code'}, inplace=True)\n",
    "print(age_group.head(5))"
   ]
  },
  {
   "cell_type": "code",
   "execution_count": 46,
   "id": "a95245ff",
   "metadata": {},
   "outputs": [
    {
     "data": {
      "text/plain": [
       "(4835, 4)"
      ]
     },
     "execution_count": 46,
     "metadata": {},
     "output_type": "execute_result"
    }
   ],
   "source": [
    "# select data in London area\n",
    "df_london_age = age_group[age_group['LSOA Code'].isin(london_lsoa_list)]\n",
    "df_london_age.shape"
   ]
  },
  {
   "cell_type": "markdown",
   "id": "190edcb7",
   "metadata": {},
   "source": [
    "## Ethnic groups\n",
    "\n",
    "Focusing on the minority percentage here."
   ]
  },
  {
   "cell_type": "code",
   "execution_count": 2,
   "id": "efd816fc",
   "metadata": {},
   "outputs": [
    {
     "data": {
      "application/vnd.microsoft.datawrangler.viewer.v0+json": {
       "columns": [
        {
         "name": "index",
         "rawType": "int64",
         "type": "integer"
        },
        {
         "name": "date",
         "rawType": "int64",
         "type": "integer"
        },
        {
         "name": "geography",
         "rawType": "object",
         "type": "string"
        },
        {
         "name": "geography code",
         "rawType": "object",
         "type": "string"
        },
        {
         "name": "Ethnic Group: All categories: Ethnic group; measures: Value",
         "rawType": "int64",
         "type": "integer"
        },
        {
         "name": "Ethnic Group: White; measures: Value",
         "rawType": "int64",
         "type": "integer"
        },
        {
         "name": "Ethnic Group: Gypsy / Traveller / Irish Traveller; measures: Value",
         "rawType": "int64",
         "type": "integer"
        },
        {
         "name": "Ethnic Group: Mixed / Multiple ethnic group; measures: Value",
         "rawType": "int64",
         "type": "integer"
        },
        {
         "name": "Ethnic Group: Asian / Asian British: Indian; measures: Value",
         "rawType": "int64",
         "type": "integer"
        },
        {
         "name": "Ethnic Group: Asian / Asian British: Pakistani; measures: Value",
         "rawType": "int64",
         "type": "integer"
        },
        {
         "name": "Ethnic Group: Asian / Asian British: Bangladeshi; measures: Value",
         "rawType": "int64",
         "type": "integer"
        },
        {
         "name": "Ethnic Group: Asian / Asian British: Chinese; measures: Value",
         "rawType": "int64",
         "type": "integer"
        },
        {
         "name": "Ethnic Group: Asian / Asian British: Other Asian; measures: Value",
         "rawType": "int64",
         "type": "integer"
        },
        {
         "name": "Ethnic Group: Black / African / Caribbean / Black British; measures: Value",
         "rawType": "int64",
         "type": "integer"
        },
        {
         "name": "Ethnic Group: Other Ethnic Group; measures: Value",
         "rawType": "int64",
         "type": "integer"
        }
       ],
       "ref": "bccc8e52-52b4-4177-83a0-ebb6764d48e5",
       "rows": [
        [
         "0",
         "2011",
         "Darlington 001B",
         "E01012334",
         "2466",
         "2401",
         "3",
         "29",
         "18",
         "3",
         "0",
         "5",
         "1",
         "1",
         "5"
        ],
        [
         "1",
         "2011",
         "Darlington 001C",
         "E01012335",
         "1383",
         "1362",
         "0",
         "9",
         "0",
         "0",
         "5",
         "3",
         "3",
         "0",
         "1"
        ],
        [
         "2",
         "2011",
         "Darlington 001D",
         "E01012366",
         "2008",
         "1961",
         "5",
         "16",
         "8",
         "1",
         "1",
         "1",
         "9",
         "6",
         "0"
        ],
        [
         "3",
         "2011",
         "Darlington 001E",
         "E01033481",
         "1364",
         "1311",
         "5",
         "16",
         "11",
         "3",
         "0",
         "5",
         "3",
         "6",
         "4"
        ],
        [
         "4",
         "2011",
         "Darlington 001F",
         "E01033482",
         "1621",
         "1540",
         "26",
         "20",
         "14",
         "0",
         "0",
         "6",
         "3",
         "11",
         "1"
        ]
       ],
       "shape": {
        "columns": 14,
        "rows": 5
       }
      },
      "text/html": [
       "<div>\n",
       "<style scoped>\n",
       "    .dataframe tbody tr th:only-of-type {\n",
       "        vertical-align: middle;\n",
       "    }\n",
       "\n",
       "    .dataframe tbody tr th {\n",
       "        vertical-align: top;\n",
       "    }\n",
       "\n",
       "    .dataframe thead th {\n",
       "        text-align: right;\n",
       "    }\n",
       "</style>\n",
       "<table border=\"1\" class=\"dataframe\">\n",
       "  <thead>\n",
       "    <tr style=\"text-align: right;\">\n",
       "      <th></th>\n",
       "      <th>date</th>\n",
       "      <th>geography</th>\n",
       "      <th>geography code</th>\n",
       "      <th>Ethnic Group: All categories: Ethnic group; measures: Value</th>\n",
       "      <th>Ethnic Group: White; measures: Value</th>\n",
       "      <th>Ethnic Group: Gypsy / Traveller / Irish Traveller; measures: Value</th>\n",
       "      <th>Ethnic Group: Mixed / Multiple ethnic group; measures: Value</th>\n",
       "      <th>Ethnic Group: Asian / Asian British: Indian; measures: Value</th>\n",
       "      <th>Ethnic Group: Asian / Asian British: Pakistani; measures: Value</th>\n",
       "      <th>Ethnic Group: Asian / Asian British: Bangladeshi; measures: Value</th>\n",
       "      <th>Ethnic Group: Asian / Asian British: Chinese; measures: Value</th>\n",
       "      <th>Ethnic Group: Asian / Asian British: Other Asian; measures: Value</th>\n",
       "      <th>Ethnic Group: Black / African / Caribbean / Black British; measures: Value</th>\n",
       "      <th>Ethnic Group: Other Ethnic Group; measures: Value</th>\n",
       "    </tr>\n",
       "  </thead>\n",
       "  <tbody>\n",
       "    <tr>\n",
       "      <th>0</th>\n",
       "      <td>2011</td>\n",
       "      <td>Darlington 001B</td>\n",
       "      <td>E01012334</td>\n",
       "      <td>2466</td>\n",
       "      <td>2401</td>\n",
       "      <td>3</td>\n",
       "      <td>29</td>\n",
       "      <td>18</td>\n",
       "      <td>3</td>\n",
       "      <td>0</td>\n",
       "      <td>5</td>\n",
       "      <td>1</td>\n",
       "      <td>1</td>\n",
       "      <td>5</td>\n",
       "    </tr>\n",
       "    <tr>\n",
       "      <th>1</th>\n",
       "      <td>2011</td>\n",
       "      <td>Darlington 001C</td>\n",
       "      <td>E01012335</td>\n",
       "      <td>1383</td>\n",
       "      <td>1362</td>\n",
       "      <td>0</td>\n",
       "      <td>9</td>\n",
       "      <td>0</td>\n",
       "      <td>0</td>\n",
       "      <td>5</td>\n",
       "      <td>3</td>\n",
       "      <td>3</td>\n",
       "      <td>0</td>\n",
       "      <td>1</td>\n",
       "    </tr>\n",
       "    <tr>\n",
       "      <th>2</th>\n",
       "      <td>2011</td>\n",
       "      <td>Darlington 001D</td>\n",
       "      <td>E01012366</td>\n",
       "      <td>2008</td>\n",
       "      <td>1961</td>\n",
       "      <td>5</td>\n",
       "      <td>16</td>\n",
       "      <td>8</td>\n",
       "      <td>1</td>\n",
       "      <td>1</td>\n",
       "      <td>1</td>\n",
       "      <td>9</td>\n",
       "      <td>6</td>\n",
       "      <td>0</td>\n",
       "    </tr>\n",
       "    <tr>\n",
       "      <th>3</th>\n",
       "      <td>2011</td>\n",
       "      <td>Darlington 001E</td>\n",
       "      <td>E01033481</td>\n",
       "      <td>1364</td>\n",
       "      <td>1311</td>\n",
       "      <td>5</td>\n",
       "      <td>16</td>\n",
       "      <td>11</td>\n",
       "      <td>3</td>\n",
       "      <td>0</td>\n",
       "      <td>5</td>\n",
       "      <td>3</td>\n",
       "      <td>6</td>\n",
       "      <td>4</td>\n",
       "    </tr>\n",
       "    <tr>\n",
       "      <th>4</th>\n",
       "      <td>2011</td>\n",
       "      <td>Darlington 001F</td>\n",
       "      <td>E01033482</td>\n",
       "      <td>1621</td>\n",
       "      <td>1540</td>\n",
       "      <td>26</td>\n",
       "      <td>20</td>\n",
       "      <td>14</td>\n",
       "      <td>0</td>\n",
       "      <td>0</td>\n",
       "      <td>6</td>\n",
       "      <td>3</td>\n",
       "      <td>11</td>\n",
       "      <td>1</td>\n",
       "    </tr>\n",
       "  </tbody>\n",
       "</table>\n",
       "</div>"
      ],
      "text/plain": [
       "   date        geography geography code  \\\n",
       "0  2011  Darlington 001B      E01012334   \n",
       "1  2011  Darlington 001C      E01012335   \n",
       "2  2011  Darlington 001D      E01012366   \n",
       "3  2011  Darlington 001E      E01033481   \n",
       "4  2011  Darlington 001F      E01033482   \n",
       "\n",
       "   Ethnic Group: All categories: Ethnic group; measures: Value  \\\n",
       "0                                               2466             \n",
       "1                                               1383             \n",
       "2                                               2008             \n",
       "3                                               1364             \n",
       "4                                               1621             \n",
       "\n",
       "   Ethnic Group: White; measures: Value  \\\n",
       "0                                  2401   \n",
       "1                                  1362   \n",
       "2                                  1961   \n",
       "3                                  1311   \n",
       "4                                  1540   \n",
       "\n",
       "   Ethnic Group: Gypsy / Traveller / Irish Traveller; measures: Value  \\\n",
       "0                                                  3                    \n",
       "1                                                  0                    \n",
       "2                                                  5                    \n",
       "3                                                  5                    \n",
       "4                                                 26                    \n",
       "\n",
       "   Ethnic Group: Mixed / Multiple ethnic group; measures: Value  \\\n",
       "0                                                 29              \n",
       "1                                                  9              \n",
       "2                                                 16              \n",
       "3                                                 16              \n",
       "4                                                 20              \n",
       "\n",
       "   Ethnic Group: Asian / Asian British: Indian; measures: Value  \\\n",
       "0                                                 18              \n",
       "1                                                  0              \n",
       "2                                                  8              \n",
       "3                                                 11              \n",
       "4                                                 14              \n",
       "\n",
       "   Ethnic Group: Asian / Asian British: Pakistani; measures: Value  \\\n",
       "0                                                  3                 \n",
       "1                                                  0                 \n",
       "2                                                  1                 \n",
       "3                                                  3                 \n",
       "4                                                  0                 \n",
       "\n",
       "   Ethnic Group: Asian / Asian British: Bangladeshi; measures: Value  \\\n",
       "0                                                  0                   \n",
       "1                                                  5                   \n",
       "2                                                  1                   \n",
       "3                                                  0                   \n",
       "4                                                  0                   \n",
       "\n",
       "   Ethnic Group: Asian / Asian British: Chinese; measures: Value  \\\n",
       "0                                                  5               \n",
       "1                                                  3               \n",
       "2                                                  1               \n",
       "3                                                  5               \n",
       "4                                                  6               \n",
       "\n",
       "   Ethnic Group: Asian / Asian British: Other Asian; measures: Value  \\\n",
       "0                                                  1                   \n",
       "1                                                  3                   \n",
       "2                                                  9                   \n",
       "3                                                  3                   \n",
       "4                                                  3                   \n",
       "\n",
       "   Ethnic Group: Black / African / Caribbean / Black British; measures: Value  \\\n",
       "0                                                  1                            \n",
       "1                                                  0                            \n",
       "2                                                  6                            \n",
       "3                                                  6                            \n",
       "4                                                 11                            \n",
       "\n",
       "   Ethnic Group: Other Ethnic Group; measures: Value  \n",
       "0                                                  5  \n",
       "1                                                  1  \n",
       "2                                                  0  \n",
       "3                                                  4  \n",
       "4                                                  1  "
      ]
     },
     "execution_count": 2,
     "metadata": {},
     "output_type": "execute_result"
    }
   ],
   "source": [
    "ethnic_group = pd.read_csv(\"data/stru_data/bulk.csv\")\n",
    "ethnic_group.head(5)"
   ]
  },
  {
   "cell_type": "code",
   "execution_count": 3,
   "id": "507b687b",
   "metadata": {},
   "outputs": [],
   "source": [
    "# select columns\n",
    "eth_col = ['geography code', 'Ethnic Group: All categories: Ethnic group; measures: Value', 'Ethnic Group: White; measures: Value']\n",
    "df_eth = ethnic_group[eth_col]"
   ]
  },
  {
   "cell_type": "code",
   "execution_count": 4,
   "id": "5ef6e74c",
   "metadata": {},
   "outputs": [
    {
     "name": "stderr",
     "output_type": "stream",
     "text": [
      "C:\\Users\\hp\\AppData\\Local\\Temp\\ipykernel_29508\\4047659333.py:1: SettingWithCopyWarning: \n",
      "A value is trying to be set on a copy of a slice from a DataFrame\n",
      "\n",
      "See the caveats in the documentation: https://pandas.pydata.org/pandas-docs/stable/user_guide/indexing.html#returning-a-view-versus-a-copy\n",
      "  df_eth.rename(columns={'geography code': 'LSOA Code'}, inplace=True)\n",
      "C:\\Users\\hp\\AppData\\Local\\Temp\\ipykernel_29508\\4047659333.py:2: SettingWithCopyWarning: \n",
      "A value is trying to be set on a copy of a slice from a DataFrame\n",
      "\n",
      "See the caveats in the documentation: https://pandas.pydata.org/pandas-docs/stable/user_guide/indexing.html#returning-a-view-versus-a-copy\n",
      "  df_eth.rename(columns={'Ethnic Group: All categories: Ethnic group; measures: Value': 'all'}, inplace=True)\n",
      "C:\\Users\\hp\\AppData\\Local\\Temp\\ipykernel_29508\\4047659333.py:3: SettingWithCopyWarning: \n",
      "A value is trying to be set on a copy of a slice from a DataFrame\n",
      "\n",
      "See the caveats in the documentation: https://pandas.pydata.org/pandas-docs/stable/user_guide/indexing.html#returning-a-view-versus-a-copy\n",
      "  df_eth.rename(columns={'Ethnic Group: White; measures: Value': 'white'}, inplace=True)\n"
     ]
    },
    {
     "data": {
      "application/vnd.microsoft.datawrangler.viewer.v0+json": {
       "columns": [
        {
         "name": "index",
         "rawType": "object",
         "type": "string"
        },
        {
         "name": "0",
         "rawType": "int64",
         "type": "integer"
        }
       ],
       "ref": "67f97c86-d36c-4e88-b63e-4d5b0b2696f4",
       "rows": [
        [
         "all",
         "0"
        ],
        [
         "white",
         "0"
        ]
       ],
       "shape": {
        "columns": 1,
        "rows": 2
       }
      },
      "text/plain": [
       "all      0\n",
       "white    0\n",
       "dtype: int64"
      ]
     },
     "execution_count": 4,
     "metadata": {},
     "output_type": "execute_result"
    }
   ],
   "source": [
    "df_eth.rename(columns={'geography code': 'LSOA Code'}, inplace=True)\n",
    "df_eth.rename(columns={'Ethnic Group: All categories: Ethnic group; measures: Value': 'all'}, inplace=True)\n",
    "df_eth.rename(columns={'Ethnic Group: White; measures: Value': 'white'}, inplace=True)\n",
    "df_eth[['all', 'white']].isnull().sum()"
   ]
  },
  {
   "cell_type": "code",
   "execution_count": 5,
   "id": "1ca3b306",
   "metadata": {},
   "outputs": [
    {
     "name": "stdout",
     "output_type": "stream",
     "text": [
      "   LSOA Code   all  white  minority_per\n",
      "0  E01012334  2466   2401      2.635848\n",
      "1  E01012335  1383   1362      1.518438\n",
      "2  E01012366  2008   1961      2.340637\n",
      "3  E01033481  1364   1311      3.885630\n",
      "4  E01033482  1621   1540      4.996915\n"
     ]
    },
    {
     "name": "stderr",
     "output_type": "stream",
     "text": [
      "C:\\Users\\hp\\AppData\\Local\\Temp\\ipykernel_29508\\191691982.py:1: SettingWithCopyWarning: \n",
      "A value is trying to be set on a copy of a slice from a DataFrame.\n",
      "Try using .loc[row_indexer,col_indexer] = value instead\n",
      "\n",
      "See the caveats in the documentation: https://pandas.pydata.org/pandas-docs/stable/user_guide/indexing.html#returning-a-view-versus-a-copy\n",
      "  df_eth['minority_per'] = (df_eth['all'] - df_eth['white']) *100 / df_eth['all']\n"
     ]
    }
   ],
   "source": [
    "df_eth['minority_per'] = (df_eth['all'] - df_eth['white']) *100 / df_eth['all']\n",
    "print(df_eth.head())"
   ]
  },
  {
   "cell_type": "code",
   "execution_count": 47,
   "id": "6d46ec28",
   "metadata": {},
   "outputs": [
    {
     "data": {
      "text/plain": [
       "(4835, 4)"
      ]
     },
     "execution_count": 47,
     "metadata": {},
     "output_type": "execute_result"
    }
   ],
   "source": [
    "# select data in London area\n",
    "df_london_eth = df_eth[df_eth['LSOA Code'].isin(london_lsoa_list)]\n",
    "df_london_eth.shape"
   ]
  },
  {
   "cell_type": "code",
   "execution_count": 48,
   "id": "197b3b20",
   "metadata": {},
   "outputs": [],
   "source": [
    "# merge all the data together\n",
    "df_data_all = df_london_den.merge(df_london_age, on='LSOA Code', how='left')"
   ]
  },
  {
   "cell_type": "code",
   "execution_count": 49,
   "id": "3f9d3f3e",
   "metadata": {},
   "outputs": [
    {
     "name": "stdout",
     "output_type": "stream",
     "text": [
      "   LSOA Code  2011_population_density  Mid-2011 population  \\\n",
      "0  E01000907             13348.880597               1431.0   \n",
      "1  E01000908              8937.142857               1564.0   \n",
      "2  E01000909              7007.874016               1602.0   \n",
      "3  E01000912              1773.239594               1589.0   \n",
      "4  E01000913              1048.237477               1695.0   \n",
      "\n",
      "   Mid-2014 population  2014_population_density  pop_growth_rate  \\\n",
      "0                 1443                    13461         0.008386   \n",
      "1                 1662                     9497         0.062660   \n",
      "2                 1671                     7310         0.043071   \n",
      "3                 1711                     1909         0.076778   \n",
      "4                 1818                     1124         0.072566   \n",
      "\n",
      "        avg_den  elderly_per_12  elderly_per_14  senior_per   all  white  \\\n",
      "0  13404.940299       11.626298       12.404712   12.015505  1430   1051   \n",
      "1   9217.071429       13.616490       14.981949   14.299220  1581   1144   \n",
      "2   7158.937008       19.113054       20.646320   19.879687  1614   1356   \n",
      "3   1841.119797       14.056720       14.026885   14.041802  1589   1227   \n",
      "4   1086.118738       21.165818       23.817382   22.491600  1710   1505   \n",
      "\n",
      "   minority_per  \n",
      "0     26.503497  \n",
      "1     27.640734  \n",
      "2     15.985130  \n",
      "3     22.781624  \n",
      "4     11.988304  \n"
     ]
    }
   ],
   "source": [
    "df_data_all = df_data_all.merge(df_london_eth, on='LSOA Code', how='left')\n",
    "print(df_data_all.head(5))"
   ]
  },
  {
   "cell_type": "markdown",
   "id": "485f6cc3",
   "metadata": {},
   "source": [
    "## House and Dewlling"
   ]
  },
  {
   "cell_type": "code",
   "execution_count": 50,
   "id": "a6cff7c3",
   "metadata": {},
   "outputs": [
    {
     "data": {
      "application/vnd.microsoft.datawrangler.viewer.v0+json": {
       "columns": [
        {
         "name": "index",
         "rawType": "int64",
         "type": "integer"
        },
        {
         "name": "date",
         "rawType": "int64",
         "type": "integer"
        },
        {
         "name": "geography",
         "rawType": "object",
         "type": "string"
        },
        {
         "name": "geography code",
         "rawType": "object",
         "type": "string"
        },
        {
         "name": "Rural Urban",
         "rawType": "object",
         "type": "string"
        },
        {
         "name": "Dwelling Type: All categories: Dwelling type; measures: Value",
         "rawType": "int64",
         "type": "integer"
        },
        {
         "name": "Dwelling Type: Unshared dwelling; measures: Value",
         "rawType": "int64",
         "type": "integer"
        },
        {
         "name": "Dwelling Type: Shared dwelling: Two household spaces; measures: Value",
         "rawType": "int64",
         "type": "integer"
        },
        {
         "name": "Dwelling Type: Shared dwelling: Three or more household spaces; measures: Value",
         "rawType": "int64",
         "type": "integer"
        },
        {
         "name": "Dwelling Type: All categories: Household spaces; measures: Value",
         "rawType": "int64",
         "type": "integer"
        },
        {
         "name": "Dwelling Type: Household spaces with at least one usual resident; measures: Value",
         "rawType": "int64",
         "type": "integer"
        },
        {
         "name": "Dwelling Type: Household spaces with no usual residents; measures: Value",
         "rawType": "int64",
         "type": "integer"
        },
        {
         "name": "Dwelling Type: Whole house or bungalow: Detached; measures: Value",
         "rawType": "int64",
         "type": "integer"
        },
        {
         "name": "Dwelling Type: Whole house or bungalow: Semi-detached; measures: Value",
         "rawType": "int64",
         "type": "integer"
        },
        {
         "name": "Dwelling Type: Whole house or bungalow: Terraced (including end-terrace); measures: Value",
         "rawType": "int64",
         "type": "integer"
        },
        {
         "name": "Dwelling Type: Flat, maisonette or apartment: Purpose-built block of flats or tenement; measures: Value",
         "rawType": "int64",
         "type": "integer"
        },
        {
         "name": "Dwelling Type: Flat, maisonette or apartment: Part of a converted or shared house (including bed-sits); measures: Value",
         "rawType": "int64",
         "type": "integer"
        },
        {
         "name": "Dwelling Type: Flat, maisonette or apartment: In a commercial building; measures: Value",
         "rawType": "int64",
         "type": "integer"
        },
        {
         "name": "Dwelling Type: Caravan or other mobile or temporary structure; measures: Value",
         "rawType": "int64",
         "type": "integer"
        }
       ],
       "ref": "d65086ae-84ab-460b-98a4-6c200c853447",
       "rows": [
        [
         "0",
         "2011",
         "Darlington 001B",
         "E01012334",
         "Total",
         "1017",
         "1016",
         "0",
         "1",
         "1019",
         "962",
         "57",
         "603",
         "217",
         "175",
         "10",
         "3",
         "7",
         "4"
        ],
        [
         "1",
         "2011",
         "Darlington 001C",
         "E01012335",
         "Total",
         "635",
         "635",
         "0",
         "0",
         "635",
         "620",
         "15",
         "256",
         "201",
         "153",
         "19",
         "1",
         "5",
         "0"
        ],
        [
         "2",
         "2011",
         "Darlington 001D",
         "E01012366",
         "Total",
         "908",
         "908",
         "0",
         "0",
         "908",
         "860",
         "48",
         "456",
         "214",
         "203",
         "17",
         "6",
         "10",
         "2"
        ],
        [
         "3",
         "2011",
         "Darlington 001E",
         "E01033481",
         "Total",
         "588",
         "588",
         "0",
         "0",
         "588",
         "554",
         "34",
         "152",
         "215",
         "135",
         "79",
         "1",
         "5",
         "1"
        ],
        [
         "4",
         "2011",
         "Darlington 001F",
         "E01033482",
         "Total",
         "665",
         "664",
         "1",
         "0",
         "666",
         "650",
         "16",
         "257",
         "331",
         "52",
         "14",
         "0",
         "0",
         "12"
        ]
       ],
       "shape": {
        "columns": 18,
        "rows": 5
       }
      },
      "text/html": [
       "<div>\n",
       "<style scoped>\n",
       "    .dataframe tbody tr th:only-of-type {\n",
       "        vertical-align: middle;\n",
       "    }\n",
       "\n",
       "    .dataframe tbody tr th {\n",
       "        vertical-align: top;\n",
       "    }\n",
       "\n",
       "    .dataframe thead th {\n",
       "        text-align: right;\n",
       "    }\n",
       "</style>\n",
       "<table border=\"1\" class=\"dataframe\">\n",
       "  <thead>\n",
       "    <tr style=\"text-align: right;\">\n",
       "      <th></th>\n",
       "      <th>date</th>\n",
       "      <th>geography</th>\n",
       "      <th>geography code</th>\n",
       "      <th>Rural Urban</th>\n",
       "      <th>Dwelling Type: All categories: Dwelling type; measures: Value</th>\n",
       "      <th>Dwelling Type: Unshared dwelling; measures: Value</th>\n",
       "      <th>Dwelling Type: Shared dwelling: Two household spaces; measures: Value</th>\n",
       "      <th>Dwelling Type: Shared dwelling: Three or more household spaces; measures: Value</th>\n",
       "      <th>Dwelling Type: All categories: Household spaces; measures: Value</th>\n",
       "      <th>Dwelling Type: Household spaces with at least one usual resident; measures: Value</th>\n",
       "      <th>Dwelling Type: Household spaces with no usual residents; measures: Value</th>\n",
       "      <th>Dwelling Type: Whole house or bungalow: Detached; measures: Value</th>\n",
       "      <th>Dwelling Type: Whole house or bungalow: Semi-detached; measures: Value</th>\n",
       "      <th>Dwelling Type: Whole house or bungalow: Terraced (including end-terrace); measures: Value</th>\n",
       "      <th>Dwelling Type: Flat, maisonette or apartment: Purpose-built block of flats or tenement; measures: Value</th>\n",
       "      <th>Dwelling Type: Flat, maisonette or apartment: Part of a converted or shared house (including bed-sits); measures: Value</th>\n",
       "      <th>Dwelling Type: Flat, maisonette or apartment: In a commercial building; measures: Value</th>\n",
       "      <th>Dwelling Type: Caravan or other mobile or temporary structure; measures: Value</th>\n",
       "    </tr>\n",
       "  </thead>\n",
       "  <tbody>\n",
       "    <tr>\n",
       "      <th>0</th>\n",
       "      <td>2011</td>\n",
       "      <td>Darlington 001B</td>\n",
       "      <td>E01012334</td>\n",
       "      <td>Total</td>\n",
       "      <td>1017</td>\n",
       "      <td>1016</td>\n",
       "      <td>0</td>\n",
       "      <td>1</td>\n",
       "      <td>1019</td>\n",
       "      <td>962</td>\n",
       "      <td>57</td>\n",
       "      <td>603</td>\n",
       "      <td>217</td>\n",
       "      <td>175</td>\n",
       "      <td>10</td>\n",
       "      <td>3</td>\n",
       "      <td>7</td>\n",
       "      <td>4</td>\n",
       "    </tr>\n",
       "    <tr>\n",
       "      <th>1</th>\n",
       "      <td>2011</td>\n",
       "      <td>Darlington 001C</td>\n",
       "      <td>E01012335</td>\n",
       "      <td>Total</td>\n",
       "      <td>635</td>\n",
       "      <td>635</td>\n",
       "      <td>0</td>\n",
       "      <td>0</td>\n",
       "      <td>635</td>\n",
       "      <td>620</td>\n",
       "      <td>15</td>\n",
       "      <td>256</td>\n",
       "      <td>201</td>\n",
       "      <td>153</td>\n",
       "      <td>19</td>\n",
       "      <td>1</td>\n",
       "      <td>5</td>\n",
       "      <td>0</td>\n",
       "    </tr>\n",
       "    <tr>\n",
       "      <th>2</th>\n",
       "      <td>2011</td>\n",
       "      <td>Darlington 001D</td>\n",
       "      <td>E01012366</td>\n",
       "      <td>Total</td>\n",
       "      <td>908</td>\n",
       "      <td>908</td>\n",
       "      <td>0</td>\n",
       "      <td>0</td>\n",
       "      <td>908</td>\n",
       "      <td>860</td>\n",
       "      <td>48</td>\n",
       "      <td>456</td>\n",
       "      <td>214</td>\n",
       "      <td>203</td>\n",
       "      <td>17</td>\n",
       "      <td>6</td>\n",
       "      <td>10</td>\n",
       "      <td>2</td>\n",
       "    </tr>\n",
       "    <tr>\n",
       "      <th>3</th>\n",
       "      <td>2011</td>\n",
       "      <td>Darlington 001E</td>\n",
       "      <td>E01033481</td>\n",
       "      <td>Total</td>\n",
       "      <td>588</td>\n",
       "      <td>588</td>\n",
       "      <td>0</td>\n",
       "      <td>0</td>\n",
       "      <td>588</td>\n",
       "      <td>554</td>\n",
       "      <td>34</td>\n",
       "      <td>152</td>\n",
       "      <td>215</td>\n",
       "      <td>135</td>\n",
       "      <td>79</td>\n",
       "      <td>1</td>\n",
       "      <td>5</td>\n",
       "      <td>1</td>\n",
       "    </tr>\n",
       "    <tr>\n",
       "      <th>4</th>\n",
       "      <td>2011</td>\n",
       "      <td>Darlington 001F</td>\n",
       "      <td>E01033482</td>\n",
       "      <td>Total</td>\n",
       "      <td>665</td>\n",
       "      <td>664</td>\n",
       "      <td>1</td>\n",
       "      <td>0</td>\n",
       "      <td>666</td>\n",
       "      <td>650</td>\n",
       "      <td>16</td>\n",
       "      <td>257</td>\n",
       "      <td>331</td>\n",
       "      <td>52</td>\n",
       "      <td>14</td>\n",
       "      <td>0</td>\n",
       "      <td>0</td>\n",
       "      <td>12</td>\n",
       "    </tr>\n",
       "  </tbody>\n",
       "</table>\n",
       "</div>"
      ],
      "text/plain": [
       "   date        geography geography code Rural Urban  \\\n",
       "0  2011  Darlington 001B      E01012334       Total   \n",
       "1  2011  Darlington 001C      E01012335       Total   \n",
       "2  2011  Darlington 001D      E01012366       Total   \n",
       "3  2011  Darlington 001E      E01033481       Total   \n",
       "4  2011  Darlington 001F      E01033482       Total   \n",
       "\n",
       "   Dwelling Type: All categories: Dwelling type; measures: Value  \\\n",
       "0                                               1017               \n",
       "1                                                635               \n",
       "2                                                908               \n",
       "3                                                588               \n",
       "4                                                665               \n",
       "\n",
       "   Dwelling Type: Unshared dwelling; measures: Value  \\\n",
       "0                                               1016   \n",
       "1                                                635   \n",
       "2                                                908   \n",
       "3                                                588   \n",
       "4                                                664   \n",
       "\n",
       "   Dwelling Type: Shared dwelling: Two household spaces; measures: Value  \\\n",
       "0                                                  0                       \n",
       "1                                                  0                       \n",
       "2                                                  0                       \n",
       "3                                                  0                       \n",
       "4                                                  1                       \n",
       "\n",
       "   Dwelling Type: Shared dwelling: Three or more household spaces; measures: Value  \\\n",
       "0                                                  1                                 \n",
       "1                                                  0                                 \n",
       "2                                                  0                                 \n",
       "3                                                  0                                 \n",
       "4                                                  0                                 \n",
       "\n",
       "   Dwelling Type: All categories: Household spaces; measures: Value  \\\n",
       "0                                               1019                  \n",
       "1                                                635                  \n",
       "2                                                908                  \n",
       "3                                                588                  \n",
       "4                                                666                  \n",
       "\n",
       "   Dwelling Type: Household spaces with at least one usual resident; measures: Value  \\\n",
       "0                                                962                                   \n",
       "1                                                620                                   \n",
       "2                                                860                                   \n",
       "3                                                554                                   \n",
       "4                                                650                                   \n",
       "\n",
       "   Dwelling Type: Household spaces with no usual residents; measures: Value  \\\n",
       "0                                                 57                          \n",
       "1                                                 15                          \n",
       "2                                                 48                          \n",
       "3                                                 34                          \n",
       "4                                                 16                          \n",
       "\n",
       "   Dwelling Type: Whole house or bungalow: Detached; measures: Value  \\\n",
       "0                                                603                   \n",
       "1                                                256                   \n",
       "2                                                456                   \n",
       "3                                                152                   \n",
       "4                                                257                   \n",
       "\n",
       "   Dwelling Type: Whole house or bungalow: Semi-detached; measures: Value  \\\n",
       "0                                                217                        \n",
       "1                                                201                        \n",
       "2                                                214                        \n",
       "3                                                215                        \n",
       "4                                                331                        \n",
       "\n",
       "   Dwelling Type: Whole house or bungalow: Terraced (including end-terrace); measures: Value  \\\n",
       "0                                                175                                           \n",
       "1                                                153                                           \n",
       "2                                                203                                           \n",
       "3                                                135                                           \n",
       "4                                                 52                                           \n",
       "\n",
       "   Dwelling Type: Flat, maisonette or apartment: Purpose-built block of flats or tenement; measures: Value  \\\n",
       "0                                                 10                                                         \n",
       "1                                                 19                                                         \n",
       "2                                                 17                                                         \n",
       "3                                                 79                                                         \n",
       "4                                                 14                                                         \n",
       "\n",
       "   Dwelling Type: Flat, maisonette or apartment: Part of a converted or shared house (including bed-sits); measures: Value  \\\n",
       "0                                                  3                                                                         \n",
       "1                                                  1                                                                         \n",
       "2                                                  6                                                                         \n",
       "3                                                  1                                                                         \n",
       "4                                                  0                                                                         \n",
       "\n",
       "   Dwelling Type: Flat, maisonette or apartment: In a commercial building; measures: Value  \\\n",
       "0                                                  7                                         \n",
       "1                                                  5                                         \n",
       "2                                                 10                                         \n",
       "3                                                  5                                         \n",
       "4                                                  0                                         \n",
       "\n",
       "   Dwelling Type: Caravan or other mobile or temporary structure; measures: Value  \n",
       "0                                                  4                               \n",
       "1                                                  0                               \n",
       "2                                                  2                               \n",
       "3                                                  1                               \n",
       "4                                                 12                               "
      ]
     },
     "execution_count": 50,
     "metadata": {},
     "output_type": "execute_result"
    }
   ],
   "source": [
    "dwe = pd.read_csv(\"data/stru_data/dewlling_house.csv\")\n",
    "dwe.head(5)"
   ]
  },
  {
   "cell_type": "code",
   "execution_count": 51,
   "id": "811128d1",
   "metadata": {},
   "outputs": [],
   "source": [
    "# select columns\n",
    "dwe_col = ['geography code', 'Dwelling Type: All categories: Dwelling type; measures: Value', \n",
    "           'Dwelling Type: Unshared dwelling; measures: Value',\n",
    "           'Dwelling Type: Flat, maisonette or apartment: Part of a converted or shared house (including bed-sits); measures: Value']\n",
    "df_dwe = dwe[dwe_col]"
   ]
  },
  {
   "cell_type": "code",
   "execution_count": 52,
   "id": "0e3a2f8b",
   "metadata": {},
   "outputs": [
    {
     "name": "stderr",
     "output_type": "stream",
     "text": [
      "C:\\Users\\hp\\AppData\\Local\\Temp\\ipykernel_29508\\3422320615.py:1: SettingWithCopyWarning: \n",
      "A value is trying to be set on a copy of a slice from a DataFrame\n",
      "\n",
      "See the caveats in the documentation: https://pandas.pydata.org/pandas-docs/stable/user_guide/indexing.html#returning-a-view-versus-a-copy\n",
      "  df_dwe.rename(columns={'geography code': 'LSOA Code'}, inplace=True)\n",
      "C:\\Users\\hp\\AppData\\Local\\Temp\\ipykernel_29508\\3422320615.py:2: SettingWithCopyWarning: \n",
      "A value is trying to be set on a copy of a slice from a DataFrame\n",
      "\n",
      "See the caveats in the documentation: https://pandas.pydata.org/pandas-docs/stable/user_guide/indexing.html#returning-a-view-versus-a-copy\n",
      "  df_dwe.rename(columns={'Dwelling Type: All categories: Dwelling type; measures: Value': 'all_dwelling'}, inplace=True)\n",
      "C:\\Users\\hp\\AppData\\Local\\Temp\\ipykernel_29508\\3422320615.py:3: SettingWithCopyWarning: \n",
      "A value is trying to be set on a copy of a slice from a DataFrame\n",
      "\n",
      "See the caveats in the documentation: https://pandas.pydata.org/pandas-docs/stable/user_guide/indexing.html#returning-a-view-versus-a-copy\n",
      "  df_dwe.rename(columns={'Dwelling Type: Unshared dwelling; measures: Value': 'unshared'}, inplace=True)\n",
      "C:\\Users\\hp\\AppData\\Local\\Temp\\ipykernel_29508\\3422320615.py:4: SettingWithCopyWarning: \n",
      "A value is trying to be set on a copy of a slice from a DataFrame\n",
      "\n",
      "See the caveats in the documentation: https://pandas.pydata.org/pandas-docs/stable/user_guide/indexing.html#returning-a-view-versus-a-copy\n",
      "  df_dwe.rename(columns={'Dwelling Type: Flat, maisonette or apartment: Part of a converted or shared house (including bed-sits); measures: Value': 'converted'}, inplace=True)\n"
     ]
    },
    {
     "data": {
      "application/vnd.microsoft.datawrangler.viewer.v0+json": {
       "columns": [
        {
         "name": "index",
         "rawType": "object",
         "type": "string"
        },
        {
         "name": "0",
         "rawType": "int64",
         "type": "integer"
        }
       ],
       "ref": "ec66e59d-e93f-4c36-a17c-b2f7b39e31e4",
       "rows": [
        [
         "all_dwelling",
         "0"
        ],
        [
         "unshared",
         "0"
        ],
        [
         "converted",
         "0"
        ]
       ],
       "shape": {
        "columns": 1,
        "rows": 3
       }
      },
      "text/plain": [
       "all_dwelling    0\n",
       "unshared        0\n",
       "converted       0\n",
       "dtype: int64"
      ]
     },
     "execution_count": 52,
     "metadata": {},
     "output_type": "execute_result"
    }
   ],
   "source": [
    "df_dwe.rename(columns={'geography code': 'LSOA Code'}, inplace=True)\n",
    "df_dwe.rename(columns={'Dwelling Type: All categories: Dwelling type; measures: Value': 'all_dwelling'}, inplace=True)\n",
    "df_dwe.rename(columns={'Dwelling Type: Unshared dwelling; measures: Value': 'unshared'}, inplace=True)\n",
    "df_dwe.rename(columns={'Dwelling Type: Flat, maisonette or apartment: Part of a converted or shared house (including bed-sits); measures: Value': 'converted'}, inplace=True)\n",
    "df_dwe[['all_dwelling', 'unshared', 'converted']].isnull().sum()"
   ]
  },
  {
   "cell_type": "code",
   "execution_count": 53,
   "id": "54a2af35",
   "metadata": {},
   "outputs": [
    {
     "name": "stdout",
     "output_type": "stream",
     "text": [
      "   LSOA Code  all_dwelling  unshared  converted  shared_per  converted_per\n",
      "0  E01012334          1017      1016          3    0.098328       0.294985\n",
      "1  E01012335           635       635          1    0.000000       0.157480\n",
      "2  E01012366           908       908          6    0.000000       0.660793\n",
      "3  E01033481           588       588          1    0.000000       0.170068\n",
      "4  E01033482           665       664          0    0.150376       0.000000\n"
     ]
    },
    {
     "name": "stderr",
     "output_type": "stream",
     "text": [
      "C:\\Users\\hp\\AppData\\Local\\Temp\\ipykernel_29508\\355280031.py:1: SettingWithCopyWarning: \n",
      "A value is trying to be set on a copy of a slice from a DataFrame.\n",
      "Try using .loc[row_indexer,col_indexer] = value instead\n",
      "\n",
      "See the caveats in the documentation: https://pandas.pydata.org/pandas-docs/stable/user_guide/indexing.html#returning-a-view-versus-a-copy\n",
      "  df_dwe['shared_per'] = (df_dwe['all_dwelling'] - df_dwe['unshared']) *100 / df_dwe['all_dwelling']\n",
      "C:\\Users\\hp\\AppData\\Local\\Temp\\ipykernel_29508\\355280031.py:2: SettingWithCopyWarning: \n",
      "A value is trying to be set on a copy of a slice from a DataFrame.\n",
      "Try using .loc[row_indexer,col_indexer] = value instead\n",
      "\n",
      "See the caveats in the documentation: https://pandas.pydata.org/pandas-docs/stable/user_guide/indexing.html#returning-a-view-versus-a-copy\n",
      "  df_dwe['converted_per'] = df_dwe['converted'] *100 / df_dwe['all_dwelling']\n"
     ]
    }
   ],
   "source": [
    "df_dwe['shared_per'] = (df_dwe['all_dwelling'] - df_dwe['unshared']) *100 / df_dwe['all_dwelling']\n",
    "df_dwe['converted_per'] = df_dwe['converted'] *100 / df_dwe['all_dwelling']\n",
    "print(df_dwe.head())"
   ]
  },
  {
   "cell_type": "code",
   "execution_count": 54,
   "id": "c08bb745",
   "metadata": {},
   "outputs": [
    {
     "data": {
      "text/plain": [
       "(4835, 6)"
      ]
     },
     "execution_count": 54,
     "metadata": {},
     "output_type": "execute_result"
    }
   ],
   "source": [
    "# select data in London area\n",
    "df_london_dwe = df_dwe[df_dwe['LSOA Code'].isin(london_lsoa_list)]\n",
    "df_london_dwe.shape"
   ]
  },
  {
   "cell_type": "code",
   "execution_count": 55,
   "id": "ca31d1be",
   "metadata": {},
   "outputs": [
    {
     "name": "stdout",
     "output_type": "stream",
     "text": [
      "   LSOA Code  2011_population_density  Mid-2011 population  \\\n",
      "0  E01000907             13348.880597               1431.0   \n",
      "1  E01000908              8937.142857               1564.0   \n",
      "2  E01000909              7007.874016               1602.0   \n",
      "3  E01000912              1773.239594               1589.0   \n",
      "4  E01000913              1048.237477               1695.0   \n",
      "\n",
      "   Mid-2014 population  2014_population_density  pop_growth_rate  \\\n",
      "0                 1443                    13461         0.008386   \n",
      "1                 1662                     9497         0.062660   \n",
      "2                 1671                     7310         0.043071   \n",
      "3                 1711                     1909         0.076778   \n",
      "4                 1818                     1124         0.072566   \n",
      "\n",
      "        avg_den  elderly_per_12  elderly_per_14  senior_per   all  white  \\\n",
      "0  13404.940299       11.626298       12.404712   12.015505  1430   1051   \n",
      "1   9217.071429       13.616490       14.981949   14.299220  1581   1144   \n",
      "2   7158.937008       19.113054       20.646320   19.879687  1614   1356   \n",
      "3   1841.119797       14.056720       14.026885   14.041802  1589   1227   \n",
      "4   1086.118738       21.165818       23.817382   22.491600  1710   1505   \n",
      "\n",
      "   minority_per  all_dwelling  unshared  converted  shared_per  converted_per  \n",
      "0     26.503497           629       628        106    0.158983      16.852146  \n",
      "1     27.640734           840       836         98    0.476190      11.666667  \n",
      "2     15.985130           675       674        143    0.148148      21.185185  \n",
      "3     22.781624           707       704         76    0.424328      10.749646  \n",
      "4     11.988304           798       795        139    0.375940      17.418546  \n"
     ]
    }
   ],
   "source": [
    "df_data_all = df_data_all.merge(df_london_dwe, on='LSOA Code', how='left')\n",
    "print(df_data_all.head(5))"
   ]
  },
  {
   "cell_type": "markdown",
   "id": "64504985",
   "metadata": {},
   "source": [
    "## Education"
   ]
  },
  {
   "cell_type": "code",
   "execution_count": 56,
   "id": "77a7873f",
   "metadata": {},
   "outputs": [
    {
     "data": {
      "application/vnd.microsoft.datawrangler.viewer.v0+json": {
       "columns": [
        {
         "name": "index",
         "rawType": "int64",
         "type": "integer"
        },
        {
         "name": "2011 super output area - lower layer",
         "rawType": "object",
         "type": "string"
        },
        {
         "name": "All categories: Highest level of qualification",
         "rawType": "object",
         "type": "string"
        },
        {
         "name": "%",
         "rawType": "float64",
         "type": "float"
        },
        {
         "name": "Highest level of qualification: Level 1 qualifications",
         "rawType": "float64",
         "type": "float"
        },
        {
         "name": "%.1",
         "rawType": "float64",
         "type": "float"
        },
        {
         "name": "Highest level of qualification: Level 2 qualifications",
         "rawType": "float64",
         "type": "float"
        },
        {
         "name": "%.2",
         "rawType": "float64",
         "type": "float"
        },
        {
         "name": "Highest level of qualification: Apprenticeship",
         "rawType": "float64",
         "type": "float"
        },
        {
         "name": "%.3",
         "rawType": "float64",
         "type": "float"
        },
        {
         "name": "Highest level of qualification: Level 3 qualifications",
         "rawType": "float64",
         "type": "float"
        },
        {
         "name": "%.4",
         "rawType": "float64",
         "type": "float"
        },
        {
         "name": "Highest level of qualification: Level 4 qualifications and above",
         "rawType": "float64",
         "type": "float"
        },
        {
         "name": "%.5",
         "rawType": "float64",
         "type": "float"
        }
       ],
       "ref": "203abac7-9096-4434-824b-b3d140175ca7",
       "rows": [
        [
         "0",
         "E01000001 : City of London 001A",
         "1350",
         "100.0",
         "35.0",
         "2.6",
         "75.0",
         "5.6",
         "7.0",
         "0.5",
         "94.0",
         "7.0",
         "1047.0",
         "77.6"
        ],
        [
         "1",
         "E01000002 : City of London 001B",
         "1293",
         "100.0",
         "41.0",
         "3.2",
         "71.0",
         "5.5",
         "5.0",
         "0.4",
         "91.0",
         "7.0",
         "1024.0",
         "79.2"
        ],
        [
         "2",
         "E01000003 : City of London 001C",
         "1242",
         "100.0",
         "81.0",
         "6.5",
         "111.0",
         "8.9",
         "19.0",
         "1.5",
         "93.0",
         "7.5",
         "706.0",
         "56.8"
        ],
        [
         "3",
         "E01000005 : City of London 001E",
         "821",
         "100.0",
         "67.0",
         "8.2",
         "92.0",
         "11.2",
         "7.0",
         "0.9",
         "78.0",
         "9.5",
         "283.0",
         "34.5"
        ],
        [
         "4",
         "E01000006 : Barking and Dagenham 016A",
         "1309",
         "100.0",
         "155.0",
         "11.8",
         "169.0",
         "12.9",
         "20.0",
         "1.5",
         "115.0",
         "8.8",
         "431.0",
         "32.9"
        ]
       ],
       "shape": {
        "columns": 13,
        "rows": 5
       }
      },
      "text/html": [
       "<div>\n",
       "<style scoped>\n",
       "    .dataframe tbody tr th:only-of-type {\n",
       "        vertical-align: middle;\n",
       "    }\n",
       "\n",
       "    .dataframe tbody tr th {\n",
       "        vertical-align: top;\n",
       "    }\n",
       "\n",
       "    .dataframe thead th {\n",
       "        text-align: right;\n",
       "    }\n",
       "</style>\n",
       "<table border=\"1\" class=\"dataframe\">\n",
       "  <thead>\n",
       "    <tr style=\"text-align: right;\">\n",
       "      <th></th>\n",
       "      <th>2011 super output area - lower layer</th>\n",
       "      <th>All categories: Highest level of qualification</th>\n",
       "      <th>%</th>\n",
       "      <th>Highest level of qualification: Level 1 qualifications</th>\n",
       "      <th>%.1</th>\n",
       "      <th>Highest level of qualification: Level 2 qualifications</th>\n",
       "      <th>%.2</th>\n",
       "      <th>Highest level of qualification: Apprenticeship</th>\n",
       "      <th>%.3</th>\n",
       "      <th>Highest level of qualification: Level 3 qualifications</th>\n",
       "      <th>%.4</th>\n",
       "      <th>Highest level of qualification: Level 4 qualifications and above</th>\n",
       "      <th>%.5</th>\n",
       "    </tr>\n",
       "  </thead>\n",
       "  <tbody>\n",
       "    <tr>\n",
       "      <th>0</th>\n",
       "      <td>E01000001 : City of London 001A</td>\n",
       "      <td>1350</td>\n",
       "      <td>100.0</td>\n",
       "      <td>35.0</td>\n",
       "      <td>2.6</td>\n",
       "      <td>75.0</td>\n",
       "      <td>5.6</td>\n",
       "      <td>7.0</td>\n",
       "      <td>0.5</td>\n",
       "      <td>94.0</td>\n",
       "      <td>7.0</td>\n",
       "      <td>1047.0</td>\n",
       "      <td>77.6</td>\n",
       "    </tr>\n",
       "    <tr>\n",
       "      <th>1</th>\n",
       "      <td>E01000002 : City of London 001B</td>\n",
       "      <td>1293</td>\n",
       "      <td>100.0</td>\n",
       "      <td>41.0</td>\n",
       "      <td>3.2</td>\n",
       "      <td>71.0</td>\n",
       "      <td>5.5</td>\n",
       "      <td>5.0</td>\n",
       "      <td>0.4</td>\n",
       "      <td>91.0</td>\n",
       "      <td>7.0</td>\n",
       "      <td>1024.0</td>\n",
       "      <td>79.2</td>\n",
       "    </tr>\n",
       "    <tr>\n",
       "      <th>2</th>\n",
       "      <td>E01000003 : City of London 001C</td>\n",
       "      <td>1242</td>\n",
       "      <td>100.0</td>\n",
       "      <td>81.0</td>\n",
       "      <td>6.5</td>\n",
       "      <td>111.0</td>\n",
       "      <td>8.9</td>\n",
       "      <td>19.0</td>\n",
       "      <td>1.5</td>\n",
       "      <td>93.0</td>\n",
       "      <td>7.5</td>\n",
       "      <td>706.0</td>\n",
       "      <td>56.8</td>\n",
       "    </tr>\n",
       "    <tr>\n",
       "      <th>3</th>\n",
       "      <td>E01000005 : City of London 001E</td>\n",
       "      <td>821</td>\n",
       "      <td>100.0</td>\n",
       "      <td>67.0</td>\n",
       "      <td>8.2</td>\n",
       "      <td>92.0</td>\n",
       "      <td>11.2</td>\n",
       "      <td>7.0</td>\n",
       "      <td>0.9</td>\n",
       "      <td>78.0</td>\n",
       "      <td>9.5</td>\n",
       "      <td>283.0</td>\n",
       "      <td>34.5</td>\n",
       "    </tr>\n",
       "    <tr>\n",
       "      <th>4</th>\n",
       "      <td>E01000006 : Barking and Dagenham 016A</td>\n",
       "      <td>1309</td>\n",
       "      <td>100.0</td>\n",
       "      <td>155.0</td>\n",
       "      <td>11.8</td>\n",
       "      <td>169.0</td>\n",
       "      <td>12.9</td>\n",
       "      <td>20.0</td>\n",
       "      <td>1.5</td>\n",
       "      <td>115.0</td>\n",
       "      <td>8.8</td>\n",
       "      <td>431.0</td>\n",
       "      <td>32.9</td>\n",
       "    </tr>\n",
       "  </tbody>\n",
       "</table>\n",
       "</div>"
      ],
      "text/plain": [
       "    2011 super output area - lower layer  \\\n",
       "0        E01000001 : City of London 001A   \n",
       "1        E01000002 : City of London 001B   \n",
       "2        E01000003 : City of London 001C   \n",
       "3        E01000005 : City of London 001E   \n",
       "4  E01000006 : Barking and Dagenham 016A   \n",
       "\n",
       "  All categories: Highest level of qualification      %  \\\n",
       "0                                           1350  100.0   \n",
       "1                                           1293  100.0   \n",
       "2                                           1242  100.0   \n",
       "3                                            821  100.0   \n",
       "4                                           1309  100.0   \n",
       "\n",
       "   Highest level of qualification: Level 1 qualifications   %.1  \\\n",
       "0                                               35.0        2.6   \n",
       "1                                               41.0        3.2   \n",
       "2                                               81.0        6.5   \n",
       "3                                               67.0        8.2   \n",
       "4                                              155.0       11.8   \n",
       "\n",
       "   Highest level of qualification: Level 2 qualifications   %.2  \\\n",
       "0                                               75.0        5.6   \n",
       "1                                               71.0        5.5   \n",
       "2                                              111.0        8.9   \n",
       "3                                               92.0       11.2   \n",
       "4                                              169.0       12.9   \n",
       "\n",
       "   Highest level of qualification: Apprenticeship  %.3  \\\n",
       "0                                             7.0  0.5   \n",
       "1                                             5.0  0.4   \n",
       "2                                            19.0  1.5   \n",
       "3                                             7.0  0.9   \n",
       "4                                            20.0  1.5   \n",
       "\n",
       "   Highest level of qualification: Level 3 qualifications  %.4  \\\n",
       "0                                               94.0       7.0   \n",
       "1                                               91.0       7.0   \n",
       "2                                               93.0       7.5   \n",
       "3                                               78.0       9.5   \n",
       "4                                              115.0       8.8   \n",
       "\n",
       "   Highest level of qualification: Level 4 qualifications and above   %.5  \n",
       "0                                             1047.0                 77.6  \n",
       "1                                             1024.0                 79.2  \n",
       "2                                              706.0                 56.8  \n",
       "3                                              283.0                 34.5  \n",
       "4                                              431.0                 32.9  "
      ]
     },
     "execution_count": 56,
     "metadata": {},
     "output_type": "execute_result"
    }
   ],
   "source": [
    "edu = pd.read_csv(\"data/stru_data/education.csv\", header = 6)\n",
    "edu.head(5)"
   ]
  },
  {
   "cell_type": "code",
   "execution_count": 57,
   "id": "1f5034bf",
   "metadata": {},
   "outputs": [],
   "source": [
    "# select columns\n",
    "edu['LSOA Code'] = edu['2011 super output area - lower layer'].str.split(':').str[0].str.strip()\n",
    "edu_col = ['LSOA Code', 'Highest level of qualification: Level 4 qualifications and above', '%.5']\n",
    "df_edu = edu[edu_col]"
   ]
  },
  {
   "cell_type": "code",
   "execution_count": 58,
   "id": "8ae070b6",
   "metadata": {},
   "outputs": [
    {
     "name": "stderr",
     "output_type": "stream",
     "text": [
      "C:\\Users\\hp\\AppData\\Local\\Temp\\ipykernel_29508\\916735863.py:1: SettingWithCopyWarning: \n",
      "A value is trying to be set on a copy of a slice from a DataFrame\n",
      "\n",
      "See the caveats in the documentation: https://pandas.pydata.org/pandas-docs/stable/user_guide/indexing.html#returning-a-view-versus-a-copy\n",
      "  df_edu.rename(columns={'Highest level of qualification: Level 4 qualifications and above': 'level_4_pop'}, inplace=True)\n",
      "C:\\Users\\hp\\AppData\\Local\\Temp\\ipykernel_29508\\916735863.py:2: SettingWithCopyWarning: \n",
      "A value is trying to be set on a copy of a slice from a DataFrame\n",
      "\n",
      "See the caveats in the documentation: https://pandas.pydata.org/pandas-docs/stable/user_guide/indexing.html#returning-a-view-versus-a-copy\n",
      "  df_edu.rename(columns={'%.5': 'level_4_per'}, inplace=True)\n"
     ]
    }
   ],
   "source": [
    "df_edu.rename(columns={'Highest level of qualification: Level 4 qualifications and above': 'level_4_pop'}, inplace=True)\n",
    "df_edu.rename(columns={'%.5': 'level_4_per'}, inplace=True)"
   ]
  },
  {
   "cell_type": "code",
   "execution_count": 59,
   "id": "db68ad96",
   "metadata": {},
   "outputs": [
    {
     "data": {
      "text/plain": [
       "(4835, 3)"
      ]
     },
     "execution_count": 59,
     "metadata": {},
     "output_type": "execute_result"
    }
   ],
   "source": [
    "# select data in London area\n",
    "df_london_edu = df_edu[df_edu['LSOA Code'].isin(london_lsoa_list)]\n",
    "df_london_edu.shape"
   ]
  },
  {
   "cell_type": "code",
   "execution_count": 60,
   "id": "d96815cc",
   "metadata": {},
   "outputs": [
    {
     "name": "stderr",
     "output_type": "stream",
     "text": [
      "C:\\Users\\hp\\AppData\\Local\\Temp\\ipykernel_29508\\1901529358.py:2: SettingWithCopyWarning: \n",
      "A value is trying to be set on a copy of a slice from a DataFrame.\n",
      "Try using .loc[row_indexer,col_indexer] = value instead\n",
      "\n",
      "See the caveats in the documentation: https://pandas.pydata.org/pandas-docs/stable/user_guide/indexing.html#returning-a-view-versus-a-copy\n",
      "  df_london_edu[edu_numeric.columns] = edu_numeric.fillna(0)\n"
     ]
    }
   ],
   "source": [
    "edu_numeric = df_london_edu.select_dtypes(include=['number'])\n",
    "df_london_edu[edu_numeric.columns] = edu_numeric.fillna(0)"
   ]
  },
  {
   "cell_type": "code",
   "execution_count": 61,
   "id": "a9dd0095",
   "metadata": {},
   "outputs": [
    {
     "name": "stdout",
     "output_type": "stream",
     "text": [
      "       LSOA Code  level_4_pop  level_4_per\n",
      "0      E01000001       1047.0         77.6\n",
      "1      E01000002       1024.0         79.2\n",
      "2      E01000003        706.0         56.8\n",
      "3      E01000005        283.0         34.5\n",
      "4      E01000006        431.0         32.9\n",
      "...          ...          ...          ...\n",
      "32817  E01033742        532.0         48.3\n",
      "32818  E01033743        533.0         40.9\n",
      "32819  E01033744        404.0         29.1\n",
      "32820  E01033745        463.0         38.0\n",
      "32821  E01033746        713.0         56.8\n",
      "\n",
      "[4835 rows x 3 columns]\n"
     ]
    }
   ],
   "source": [
    "print(df_london_edu)"
   ]
  },
  {
   "cell_type": "code",
   "execution_count": 62,
   "id": "5a446d1c",
   "metadata": {},
   "outputs": [
    {
     "name": "stdout",
     "output_type": "stream",
     "text": [
      "Index(['LSOA Code', '2011_population_density', 'Mid-2011 population',\n",
      "       'Mid-2014 population', '2014_population_density', 'pop_growth_rate',\n",
      "       'avg_den', 'elderly_per_12', 'elderly_per_14', 'senior_per', 'all',\n",
      "       'white', 'minority_per', 'all_dwelling', 'unshared', 'converted',\n",
      "       'shared_per', 'converted_per', 'level_4_pop', 'level_4_per'],\n",
      "      dtype='object')\n"
     ]
    }
   ],
   "source": [
    "df_data_all = df_data_all.merge(df_london_edu, on='LSOA Code', how='left')\n",
    "print(df_data_all.columns)"
   ]
  },
  {
   "cell_type": "markdown",
   "id": "ddd795a7",
   "metadata": {},
   "source": [
    "## Occupation"
   ]
  },
  {
   "cell_type": "code",
   "execution_count": 63,
   "id": "59959a45",
   "metadata": {},
   "outputs": [
    {
     "name": "stderr",
     "output_type": "stream",
     "text": [
      "C:\\Users\\hp\\AppData\\Local\\Temp\\ipykernel_29508\\1107269988.py:1: DtypeWarning: Columns (1) have mixed types. Specify dtype option on import or set low_memory=False.\n",
      "  occ = pd.read_csv(\"data/stru_data/occupation.csv\", header = 7)\n"
     ]
    },
    {
     "data": {
      "application/vnd.microsoft.datawrangler.viewer.v0+json": {
       "columns": [
        {
         "name": "index",
         "rawType": "int64",
         "type": "integer"
        },
        {
         "name": "2011 super output area - lower layer",
         "rawType": "object",
         "type": "string"
        },
        {
         "name": "All categories: Occupation",
         "rawType": "object",
         "type": "unknown"
        },
        {
         "name": "%",
         "rawType": "float64",
         "type": "float"
        },
        {
         "name": "1. Managers, directors and senior officials",
         "rawType": "float64",
         "type": "float"
        },
        {
         "name": "%.1",
         "rawType": "float64",
         "type": "float"
        },
        {
         "name": "2. Professional occupations",
         "rawType": "float64",
         "type": "float"
        },
        {
         "name": "%.2",
         "rawType": "float64",
         "type": "float"
        },
        {
         "name": "3. Associate professional and technical occupations",
         "rawType": "float64",
         "type": "float"
        },
        {
         "name": "%.3",
         "rawType": "float64",
         "type": "float"
        },
        {
         "name": "4. Administrative and secretarial occupations",
         "rawType": "float64",
         "type": "float"
        },
        {
         "name": "%.4",
         "rawType": "float64",
         "type": "float"
        },
        {
         "name": "5. Skilled trades occupations",
         "rawType": "float64",
         "type": "float"
        },
        {
         "name": "%.5",
         "rawType": "float64",
         "type": "float"
        },
        {
         "name": "6. Caring, leisure and other service occupations",
         "rawType": "float64",
         "type": "float"
        },
        {
         "name": "%.6",
         "rawType": "float64",
         "type": "float"
        },
        {
         "name": "7. Sales and customer service occupations",
         "rawType": "float64",
         "type": "float"
        },
        {
         "name": "%.7",
         "rawType": "float64",
         "type": "float"
        },
        {
         "name": "8. Process plant and machine operatives",
         "rawType": "float64",
         "type": "float"
        },
        {
         "name": "%.8",
         "rawType": "float64",
         "type": "float"
        },
        {
         "name": "9. Elementary occupations",
         "rawType": "float64",
         "type": "float"
        },
        {
         "name": "%.9",
         "rawType": "float64",
         "type": "float"
        }
       ],
       "ref": "d17f9331-d2c5-4e39-8911-79662df6e925",
       "rows": [
        [
         "0",
         "E01000001 : City of London 001A",
         "926",
         "100.0",
         "167.0",
         "18.0",
         "446.0",
         "48.2",
         "208.0",
         "22.5",
         "53.0",
         "5.7",
         "15.0",
         "1.6",
         "17.0",
         "1.8",
         "6.0",
         "0.6",
         "2.0",
         "0.2",
         "12.0",
         "1.3"
        ],
        [
         "1",
         "E01000002 : City of London 001B",
         "910",
         "100.0",
         "171.0",
         "18.8",
         "417.0",
         "45.8",
         "207.0",
         "22.7",
         "61.0",
         "6.7",
         "12.0",
         "1.3",
         "8.0",
         "0.9",
         "18.0",
         "2.0",
         "3.0",
         "0.3",
         "13.0",
         "1.4"
        ],
        [
         "2",
         "E01000003 : City of London 001C",
         "764",
         "100.0",
         "89.0",
         "11.6",
         "285.0",
         "37.3",
         "183.0",
         "24.0",
         "67.0",
         "8.8",
         "19.0",
         "2.5",
         "36.0",
         "4.7",
         "29.0",
         "3.8",
         "11.0",
         "1.4",
         "45.0",
         "5.9"
        ],
        [
         "3",
         "E01000005 : City of London 001E",
         "476",
         "100.0",
         "49.0",
         "10.3",
         "81.0",
         "17.0",
         "90.0",
         "18.9",
         "64.0",
         "13.4",
         "31.0",
         "6.5",
         "33.0",
         "6.9",
         "33.0",
         "6.9",
         "26.0",
         "5.5",
         "69.0",
         "14.5"
        ],
        [
         "4",
         "E01000006 : Barking and Dagenham 016A",
         "781",
         "100.0",
         "60.0",
         "7.7",
         "140.0",
         "17.9",
         "77.0",
         "9.9",
         "81.0",
         "10.4",
         "103.0",
         "13.2",
         "73.0",
         "9.3",
         "70.0",
         "9.0",
         "73.0",
         "9.3",
         "104.0",
         "13.3"
        ]
       ],
       "shape": {
        "columns": 21,
        "rows": 5
       }
      },
      "text/html": [
       "<div>\n",
       "<style scoped>\n",
       "    .dataframe tbody tr th:only-of-type {\n",
       "        vertical-align: middle;\n",
       "    }\n",
       "\n",
       "    .dataframe tbody tr th {\n",
       "        vertical-align: top;\n",
       "    }\n",
       "\n",
       "    .dataframe thead th {\n",
       "        text-align: right;\n",
       "    }\n",
       "</style>\n",
       "<table border=\"1\" class=\"dataframe\">\n",
       "  <thead>\n",
       "    <tr style=\"text-align: right;\">\n",
       "      <th></th>\n",
       "      <th>2011 super output area - lower layer</th>\n",
       "      <th>All categories: Occupation</th>\n",
       "      <th>%</th>\n",
       "      <th>1. Managers, directors and senior officials</th>\n",
       "      <th>%.1</th>\n",
       "      <th>2. Professional occupations</th>\n",
       "      <th>%.2</th>\n",
       "      <th>3. Associate professional and technical occupations</th>\n",
       "      <th>%.3</th>\n",
       "      <th>4. Administrative and secretarial occupations</th>\n",
       "      <th>...</th>\n",
       "      <th>5. Skilled trades occupations</th>\n",
       "      <th>%.5</th>\n",
       "      <th>6. Caring, leisure and other service occupations</th>\n",
       "      <th>%.6</th>\n",
       "      <th>7. Sales and customer service occupations</th>\n",
       "      <th>%.7</th>\n",
       "      <th>8. Process plant and machine operatives</th>\n",
       "      <th>%.8</th>\n",
       "      <th>9. Elementary occupations</th>\n",
       "      <th>%.9</th>\n",
       "    </tr>\n",
       "  </thead>\n",
       "  <tbody>\n",
       "    <tr>\n",
       "      <th>0</th>\n",
       "      <td>E01000001 : City of London 001A</td>\n",
       "      <td>926</td>\n",
       "      <td>100.0</td>\n",
       "      <td>167.0</td>\n",
       "      <td>18.0</td>\n",
       "      <td>446.0</td>\n",
       "      <td>48.2</td>\n",
       "      <td>208.0</td>\n",
       "      <td>22.5</td>\n",
       "      <td>53.0</td>\n",
       "      <td>...</td>\n",
       "      <td>15.0</td>\n",
       "      <td>1.6</td>\n",
       "      <td>17.0</td>\n",
       "      <td>1.8</td>\n",
       "      <td>6.0</td>\n",
       "      <td>0.6</td>\n",
       "      <td>2.0</td>\n",
       "      <td>0.2</td>\n",
       "      <td>12.0</td>\n",
       "      <td>1.3</td>\n",
       "    </tr>\n",
       "    <tr>\n",
       "      <th>1</th>\n",
       "      <td>E01000002 : City of London 001B</td>\n",
       "      <td>910</td>\n",
       "      <td>100.0</td>\n",
       "      <td>171.0</td>\n",
       "      <td>18.8</td>\n",
       "      <td>417.0</td>\n",
       "      <td>45.8</td>\n",
       "      <td>207.0</td>\n",
       "      <td>22.7</td>\n",
       "      <td>61.0</td>\n",
       "      <td>...</td>\n",
       "      <td>12.0</td>\n",
       "      <td>1.3</td>\n",
       "      <td>8.0</td>\n",
       "      <td>0.9</td>\n",
       "      <td>18.0</td>\n",
       "      <td>2.0</td>\n",
       "      <td>3.0</td>\n",
       "      <td>0.3</td>\n",
       "      <td>13.0</td>\n",
       "      <td>1.4</td>\n",
       "    </tr>\n",
       "    <tr>\n",
       "      <th>2</th>\n",
       "      <td>E01000003 : City of London 001C</td>\n",
       "      <td>764</td>\n",
       "      <td>100.0</td>\n",
       "      <td>89.0</td>\n",
       "      <td>11.6</td>\n",
       "      <td>285.0</td>\n",
       "      <td>37.3</td>\n",
       "      <td>183.0</td>\n",
       "      <td>24.0</td>\n",
       "      <td>67.0</td>\n",
       "      <td>...</td>\n",
       "      <td>19.0</td>\n",
       "      <td>2.5</td>\n",
       "      <td>36.0</td>\n",
       "      <td>4.7</td>\n",
       "      <td>29.0</td>\n",
       "      <td>3.8</td>\n",
       "      <td>11.0</td>\n",
       "      <td>1.4</td>\n",
       "      <td>45.0</td>\n",
       "      <td>5.9</td>\n",
       "    </tr>\n",
       "    <tr>\n",
       "      <th>3</th>\n",
       "      <td>E01000005 : City of London 001E</td>\n",
       "      <td>476</td>\n",
       "      <td>100.0</td>\n",
       "      <td>49.0</td>\n",
       "      <td>10.3</td>\n",
       "      <td>81.0</td>\n",
       "      <td>17.0</td>\n",
       "      <td>90.0</td>\n",
       "      <td>18.9</td>\n",
       "      <td>64.0</td>\n",
       "      <td>...</td>\n",
       "      <td>31.0</td>\n",
       "      <td>6.5</td>\n",
       "      <td>33.0</td>\n",
       "      <td>6.9</td>\n",
       "      <td>33.0</td>\n",
       "      <td>6.9</td>\n",
       "      <td>26.0</td>\n",
       "      <td>5.5</td>\n",
       "      <td>69.0</td>\n",
       "      <td>14.5</td>\n",
       "    </tr>\n",
       "    <tr>\n",
       "      <th>4</th>\n",
       "      <td>E01000006 : Barking and Dagenham 016A</td>\n",
       "      <td>781</td>\n",
       "      <td>100.0</td>\n",
       "      <td>60.0</td>\n",
       "      <td>7.7</td>\n",
       "      <td>140.0</td>\n",
       "      <td>17.9</td>\n",
       "      <td>77.0</td>\n",
       "      <td>9.9</td>\n",
       "      <td>81.0</td>\n",
       "      <td>...</td>\n",
       "      <td>103.0</td>\n",
       "      <td>13.2</td>\n",
       "      <td>73.0</td>\n",
       "      <td>9.3</td>\n",
       "      <td>70.0</td>\n",
       "      <td>9.0</td>\n",
       "      <td>73.0</td>\n",
       "      <td>9.3</td>\n",
       "      <td>104.0</td>\n",
       "      <td>13.3</td>\n",
       "    </tr>\n",
       "  </tbody>\n",
       "</table>\n",
       "<p>5 rows × 21 columns</p>\n",
       "</div>"
      ],
      "text/plain": [
       "    2011 super output area - lower layer All categories: Occupation      %  \\\n",
       "0        E01000001 : City of London 001A                        926  100.0   \n",
       "1        E01000002 : City of London 001B                        910  100.0   \n",
       "2        E01000003 : City of London 001C                        764  100.0   \n",
       "3        E01000005 : City of London 001E                        476  100.0   \n",
       "4  E01000006 : Barking and Dagenham 016A                        781  100.0   \n",
       "\n",
       "   1. Managers, directors and senior officials   %.1  \\\n",
       "0                                        167.0  18.0   \n",
       "1                                        171.0  18.8   \n",
       "2                                         89.0  11.6   \n",
       "3                                         49.0  10.3   \n",
       "4                                         60.0   7.7   \n",
       "\n",
       "   2. Professional occupations   %.2  \\\n",
       "0                        446.0  48.2   \n",
       "1                        417.0  45.8   \n",
       "2                        285.0  37.3   \n",
       "3                         81.0  17.0   \n",
       "4                        140.0  17.9   \n",
       "\n",
       "   3. Associate professional and technical occupations   %.3  \\\n",
       "0                                              208.0    22.5   \n",
       "1                                              207.0    22.7   \n",
       "2                                              183.0    24.0   \n",
       "3                                               90.0    18.9   \n",
       "4                                               77.0     9.9   \n",
       "\n",
       "   4. Administrative and secretarial occupations  ...  \\\n",
       "0                                           53.0  ...   \n",
       "1                                           61.0  ...   \n",
       "2                                           67.0  ...   \n",
       "3                                           64.0  ...   \n",
       "4                                           81.0  ...   \n",
       "\n",
       "   5. Skilled trades occupations   %.5  \\\n",
       "0                           15.0   1.6   \n",
       "1                           12.0   1.3   \n",
       "2                           19.0   2.5   \n",
       "3                           31.0   6.5   \n",
       "4                          103.0  13.2   \n",
       "\n",
       "   6. Caring, leisure and other service occupations  %.6  \\\n",
       "0                                              17.0  1.8   \n",
       "1                                               8.0  0.9   \n",
       "2                                              36.0  4.7   \n",
       "3                                              33.0  6.9   \n",
       "4                                              73.0  9.3   \n",
       "\n",
       "   7. Sales and customer service occupations  %.7  \\\n",
       "0                                        6.0  0.6   \n",
       "1                                       18.0  2.0   \n",
       "2                                       29.0  3.8   \n",
       "3                                       33.0  6.9   \n",
       "4                                       70.0  9.0   \n",
       "\n",
       "   8. Process plant and machine operatives  %.8  9. Elementary occupations  \\\n",
       "0                                      2.0  0.2                       12.0   \n",
       "1                                      3.0  0.3                       13.0   \n",
       "2                                     11.0  1.4                       45.0   \n",
       "3                                     26.0  5.5                       69.0   \n",
       "4                                     73.0  9.3                      104.0   \n",
       "\n",
       "    %.9  \n",
       "0   1.3  \n",
       "1   1.4  \n",
       "2   5.9  \n",
       "3  14.5  \n",
       "4  13.3  \n",
       "\n",
       "[5 rows x 21 columns]"
      ]
     },
     "execution_count": 63,
     "metadata": {},
     "output_type": "execute_result"
    }
   ],
   "source": [
    "occ = pd.read_csv(\"data/stru_data/occupation.csv\", header = 7)\n",
    "occ.head(5)"
   ]
  },
  {
   "cell_type": "code",
   "execution_count": 64,
   "id": "fe521c26",
   "metadata": {},
   "outputs": [],
   "source": [
    "# select columns\n",
    "occ['LSOA Code'] = occ['2011 super output area - lower layer'].str.split(':').str[0].str.strip()\n",
    "occ_col = ['LSOA Code', '2. Professional occupations', '%.2']\n",
    "df_occ = occ[occ_col]"
   ]
  },
  {
   "cell_type": "code",
   "execution_count": 65,
   "id": "c06ad1ab",
   "metadata": {},
   "outputs": [
    {
     "name": "stderr",
     "output_type": "stream",
     "text": [
      "C:\\Users\\hp\\AppData\\Local\\Temp\\ipykernel_29508\\3747434857.py:1: SettingWithCopyWarning: \n",
      "A value is trying to be set on a copy of a slice from a DataFrame\n",
      "\n",
      "See the caveats in the documentation: https://pandas.pydata.org/pandas-docs/stable/user_guide/indexing.html#returning-a-view-versus-a-copy\n",
      "  df_occ.rename(columns={'2. Professional occupations': 'prof_occ_count'}, inplace=True)\n",
      "C:\\Users\\hp\\AppData\\Local\\Temp\\ipykernel_29508\\3747434857.py:2: SettingWithCopyWarning: \n",
      "A value is trying to be set on a copy of a slice from a DataFrame\n",
      "\n",
      "See the caveats in the documentation: https://pandas.pydata.org/pandas-docs/stable/user_guide/indexing.html#returning-a-view-versus-a-copy\n",
      "  df_occ.rename(columns={'%.2': 'prof_occ_per'}, inplace=True)\n"
     ]
    }
   ],
   "source": [
    "df_occ.rename(columns={'2. Professional occupations': 'prof_occ_count'}, inplace=True)\n",
    "df_occ.rename(columns={'%.2': 'prof_occ_per'}, inplace=True)"
   ]
  },
  {
   "cell_type": "code",
   "execution_count": 66,
   "id": "236ee940",
   "metadata": {},
   "outputs": [
    {
     "data": {
      "text/plain": [
       "(4835, 3)"
      ]
     },
     "execution_count": 66,
     "metadata": {},
     "output_type": "execute_result"
    }
   ],
   "source": [
    "# select data in London area\n",
    "df_london_occ = df_occ[df_occ['LSOA Code'].isin(london_lsoa_list)]\n",
    "df_london_occ.shape"
   ]
  },
  {
   "cell_type": "code",
   "execution_count": 67,
   "id": "819d8713",
   "metadata": {},
   "outputs": [
    {
     "name": "stderr",
     "output_type": "stream",
     "text": [
      "C:\\Users\\hp\\AppData\\Local\\Temp\\ipykernel_29508\\1206008326.py:2: SettingWithCopyWarning: \n",
      "A value is trying to be set on a copy of a slice from a DataFrame.\n",
      "Try using .loc[row_indexer,col_indexer] = value instead\n",
      "\n",
      "See the caveats in the documentation: https://pandas.pydata.org/pandas-docs/stable/user_guide/indexing.html#returning-a-view-versus-a-copy\n",
      "  df_london_occ[occ_numeric.columns] = occ_numeric.fillna(0)\n"
     ]
    }
   ],
   "source": [
    "occ_numeric = df_london_occ.select_dtypes(include=['number'])\n",
    "df_london_occ[occ_numeric.columns] = occ_numeric.fillna(0)"
   ]
  },
  {
   "cell_type": "code",
   "execution_count": 68,
   "id": "8038f760",
   "metadata": {},
   "outputs": [
    {
     "name": "stdout",
     "output_type": "stream",
     "text": [
      "       LSOA Code  prof_occ_count  prof_occ_per\n",
      "0      E01000001           446.0          48.2\n",
      "1      E01000002           417.0          45.8\n",
      "2      E01000003           285.0          37.3\n",
      "3      E01000005            81.0          17.0\n",
      "4      E01000006           140.0          17.9\n",
      "...          ...             ...           ...\n",
      "32817  E01033742           204.0          26.7\n",
      "32818  E01033743           180.0          22.0\n",
      "32819  E01033744           120.0          15.5\n",
      "32820  E01033745           146.0          18.5\n",
      "32821  E01033746           299.0          37.9\n",
      "\n",
      "[4835 rows x 3 columns]\n"
     ]
    }
   ],
   "source": [
    "print(df_london_occ)"
   ]
  },
  {
   "cell_type": "code",
   "execution_count": 69,
   "id": "7021666d",
   "metadata": {},
   "outputs": [
    {
     "name": "stdout",
     "output_type": "stream",
     "text": [
      "Index(['LSOA Code', '2011_population_density', 'Mid-2011 population',\n",
      "       'Mid-2014 population', '2014_population_density', 'pop_growth_rate',\n",
      "       'avg_den', 'elderly_per_12', 'elderly_per_14', 'senior_per', 'all',\n",
      "       'white', 'minority_per', 'all_dwelling', 'unshared', 'converted',\n",
      "       'shared_per', 'converted_per', 'level_4_pop', 'level_4_per',\n",
      "       'prof_occ_count', 'prof_occ_per'],\n",
      "      dtype='object')\n"
     ]
    }
   ],
   "source": [
    "df_data_all = df_data_all.merge(df_london_occ, on='LSOA Code', how='left')\n",
    "print(df_data_all.columns)"
   ]
  },
  {
   "cell_type": "markdown",
   "id": "09ad14eb",
   "metadata": {},
   "source": [
    "## Property Sales"
   ]
  },
  {
   "cell_type": "code",
   "execution_count": 82,
   "id": "e11ba0f7",
   "metadata": {},
   "outputs": [
    {
     "data": {
      "application/vnd.microsoft.datawrangler.viewer.v0+json": {
       "columns": [
        {
         "name": "index",
         "rawType": "int64",
         "type": "integer"
        },
        {
         "name": "Local authority code",
         "rawType": "object",
         "type": "string"
        },
        {
         "name": "Local authority name",
         "rawType": "object",
         "type": "string"
        },
        {
         "name": "LSOA code",
         "rawType": "object",
         "type": "string"
        },
        {
         "name": "LSOA name",
         "rawType": "object",
         "type": "string"
        },
        {
         "name": "Year ending Dec 1995",
         "rawType": "int64",
         "type": "integer"
        },
        {
         "name": "Year ending Mar 1996",
         "rawType": "int64",
         "type": "integer"
        },
        {
         "name": "Year ending Jun 1996",
         "rawType": "int64",
         "type": "integer"
        },
        {
         "name": "Year ending Sep 1996",
         "rawType": "int64",
         "type": "integer"
        },
        {
         "name": "Year ending Dec 1996",
         "rawType": "int64",
         "type": "integer"
        },
        {
         "name": "Year ending Mar 1997",
         "rawType": "int64",
         "type": "integer"
        },
        {
         "name": "Year ending Jun 1997",
         "rawType": "int64",
         "type": "integer"
        },
        {
         "name": "Year ending Sep 1997",
         "rawType": "int64",
         "type": "integer"
        },
        {
         "name": "Year ending Dec 1997",
         "rawType": "int64",
         "type": "integer"
        },
        {
         "name": "Year ending Mar 1998",
         "rawType": "int64",
         "type": "integer"
        },
        {
         "name": "Year ending Jun 1998",
         "rawType": "int64",
         "type": "integer"
        },
        {
         "name": "Year ending Sep 1998",
         "rawType": "int64",
         "type": "integer"
        },
        {
         "name": "Year ending Dec 1998",
         "rawType": "int64",
         "type": "integer"
        },
        {
         "name": "Year ending Mar 1999",
         "rawType": "int64",
         "type": "integer"
        },
        {
         "name": "Year ending Jun 1999",
         "rawType": "int64",
         "type": "integer"
        },
        {
         "name": "Year ending Sep 1999",
         "rawType": "int64",
         "type": "integer"
        },
        {
         "name": "Year ending Dec 1999",
         "rawType": "int64",
         "type": "integer"
        },
        {
         "name": "Year ending Mar 2000",
         "rawType": "int64",
         "type": "integer"
        },
        {
         "name": "Year ending Jun 2000",
         "rawType": "int64",
         "type": "integer"
        },
        {
         "name": "Year ending Sep 2000",
         "rawType": "int64",
         "type": "integer"
        },
        {
         "name": "Year ending Dec 2000",
         "rawType": "int64",
         "type": "integer"
        },
        {
         "name": "Year ending Mar 2001",
         "rawType": "int64",
         "type": "integer"
        },
        {
         "name": "Year ending Jun 2001",
         "rawType": "int64",
         "type": "integer"
        },
        {
         "name": "Year ending Sep 2001",
         "rawType": "int64",
         "type": "integer"
        },
        {
         "name": "Year ending Dec 2001",
         "rawType": "int64",
         "type": "integer"
        },
        {
         "name": "Year ending Mar 2002",
         "rawType": "int64",
         "type": "integer"
        },
        {
         "name": "Year ending Jun 2002",
         "rawType": "int64",
         "type": "integer"
        },
        {
         "name": "Year ending Sep 2002",
         "rawType": "int64",
         "type": "integer"
        },
        {
         "name": "Year ending Dec 2002",
         "rawType": "int64",
         "type": "integer"
        },
        {
         "name": "Year ending Mar 2003",
         "rawType": "int64",
         "type": "integer"
        },
        {
         "name": "Year ending Jun 2003",
         "rawType": "int64",
         "type": "integer"
        },
        {
         "name": "Year ending Sep 2003",
         "rawType": "int64",
         "type": "integer"
        },
        {
         "name": "Year ending Dec 2003",
         "rawType": "int64",
         "type": "integer"
        },
        {
         "name": "Year ending Mar 2004",
         "rawType": "int64",
         "type": "integer"
        },
        {
         "name": "Year ending Jun 2004",
         "rawType": "int64",
         "type": "integer"
        },
        {
         "name": "Year ending Sep 2004",
         "rawType": "int64",
         "type": "integer"
        },
        {
         "name": "Year ending Dec 2004",
         "rawType": "int64",
         "type": "integer"
        },
        {
         "name": "Year ending Mar 2005",
         "rawType": "int64",
         "type": "integer"
        },
        {
         "name": "Year ending Jun 2005",
         "rawType": "int64",
         "type": "integer"
        },
        {
         "name": "Year ending Sep 2005",
         "rawType": "int64",
         "type": "integer"
        },
        {
         "name": "Year ending Dec 2005",
         "rawType": "int64",
         "type": "integer"
        },
        {
         "name": "Year ending Mar 2006",
         "rawType": "int64",
         "type": "integer"
        },
        {
         "name": "Year ending Jun 2006",
         "rawType": "int64",
         "type": "integer"
        },
        {
         "name": "Year ending Sep 2006",
         "rawType": "int64",
         "type": "integer"
        },
        {
         "name": "Year ending Dec 2006",
         "rawType": "int64",
         "type": "integer"
        },
        {
         "name": "Year ending Mar 2007",
         "rawType": "int64",
         "type": "integer"
        },
        {
         "name": "Year ending Jun 2007",
         "rawType": "int64",
         "type": "integer"
        },
        {
         "name": "Year ending Sep 2007",
         "rawType": "int64",
         "type": "integer"
        },
        {
         "name": "Year ending Dec 2007",
         "rawType": "int64",
         "type": "integer"
        },
        {
         "name": "Year ending Mar 2008",
         "rawType": "int64",
         "type": "integer"
        },
        {
         "name": "Year ending Jun 2008",
         "rawType": "int64",
         "type": "integer"
        },
        {
         "name": "Year ending Sep 2008",
         "rawType": "int64",
         "type": "integer"
        },
        {
         "name": "Year ending Dec 2008",
         "rawType": "int64",
         "type": "integer"
        },
        {
         "name": "Year ending Mar 2009",
         "rawType": "int64",
         "type": "integer"
        },
        {
         "name": "Year ending Jun 2009",
         "rawType": "int64",
         "type": "integer"
        },
        {
         "name": "Year ending Sep 2009",
         "rawType": "int64",
         "type": "integer"
        },
        {
         "name": "Year ending Dec 2009",
         "rawType": "int64",
         "type": "integer"
        },
        {
         "name": "Year ending Mar 2010",
         "rawType": "int64",
         "type": "integer"
        },
        {
         "name": "Year ending Jun 2010",
         "rawType": "int64",
         "type": "integer"
        },
        {
         "name": "Year ending Sep 2010",
         "rawType": "int64",
         "type": "integer"
        },
        {
         "name": "Year ending Dec 2010",
         "rawType": "int64",
         "type": "integer"
        },
        {
         "name": "Year ending Mar 2011",
         "rawType": "int64",
         "type": "integer"
        },
        {
         "name": "Year ending Jun 2011",
         "rawType": "int64",
         "type": "integer"
        },
        {
         "name": "Year ending Sep 2011",
         "rawType": "int64",
         "type": "integer"
        },
        {
         "name": "Year ending Dec 2011",
         "rawType": "int64",
         "type": "integer"
        },
        {
         "name": "Year ending Mar 2012",
         "rawType": "int64",
         "type": "integer"
        },
        {
         "name": "Year ending Jun 2012",
         "rawType": "int64",
         "type": "integer"
        },
        {
         "name": "Year ending Sep 2012",
         "rawType": "int64",
         "type": "integer"
        },
        {
         "name": "Year ending Dec 2012",
         "rawType": "int64",
         "type": "integer"
        },
        {
         "name": "Year ending Mar 2013",
         "rawType": "int64",
         "type": "integer"
        },
        {
         "name": "Year ending Jun 2013",
         "rawType": "int64",
         "type": "integer"
        },
        {
         "name": "Year ending Sep 2013",
         "rawType": "int64",
         "type": "integer"
        },
        {
         "name": "Year ending Dec 2013",
         "rawType": "int64",
         "type": "integer"
        },
        {
         "name": "Year ending Mar 2014",
         "rawType": "int64",
         "type": "integer"
        },
        {
         "name": "Year ending Jun 2014",
         "rawType": "int64",
         "type": "integer"
        },
        {
         "name": "Year ending Sep 2014",
         "rawType": "int64",
         "type": "integer"
        },
        {
         "name": "Year ending Dec 2014",
         "rawType": "int64",
         "type": "integer"
        },
        {
         "name": "Year ending Mar 2015",
         "rawType": "int64",
         "type": "integer"
        },
        {
         "name": "Year ending Jun 2015",
         "rawType": "int64",
         "type": "integer"
        },
        {
         "name": "Year ending Sep 2015",
         "rawType": "int64",
         "type": "integer"
        },
        {
         "name": "Year ending Dec 2015",
         "rawType": "int64",
         "type": "integer"
        },
        {
         "name": "Year ending Mar 2016",
         "rawType": "int64",
         "type": "integer"
        },
        {
         "name": "Year ending Jun 2016",
         "rawType": "int64",
         "type": "integer"
        },
        {
         "name": "Year ending Sep 2016",
         "rawType": "int64",
         "type": "integer"
        },
        {
         "name": "Year ending Dec 2016",
         "rawType": "int64",
         "type": "integer"
        },
        {
         "name": "Year ending Mar 2017",
         "rawType": "int64",
         "type": "integer"
        },
        {
         "name": "Year ending Jun 2017",
         "rawType": "int64",
         "type": "integer"
        },
        {
         "name": "Year ending Sep 2017",
         "rawType": "int64",
         "type": "integer"
        },
        {
         "name": "Year ending Dec 2017",
         "rawType": "int64",
         "type": "integer"
        },
        {
         "name": "Year ending Mar 2018",
         "rawType": "int64",
         "type": "integer"
        },
        {
         "name": "Year ending Jun 2018",
         "rawType": "int64",
         "type": "integer"
        },
        {
         "name": "Year ending Sep 2018",
         "rawType": "int64",
         "type": "integer"
        },
        {
         "name": "Year ending Dec 2018",
         "rawType": "int64",
         "type": "integer"
        },
        {
         "name": "Year ending Mar 2019",
         "rawType": "int64",
         "type": "integer"
        },
        {
         "name": "Year ending Jun 2019",
         "rawType": "int64",
         "type": "integer"
        },
        {
         "name": "Year ending Sep 2019",
         "rawType": "int64",
         "type": "integer"
        },
        {
         "name": "Year ending Dec 2019",
         "rawType": "int64",
         "type": "integer"
        },
        {
         "name": "Year ending Mar 2020",
         "rawType": "int64",
         "type": "integer"
        },
        {
         "name": "Year ending Jun 2020",
         "rawType": "int64",
         "type": "integer"
        },
        {
         "name": "Year ending Sep 2020",
         "rawType": "int64",
         "type": "integer"
        },
        {
         "name": "Year ending Dec 2020",
         "rawType": "int64",
         "type": "integer"
        },
        {
         "name": "Year ending Mar 2021",
         "rawType": "int64",
         "type": "integer"
        },
        {
         "name": "Year ending Jun 2021",
         "rawType": "int64",
         "type": "integer"
        },
        {
         "name": "Year ending Sep 2021",
         "rawType": "int64",
         "type": "integer"
        },
        {
         "name": "Year ending Dec 2021",
         "rawType": "int64",
         "type": "integer"
        },
        {
         "name": "Year ending Mar 2022",
         "rawType": "int64",
         "type": "integer"
        },
        {
         "name": "Year ending Jun 2022",
         "rawType": "int64",
         "type": "integer"
        },
        {
         "name": "Year ending Sep 2022",
         "rawType": "int64",
         "type": "integer"
        },
        {
         "name": "Year ending Dec 2022",
         "rawType": "int64",
         "type": "integer"
        },
        {
         "name": "Year ending Mar 2023",
         "rawType": "int64",
         "type": "integer"
        }
       ],
       "ref": "0ab25e14-07bb-4634-92cd-432778f00d8b",
       "rows": [
        [
         "0",
         "E06000001",
         "Hartlepool",
         "E01011949",
         "Hartlepool 009A",
         "12",
         "13",
         "14",
         "15",
         "15",
         "15",
         "13",
         "11",
         "10",
         "9",
         "9",
         "11",
         "19",
         "22",
         "26",
         "27",
         "25",
         "21",
         "18",
         "20",
         "19",
         "18",
         "26",
         "22",
         "21",
         "27",
         "21",
         "25",
         "26",
         "28",
         "28",
         "32",
         "31",
         "31",
         "28",
         "20",
         "26",
         "23",
         "26",
         "29",
         "27",
         "27",
         "32",
         "34",
         "33",
         "42",
         "43",
         "40",
         "40",
         "33",
         "23",
         "23",
         "16",
         "8",
         "9",
         "5",
         "5",
         "7",
         "11",
         "15",
         "23",
         "24",
         "19",
         "15",
         "9",
         "9",
         "8",
         "13",
         "12",
         "9",
         "9",
         "9",
         "10",
         "18",
         "21",
         "18",
         "21",
         "16",
         "18",
         "16",
         "12",
         "12",
         "12",
         "13",
         "13",
         "11",
         "7",
         "11",
         "10",
         "11",
         "14",
         "15",
         "17",
         "20",
         "19",
         "15",
         "15",
         "16",
         "14",
         "13",
         "17",
         "14",
         "22",
         "25",
         "25",
         "28",
         "23",
         "24",
         "24",
         "20"
        ],
        [
         "1",
         "E06000001",
         "Hartlepool",
         "E01011950",
         "Hartlepool 008A",
         "44",
         "45",
         "45",
         "46",
         "43",
         "51",
         "52",
         "54",
         "57",
         "59",
         "56",
         "47",
         "40",
         "26",
         "21",
         "38",
         "39",
         "40",
         "43",
         "31",
         "39",
         "52",
         "50",
         "66",
         "68",
         "57",
         "64",
         "60",
         "73",
         "89",
         "98",
         "104",
         "115",
         "119",
         "122",
         "126",
         "121",
         "113",
         "111",
         "105",
         "93",
         "99",
         "99",
         "94",
         "98",
         "93",
         "90",
         "98",
         "92",
         "84",
         "66",
         "48",
         "29",
         "19",
         "17",
         "10",
         "8",
         "9",
         "7",
         "9",
         "10",
         "10",
         "9",
         "14",
         "19",
         "24",
         "28",
         "22",
         "17",
         "14",
         "12",
         "13",
         "19",
         "20",
         "24",
         "26",
         "25",
         "26",
         "19",
         "20",
         "18",
         "14",
         "20",
         "22",
         "25",
         "32",
         "29",
         "29",
         "30",
         "30",
         "31",
         "29",
         "25",
         "19",
         "21",
         "29",
         "28",
         "33",
         "35",
         "31",
         "36",
         "36",
         "38",
         "45",
         "50",
         "49",
         "51",
         "41",
         "35",
         "33"
        ],
        [
         "2",
         "E06000001",
         "Hartlepool",
         "E01011951",
         "Hartlepool 007A",
         "43",
         "33",
         "34",
         "43",
         "47",
         "51",
         "48",
         "38",
         "36",
         "35",
         "36",
         "42",
         "40",
         "45",
         "44",
         "35",
         "44",
         "39",
         "40",
         "45",
         "36",
         "34",
         "35",
         "38",
         "49",
         "61",
         "68",
         "73",
         "84",
         "90",
         "98",
         "100",
         "95",
         "104",
         "95",
         "106",
         "103",
         "91",
         "93",
         "83",
         "92",
         "92",
         "87",
         "86",
         "81",
         "85",
         "95",
         "92",
         "82",
         "68",
         "49",
         "42",
         "38",
         "35",
         "32",
         "26",
         "21",
         "23",
         "21",
         "19",
         "19",
         "12",
         "15",
         "14",
         "13",
         "15",
         "20",
         "24",
         "27",
         "29",
         "26",
         "26",
         "30",
         "32",
         "28",
         "27",
         "17",
         "12",
         "16",
         "15",
         "20",
         "25",
         "21",
         "19",
         "16",
         "13",
         "14",
         "18",
         "18",
         "22",
         "22",
         "21",
         "21",
         "15",
         "20",
         "19",
         "18",
         "19",
         "12",
         "17",
         "26",
         "33",
         "37",
         "34",
         "33",
         "33",
         "40",
         "44",
         "40",
         "39"
        ],
        [
         "3",
         "E06000001",
         "Hartlepool",
         "E01011952",
         "Hartlepool 002A",
         "24",
         "22",
         "18",
         "16",
         "15",
         "19",
         "16",
         "13",
         "9",
         "5",
         "9",
         "10",
         "14",
         "15",
         "11",
         "12",
         "9",
         "7",
         "11",
         "12",
         "11",
         "17",
         "15",
         "12",
         "16",
         "12",
         "14",
         "14",
         "13",
         "13",
         "15",
         "17",
         "19",
         "19",
         "20",
         "21",
         "18",
         "18",
         "13",
         "11",
         "9",
         "13",
         "34",
         "46",
         "51",
         "51",
         "30",
         "19",
         "15",
         "12",
         "10",
         "12",
         "11",
         "11",
         "12",
         "7",
         "7",
         "6",
         "5",
         "6",
         "7",
         "6",
         "6",
         "4",
         "2",
         "2",
         "3",
         "5",
         "8",
         "11",
         "11",
         "13",
         "12",
         "8",
         "7",
         "7",
         "7",
         "10",
         "12",
         "10",
         "8",
         "8",
         "7",
         "5",
         "7",
         "9",
         "9",
         "11",
         "9",
         "6",
         "7",
         "8",
         "10",
         "9",
         "9",
         "9",
         "8",
         "9",
         "6",
         "5",
         "5",
         "4",
         "10",
         "12",
         "13",
         "15",
         "11",
         "9",
         "7",
         "5"
        ],
        [
         "4",
         "E06000001",
         "Hartlepool",
         "E01011953",
         "Hartlepool 002B",
         "8",
         "9",
         "7",
         "10",
         "9",
         "8",
         "8",
         "5",
         "5",
         "5",
         "5",
         "6",
         "7",
         "7",
         "7",
         "9",
         "13",
         "12",
         "14",
         "11",
         "9",
         "11",
         "10",
         "12",
         "10",
         "10",
         "9",
         "11",
         "12",
         "13",
         "17",
         "15",
         "16",
         "18",
         "22",
         "26",
         "26",
         "21",
         "15",
         "12",
         "14",
         "16",
         "16",
         "19",
         "19",
         "21",
         "23",
         "19",
         "15",
         "11",
         "8",
         "9",
         "9",
         "9",
         "8",
         "6",
         "5",
         "5",
         "5",
         "7",
         "10",
         "11",
         "14",
         "16",
         "14",
         "14",
         "10",
         "4",
         "3",
         "1",
         "2",
         "4",
         "5",
         "7",
         "6",
         "6",
         "6",
         "5",
         "7",
         "8",
         "10",
         "14",
         "16",
         "15",
         "13",
         "10",
         "7",
         "6",
         "7",
         "7",
         "6",
         "7",
         "6",
         "5",
         "10",
         "10",
         "9",
         "10",
         "6",
         "4",
         "4",
         "3",
         "3",
         "5",
         "6",
         "5",
         "10",
         "13",
         "14",
         "15"
        ]
       ],
       "shape": {
        "columns": 114,
        "rows": 5
       }
      },
      "text/html": [
       "<div>\n",
       "<style scoped>\n",
       "    .dataframe tbody tr th:only-of-type {\n",
       "        vertical-align: middle;\n",
       "    }\n",
       "\n",
       "    .dataframe tbody tr th {\n",
       "        vertical-align: top;\n",
       "    }\n",
       "\n",
       "    .dataframe thead th {\n",
       "        text-align: right;\n",
       "    }\n",
       "</style>\n",
       "<table border=\"1\" class=\"dataframe\">\n",
       "  <thead>\n",
       "    <tr style=\"text-align: right;\">\n",
       "      <th></th>\n",
       "      <th>Local authority code</th>\n",
       "      <th>Local authority name</th>\n",
       "      <th>LSOA code</th>\n",
       "      <th>LSOA name</th>\n",
       "      <th>Year ending Dec 1995</th>\n",
       "      <th>Year ending Mar 1996</th>\n",
       "      <th>Year ending Jun 1996</th>\n",
       "      <th>Year ending Sep 1996</th>\n",
       "      <th>Year ending Dec 1996</th>\n",
       "      <th>Year ending Mar 1997</th>\n",
       "      <th>...</th>\n",
       "      <th>Year ending Dec 2020</th>\n",
       "      <th>Year ending Mar 2021</th>\n",
       "      <th>Year ending Jun 2021</th>\n",
       "      <th>Year ending Sep 2021</th>\n",
       "      <th>Year ending Dec 2021</th>\n",
       "      <th>Year ending Mar 2022</th>\n",
       "      <th>Year ending Jun 2022</th>\n",
       "      <th>Year ending Sep 2022</th>\n",
       "      <th>Year ending Dec 2022</th>\n",
       "      <th>Year ending Mar 2023</th>\n",
       "    </tr>\n",
       "  </thead>\n",
       "  <tbody>\n",
       "    <tr>\n",
       "      <th>0</th>\n",
       "      <td>E06000001</td>\n",
       "      <td>Hartlepool</td>\n",
       "      <td>E01011949</td>\n",
       "      <td>Hartlepool 009A</td>\n",
       "      <td>12</td>\n",
       "      <td>13</td>\n",
       "      <td>14</td>\n",
       "      <td>15</td>\n",
       "      <td>15</td>\n",
       "      <td>15</td>\n",
       "      <td>...</td>\n",
       "      <td>17</td>\n",
       "      <td>14</td>\n",
       "      <td>22</td>\n",
       "      <td>25</td>\n",
       "      <td>25</td>\n",
       "      <td>28</td>\n",
       "      <td>23</td>\n",
       "      <td>24</td>\n",
       "      <td>24</td>\n",
       "      <td>20</td>\n",
       "    </tr>\n",
       "    <tr>\n",
       "      <th>1</th>\n",
       "      <td>E06000001</td>\n",
       "      <td>Hartlepool</td>\n",
       "      <td>E01011950</td>\n",
       "      <td>Hartlepool 008A</td>\n",
       "      <td>44</td>\n",
       "      <td>45</td>\n",
       "      <td>45</td>\n",
       "      <td>46</td>\n",
       "      <td>43</td>\n",
       "      <td>51</td>\n",
       "      <td>...</td>\n",
       "      <td>36</td>\n",
       "      <td>36</td>\n",
       "      <td>38</td>\n",
       "      <td>45</td>\n",
       "      <td>50</td>\n",
       "      <td>49</td>\n",
       "      <td>51</td>\n",
       "      <td>41</td>\n",
       "      <td>35</td>\n",
       "      <td>33</td>\n",
       "    </tr>\n",
       "    <tr>\n",
       "      <th>2</th>\n",
       "      <td>E06000001</td>\n",
       "      <td>Hartlepool</td>\n",
       "      <td>E01011951</td>\n",
       "      <td>Hartlepool 007A</td>\n",
       "      <td>43</td>\n",
       "      <td>33</td>\n",
       "      <td>34</td>\n",
       "      <td>43</td>\n",
       "      <td>47</td>\n",
       "      <td>51</td>\n",
       "      <td>...</td>\n",
       "      <td>26</td>\n",
       "      <td>33</td>\n",
       "      <td>37</td>\n",
       "      <td>34</td>\n",
       "      <td>33</td>\n",
       "      <td>33</td>\n",
       "      <td>40</td>\n",
       "      <td>44</td>\n",
       "      <td>40</td>\n",
       "      <td>39</td>\n",
       "    </tr>\n",
       "    <tr>\n",
       "      <th>3</th>\n",
       "      <td>E06000001</td>\n",
       "      <td>Hartlepool</td>\n",
       "      <td>E01011952</td>\n",
       "      <td>Hartlepool 002A</td>\n",
       "      <td>24</td>\n",
       "      <td>22</td>\n",
       "      <td>18</td>\n",
       "      <td>16</td>\n",
       "      <td>15</td>\n",
       "      <td>19</td>\n",
       "      <td>...</td>\n",
       "      <td>5</td>\n",
       "      <td>4</td>\n",
       "      <td>10</td>\n",
       "      <td>12</td>\n",
       "      <td>13</td>\n",
       "      <td>15</td>\n",
       "      <td>11</td>\n",
       "      <td>9</td>\n",
       "      <td>7</td>\n",
       "      <td>5</td>\n",
       "    </tr>\n",
       "    <tr>\n",
       "      <th>4</th>\n",
       "      <td>E06000001</td>\n",
       "      <td>Hartlepool</td>\n",
       "      <td>E01011953</td>\n",
       "      <td>Hartlepool 002B</td>\n",
       "      <td>8</td>\n",
       "      <td>9</td>\n",
       "      <td>7</td>\n",
       "      <td>10</td>\n",
       "      <td>9</td>\n",
       "      <td>8</td>\n",
       "      <td>...</td>\n",
       "      <td>4</td>\n",
       "      <td>3</td>\n",
       "      <td>3</td>\n",
       "      <td>5</td>\n",
       "      <td>6</td>\n",
       "      <td>5</td>\n",
       "      <td>10</td>\n",
       "      <td>13</td>\n",
       "      <td>14</td>\n",
       "      <td>15</td>\n",
       "    </tr>\n",
       "  </tbody>\n",
       "</table>\n",
       "<p>5 rows × 114 columns</p>\n",
       "</div>"
      ],
      "text/plain": [
       "  Local authority code Local authority name  LSOA code        LSOA name  \\\n",
       "0            E06000001           Hartlepool  E01011949  Hartlepool 009A   \n",
       "1            E06000001           Hartlepool  E01011950  Hartlepool 008A   \n",
       "2            E06000001           Hartlepool  E01011951  Hartlepool 007A   \n",
       "3            E06000001           Hartlepool  E01011952  Hartlepool 002A   \n",
       "4            E06000001           Hartlepool  E01011953  Hartlepool 002B   \n",
       "\n",
       "   Year ending Dec 1995  Year ending Mar 1996  Year ending Jun 1996  \\\n",
       "0                    12                    13                    14   \n",
       "1                    44                    45                    45   \n",
       "2                    43                    33                    34   \n",
       "3                    24                    22                    18   \n",
       "4                     8                     9                     7   \n",
       "\n",
       "   Year ending Sep 1996  Year ending Dec 1996  Year ending Mar 1997  ...  \\\n",
       "0                    15                    15                    15  ...   \n",
       "1                    46                    43                    51  ...   \n",
       "2                    43                    47                    51  ...   \n",
       "3                    16                    15                    19  ...   \n",
       "4                    10                     9                     8  ...   \n",
       "\n",
       "   Year ending Dec 2020  Year ending Mar 2021  Year ending Jun 2021  \\\n",
       "0                    17                    14                    22   \n",
       "1                    36                    36                    38   \n",
       "2                    26                    33                    37   \n",
       "3                     5                     4                    10   \n",
       "4                     4                     3                     3   \n",
       "\n",
       "   Year ending Sep 2021  Year ending Dec 2021  Year ending Mar 2022  \\\n",
       "0                    25                    25                    28   \n",
       "1                    45                    50                    49   \n",
       "2                    34                    33                    33   \n",
       "3                    12                    13                    15   \n",
       "4                     5                     6                     5   \n",
       "\n",
       "   Year ending Jun 2022  Year ending Sep 2022  Year ending Dec 2022  \\\n",
       "0                    23                    24                    24   \n",
       "1                    51                    41                    35   \n",
       "2                    40                    44                    40   \n",
       "3                    11                     9                     7   \n",
       "4                    10                    13                    14   \n",
       "\n",
       "   Year ending Mar 2023  \n",
       "0                    20  \n",
       "1                    33  \n",
       "2                    39  \n",
       "3                     5  \n",
       "4                    15  \n",
       "\n",
       "[5 rows x 114 columns]"
      ]
     },
     "execution_count": 82,
     "metadata": {},
     "output_type": "execute_result"
    }
   ],
   "source": [
    "# reading house price\n",
    "pro_path = \"data/stru_data/HPSSA Dataset 41 - Number of residential property sales by LSOA.xls\"\n",
    "pro_price = pd.ExcelFile(pro_path)\n",
    "# reading sheet\n",
    "df_pro = pro_price.parse(sheet_name=\"Data\", header = 5) \n",
    "df_pro.head()"
   ]
  },
  {
   "cell_type": "code",
   "execution_count": 83,
   "id": "2fb4fcd9",
   "metadata": {},
   "outputs": [
    {
     "name": "stdout",
     "output_type": "stream",
     "text": [
      "  Local authority code Local authority name  LSOA code        LSOA name  \\\n",
      "0            E06000001           Hartlepool  E01011949  Hartlepool 009A   \n",
      "1            E06000001           Hartlepool  E01011950  Hartlepool 008A   \n",
      "2            E06000001           Hartlepool  E01011951  Hartlepool 007A   \n",
      "3            E06000001           Hartlepool  E01011952  Hartlepool 002A   \n",
      "4            E06000001           Hartlepool  E01011953  Hartlepool 002B   \n",
      "\n",
      "   Year ending Dec 1995  Year ending Mar 1996  Year ending Jun 1996  \\\n",
      "0                    12                    13                    14   \n",
      "1                    44                    45                    45   \n",
      "2                    43                    33                    34   \n",
      "3                    24                    22                    18   \n",
      "4                     8                     9                     7   \n",
      "\n",
      "   Year ending Sep 1996  Year ending Dec 1996  Year ending Mar 1997  ...  \\\n",
      "0                    15                    15                    15  ...   \n",
      "1                    46                    43                    51  ...   \n",
      "2                    43                    47                    51  ...   \n",
      "3                    16                    15                    19  ...   \n",
      "4                    10                     9                     8  ...   \n",
      "\n",
      "   Year ending Dec 2021  Year ending Mar 2022  Year ending Jun 2022  \\\n",
      "0                    25                    28                    23   \n",
      "1                    50                    49                    51   \n",
      "2                    33                    33                    40   \n",
      "3                    13                    15                    11   \n",
      "4                     6                     5                    10   \n",
      "\n",
      "   Year ending Sep 2022  Year ending Dec 2022  Year ending Mar 2023  \\\n",
      "0                    24                    24                    20   \n",
      "1                    41                    35                    33   \n",
      "2                    44                    40                    39   \n",
      "3                     9                     7                     5   \n",
      "4                    13                    14                    15   \n",
      "\n",
      "   pro_sale_2010  pro_sale_2015  sale_gro  sale_avg  \n",
      "0             56             62         6      59.0  \n",
      "1             35             83        48      59.0  \n",
      "2             82             63       -19      72.5  \n",
      "3             24             40        16      32.0  \n",
      "4             27             30         3      28.5  \n",
      "\n",
      "[5 rows x 118 columns]\n"
     ]
    }
   ],
   "source": [
    "df_pro['pro_sale_2010'] = df_pro['Year ending Mar 2010'] + df_pro['Year ending Jun 2010'] + df_pro['Year ending Sep 2010'] + df_pro['Year ending Dec 2010']\n",
    "df_pro['pro_sale_2015'] = df_pro['Year ending Mar 2015'] + df_pro['Year ending Jun 2015'] + df_pro['Year ending Sep 2015'] + df_pro['Year ending Dec 2015']\n",
    "df_pro['sale_gro'] = (df_pro['pro_sale_2015'] - df_pro['pro_sale_2010'])\n",
    "df_pro['sale_avg'] = (df_pro['pro_sale_2015'] + df_pro['pro_sale_2010']) /2\n",
    "\n",
    "print(df_pro.head())"
   ]
  },
  {
   "cell_type": "code",
   "execution_count": 84,
   "id": "8ac078d8",
   "metadata": {},
   "outputs": [
    {
     "data": {
      "application/vnd.microsoft.datawrangler.viewer.v0+json": {
       "columns": [
        {
         "name": "index",
         "rawType": "object",
         "type": "string"
        },
        {
         "name": "0",
         "rawType": "int64",
         "type": "integer"
        }
       ],
       "ref": "0bda6006-853f-4b95-9ad0-502dfa0751ce",
       "rows": [
        [
         "Local authority code",
         "0"
        ],
        [
         "Local authority name",
         "0"
        ],
        [
         "LSOA code",
         "0"
        ],
        [
         "LSOA name",
         "0"
        ],
        [
         "Year ending Dec 1995",
         "0"
        ],
        [
         "Year ending Mar 1996",
         "0"
        ],
        [
         "Year ending Jun 1996",
         "0"
        ],
        [
         "Year ending Sep 1996",
         "0"
        ],
        [
         "Year ending Dec 1996",
         "0"
        ],
        [
         "Year ending Mar 1997",
         "0"
        ],
        [
         "Year ending Jun 1997",
         "0"
        ],
        [
         "Year ending Sep 1997",
         "0"
        ],
        [
         "Year ending Dec 1997",
         "0"
        ],
        [
         "Year ending Mar 1998",
         "0"
        ],
        [
         "Year ending Jun 1998",
         "0"
        ],
        [
         "Year ending Sep 1998",
         "0"
        ],
        [
         "Year ending Dec 1998",
         "0"
        ],
        [
         "Year ending Mar 1999",
         "0"
        ],
        [
         "Year ending Jun 1999",
         "0"
        ],
        [
         "Year ending Sep 1999",
         "0"
        ],
        [
         "Year ending Dec 1999",
         "0"
        ],
        [
         "Year ending Mar 2000",
         "0"
        ],
        [
         "Year ending Jun 2000",
         "0"
        ],
        [
         "Year ending Sep 2000",
         "0"
        ],
        [
         "Year ending Dec 2000",
         "0"
        ],
        [
         "Year ending Mar 2001",
         "0"
        ],
        [
         "Year ending Jun 2001",
         "0"
        ],
        [
         "Year ending Sep 2001",
         "0"
        ],
        [
         "Year ending Dec 2001",
         "0"
        ],
        [
         "Year ending Mar 2002",
         "0"
        ],
        [
         "Year ending Jun 2002",
         "0"
        ],
        [
         "Year ending Sep 2002",
         "0"
        ],
        [
         "Year ending Dec 2002",
         "0"
        ],
        [
         "Year ending Mar 2003",
         "0"
        ],
        [
         "Year ending Jun 2003",
         "0"
        ],
        [
         "Year ending Sep 2003",
         "0"
        ],
        [
         "Year ending Dec 2003",
         "0"
        ],
        [
         "Year ending Mar 2004",
         "0"
        ],
        [
         "Year ending Jun 2004",
         "0"
        ],
        [
         "Year ending Sep 2004",
         "0"
        ],
        [
         "Year ending Dec 2004",
         "0"
        ],
        [
         "Year ending Mar 2005",
         "0"
        ],
        [
         "Year ending Jun 2005",
         "0"
        ],
        [
         "Year ending Sep 2005",
         "0"
        ],
        [
         "Year ending Dec 2005",
         "0"
        ],
        [
         "Year ending Mar 2006",
         "0"
        ],
        [
         "Year ending Jun 2006",
         "0"
        ],
        [
         "Year ending Sep 2006",
         "0"
        ],
        [
         "Year ending Dec 2006",
         "0"
        ],
        [
         "Year ending Mar 2007",
         "0"
        ]
       ],
       "shape": {
        "columns": 1,
        "rows": 118
       }
      },
      "text/plain": [
       "Local authority code    0\n",
       "Local authority name    0\n",
       "LSOA code               0\n",
       "LSOA name               0\n",
       "Year ending Dec 1995    0\n",
       "                       ..\n",
       "Year ending Mar 2023    0\n",
       "pro_sale_2010           0\n",
       "pro_sale_2015           0\n",
       "sale_gro                0\n",
       "sale_avg                0\n",
       "Length: 118, dtype: int64"
      ]
     },
     "execution_count": 84,
     "metadata": {},
     "output_type": "execute_result"
    }
   ],
   "source": [
    "df_pro.isna().sum()"
   ]
  },
  {
   "cell_type": "code",
   "execution_count": 86,
   "id": "6beb25c2",
   "metadata": {},
   "outputs": [
    {
     "name": "stdout",
     "output_type": "stream",
     "text": [
      "   LSOA code  sale_avg  sale_gro\n",
      "0  E01011949      59.0         6\n",
      "1  E01011950      59.0        48\n",
      "2  E01011951      72.5       -19\n",
      "3  E01011952      32.0        16\n",
      "4  E01011953      28.5         3\n"
     ]
    }
   ],
   "source": [
    "pro_col = ['LSOA code', 'sale_avg', 'sale_gro']\n",
    "df_pro = df_pro[pro_col]\n",
    "print(df_pro.head())"
   ]
  },
  {
   "cell_type": "code",
   "execution_count": 87,
   "id": "efd87fb3",
   "metadata": {},
   "outputs": [
    {
     "name": "stderr",
     "output_type": "stream",
     "text": [
      "C:\\Users\\hp\\AppData\\Local\\Temp\\ipykernel_29508\\3836450377.py:1: SettingWithCopyWarning: \n",
      "A value is trying to be set on a copy of a slice from a DataFrame\n",
      "\n",
      "See the caveats in the documentation: https://pandas.pydata.org/pandas-docs/stable/user_guide/indexing.html#returning-a-view-versus-a-copy\n",
      "  df_pro.rename(columns={'LSOA code': 'LSOA Code'}, inplace=True)\n"
     ]
    }
   ],
   "source": [
    "df_pro.rename(columns={'LSOA code': 'LSOA Code'}, inplace=True)"
   ]
  },
  {
   "cell_type": "code",
   "execution_count": 88,
   "id": "c633dddb",
   "metadata": {},
   "outputs": [
    {
     "name": "stdout",
     "output_type": "stream",
     "text": [
      "Index(['LSOA Code', '2011_population_density', 'Mid-2011 population',\n",
      "       'Mid-2014 population', '2014_population_density', 'pop_growth_rate',\n",
      "       'avg_den', 'elderly_per_12', 'elderly_per_14', 'senior_per', 'all',\n",
      "       'white', 'minority_per', 'all_dwelling', 'unshared', 'converted',\n",
      "       'shared_per', 'converted_per', 'level_4_pop', 'level_4_per',\n",
      "       'prof_occ_count', 'prof_occ_per', 'sale_avg', 'sale_gro'],\n",
      "      dtype='object')\n"
     ]
    }
   ],
   "source": [
    "df_data_all = df_data_all.merge(df_pro, on='LSOA Code', how='left')\n",
    "print(df_data_all.columns)"
   ]
  },
  {
   "cell_type": "markdown",
   "id": "8c4eea2d",
   "metadata": {},
   "source": [
    "## Number of bedrooms"
   ]
  },
  {
   "cell_type": "code",
   "execution_count": 89,
   "id": "1de4ae1b",
   "metadata": {},
   "outputs": [
    {
     "data": {
      "application/vnd.microsoft.datawrangler.viewer.v0+json": {
       "columns": [
        {
         "name": "index",
         "rawType": "int64",
         "type": "integer"
        },
        {
         "name": "2011 super output area - lower layer",
         "rawType": "object",
         "type": "string"
        },
        {
         "name": "All categories: Number of rooms",
         "rawType": "object",
         "type": "string"
        },
        {
         "name": "1 room",
         "rawType": "float64",
         "type": "float"
        },
        {
         "name": "2 rooms",
         "rawType": "float64",
         "type": "float"
        },
        {
         "name": "3 rooms",
         "rawType": "float64",
         "type": "float"
        },
        {
         "name": "4 rooms",
         "rawType": "float64",
         "type": "float"
        },
        {
         "name": "5 rooms",
         "rawType": "float64",
         "type": "float"
        },
        {
         "name": "6 rooms",
         "rawType": "float64",
         "type": "float"
        },
        {
         "name": "7 rooms",
         "rawType": "float64",
         "type": "float"
        },
        {
         "name": "8 rooms",
         "rawType": "float64",
         "type": "float"
        },
        {
         "name": "9 or more rooms",
         "rawType": "float64",
         "type": "float"
        }
       ],
       "ref": "90ad17a1-588d-4381-abcc-82dd82dfc5c2",
       "rows": [
        [
         "0",
         "E01000001 : City of London 001A",
         "876",
         "92.0",
         "87.0",
         "278.0",
         "181.0",
         "120.0",
         "71.0",
         "34.0",
         "10.0",
         "3.0"
        ],
        [
         "1",
         "E01000002 : City of London 001B",
         "830",
         "10.0",
         "136.0",
         "266.0",
         "233.0",
         "64.0",
         "60.0",
         "34.0",
         "18.0",
         "9.0"
        ],
        [
         "2",
         "E01000003 : City of London 001C",
         "817",
         "128.0",
         "196.0",
         "231.0",
         "212.0",
         "44.0",
         "3.0",
         "2.0",
         "0.0",
         "1.0"
        ],
        [
         "3",
         "E01000005 : City of London 001E",
         "467",
         "43.0",
         "89.0",
         "142.0",
         "109.0",
         "68.0",
         "12.0",
         "3.0",
         "0.0",
         "1.0"
        ],
        [
         "4",
         "E01000006 : Barking and Dagenham 016A",
         "543",
         "8.0",
         "17.0",
         "82.0",
         "59.0",
         "145.0",
         "140.0",
         "63.0",
         "23.0",
         "6.0"
        ]
       ],
       "shape": {
        "columns": 11,
        "rows": 5
       }
      },
      "text/html": [
       "<div>\n",
       "<style scoped>\n",
       "    .dataframe tbody tr th:only-of-type {\n",
       "        vertical-align: middle;\n",
       "    }\n",
       "\n",
       "    .dataframe tbody tr th {\n",
       "        vertical-align: top;\n",
       "    }\n",
       "\n",
       "    .dataframe thead th {\n",
       "        text-align: right;\n",
       "    }\n",
       "</style>\n",
       "<table border=\"1\" class=\"dataframe\">\n",
       "  <thead>\n",
       "    <tr style=\"text-align: right;\">\n",
       "      <th></th>\n",
       "      <th>2011 super output area - lower layer</th>\n",
       "      <th>All categories: Number of rooms</th>\n",
       "      <th>1 room</th>\n",
       "      <th>2 rooms</th>\n",
       "      <th>3 rooms</th>\n",
       "      <th>4 rooms</th>\n",
       "      <th>5 rooms</th>\n",
       "      <th>6 rooms</th>\n",
       "      <th>7 rooms</th>\n",
       "      <th>8 rooms</th>\n",
       "      <th>9 or more rooms</th>\n",
       "    </tr>\n",
       "  </thead>\n",
       "  <tbody>\n",
       "    <tr>\n",
       "      <th>0</th>\n",
       "      <td>E01000001 : City of London 001A</td>\n",
       "      <td>876</td>\n",
       "      <td>92.0</td>\n",
       "      <td>87.0</td>\n",
       "      <td>278.0</td>\n",
       "      <td>181.0</td>\n",
       "      <td>120.0</td>\n",
       "      <td>71.0</td>\n",
       "      <td>34.0</td>\n",
       "      <td>10.0</td>\n",
       "      <td>3.0</td>\n",
       "    </tr>\n",
       "    <tr>\n",
       "      <th>1</th>\n",
       "      <td>E01000002 : City of London 001B</td>\n",
       "      <td>830</td>\n",
       "      <td>10.0</td>\n",
       "      <td>136.0</td>\n",
       "      <td>266.0</td>\n",
       "      <td>233.0</td>\n",
       "      <td>64.0</td>\n",
       "      <td>60.0</td>\n",
       "      <td>34.0</td>\n",
       "      <td>18.0</td>\n",
       "      <td>9.0</td>\n",
       "    </tr>\n",
       "    <tr>\n",
       "      <th>2</th>\n",
       "      <td>E01000003 : City of London 001C</td>\n",
       "      <td>817</td>\n",
       "      <td>128.0</td>\n",
       "      <td>196.0</td>\n",
       "      <td>231.0</td>\n",
       "      <td>212.0</td>\n",
       "      <td>44.0</td>\n",
       "      <td>3.0</td>\n",
       "      <td>2.0</td>\n",
       "      <td>0.0</td>\n",
       "      <td>1.0</td>\n",
       "    </tr>\n",
       "    <tr>\n",
       "      <th>3</th>\n",
       "      <td>E01000005 : City of London 001E</td>\n",
       "      <td>467</td>\n",
       "      <td>43.0</td>\n",
       "      <td>89.0</td>\n",
       "      <td>142.0</td>\n",
       "      <td>109.0</td>\n",
       "      <td>68.0</td>\n",
       "      <td>12.0</td>\n",
       "      <td>3.0</td>\n",
       "      <td>0.0</td>\n",
       "      <td>1.0</td>\n",
       "    </tr>\n",
       "    <tr>\n",
       "      <th>4</th>\n",
       "      <td>E01000006 : Barking and Dagenham 016A</td>\n",
       "      <td>543</td>\n",
       "      <td>8.0</td>\n",
       "      <td>17.0</td>\n",
       "      <td>82.0</td>\n",
       "      <td>59.0</td>\n",
       "      <td>145.0</td>\n",
       "      <td>140.0</td>\n",
       "      <td>63.0</td>\n",
       "      <td>23.0</td>\n",
       "      <td>6.0</td>\n",
       "    </tr>\n",
       "  </tbody>\n",
       "</table>\n",
       "</div>"
      ],
      "text/plain": [
       "    2011 super output area - lower layer All categories: Number of rooms  \\\n",
       "0        E01000001 : City of London 001A                             876   \n",
       "1        E01000002 : City of London 001B                             830   \n",
       "2        E01000003 : City of London 001C                             817   \n",
       "3        E01000005 : City of London 001E                             467   \n",
       "4  E01000006 : Barking and Dagenham 016A                             543   \n",
       "\n",
       "   1 room  2 rooms  3 rooms  4 rooms  5 rooms  6 rooms  7 rooms  8 rooms  \\\n",
       "0    92.0     87.0    278.0    181.0    120.0     71.0     34.0     10.0   \n",
       "1    10.0    136.0    266.0    233.0     64.0     60.0     34.0     18.0   \n",
       "2   128.0    196.0    231.0    212.0     44.0      3.0      2.0      0.0   \n",
       "3    43.0     89.0    142.0    109.0     68.0     12.0      3.0      0.0   \n",
       "4     8.0     17.0     82.0     59.0    145.0    140.0     63.0     23.0   \n",
       "\n",
       "   9 or more rooms  \n",
       "0              3.0  \n",
       "1              9.0  \n",
       "2              1.0  \n",
       "3              1.0  \n",
       "4              6.0  "
      ]
     },
     "execution_count": 89,
     "metadata": {},
     "output_type": "execute_result"
    }
   ],
   "source": [
    "room = pd.read_csv(\"data/stru_data/rooms.csv\", header = 6)\n",
    "room.head(5)"
   ]
  },
  {
   "cell_type": "code",
   "execution_count": 90,
   "id": "612dd1c4",
   "metadata": {},
   "outputs": [],
   "source": [
    "# select columns\n",
    "room['LSOA Code'] = room['2011 super output area - lower layer'].str.split(':').str[0].str.strip()\n",
    "room_col = ['LSOA Code', 'All categories: Number of rooms', '1 room', '2 rooms']\n",
    "df_room = room[room_col]"
   ]
  },
  {
   "cell_type": "code",
   "execution_count": 91,
   "id": "64c8ff58",
   "metadata": {},
   "outputs": [
    {
     "data": {
      "text/plain": [
       "(4835, 4)"
      ]
     },
     "execution_count": 91,
     "metadata": {},
     "output_type": "execute_result"
    }
   ],
   "source": [
    "# select data in London area\n",
    "df_london_room = df_room[df_room['LSOA Code'].isin(london_lsoa_list)]\n",
    "df_london_room.shape"
   ]
  },
  {
   "cell_type": "code",
   "execution_count": 92,
   "id": "522df754",
   "metadata": {},
   "outputs": [
    {
     "name": "stdout",
     "output_type": "stream",
     "text": [
      "LSOA Code                           object\n",
      "All categories: Number of rooms     object\n",
      "1 room                             float64\n",
      "2 rooms                            float64\n",
      "dtype: object\n",
      "LSOA Code                          0\n",
      "All categories: Number of rooms    0\n",
      "1 room                             0\n",
      "2 rooms                            0\n",
      "dtype: int64\n"
     ]
    }
   ],
   "source": [
    "print(df_london_room.dtypes)   # 确认数据类型\n",
    "print(df_london_room.isna().sum())  # 检查缺失值"
   ]
  },
  {
   "cell_type": "code",
   "execution_count": 93,
   "id": "7e5992ba",
   "metadata": {},
   "outputs": [
    {
     "name": "stderr",
     "output_type": "stream",
     "text": [
      "C:\\Users\\hp\\AppData\\Local\\Temp\\ipykernel_29508\\3764146254.py:1: SettingWithCopyWarning: \n",
      "A value is trying to be set on a copy of a slice from a DataFrame\n",
      "\n",
      "See the caveats in the documentation: https://pandas.pydata.org/pandas-docs/stable/user_guide/indexing.html#returning-a-view-versus-a-copy\n",
      "  df_london_room.rename(columns={'All categories: Number of rooms': 'all_household'}, inplace=True)\n",
      "C:\\Users\\hp\\AppData\\Local\\Temp\\ipykernel_29508\\3764146254.py:5: SettingWithCopyWarning: \n",
      "A value is trying to be set on a copy of a slice from a DataFrame.\n",
      "Try using .loc[row_indexer,col_indexer] = value instead\n",
      "\n",
      "See the caveats in the documentation: https://pandas.pydata.org/pandas-docs/stable/user_guide/indexing.html#returning-a-view-versus-a-copy\n",
      "  df_london_room[col] = pd.to_numeric(df_london_room[col], errors='coerce')\n"
     ]
    }
   ],
   "source": [
    "df_london_room.rename(columns={'All categories: Number of rooms': 'all_household'}, inplace=True)\n",
    "cols_to_convert = ['1 room', '2 rooms', 'all_household']  # 你用到的列\n",
    "\n",
    "for col in cols_to_convert:\n",
    "    df_london_room[col] = pd.to_numeric(df_london_room[col], errors='coerce')"
   ]
  },
  {
   "cell_type": "code",
   "execution_count": 94,
   "id": "362736dd",
   "metadata": {},
   "outputs": [
    {
     "name": "stdout",
     "output_type": "stream",
     "text": [
      "LSOA Code           0\n",
      "all_household       0\n",
      "1 room              0\n",
      "2 rooms             0\n",
      "less_2_rooms_per    0\n",
      "dtype: int64\n"
     ]
    },
    {
     "name": "stderr",
     "output_type": "stream",
     "text": [
      "C:\\Users\\hp\\AppData\\Local\\Temp\\ipykernel_29508\\2827628396.py:1: SettingWithCopyWarning: \n",
      "A value is trying to be set on a copy of a slice from a DataFrame.\n",
      "Try using .loc[row_indexer,col_indexer] = value instead\n",
      "\n",
      "See the caveats in the documentation: https://pandas.pydata.org/pandas-docs/stable/user_guide/indexing.html#returning-a-view-versus-a-copy\n",
      "  df_london_room['less_2_rooms_per'] = (df_london_room['1 room'] + df_london_room['2 rooms'])*100 / df_london_room['all_household']\n"
     ]
    }
   ],
   "source": [
    "df_london_room['less_2_rooms_per'] = (df_london_room['1 room'] + df_london_room['2 rooms'])*100 / df_london_room['all_household']\n",
    "print(df_london_room.isna().sum())  # 检查缺失值"
   ]
  },
  {
   "cell_type": "code",
   "execution_count": 95,
   "id": "0d16550e",
   "metadata": {},
   "outputs": [
    {
     "name": "stdout",
     "output_type": "stream",
     "text": [
      "   LSOA Code  all_household  1 room  2 rooms  less_2_rooms_per\n",
      "0  E01000001            876    92.0     87.0         20.433790\n",
      "1  E01000002            830    10.0    136.0         17.590361\n",
      "2  E01000003            817   128.0    196.0         39.657283\n",
      "3  E01000005            467    43.0     89.0         28.265525\n",
      "4  E01000006            543     8.0     17.0          4.604052\n"
     ]
    }
   ],
   "source": [
    "print(df_london_room.head())"
   ]
  },
  {
   "cell_type": "code",
   "execution_count": 96,
   "id": "fcba3116",
   "metadata": {},
   "outputs": [
    {
     "name": "stdout",
     "output_type": "stream",
     "text": [
      "Index(['LSOA Code', '2011_population_density', 'Mid-2011 population',\n",
      "       'Mid-2014 population', '2014_population_density', 'pop_growth_rate',\n",
      "       'avg_den', 'elderly_per_12', 'elderly_per_14', 'senior_per', 'all',\n",
      "       'white', 'minority_per', 'all_dwelling', 'unshared', 'converted',\n",
      "       'shared_per', 'converted_per', 'level_4_pop', 'level_4_per',\n",
      "       'prof_occ_count', 'prof_occ_per', 'sale_avg', 'sale_gro',\n",
      "       'all_household', '1 room', '2 rooms', 'less_2_rooms_per'],\n",
      "      dtype='object')\n"
     ]
    }
   ],
   "source": [
    "df_data_all = df_data_all.merge(df_london_room, on='LSOA Code', how='left')\n",
    "print(df_data_all.columns)"
   ]
  },
  {
   "cell_type": "markdown",
   "id": "5bc11b17",
   "metadata": {},
   "source": [
    "## Marriage"
   ]
  },
  {
   "cell_type": "code",
   "execution_count": 97,
   "id": "77c79c56",
   "metadata": {},
   "outputs": [
    {
     "data": {
      "application/vnd.microsoft.datawrangler.viewer.v0+json": {
       "columns": [
        {
         "name": "index",
         "rawType": "int64",
         "type": "integer"
        },
        {
         "name": "2011 super output area - lower layer",
         "rawType": "object",
         "type": "string"
        },
        {
         "name": "All categories: Marital and civil partnership status",
         "rawType": "object",
         "type": "string"
        },
        {
         "name": "Single (never married or never registered a same-sex civil partnership)",
         "rawType": "float64",
         "type": "float"
        }
       ],
       "ref": "aa66c40a-2ef5-4217-8aee-658bada290ea",
       "rows": [
        [
         "0",
         "E01000001 : City of London 001A",
         "876",
         "374.0"
        ],
        [
         "1",
         "E01000002 : City of London 001B",
         "830",
         "327.0"
        ],
        [
         "2",
         "E01000003 : City of London 001C",
         "817",
         "442.0"
        ],
        [
         "3",
         "E01000005 : City of London 001E",
         "467",
         "217.0"
        ],
        [
         "4",
         "E01000006 : Barking and Dagenham 016A",
         "543",
         "127.0"
        ]
       ],
       "shape": {
        "columns": 3,
        "rows": 5
       }
      },
      "text/html": [
       "<div>\n",
       "<style scoped>\n",
       "    .dataframe tbody tr th:only-of-type {\n",
       "        vertical-align: middle;\n",
       "    }\n",
       "\n",
       "    .dataframe tbody tr th {\n",
       "        vertical-align: top;\n",
       "    }\n",
       "\n",
       "    .dataframe thead th {\n",
       "        text-align: right;\n",
       "    }\n",
       "</style>\n",
       "<table border=\"1\" class=\"dataframe\">\n",
       "  <thead>\n",
       "    <tr style=\"text-align: right;\">\n",
       "      <th></th>\n",
       "      <th>2011 super output area - lower layer</th>\n",
       "      <th>All categories: Marital and civil partnership status</th>\n",
       "      <th>Single (never married or never registered a same-sex civil partnership)</th>\n",
       "    </tr>\n",
       "  </thead>\n",
       "  <tbody>\n",
       "    <tr>\n",
       "      <th>0</th>\n",
       "      <td>E01000001 : City of London 001A</td>\n",
       "      <td>876</td>\n",
       "      <td>374.0</td>\n",
       "    </tr>\n",
       "    <tr>\n",
       "      <th>1</th>\n",
       "      <td>E01000002 : City of London 001B</td>\n",
       "      <td>830</td>\n",
       "      <td>327.0</td>\n",
       "    </tr>\n",
       "    <tr>\n",
       "      <th>2</th>\n",
       "      <td>E01000003 : City of London 001C</td>\n",
       "      <td>817</td>\n",
       "      <td>442.0</td>\n",
       "    </tr>\n",
       "    <tr>\n",
       "      <th>3</th>\n",
       "      <td>E01000005 : City of London 001E</td>\n",
       "      <td>467</td>\n",
       "      <td>217.0</td>\n",
       "    </tr>\n",
       "    <tr>\n",
       "      <th>4</th>\n",
       "      <td>E01000006 : Barking and Dagenham 016A</td>\n",
       "      <td>543</td>\n",
       "      <td>127.0</td>\n",
       "    </tr>\n",
       "  </tbody>\n",
       "</table>\n",
       "</div>"
      ],
      "text/plain": [
       "    2011 super output area - lower layer  \\\n",
       "0        E01000001 : City of London 001A   \n",
       "1        E01000002 : City of London 001B   \n",
       "2        E01000003 : City of London 001C   \n",
       "3        E01000005 : City of London 001E   \n",
       "4  E01000006 : Barking and Dagenham 016A   \n",
       "\n",
       "  All categories: Marital and civil partnership status  \\\n",
       "0                                                876     \n",
       "1                                                830     \n",
       "2                                                817     \n",
       "3                                                467     \n",
       "4                                                543     \n",
       "\n",
       "   Single (never married or never registered a same-sex civil partnership)  \n",
       "0                                              374.0                        \n",
       "1                                              327.0                        \n",
       "2                                              442.0                        \n",
       "3                                              217.0                        \n",
       "4                                              127.0                        "
      ]
     },
     "execution_count": 97,
     "metadata": {},
     "output_type": "execute_result"
    }
   ],
   "source": [
    "single = pd.read_csv(\"data/stru_data/marriage.csv\", header = 7)\n",
    "single.head(5)"
   ]
  },
  {
   "cell_type": "code",
   "execution_count": 98,
   "id": "6dd00795",
   "metadata": {},
   "outputs": [
    {
     "name": "stdout",
     "output_type": "stream",
     "text": [
      "2011 super output area - lower layer     object\n",
      "all_resident                             object\n",
      "single                                  float64\n",
      "LSOA Code                                object\n",
      "dtype: object\n"
     ]
    }
   ],
   "source": [
    "# select columns\n",
    "single['LSOA Code'] = single['2011 super output area - lower layer'].str.split(':').str[0].str.strip()\n",
    "single.rename(columns={'All categories: Marital and civil partnership status': 'all_resident'}, inplace=True)\n",
    "single.rename(columns={'Single (never married or never registered a same-sex civil partnership)': 'single'}, inplace=True)\n",
    "print(single.dtypes)   # 确认数据类型\n"
   ]
  },
  {
   "cell_type": "code",
   "execution_count": 99,
   "id": "5faaa9fa",
   "metadata": {},
   "outputs": [
    {
     "data": {
      "text/plain": [
       "(4835, 4)"
      ]
     },
     "execution_count": 99,
     "metadata": {},
     "output_type": "execute_result"
    }
   ],
   "source": [
    "# select data in London area\n",
    "single = single[single['LSOA Code'].isin(london_lsoa_list)]\n",
    "single.shape"
   ]
  },
  {
   "cell_type": "code",
   "execution_count": 100,
   "id": "c76ebb49",
   "metadata": {},
   "outputs": [],
   "source": [
    "cols_to_convert_sin = ['all_resident', 'single']  # 你用到的列\n",
    "\n",
    "for col in cols_to_convert_sin:\n",
    "    single[col] = pd.to_numeric(single[col], errors='coerce')"
   ]
  },
  {
   "cell_type": "code",
   "execution_count": 101,
   "id": "461bbff9",
   "metadata": {},
   "outputs": [
    {
     "name": "stdout",
     "output_type": "stream",
     "text": [
      "    2011 super output area - lower layer  all_resident  single  LSOA Code  \\\n",
      "0        E01000001 : City of London 001A           876   374.0  E01000001   \n",
      "1        E01000002 : City of London 001B           830   327.0  E01000002   \n",
      "2        E01000003 : City of London 001C           817   442.0  E01000003   \n",
      "3        E01000005 : City of London 001E           467   217.0  E01000005   \n",
      "4  E01000006 : Barking and Dagenham 016A           543   127.0  E01000006   \n",
      "\n",
      "   single_per  \n",
      "0   42.694064  \n",
      "1   39.397590  \n",
      "2   54.100367  \n",
      "3   46.466809  \n",
      "4   23.388582  \n"
     ]
    }
   ],
   "source": [
    "single['single_per'] = single['single']*100/single['all_resident']\n",
    "print(single.head(5))"
   ]
  },
  {
   "cell_type": "code",
   "execution_count": 102,
   "id": "e9617eea",
   "metadata": {},
   "outputs": [],
   "source": [
    "sin_col = ['LSOA Code', 'single_per']\n",
    "df_single = single[sin_col]"
   ]
  },
  {
   "cell_type": "code",
   "execution_count": 103,
   "id": "59ecabe1",
   "metadata": {},
   "outputs": [
    {
     "name": "stdout",
     "output_type": "stream",
     "text": [
      "Index(['LSOA Code', '2011_population_density', 'Mid-2011 population',\n",
      "       'Mid-2014 population', '2014_population_density', 'pop_growth_rate',\n",
      "       'avg_den', 'elderly_per_12', 'elderly_per_14', 'senior_per', 'all',\n",
      "       'white', 'minority_per', 'all_dwelling', 'unshared', 'converted',\n",
      "       'shared_per', 'converted_per', 'level_4_pop', 'level_4_per',\n",
      "       'prof_occ_count', 'prof_occ_per', 'sale_avg', 'sale_gro',\n",
      "       'all_household', '1 room', '2 rooms', 'less_2_rooms_per', 'single_per'],\n",
      "      dtype='object')\n"
     ]
    }
   ],
   "source": [
    "df_data_all = df_data_all.merge(df_single, on='LSOA Code', how='left')\n",
    "print(df_data_all.columns)"
   ]
  },
  {
   "cell_type": "markdown",
   "id": "2d3beb56",
   "metadata": {},
   "source": [
    "## Distance travelled to work"
   ]
  },
  {
   "cell_type": "code",
   "execution_count": 104,
   "id": "b7869a38",
   "metadata": {},
   "outputs": [
    {
     "data": {
      "application/vnd.microsoft.datawrangler.viewer.v0+json": {
       "columns": [
        {
         "name": "index",
         "rawType": "int64",
         "type": "integer"
        },
        {
         "name": "2011 super output area - lower layer",
         "rawType": "object",
         "type": "string"
        },
        {
         "name": "All categories: Distance travelled to work",
         "rawType": "object",
         "type": "string"
        },
        {
         "name": "Less than 10km",
         "rawType": "float64",
         "type": "float"
        },
        {
         "name": "10km to less than 30km",
         "rawType": "float64",
         "type": "float"
        },
        {
         "name": "30km and over",
         "rawType": "float64",
         "type": "float"
        },
        {
         "name": "Work mainly at or from home",
         "rawType": "float64",
         "type": "float"
        },
        {
         "name": "Other",
         "rawType": "float64",
         "type": "float"
        }
       ],
       "ref": "a001afe2-2bc5-4655-ac6a-d0fca01ffd53",
       "rows": [
        [
         "0",
         "E01000001 : City of London 001A",
         "937",
         "695.0",
         "26.0",
         "21.0",
         "146.0",
         "49.0"
        ],
        [
         "1",
         "E01000002 : City of London 001B",
         "919",
         "660.0",
         "27.0",
         "20.0",
         "155.0",
         "57.0"
        ],
        [
         "2",
         "E01000003 : City of London 001C",
         "769",
         "582.0",
         "30.0",
         "18.0",
         "82.0",
         "57.0"
        ],
        [
         "3",
         "E01000005 : City of London 001E",
         "481",
         "345.0",
         "37.0",
         "18.0",
         "36.0",
         "45.0"
        ],
        [
         "4",
         "E01000006 : Barking and Dagenham 016A",
         "781",
         "297.0",
         "258.0",
         "36.0",
         "61.0",
         "129.0"
        ]
       ],
       "shape": {
        "columns": 7,
        "rows": 5
       }
      },
      "text/html": [
       "<div>\n",
       "<style scoped>\n",
       "    .dataframe tbody tr th:only-of-type {\n",
       "        vertical-align: middle;\n",
       "    }\n",
       "\n",
       "    .dataframe tbody tr th {\n",
       "        vertical-align: top;\n",
       "    }\n",
       "\n",
       "    .dataframe thead th {\n",
       "        text-align: right;\n",
       "    }\n",
       "</style>\n",
       "<table border=\"1\" class=\"dataframe\">\n",
       "  <thead>\n",
       "    <tr style=\"text-align: right;\">\n",
       "      <th></th>\n",
       "      <th>2011 super output area - lower layer</th>\n",
       "      <th>All categories: Distance travelled to work</th>\n",
       "      <th>Less than 10km</th>\n",
       "      <th>10km to less than 30km</th>\n",
       "      <th>30km and over</th>\n",
       "      <th>Work mainly at or from home</th>\n",
       "      <th>Other</th>\n",
       "    </tr>\n",
       "  </thead>\n",
       "  <tbody>\n",
       "    <tr>\n",
       "      <th>0</th>\n",
       "      <td>E01000001 : City of London 001A</td>\n",
       "      <td>937</td>\n",
       "      <td>695.0</td>\n",
       "      <td>26.0</td>\n",
       "      <td>21.0</td>\n",
       "      <td>146.0</td>\n",
       "      <td>49.0</td>\n",
       "    </tr>\n",
       "    <tr>\n",
       "      <th>1</th>\n",
       "      <td>E01000002 : City of London 001B</td>\n",
       "      <td>919</td>\n",
       "      <td>660.0</td>\n",
       "      <td>27.0</td>\n",
       "      <td>20.0</td>\n",
       "      <td>155.0</td>\n",
       "      <td>57.0</td>\n",
       "    </tr>\n",
       "    <tr>\n",
       "      <th>2</th>\n",
       "      <td>E01000003 : City of London 001C</td>\n",
       "      <td>769</td>\n",
       "      <td>582.0</td>\n",
       "      <td>30.0</td>\n",
       "      <td>18.0</td>\n",
       "      <td>82.0</td>\n",
       "      <td>57.0</td>\n",
       "    </tr>\n",
       "    <tr>\n",
       "      <th>3</th>\n",
       "      <td>E01000005 : City of London 001E</td>\n",
       "      <td>481</td>\n",
       "      <td>345.0</td>\n",
       "      <td>37.0</td>\n",
       "      <td>18.0</td>\n",
       "      <td>36.0</td>\n",
       "      <td>45.0</td>\n",
       "    </tr>\n",
       "    <tr>\n",
       "      <th>4</th>\n",
       "      <td>E01000006 : Barking and Dagenham 016A</td>\n",
       "      <td>781</td>\n",
       "      <td>297.0</td>\n",
       "      <td>258.0</td>\n",
       "      <td>36.0</td>\n",
       "      <td>61.0</td>\n",
       "      <td>129.0</td>\n",
       "    </tr>\n",
       "  </tbody>\n",
       "</table>\n",
       "</div>"
      ],
      "text/plain": [
       "    2011 super output area - lower layer  \\\n",
       "0        E01000001 : City of London 001A   \n",
       "1        E01000002 : City of London 001B   \n",
       "2        E01000003 : City of London 001C   \n",
       "3        E01000005 : City of London 001E   \n",
       "4  E01000006 : Barking and Dagenham 016A   \n",
       "\n",
       "  All categories: Distance travelled to work  Less than 10km  \\\n",
       "0                                        937           695.0   \n",
       "1                                        919           660.0   \n",
       "2                                        769           582.0   \n",
       "3                                        481           345.0   \n",
       "4                                        781           297.0   \n",
       "\n",
       "   10km to less than 30km  30km and over  Work mainly at or from home  Other  \n",
       "0                    26.0           21.0                        146.0   49.0  \n",
       "1                    27.0           20.0                        155.0   57.0  \n",
       "2                    30.0           18.0                         82.0   57.0  \n",
       "3                    37.0           18.0                         36.0   45.0  \n",
       "4                   258.0           36.0                         61.0  129.0  "
      ]
     },
     "execution_count": 104,
     "metadata": {},
     "output_type": "execute_result"
    }
   ],
   "source": [
    "travel_dis = pd.read_csv(\"data/stru_data/distance_to_work.csv\", header = 6)\n",
    "travel_dis.head(5)"
   ]
  },
  {
   "cell_type": "code",
   "execution_count": 105,
   "id": "67bc5e49",
   "metadata": {},
   "outputs": [
    {
     "name": "stdout",
     "output_type": "stream",
     "text": [
      "2011 super output area - lower layer     object\n",
      "all_resident                             object\n",
      "less_10km                               float64\n",
      "10km to less than 30km                  float64\n",
      "30km and over                           float64\n",
      "Work mainly at or from home             float64\n",
      "Other                                   float64\n",
      "LSOA Code                                object\n",
      "dtype: object\n"
     ]
    }
   ],
   "source": [
    "# select columns\n",
    "travel_dis['LSOA Code'] = travel_dis['2011 super output area - lower layer'].str.split(':').str[0].str.strip()\n",
    "travel_dis.rename(columns={'All categories: Distance travelled to work': 'all_resident'}, inplace=True)\n",
    "travel_dis.rename(columns={'Less than 10km': 'less_10km'}, inplace=True)\n",
    "print(travel_dis.dtypes)   # 确认数据类型"
   ]
  },
  {
   "cell_type": "code",
   "execution_count": 106,
   "id": "046da812",
   "metadata": {},
   "outputs": [
    {
     "data": {
      "text/plain": [
       "(4835, 8)"
      ]
     },
     "execution_count": 106,
     "metadata": {},
     "output_type": "execute_result"
    }
   ],
   "source": [
    "# select data in London area\n",
    "travel_dis = travel_dis[travel_dis['LSOA Code'].isin(london_lsoa_list)]\n",
    "travel_dis.shape"
   ]
  },
  {
   "cell_type": "code",
   "execution_count": 107,
   "id": "6b5d2e5a",
   "metadata": {},
   "outputs": [],
   "source": [
    "cols_to_convert_dis = ['all_resident', 'less_10km']  # 你用到的列\n",
    "\n",
    "for col in cols_to_convert_dis:\n",
    "    travel_dis[col] = pd.to_numeric(travel_dis[col], errors='coerce')"
   ]
  },
  {
   "cell_type": "code",
   "execution_count": 108,
   "id": "1ca1c211",
   "metadata": {},
   "outputs": [
    {
     "name": "stdout",
     "output_type": "stream",
     "text": [
      "    2011 super output area - lower layer  all_resident  less_10km  \\\n",
      "0        E01000001 : City of London 001A           937      695.0   \n",
      "1        E01000002 : City of London 001B           919      660.0   \n",
      "2        E01000003 : City of London 001C           769      582.0   \n",
      "3        E01000005 : City of London 001E           481      345.0   \n",
      "4  E01000006 : Barking and Dagenham 016A           781      297.0   \n",
      "\n",
      "   10km to less than 30km  30km and over  Work mainly at or from home  Other  \\\n",
      "0                    26.0           21.0                        146.0   49.0   \n",
      "1                    27.0           20.0                        155.0   57.0   \n",
      "2                    30.0           18.0                         82.0   57.0   \n",
      "3                    37.0           18.0                         36.0   45.0   \n",
      "4                   258.0           36.0                         61.0  129.0   \n",
      "\n",
      "   LSOA Code  less_10km_per  \n",
      "0  E01000001      74.172892  \n",
      "1  E01000002      71.817193  \n",
      "2  E01000003      75.682705  \n",
      "3  E01000005      71.725572  \n",
      "4  E01000006      38.028169  \n"
     ]
    }
   ],
   "source": [
    "travel_dis['less_10km_per'] = travel_dis['less_10km']*100/travel_dis['all_resident']\n",
    "print(travel_dis.head(5))"
   ]
  },
  {
   "cell_type": "code",
   "execution_count": 109,
   "id": "39e52183",
   "metadata": {},
   "outputs": [],
   "source": [
    "travel_dis_col = ['LSOA Code', 'less_10km_per']\n",
    "df_travel_dis = travel_dis[travel_dis_col]"
   ]
  },
  {
   "cell_type": "code",
   "execution_count": 110,
   "id": "d10de5fa",
   "metadata": {},
   "outputs": [
    {
     "name": "stdout",
     "output_type": "stream",
     "text": [
      "Index(['LSOA Code', '2011_population_density', 'Mid-2011 population',\n",
      "       'Mid-2014 population', '2014_population_density', 'pop_growth_rate',\n",
      "       'avg_den', 'elderly_per_12', 'elderly_per_14', 'senior_per', 'all',\n",
      "       'white', 'minority_per', 'all_dwelling', 'unshared', 'converted',\n",
      "       'shared_per', 'converted_per', 'level_4_pop', 'level_4_per',\n",
      "       'prof_occ_count', 'prof_occ_per', 'sale_avg', 'sale_gro',\n",
      "       'all_household', '1 room', '2 rooms', 'less_2_rooms_per', 'single_per',\n",
      "       'less_10km_per'],\n",
      "      dtype='object')\n"
     ]
    }
   ],
   "source": [
    "df_data_all = df_data_all.merge(df_travel_dis, on='LSOA Code', how='left')\n",
    "print(df_data_all.columns)"
   ]
  },
  {
   "cell_type": "markdown",
   "id": "970c8c2b",
   "metadata": {},
   "source": [
    "## Save Copy"
   ]
  },
  {
   "cell_type": "code",
   "execution_count": 113,
   "id": "2093dea3",
   "metadata": {},
   "outputs": [],
   "source": [
    "columns_to_keep = ['LSOA Code', 'pop_growth_rate', 'avg_den', 'senior_per', 'minority_per', \n",
    "                   'all_dwelling', 'shared_per', 'converted_per',\n",
    "                   'level_4_pop', 'level_4_per',\n",
    "                   'prof_occ_count', 'prof_occ_per', 'sale_avg',\n",
    "                   'single_per',\n",
    "                   'less_10km_per']\n",
    "cleaned_df = df_data_all[columns_to_keep]"
   ]
  },
  {
   "cell_type": "code",
   "execution_count": 114,
   "id": "c6dfd161",
   "metadata": {},
   "outputs": [],
   "source": [
    "cleaned_df.to_csv(\"data/all_stru_data_10_14.csv\", index=False)"
   ]
  }
 ],
 "metadata": {
  "kernelspec": {
   "display_name": "Python (venv)",
   "language": "python",
   "name": "venv"
  },
  "language_info": {
   "codemirror_mode": {
    "name": "ipython",
    "version": 3
   },
   "file_extension": ".py",
   "mimetype": "text/x-python",
   "name": "python",
   "nbconvert_exporter": "python",
   "pygments_lexer": "ipython3",
   "version": "3.12.5"
  }
 },
 "nbformat": 4,
 "nbformat_minor": 5
}
