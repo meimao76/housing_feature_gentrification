{
 "cells": [
  {
   "cell_type": "code",
   "execution_count": 1,
   "id": "460af60e",
   "metadata": {},
   "outputs": [
    {
     "name": "stdout",
     "output_type": "stream",
     "text": [
      "Connected to Elasticsearch!\n"
     ]
    }
   ],
   "source": [
    "import pandas as pd\n",
    "import numpy as np\n",
    "from elasticsearch import Elasticsearch\n",
    "import re\n",
    "\n",
    "import sys\n",
    "sys.path.append('functions')\n",
    "import preprocessing_fncs as ppf\n",
    "import elastic_search_fncs as esf\n",
    "\n",
    "# Details of the dataset\n",
    "db_host = 'https://athena.london.gov.uk'\n",
    "db_user = 'odbc_readonly'\n",
    "db_pass = 'odbc_readonly'\n",
    "db_port = '10099'\n",
    "db_name = 'gla-ldd-external'\n",
    "\n",
    "# Creates connection to the dataset\n",
    "es = Elasticsearch(\n",
    "    [f\"{db_host}:{db_port}\"],\n",
    "    basic_auth=(db_user, db_pass),\n",
    "    verify_certs=True,\n",
    "    ca_certs='athena_es_full_chain.crt'\n",
    ")\n",
    "\n",
    "# Check connection\n",
    "if es.ping():\n",
    "    print(\"Connected to Elasticsearch!\")\n",
    "else:\n",
    "    print(\"Could not connect to Elasticsearch.\")"
   ]
  },
  {
   "cell_type": "code",
   "execution_count": 2,
   "id": "b9483064",
   "metadata": {},
   "outputs": [],
   "source": [
    "import pandas as pd\n",
    "\n",
    "def get_residential_units(es, year, index=\"applications\"):\n",
    "    \"\"\"\n",
    "    Retrieve specified columns for all entries where total_no_proposed_residential_units >= 1\n",
    "    and decision_date is within a given year.\n",
    "\n",
    "    Args:\n",
    "        es (obj): Elasticsearch connection object.\n",
    "        year (int): The year for which decision_date should be filtered.\n",
    "        index (str, optional): Elasticsearch index name. Defaults to \"applications\".\n",
    "\n",
    "    Returns:\n",
    "        DataFrame: A Pandas DataFrame with the filtered applications.\n",
    "    \"\"\"\n",
    "    \n",
    "    query = {\n",
    "        \"query\": {\n",
    "            \"bool\": {\n",
    "                \"must\": [\n",
    "                    {\n",
    "                        \"range\": {\n",
    "                            \"application_details.residential_details.total_no_existing_residential_units\": {\n",
    "                                \"gte\": 1\n",
    "                            }\n",
    "                        }\n",
    "                    },\n",
    "                    {\n",
    "                        \"range\": {\n",
    "                            \"decision_date\": {\n",
    "                                \"gte\": f\"01/01/{year}\",\n",
    "                                \"lt\": f\"01/01/{year + 1}\"\n",
    "                            }\n",
    "                        }\n",
    "                    }\n",
    "                ]\n",
    "            }\n",
    "        },\n",
    "        \"_source\": [\n",
    "            \"lpa_app_no\",\n",
    "            \"valid_date\",\n",
    "            \"decision_date\",\n",
    "            \"borough\",\n",
    "            \"application_details.residential_details.total_no_existing_residential_units\",\n",
    "            \"application_details.residential_details.total_no_affordable_units\",\n",
    "            \"application_details.residential_details.site_area\",\n",
    "            \"application_details.residential_details.habitable_rooms_density\",\n",
    "            \"pp_id\",\n",
    "            \"uprn\",\n",
    "            \"status\",\n",
    "            \"decision\",\n",
    "            \"street_name\",\n",
    "            \"site_name\",\n",
    "            \"site_number\",\n",
    "            \"polygon\",\n",
    "            \"wgs84_polygon\",\n",
    "            \"description\"\n",
    "        ]\n",
    "    }\n",
    "    \n",
    "    # Initialize scrolling\n",
    "    response = es.search(index=index, body=query, scroll=\"2m\", size=10000)\n",
    "    scroll_id = response['_scroll_id']\n",
    "    hits = response['hits']['hits']\n",
    "    \n",
    "    all_hits = []\n",
    "    all_hits.extend(hits)\n",
    "\n",
    "    # Keep scrolling until no hits are returned\n",
    "    while len(hits) > 0:\n",
    "        response = es.scroll(scroll_id=scroll_id, scroll=\"2m\")\n",
    "        scroll_id = response['_scroll_id']\n",
    "        hits = response['hits']['hits']\n",
    "        all_hits.extend(hits)\n",
    "\n",
    "    # Normalize the results into a DataFrame\n",
    "    df = pd.json_normalize(all_hits)\n",
    "    \n",
    "    return df\n"
   ]
  },
  {
   "cell_type": "code",
   "execution_count": null,
   "id": "dea2899f",
   "metadata": {},
   "outputs": [
    {
     "name": "stderr",
     "output_type": "stream",
     "text": [
      "C:\\Users\\hp\\AppData\\Local\\Temp\\ipykernel_59284\\1004643928.py:62: DeprecationWarning: Received 'size' via a specific parameter in the presence of a 'body' parameter, which is deprecated and will be removed in a future version. Instead, use only 'body' or only specific parameters.\n",
      "  response = es.search(index=index, body=query, scroll=\"2m\", size=10000)\n"
     ]
    }
   ],
   "source": [
    "year = 2021\n",
    "\n",
    "df = get_residential_units(es=es, year=year)\n",
    "df = ppf.format_df(df)"
   ]
  },
  {
   "cell_type": "code",
   "execution_count": 5,
   "id": "6451f92b",
   "metadata": {},
   "outputs": [
    {
     "data": {
      "text/plain": [
       "2849"
      ]
     },
     "execution_count": 5,
     "metadata": {},
     "output_type": "execute_result"
    }
   ],
   "source": [
    "len(df)"
   ]
  }
 ],
 "metadata": {
  "kernelspec": {
   "display_name": "venv",
   "language": "python",
   "name": "python3"
  },
  "language_info": {
   "codemirror_mode": {
    "name": "ipython",
    "version": 3
   },
   "file_extension": ".py",
   "mimetype": "text/x-python",
   "name": "python",
   "nbconvert_exporter": "python",
   "pygments_lexer": "ipython3",
   "version": "3.12.5"
  }
 },
 "nbformat": 4,
 "nbformat_minor": 5
}
