{
 "cells": [
  {
   "cell_type": "markdown",
   "id": "1598bb87",
   "metadata": {},
   "source": [
    "# Structural Data\n",
    "As the structural values of the lsoa area, describe the background featuers of each lsoa.\n",
    "- population density\n",
    "- age groups \n",
    "- ..."
   ]
  },
  {
   "cell_type": "code",
   "execution_count": 1,
   "id": "c499e140",
   "metadata": {},
   "outputs": [],
   "source": [
    "import pandas as pd\n",
    "import geopandas as gpd\n",
    "import matplotlib.pyplot as plt\n",
    "import numpy as np"
   ]
  },
  {
   "cell_type": "markdown",
   "id": "e02cb08a",
   "metadata": {
    "vscode": {
     "languageId": "plaintext"
    }
   },
   "source": [
    "## Population Density"
   ]
  },
  {
   "cell_type": "code",
   "execution_count": null,
   "id": "b3f931bb",
   "metadata": {},
   "outputs": [],
   "source": [
    "# reading population density\n",
    "density19_path = \"data/stru_data/SAPE22DT11_mid_2019_lsoa_population_density.xlsx\"\n",
    "pop_den19 = pd.ExcelFile(density19_path)"
   ]
  },
  {
   "cell_type": "code",
   "execution_count": null,
   "id": "d6c16bfb",
   "metadata": {},
   "outputs": [
    {
     "data": {
      "application/vnd.microsoft.datawrangler.viewer.v0+json": {
       "columns": [
        {
         "name": "index",
         "rawType": "int64",
         "type": "integer"
        },
        {
         "name": "LSOA Code",
         "rawType": "object",
         "type": "string"
        },
        {
         "name": "LSOA Name",
         "rawType": "object",
         "type": "string"
        },
        {
         "name": "Mid-2019 population",
         "rawType": "int64",
         "type": "integer"
        },
        {
         "name": "Area Sq Km",
         "rawType": "float64",
         "type": "float"
        },
        {
         "name": "People per Sq Km",
         "rawType": "float64",
         "type": "float"
        }
       ],
       "ref": "f0837c94-81de-4475-bfd9-db80cdc417cb",
       "rows": [
        [
         "0",
         "E01011949",
         "Hartlepool 009A",
         "1954",
         "0.5189",
         "3765.658122952399"
        ],
        [
         "1",
         "E01011950",
         "Hartlepool 008A",
         "1257",
         "0.1325",
         "9486.792452830188"
        ],
        [
         "2",
         "E01011951",
         "Hartlepool 007A",
         "1209",
         "0.2086",
         "5795.781399808246"
        ],
        [
         "3",
         "E01011952",
         "Hartlepool 002A",
         "1740",
         "0.46409999999999996",
         "3749.1919844861027"
        ],
        [
         "4",
         "E01011953",
         "Hartlepool 002B",
         "2033",
         "0.8833",
         "2301.5962866523264"
        ]
       ],
       "shape": {
        "columns": 5,
        "rows": 5
       }
      },
      "text/html": [
       "<div>\n",
       "<style scoped>\n",
       "    .dataframe tbody tr th:only-of-type {\n",
       "        vertical-align: middle;\n",
       "    }\n",
       "\n",
       "    .dataframe tbody tr th {\n",
       "        vertical-align: top;\n",
       "    }\n",
       "\n",
       "    .dataframe thead th {\n",
       "        text-align: right;\n",
       "    }\n",
       "</style>\n",
       "<table border=\"1\" class=\"dataframe\">\n",
       "  <thead>\n",
       "    <tr style=\"text-align: right;\">\n",
       "      <th></th>\n",
       "      <th>LSOA Code</th>\n",
       "      <th>LSOA Name</th>\n",
       "      <th>Mid-2019 population</th>\n",
       "      <th>Area Sq Km</th>\n",
       "      <th>People per Sq Km</th>\n",
       "    </tr>\n",
       "  </thead>\n",
       "  <tbody>\n",
       "    <tr>\n",
       "      <th>0</th>\n",
       "      <td>E01011949</td>\n",
       "      <td>Hartlepool 009A</td>\n",
       "      <td>1954</td>\n",
       "      <td>0.5189</td>\n",
       "      <td>3765.658123</td>\n",
       "    </tr>\n",
       "    <tr>\n",
       "      <th>1</th>\n",
       "      <td>E01011950</td>\n",
       "      <td>Hartlepool 008A</td>\n",
       "      <td>1257</td>\n",
       "      <td>0.1325</td>\n",
       "      <td>9486.792453</td>\n",
       "    </tr>\n",
       "    <tr>\n",
       "      <th>2</th>\n",
       "      <td>E01011951</td>\n",
       "      <td>Hartlepool 007A</td>\n",
       "      <td>1209</td>\n",
       "      <td>0.2086</td>\n",
       "      <td>5795.781400</td>\n",
       "    </tr>\n",
       "    <tr>\n",
       "      <th>3</th>\n",
       "      <td>E01011952</td>\n",
       "      <td>Hartlepool 002A</td>\n",
       "      <td>1740</td>\n",
       "      <td>0.4641</td>\n",
       "      <td>3749.191984</td>\n",
       "    </tr>\n",
       "    <tr>\n",
       "      <th>4</th>\n",
       "      <td>E01011953</td>\n",
       "      <td>Hartlepool 002B</td>\n",
       "      <td>2033</td>\n",
       "      <td>0.8833</td>\n",
       "      <td>2301.596287</td>\n",
       "    </tr>\n",
       "  </tbody>\n",
       "</table>\n",
       "</div>"
      ],
      "text/plain": [
       "   LSOA Code        LSOA Name  Mid-2019 population  Area Sq Km  \\\n",
       "0  E01011949  Hartlepool 009A                 1954      0.5189   \n",
       "1  E01011950  Hartlepool 008A                 1257      0.1325   \n",
       "2  E01011951  Hartlepool 007A                 1209      0.2086   \n",
       "3  E01011952  Hartlepool 002A                 1740      0.4641   \n",
       "4  E01011953  Hartlepool 002B                 2033      0.8833   \n",
       "\n",
       "   People per Sq Km  \n",
       "0       3765.658123  \n",
       "1       9486.792453  \n",
       "2       5795.781400  \n",
       "3       3749.191984  \n",
       "4       2301.596287  "
      ]
     },
     "execution_count": 4,
     "metadata": {},
     "output_type": "execute_result"
    }
   ],
   "source": [
    "# reading sheet\n",
    "df_den_19 = pop_den19.parse(sheet_name=\"Mid-2019 Population Density\", header = 4) \n",
    "df_den_19.head()"
   ]
  },
  {
   "cell_type": "code",
   "execution_count": null,
   "id": "efc2f425",
   "metadata": {},
   "outputs": [],
   "source": [
    "# select columns\n",
    "den19_col = ['LSOA Code', 'Mid-2019 population', 'People per Sq Km']\n",
    "den_19 = df_den_19[den19_col]"
   ]
  },
  {
   "cell_type": "code",
   "execution_count": 7,
   "id": "84c6d895",
   "metadata": {},
   "outputs": [
    {
     "data": {
      "application/vnd.microsoft.datawrangler.viewer.v0+json": {
       "columns": [
        {
         "name": "index",
         "rawType": "int64",
         "type": "integer"
        },
        {
         "name": "Code",
         "rawType": "object",
         "type": "string"
        },
        {
         "name": "Name",
         "rawType": "object",
         "type": "string"
        },
        {
         "name": "Mid-2015 population",
         "rawType": "int64",
         "type": "integer"
        },
        {
         "name": "Area Sq Km",
         "rawType": "float64",
         "type": "float"
        },
        {
         "name": "People per Sq Km",
         "rawType": "int64",
         "type": "integer"
        }
       ],
       "ref": "8ec5ea34-2a44-484a-8ee5-56d232756605",
       "rows": [
        [
         "0",
         "E01020634",
         "County Durham 001A",
         "1524",
         "6.4975",
         "235"
        ],
        [
         "1",
         "E01020635",
         "County Durham 001B",
         "1315",
         "1.6963",
         "775"
        ],
        [
         "2",
         "E01020636",
         "County Durham 001C",
         "1749",
         "0.9272",
         "1886"
        ],
        [
         "3",
         "E01020654",
         "County Durham 001D",
         "1860",
         "0.9884000000000001",
         "1882"
        ],
        [
         "4",
         "E01020676",
         "County Durham 001E",
         "1479",
         "5.471699999999999",
         "270"
        ]
       ],
       "shape": {
        "columns": 5,
        "rows": 5
       }
      },
      "text/html": [
       "<div>\n",
       "<style scoped>\n",
       "    .dataframe tbody tr th:only-of-type {\n",
       "        vertical-align: middle;\n",
       "    }\n",
       "\n",
       "    .dataframe tbody tr th {\n",
       "        vertical-align: top;\n",
       "    }\n",
       "\n",
       "    .dataframe thead th {\n",
       "        text-align: right;\n",
       "    }\n",
       "</style>\n",
       "<table border=\"1\" class=\"dataframe\">\n",
       "  <thead>\n",
       "    <tr style=\"text-align: right;\">\n",
       "      <th></th>\n",
       "      <th>Code</th>\n",
       "      <th>Name</th>\n",
       "      <th>Mid-2015 population</th>\n",
       "      <th>Area Sq Km</th>\n",
       "      <th>People per Sq Km</th>\n",
       "    </tr>\n",
       "  </thead>\n",
       "  <tbody>\n",
       "    <tr>\n",
       "      <th>0</th>\n",
       "      <td>E01020634</td>\n",
       "      <td>County Durham 001A</td>\n",
       "      <td>1524</td>\n",
       "      <td>6.4975</td>\n",
       "      <td>235</td>\n",
       "    </tr>\n",
       "    <tr>\n",
       "      <th>1</th>\n",
       "      <td>E01020635</td>\n",
       "      <td>County Durham 001B</td>\n",
       "      <td>1315</td>\n",
       "      <td>1.6963</td>\n",
       "      <td>775</td>\n",
       "    </tr>\n",
       "    <tr>\n",
       "      <th>2</th>\n",
       "      <td>E01020636</td>\n",
       "      <td>County Durham 001C</td>\n",
       "      <td>1749</td>\n",
       "      <td>0.9272</td>\n",
       "      <td>1886</td>\n",
       "    </tr>\n",
       "    <tr>\n",
       "      <th>3</th>\n",
       "      <td>E01020654</td>\n",
       "      <td>County Durham 001D</td>\n",
       "      <td>1860</td>\n",
       "      <td>0.9884</td>\n",
       "      <td>1882</td>\n",
       "    </tr>\n",
       "    <tr>\n",
       "      <th>4</th>\n",
       "      <td>E01020676</td>\n",
       "      <td>County Durham 001E</td>\n",
       "      <td>1479</td>\n",
       "      <td>5.4717</td>\n",
       "      <td>270</td>\n",
       "    </tr>\n",
       "  </tbody>\n",
       "</table>\n",
       "</div>"
      ],
      "text/plain": [
       "        Code                Name  Mid-2015 population  Area Sq Km  \\\n",
       "0  E01020634  County Durham 001A                 1524      6.4975   \n",
       "1  E01020635  County Durham 001B                 1315      1.6963   \n",
       "2  E01020636  County Durham 001C                 1749      0.9272   \n",
       "3  E01020654  County Durham 001D                 1860      0.9884   \n",
       "4  E01020676  County Durham 001E                 1479      5.4717   \n",
       "\n",
       "   People per Sq Km  \n",
       "0               235  \n",
       "1               775  \n",
       "2              1886  \n",
       "3              1882  \n",
       "4               270  "
      ]
     },
     "execution_count": 7,
     "metadata": {},
     "output_type": "execute_result"
    }
   ],
   "source": [
    "# reading the density for 2015\n",
    "density15_path = \"data/stru_data/SAPE20DT11-mid-2015-lsoa-population-density.xls\"\n",
    "pop_den15 = pd.ExcelFile(density15_path)\n",
    "df_den_15 = pop_den15.parse(sheet_name=\"Mid-2015 Population Density\", header = 4) \n",
    "df_den_15.head()"
   ]
  },
  {
   "cell_type": "code",
   "execution_count": 9,
   "id": "f6d63403",
   "metadata": {},
   "outputs": [],
   "source": [
    "# select columns\n",
    "den15_col = ['Code', 'Mid-2015 population', 'People per Sq Km']\n",
    "den_15 = df_den_15[den15_col]"
   ]
  },
  {
   "cell_type": "code",
   "execution_count": 13,
   "id": "89b0a636",
   "metadata": {},
   "outputs": [
    {
     "name": "stdout",
     "output_type": "stream",
     "text": [
      "   LSOA Code  Mid-2019 population  2019_population_density  \\\n",
      "0  E01011949                 1954              3765.658123   \n",
      "1  E01011950                 1257              9486.792453   \n",
      "2  E01011951                 1209              5795.781400   \n",
      "3  E01011952                 1740              3749.191984   \n",
      "4  E01011953                 2033              2301.596287   \n",
      "\n",
      "   Mid-2015 population  2015_population_density  \n",
      "0                 2009                     3872  \n",
      "1                 1443                    10891  \n",
      "2                 1279                     6131  \n",
      "3                 1745                     3760  \n",
      "4                 2011                     2277  \n"
     ]
    },
    {
     "name": "stderr",
     "output_type": "stream",
     "text": [
      "C:\\Users\\hp\\AppData\\Local\\Temp\\ipykernel_27232\\3006015090.py:3: SettingWithCopyWarning: \n",
      "A value is trying to be set on a copy of a slice from a DataFrame\n",
      "\n",
      "See the caveats in the documentation: https://pandas.pydata.org/pandas-docs/stable/user_guide/indexing.html#returning-a-view-versus-a-copy\n",
      "  den_15.rename(columns={'Code': 'LSOA Code'}, inplace=True)\n",
      "C:\\Users\\hp\\AppData\\Local\\Temp\\ipykernel_27232\\3006015090.py:4: SettingWithCopyWarning: \n",
      "A value is trying to be set on a copy of a slice from a DataFrame\n",
      "\n",
      "See the caveats in the documentation: https://pandas.pydata.org/pandas-docs/stable/user_guide/indexing.html#returning-a-view-versus-a-copy\n",
      "  den_15.rename(columns={'People per Sq Km': '2015_population_density'}, inplace=True)\n",
      "C:\\Users\\hp\\AppData\\Local\\Temp\\ipykernel_27232\\3006015090.py:5: SettingWithCopyWarning: \n",
      "A value is trying to be set on a copy of a slice from a DataFrame\n",
      "\n",
      "See the caveats in the documentation: https://pandas.pydata.org/pandas-docs/stable/user_guide/indexing.html#returning-a-view-versus-a-copy\n",
      "  den_19.rename(columns={'People per Sq Km': '2019_population_density'}, inplace=True)\n"
     ]
    }
   ],
   "source": [
    "# join together\n",
    "# 把 df2 的列名改成一致\n",
    "den_15.rename(columns={'Code': 'LSOA Code'}, inplace=True)\n",
    "den_15.rename(columns={'People per Sq Km': '2015_population_density'}, inplace=True)\n",
    "den_19.rename(columns={'People per Sq Km': '2019_population_density'}, inplace=True)\n",
    "\n",
    "# 然后 merge\n",
    "den_all = den_19.merge(den_15, on='LSOA Code', how='left')\n",
    "print(den_all.head())\n"
   ]
  },
  {
   "cell_type": "code",
   "execution_count": 14,
   "id": "51f2a91b",
   "metadata": {},
   "outputs": [
    {
     "name": "stdout",
     "output_type": "stream",
     "text": [
      "   LSOA Code  Mid-2019 population  2019_population_density  \\\n",
      "0  E01011949                 1954              3765.658123   \n",
      "1  E01011950                 1257              9486.792453   \n",
      "2  E01011951                 1209              5795.781400   \n",
      "3  E01011952                 1740              3749.191984   \n",
      "4  E01011953                 2033              2301.596287   \n",
      "\n",
      "   Mid-2015 population  2015_population_density  pop_growth_rate       avg_den  \n",
      "0                 2009                     3872        -0.027377   3818.829061  \n",
      "1                 1443                    10891        -0.128898  10188.896226  \n",
      "2                 1279                     6131        -0.054730   5963.390700  \n",
      "3                 1745                     3760        -0.002865   3754.595992  \n",
      "4                 2011                     2277         0.010940   2289.298143  \n"
     ]
    }
   ],
   "source": [
    "den_all['pop_growth_rate'] = (den_all['Mid-2019 population'] - den_all['Mid-2015 population']) / den_all['Mid-2015 population']\n",
    "den_all['avg_den'] = (den_all['2015_population_density'] + den_all['2019_population_density']) / 2\n",
    "print(den_all.head())"
   ]
  },
  {
   "cell_type": "code",
   "execution_count": 15,
   "id": "8dcf76aa",
   "metadata": {},
   "outputs": [
    {
     "data": {
      "application/vnd.microsoft.datawrangler.viewer.v0+json": {
       "columns": [
        {
         "name": "index",
         "rawType": "object",
         "type": "string"
        },
        {
         "name": "0",
         "rawType": "int64",
         "type": "integer"
        }
       ],
       "ref": "ba2a5c9a-2e1a-45bd-a69c-143b2bfe9520",
       "rows": [
        [
         "LSOA Code",
         "0"
        ],
        [
         "Mid-2019 population",
         "0"
        ],
        [
         "2019_population_density",
         "0"
        ],
        [
         "Mid-2015 population",
         "0"
        ],
        [
         "2015_population_density",
         "0"
        ],
        [
         "pop_growth_rate",
         "0"
        ],
        [
         "avg_den",
         "0"
        ]
       ],
       "shape": {
        "columns": 1,
        "rows": 7
       }
      },
      "text/plain": [
       "LSOA Code                  0\n",
       "Mid-2019 population        0\n",
       "2019_population_density    0\n",
       "Mid-2015 population        0\n",
       "2015_population_density    0\n",
       "pop_growth_rate            0\n",
       "avg_den                    0\n",
       "dtype: int64"
      ]
     },
     "execution_count": 15,
     "metadata": {},
     "output_type": "execute_result"
    }
   ],
   "source": [
    "den_all.isna().sum()"
   ]
  },
  {
   "cell_type": "code",
   "execution_count": null,
   "id": "59731a0e",
   "metadata": {},
   "outputs": [
    {
     "data": {
      "text/plain": [
       "(4835, 7)"
      ]
     },
     "execution_count": 20,
     "metadata": {},
     "output_type": "execute_result"
    },
    {
     "ename": "",
     "evalue": "",
     "output_type": "error",
     "traceback": [
      "\u001b[1;31mThe Kernel crashed while executing code in the current cell or a previous cell. \n",
      "\u001b[1;31mPlease review the code in the cell(s) to identify a possible cause of the failure. \n",
      "\u001b[1;31mClick <a href='https://aka.ms/vscodeJupyterKernelCrash'>here</a> for more info. \n",
      "\u001b[1;31mView Jupyter <a href='command:jupyter.viewOutput'>log</a> for further details."
     ]
    }
   ],
   "source": [
    "# read in lsoa shapefile\n",
    "london_gdf = gpd.read_file(\"data/statistical-gis-boundaries-london/statistical-gis-boundaries-london/ESRI/LSOA_2011_London_gen_MHW.shp\")\n",
    "\n",
    "# extract lsoa11cd as LSOA list\n",
    "london_lsoa_list = london_gdf['LSOA11CD'].unique()\n",
    "\n",
    "# select data in London area\n",
    "df_london_den = den_all[den_all['LSOA Code'].isin(london_lsoa_list)]\n",
    "df_london_den.shape"
   ]
  }
 ],
 "metadata": {
  "kernelspec": {
   "display_name": "venv",
   "language": "python",
   "name": "python3"
  },
  "language_info": {
   "codemirror_mode": {
    "name": "ipython",
    "version": 3
   },
   "file_extension": ".py",
   "mimetype": "text/x-python",
   "name": "python",
   "nbconvert_exporter": "python",
   "pygments_lexer": "ipython3",
   "version": "3.12.5"
  }
 },
 "nbformat": 4,
 "nbformat_minor": 5
}
