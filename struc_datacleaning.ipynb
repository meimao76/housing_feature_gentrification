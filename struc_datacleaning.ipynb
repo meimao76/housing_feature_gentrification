{
 "cells": [
  {
   "cell_type": "markdown",
   "id": "1598bb87",
   "metadata": {},
   "source": [
    "# Structural Data\n",
    "As the structural values of the lsoa area, describe the background featuers of each lsoa.\n",
    "- population density\n",
    "- age groups (elderly)\n",
    "- ethnic (minority)"
   ]
  },
  {
   "cell_type": "code",
   "execution_count": 38,
   "id": "c499e140",
   "metadata": {},
   "outputs": [],
   "source": [
    "import pandas as pd\n",
    "import geopandas as gpd\n",
    "import matplotlib.pyplot as plt\n",
    "import numpy as np"
   ]
  },
  {
   "cell_type": "markdown",
   "id": "e02cb08a",
   "metadata": {
    "vscode": {
     "languageId": "plaintext"
    }
   },
   "source": [
    "## Population\n",
    "\n",
    "Population density and population growth rate"
   ]
  },
  {
   "cell_type": "code",
   "execution_count": 39,
   "id": "b3f931bb",
   "metadata": {},
   "outputs": [],
   "source": [
    "# reading population density\n",
    "density19_path = \"data/stru_data/SAPE22DT11_mid_2019_lsoa_population_density.xlsx\"\n",
    "pop_den19 = pd.ExcelFile(density19_path)"
   ]
  },
  {
   "cell_type": "code",
   "execution_count": 40,
   "id": "d6c16bfb",
   "metadata": {},
   "outputs": [
    {
     "data": {
      "application/vnd.microsoft.datawrangler.viewer.v0+json": {
       "columns": [
        {
         "name": "index",
         "rawType": "int64",
         "type": "integer"
        },
        {
         "name": "LSOA Code",
         "rawType": "object",
         "type": "string"
        },
        {
         "name": "LSOA Name",
         "rawType": "object",
         "type": "string"
        },
        {
         "name": "Mid-2019 population",
         "rawType": "int64",
         "type": "integer"
        },
        {
         "name": "Area Sq Km",
         "rawType": "float64",
         "type": "float"
        },
        {
         "name": "People per Sq Km",
         "rawType": "float64",
         "type": "float"
        }
       ],
       "ref": "e2e930df-73d0-43d3-be0a-f12b8e6bf389",
       "rows": [
        [
         "0",
         "E01011949",
         "Hartlepool 009A",
         "1954",
         "0.5189",
         "3765.658122952399"
        ],
        [
         "1",
         "E01011950",
         "Hartlepool 008A",
         "1257",
         "0.1325",
         "9486.792452830188"
        ],
        [
         "2",
         "E01011951",
         "Hartlepool 007A",
         "1209",
         "0.2086",
         "5795.781399808246"
        ],
        [
         "3",
         "E01011952",
         "Hartlepool 002A",
         "1740",
         "0.46409999999999996",
         "3749.1919844861027"
        ],
        [
         "4",
         "E01011953",
         "Hartlepool 002B",
         "2033",
         "0.8833",
         "2301.5962866523264"
        ]
       ],
       "shape": {
        "columns": 5,
        "rows": 5
       }
      },
      "text/html": [
       "<div>\n",
       "<style scoped>\n",
       "    .dataframe tbody tr th:only-of-type {\n",
       "        vertical-align: middle;\n",
       "    }\n",
       "\n",
       "    .dataframe tbody tr th {\n",
       "        vertical-align: top;\n",
       "    }\n",
       "\n",
       "    .dataframe thead th {\n",
       "        text-align: right;\n",
       "    }\n",
       "</style>\n",
       "<table border=\"1\" class=\"dataframe\">\n",
       "  <thead>\n",
       "    <tr style=\"text-align: right;\">\n",
       "      <th></th>\n",
       "      <th>LSOA Code</th>\n",
       "      <th>LSOA Name</th>\n",
       "      <th>Mid-2019 population</th>\n",
       "      <th>Area Sq Km</th>\n",
       "      <th>People per Sq Km</th>\n",
       "    </tr>\n",
       "  </thead>\n",
       "  <tbody>\n",
       "    <tr>\n",
       "      <th>0</th>\n",
       "      <td>E01011949</td>\n",
       "      <td>Hartlepool 009A</td>\n",
       "      <td>1954</td>\n",
       "      <td>0.5189</td>\n",
       "      <td>3765.658123</td>\n",
       "    </tr>\n",
       "    <tr>\n",
       "      <th>1</th>\n",
       "      <td>E01011950</td>\n",
       "      <td>Hartlepool 008A</td>\n",
       "      <td>1257</td>\n",
       "      <td>0.1325</td>\n",
       "      <td>9486.792453</td>\n",
       "    </tr>\n",
       "    <tr>\n",
       "      <th>2</th>\n",
       "      <td>E01011951</td>\n",
       "      <td>Hartlepool 007A</td>\n",
       "      <td>1209</td>\n",
       "      <td>0.2086</td>\n",
       "      <td>5795.781400</td>\n",
       "    </tr>\n",
       "    <tr>\n",
       "      <th>3</th>\n",
       "      <td>E01011952</td>\n",
       "      <td>Hartlepool 002A</td>\n",
       "      <td>1740</td>\n",
       "      <td>0.4641</td>\n",
       "      <td>3749.191984</td>\n",
       "    </tr>\n",
       "    <tr>\n",
       "      <th>4</th>\n",
       "      <td>E01011953</td>\n",
       "      <td>Hartlepool 002B</td>\n",
       "      <td>2033</td>\n",
       "      <td>0.8833</td>\n",
       "      <td>2301.596287</td>\n",
       "    </tr>\n",
       "  </tbody>\n",
       "</table>\n",
       "</div>"
      ],
      "text/plain": [
       "   LSOA Code        LSOA Name  Mid-2019 population  Area Sq Km  \\\n",
       "0  E01011949  Hartlepool 009A                 1954      0.5189   \n",
       "1  E01011950  Hartlepool 008A                 1257      0.1325   \n",
       "2  E01011951  Hartlepool 007A                 1209      0.2086   \n",
       "3  E01011952  Hartlepool 002A                 1740      0.4641   \n",
       "4  E01011953  Hartlepool 002B                 2033      0.8833   \n",
       "\n",
       "   People per Sq Km  \n",
       "0       3765.658123  \n",
       "1       9486.792453  \n",
       "2       5795.781400  \n",
       "3       3749.191984  \n",
       "4       2301.596287  "
      ]
     },
     "execution_count": 40,
     "metadata": {},
     "output_type": "execute_result"
    }
   ],
   "source": [
    "# reading sheet\n",
    "df_den_19 = pop_den19.parse(sheet_name=\"Mid-2019 Population Density\", header = 4) \n",
    "df_den_19.head()"
   ]
  },
  {
   "cell_type": "code",
   "execution_count": 41,
   "id": "efc2f425",
   "metadata": {},
   "outputs": [],
   "source": [
    "# select columns\n",
    "den19_col = ['LSOA Code', 'Mid-2019 population', 'People per Sq Km']\n",
    "den_19 = df_den_19[den19_col]"
   ]
  },
  {
   "cell_type": "code",
   "execution_count": 42,
   "id": "84c6d895",
   "metadata": {},
   "outputs": [
    {
     "data": {
      "application/vnd.microsoft.datawrangler.viewer.v0+json": {
       "columns": [
        {
         "name": "index",
         "rawType": "int64",
         "type": "integer"
        },
        {
         "name": "Code",
         "rawType": "object",
         "type": "string"
        },
        {
         "name": "Name",
         "rawType": "object",
         "type": "string"
        },
        {
         "name": "Mid-2015 population",
         "rawType": "int64",
         "type": "integer"
        },
        {
         "name": "Area Sq Km",
         "rawType": "float64",
         "type": "float"
        },
        {
         "name": "People per Sq Km",
         "rawType": "int64",
         "type": "integer"
        }
       ],
       "ref": "f8932bc9-7a58-4262-86cb-4d897e6667a5",
       "rows": [
        [
         "0",
         "E01020634",
         "County Durham 001A",
         "1524",
         "6.4975",
         "235"
        ],
        [
         "1",
         "E01020635",
         "County Durham 001B",
         "1315",
         "1.6963",
         "775"
        ],
        [
         "2",
         "E01020636",
         "County Durham 001C",
         "1749",
         "0.9272",
         "1886"
        ],
        [
         "3",
         "E01020654",
         "County Durham 001D",
         "1860",
         "0.9884000000000001",
         "1882"
        ],
        [
         "4",
         "E01020676",
         "County Durham 001E",
         "1479",
         "5.471699999999999",
         "270"
        ]
       ],
       "shape": {
        "columns": 5,
        "rows": 5
       }
      },
      "text/html": [
       "<div>\n",
       "<style scoped>\n",
       "    .dataframe tbody tr th:only-of-type {\n",
       "        vertical-align: middle;\n",
       "    }\n",
       "\n",
       "    .dataframe tbody tr th {\n",
       "        vertical-align: top;\n",
       "    }\n",
       "\n",
       "    .dataframe thead th {\n",
       "        text-align: right;\n",
       "    }\n",
       "</style>\n",
       "<table border=\"1\" class=\"dataframe\">\n",
       "  <thead>\n",
       "    <tr style=\"text-align: right;\">\n",
       "      <th></th>\n",
       "      <th>Code</th>\n",
       "      <th>Name</th>\n",
       "      <th>Mid-2015 population</th>\n",
       "      <th>Area Sq Km</th>\n",
       "      <th>People per Sq Km</th>\n",
       "    </tr>\n",
       "  </thead>\n",
       "  <tbody>\n",
       "    <tr>\n",
       "      <th>0</th>\n",
       "      <td>E01020634</td>\n",
       "      <td>County Durham 001A</td>\n",
       "      <td>1524</td>\n",
       "      <td>6.4975</td>\n",
       "      <td>235</td>\n",
       "    </tr>\n",
       "    <tr>\n",
       "      <th>1</th>\n",
       "      <td>E01020635</td>\n",
       "      <td>County Durham 001B</td>\n",
       "      <td>1315</td>\n",
       "      <td>1.6963</td>\n",
       "      <td>775</td>\n",
       "    </tr>\n",
       "    <tr>\n",
       "      <th>2</th>\n",
       "      <td>E01020636</td>\n",
       "      <td>County Durham 001C</td>\n",
       "      <td>1749</td>\n",
       "      <td>0.9272</td>\n",
       "      <td>1886</td>\n",
       "    </tr>\n",
       "    <tr>\n",
       "      <th>3</th>\n",
       "      <td>E01020654</td>\n",
       "      <td>County Durham 001D</td>\n",
       "      <td>1860</td>\n",
       "      <td>0.9884</td>\n",
       "      <td>1882</td>\n",
       "    </tr>\n",
       "    <tr>\n",
       "      <th>4</th>\n",
       "      <td>E01020676</td>\n",
       "      <td>County Durham 001E</td>\n",
       "      <td>1479</td>\n",
       "      <td>5.4717</td>\n",
       "      <td>270</td>\n",
       "    </tr>\n",
       "  </tbody>\n",
       "</table>\n",
       "</div>"
      ],
      "text/plain": [
       "        Code                Name  Mid-2015 population  Area Sq Km  \\\n",
       "0  E01020634  County Durham 001A                 1524      6.4975   \n",
       "1  E01020635  County Durham 001B                 1315      1.6963   \n",
       "2  E01020636  County Durham 001C                 1749      0.9272   \n",
       "3  E01020654  County Durham 001D                 1860      0.9884   \n",
       "4  E01020676  County Durham 001E                 1479      5.4717   \n",
       "\n",
       "   People per Sq Km  \n",
       "0               235  \n",
       "1               775  \n",
       "2              1886  \n",
       "3              1882  \n",
       "4               270  "
      ]
     },
     "execution_count": 42,
     "metadata": {},
     "output_type": "execute_result"
    }
   ],
   "source": [
    "# reading the density for 2015\n",
    "density15_path = \"data/stru_data/SAPE20DT11-mid-2015-lsoa-population-density.xls\"\n",
    "pop_den15 = pd.ExcelFile(density15_path)\n",
    "df_den_15 = pop_den15.parse(sheet_name=\"Mid-2015 Population Density\", header = 4) \n",
    "df_den_15.head()"
   ]
  },
  {
   "cell_type": "code",
   "execution_count": 43,
   "id": "f6d63403",
   "metadata": {},
   "outputs": [],
   "source": [
    "# select columns\n",
    "den15_col = ['Code', 'Mid-2015 population', 'People per Sq Km']\n",
    "den_15 = df_den_15[den15_col]"
   ]
  },
  {
   "cell_type": "code",
   "execution_count": 44,
   "id": "89b0a636",
   "metadata": {},
   "outputs": [
    {
     "name": "stdout",
     "output_type": "stream",
     "text": [
      "   LSOA Code  Mid-2019 population  2019_population_density  \\\n",
      "0  E01011949                 1954              3765.658123   \n",
      "1  E01011950                 1257              9486.792453   \n",
      "2  E01011951                 1209              5795.781400   \n",
      "3  E01011952                 1740              3749.191984   \n",
      "4  E01011953                 2033              2301.596287   \n",
      "\n",
      "   Mid-2015 population  2015_population_density  \n",
      "0                 2009                     3872  \n",
      "1                 1443                    10891  \n",
      "2                 1279                     6131  \n",
      "3                 1745                     3760  \n",
      "4                 2011                     2277  \n"
     ]
    },
    {
     "name": "stderr",
     "output_type": "stream",
     "text": [
      "C:\\Users\\hp\\AppData\\Local\\Temp\\ipykernel_50808\\3006015090.py:3: SettingWithCopyWarning: \n",
      "A value is trying to be set on a copy of a slice from a DataFrame\n",
      "\n",
      "See the caveats in the documentation: https://pandas.pydata.org/pandas-docs/stable/user_guide/indexing.html#returning-a-view-versus-a-copy\n",
      "  den_15.rename(columns={'Code': 'LSOA Code'}, inplace=True)\n",
      "C:\\Users\\hp\\AppData\\Local\\Temp\\ipykernel_50808\\3006015090.py:4: SettingWithCopyWarning: \n",
      "A value is trying to be set on a copy of a slice from a DataFrame\n",
      "\n",
      "See the caveats in the documentation: https://pandas.pydata.org/pandas-docs/stable/user_guide/indexing.html#returning-a-view-versus-a-copy\n",
      "  den_15.rename(columns={'People per Sq Km': '2015_population_density'}, inplace=True)\n",
      "C:\\Users\\hp\\AppData\\Local\\Temp\\ipykernel_50808\\3006015090.py:5: SettingWithCopyWarning: \n",
      "A value is trying to be set on a copy of a slice from a DataFrame\n",
      "\n",
      "See the caveats in the documentation: https://pandas.pydata.org/pandas-docs/stable/user_guide/indexing.html#returning-a-view-versus-a-copy\n",
      "  den_19.rename(columns={'People per Sq Km': '2019_population_density'}, inplace=True)\n"
     ]
    }
   ],
   "source": [
    "# join together\n",
    "# 把 df2 的列名改成一致\n",
    "den_15.rename(columns={'Code': 'LSOA Code'}, inplace=True)\n",
    "den_15.rename(columns={'People per Sq Km': '2015_population_density'}, inplace=True)\n",
    "den_19.rename(columns={'People per Sq Km': '2019_population_density'}, inplace=True)\n",
    "\n",
    "# 然后 merge\n",
    "den_all = den_19.merge(den_15, on='LSOA Code', how='left')\n",
    "print(den_all.head())\n"
   ]
  },
  {
   "cell_type": "code",
   "execution_count": 45,
   "id": "51f2a91b",
   "metadata": {},
   "outputs": [
    {
     "name": "stdout",
     "output_type": "stream",
     "text": [
      "   LSOA Code  Mid-2019 population  2019_population_density  \\\n",
      "0  E01011949                 1954              3765.658123   \n",
      "1  E01011950                 1257              9486.792453   \n",
      "2  E01011951                 1209              5795.781400   \n",
      "3  E01011952                 1740              3749.191984   \n",
      "4  E01011953                 2033              2301.596287   \n",
      "\n",
      "   Mid-2015 population  2015_population_density  pop_growth_rate       avg_den  \n",
      "0                 2009                     3872        -0.027377   3818.829061  \n",
      "1                 1443                    10891        -0.128898  10188.896226  \n",
      "2                 1279                     6131        -0.054730   5963.390700  \n",
      "3                 1745                     3760        -0.002865   3754.595992  \n",
      "4                 2011                     2277         0.010940   2289.298143  \n"
     ]
    }
   ],
   "source": [
    "den_all['pop_growth_rate'] = (den_all['Mid-2019 population'] - den_all['Mid-2015 population']) / den_all['Mid-2015 population']\n",
    "den_all['avg_den'] = (den_all['2015_population_density'] + den_all['2019_population_density']) / 2\n",
    "print(den_all.head())"
   ]
  },
  {
   "cell_type": "code",
   "execution_count": 46,
   "id": "8dcf76aa",
   "metadata": {},
   "outputs": [
    {
     "data": {
      "application/vnd.microsoft.datawrangler.viewer.v0+json": {
       "columns": [
        {
         "name": "index",
         "rawType": "object",
         "type": "string"
        },
        {
         "name": "0",
         "rawType": "int64",
         "type": "integer"
        }
       ],
       "ref": "11d9c848-c122-4e06-96c1-5db1414442ee",
       "rows": [
        [
         "LSOA Code",
         "0"
        ],
        [
         "Mid-2019 population",
         "0"
        ],
        [
         "2019_population_density",
         "0"
        ],
        [
         "Mid-2015 population",
         "0"
        ],
        [
         "2015_population_density",
         "0"
        ],
        [
         "pop_growth_rate",
         "0"
        ],
        [
         "avg_den",
         "0"
        ]
       ],
       "shape": {
        "columns": 1,
        "rows": 7
       }
      },
      "text/plain": [
       "LSOA Code                  0\n",
       "Mid-2019 population        0\n",
       "2019_population_density    0\n",
       "Mid-2015 population        0\n",
       "2015_population_density    0\n",
       "pop_growth_rate            0\n",
       "avg_den                    0\n",
       "dtype: int64"
      ]
     },
     "execution_count": 46,
     "metadata": {},
     "output_type": "execute_result"
    }
   ],
   "source": [
    "den_all.isna().sum()"
   ]
  },
  {
   "cell_type": "code",
   "execution_count": 47,
   "id": "59731a0e",
   "metadata": {},
   "outputs": [
    {
     "data": {
      "text/plain": [
       "(4835, 7)"
      ]
     },
     "execution_count": 47,
     "metadata": {},
     "output_type": "execute_result"
    }
   ],
   "source": [
    "# read in lsoa shapefile\n",
    "london_gdf = gpd.read_file(\"data/statistical-gis-boundaries-london/statistical-gis-boundaries-london/ESRI/LSOA_2011_London_gen_MHW.shp\")\n",
    "\n",
    "# extract lsoa11cd as LSOA list\n",
    "london_lsoa_list = london_gdf['LSOA11CD'].unique()\n",
    "\n",
    "# select data in London area\n",
    "df_london_den = den_all[den_all['LSOA Code'].isin(london_lsoa_list)]\n",
    "df_london_den.shape"
   ]
  },
  {
   "cell_type": "code",
   "execution_count": 48,
   "id": "eab791ac",
   "metadata": {},
   "outputs": [],
   "source": [
    "df_london_den.to_csv(\"data/population_data.csv\", index=False)"
   ]
  },
  {
   "cell_type": "markdown",
   "id": "1fa71747",
   "metadata": {},
   "source": [
    "## Age Group\n",
    "\n",
    "focusing on the elderly(over 65) percentage, as a description date."
   ]
  },
  {
   "cell_type": "code",
   "execution_count": 49,
   "id": "3213c86b",
   "metadata": {},
   "outputs": [],
   "source": [
    "# read in files\n",
    "age15_path = \"data/stru_data/SAPE20DT12-mid-2015-lsoa-Broad_ages-estimates-formatted.xls\"\n",
    "age15 = pd.ExcelFile(age15_path)\n",
    "age19_path = \"data/stru_data/SAPE22DT13_mid_2019_lsoa_Broad_ages_estimates_unformatted.xlsx\"\n",
    "age19 = pd.ExcelFile(age19_path)"
   ]
  },
  {
   "cell_type": "code",
   "execution_count": 50,
   "id": "33aec55a",
   "metadata": {},
   "outputs": [
    {
     "data": {
      "application/vnd.microsoft.datawrangler.viewer.v0+json": {
       "columns": [
        {
         "name": "index",
         "rawType": "int64",
         "type": "integer"
        },
        {
         "name": "Area Codes",
         "rawType": "object",
         "type": "string"
        },
        {
         "name": "Area Names",
         "rawType": "object",
         "type": "unknown"
        },
        {
         "name": "Unnamed: 2",
         "rawType": "object",
         "type": "unknown"
        },
        {
         "name": "All Ages",
         "rawType": "int64",
         "type": "integer"
        },
        {
         "name": "0-15",
         "rawType": "int64",
         "type": "integer"
        },
        {
         "name": "16-29",
         "rawType": "int64",
         "type": "integer"
        },
        {
         "name": "30-44",
         "rawType": "int64",
         "type": "integer"
        },
        {
         "name": "45-64",
         "rawType": "int64",
         "type": "integer"
        },
        {
         "name": "65+",
         "rawType": "int64",
         "type": "integer"
        }
       ],
       "ref": "4cf40701-2dd1-4657-a180-dfb7c804d1af",
       "rows": [
        [
         "0",
         "E06000047",
         "County Durham",
         null,
         "519347",
         "88643",
         "93119",
         "89995",
         "144162",
         "103428"
        ],
        [
         "1",
         "E01020634",
         null,
         "County Durham 001A",
         "1524",
         "245",
         "197",
         "270",
         "445",
         "367"
        ],
        [
         "2",
         "E01020635",
         null,
         "County Durham 001B",
         "1315",
         "204",
         "158",
         "258",
         "397",
         "298"
        ],
        [
         "3",
         "E01020636",
         null,
         "County Durham 001C",
         "1749",
         "339",
         "284",
         "344",
         "455",
         "327"
        ],
        [
         "4",
         "E01020654",
         null,
         "County Durham 001D",
         "1860",
         "311",
         "248",
         "350",
         "534",
         "417"
        ]
       ],
       "shape": {
        "columns": 9,
        "rows": 5
       }
      },
      "text/html": [
       "<div>\n",
       "<style scoped>\n",
       "    .dataframe tbody tr th:only-of-type {\n",
       "        vertical-align: middle;\n",
       "    }\n",
       "\n",
       "    .dataframe tbody tr th {\n",
       "        vertical-align: top;\n",
       "    }\n",
       "\n",
       "    .dataframe thead th {\n",
       "        text-align: right;\n",
       "    }\n",
       "</style>\n",
       "<table border=\"1\" class=\"dataframe\">\n",
       "  <thead>\n",
       "    <tr style=\"text-align: right;\">\n",
       "      <th></th>\n",
       "      <th>Area Codes</th>\n",
       "      <th>Area Names</th>\n",
       "      <th>Unnamed: 2</th>\n",
       "      <th>All Ages</th>\n",
       "      <th>0-15</th>\n",
       "      <th>16-29</th>\n",
       "      <th>30-44</th>\n",
       "      <th>45-64</th>\n",
       "      <th>65+</th>\n",
       "    </tr>\n",
       "  </thead>\n",
       "  <tbody>\n",
       "    <tr>\n",
       "      <th>0</th>\n",
       "      <td>E06000047</td>\n",
       "      <td>County Durham</td>\n",
       "      <td>NaN</td>\n",
       "      <td>519347</td>\n",
       "      <td>88643</td>\n",
       "      <td>93119</td>\n",
       "      <td>89995</td>\n",
       "      <td>144162</td>\n",
       "      <td>103428</td>\n",
       "    </tr>\n",
       "    <tr>\n",
       "      <th>1</th>\n",
       "      <td>E01020634</td>\n",
       "      <td>NaN</td>\n",
       "      <td>County Durham 001A</td>\n",
       "      <td>1524</td>\n",
       "      <td>245</td>\n",
       "      <td>197</td>\n",
       "      <td>270</td>\n",
       "      <td>445</td>\n",
       "      <td>367</td>\n",
       "    </tr>\n",
       "    <tr>\n",
       "      <th>2</th>\n",
       "      <td>E01020635</td>\n",
       "      <td>NaN</td>\n",
       "      <td>County Durham 001B</td>\n",
       "      <td>1315</td>\n",
       "      <td>204</td>\n",
       "      <td>158</td>\n",
       "      <td>258</td>\n",
       "      <td>397</td>\n",
       "      <td>298</td>\n",
       "    </tr>\n",
       "    <tr>\n",
       "      <th>3</th>\n",
       "      <td>E01020636</td>\n",
       "      <td>NaN</td>\n",
       "      <td>County Durham 001C</td>\n",
       "      <td>1749</td>\n",
       "      <td>339</td>\n",
       "      <td>284</td>\n",
       "      <td>344</td>\n",
       "      <td>455</td>\n",
       "      <td>327</td>\n",
       "    </tr>\n",
       "    <tr>\n",
       "      <th>4</th>\n",
       "      <td>E01020654</td>\n",
       "      <td>NaN</td>\n",
       "      <td>County Durham 001D</td>\n",
       "      <td>1860</td>\n",
       "      <td>311</td>\n",
       "      <td>248</td>\n",
       "      <td>350</td>\n",
       "      <td>534</td>\n",
       "      <td>417</td>\n",
       "    </tr>\n",
       "  </tbody>\n",
       "</table>\n",
       "</div>"
      ],
      "text/plain": [
       "  Area Codes     Area Names          Unnamed: 2  All Ages   0-15  16-29  \\\n",
       "0  E06000047  County Durham                 NaN    519347  88643  93119   \n",
       "1  E01020634            NaN  County Durham 001A      1524    245    197   \n",
       "2  E01020635            NaN  County Durham 001B      1315    204    158   \n",
       "3  E01020636            NaN  County Durham 001C      1749    339    284   \n",
       "4  E01020654            NaN  County Durham 001D      1860    311    248   \n",
       "\n",
       "   30-44   45-64     65+  \n",
       "0  89995  144162  103428  \n",
       "1    270     445     367  \n",
       "2    258     397     298  \n",
       "3    344     455     327  \n",
       "4    350     534     417  "
      ]
     },
     "execution_count": 50,
     "metadata": {},
     "output_type": "execute_result"
    }
   ],
   "source": [
    "# reading sheet\n",
    "age_group_15 = age15.parse(sheet_name=\"Mid-2015 Persons\", header = 4) \n",
    "age_group_15.head()"
   ]
  },
  {
   "cell_type": "code",
   "execution_count": 51,
   "id": "808fb402",
   "metadata": {},
   "outputs": [],
   "source": [
    "# select columns\n",
    "age15_col = ['Area Codes', '65+', 'All Ages']\n",
    "age_15 = age_group_15[age15_col]"
   ]
  },
  {
   "cell_type": "code",
   "execution_count": 52,
   "id": "ae436866",
   "metadata": {},
   "outputs": [
    {
     "name": "stderr",
     "output_type": "stream",
     "text": [
      "e:\\dissertation\\project\\housing_feature_gentrification\\venv\\Lib\\site-packages\\openpyxl\\worksheet\\header_footer.py:48: UserWarning: Cannot parse header or footer so it will be ignored\n",
      "  warn(\"\"\"Cannot parse header or footer so it will be ignored\"\"\")\n"
     ]
    },
    {
     "data": {
      "application/vnd.microsoft.datawrangler.viewer.v0+json": {
       "columns": [
        {
         "name": "index",
         "rawType": "int64",
         "type": "integer"
        },
        {
         "name": "LSOA Code",
         "rawType": "object",
         "type": "string"
        },
        {
         "name": "LSOA Name",
         "rawType": "object",
         "type": "string"
        },
        {
         "name": "LA Code (2019 boundaries)",
         "rawType": "object",
         "type": "string"
        },
        {
         "name": "LA name (2019 boundaries)",
         "rawType": "object",
         "type": "string"
        },
        {
         "name": "LA Code (2020 boundaries)",
         "rawType": "object",
         "type": "string"
        },
        {
         "name": "LA name (2020 boundaries)",
         "rawType": "object",
         "type": "string"
        },
        {
         "name": "All Ages",
         "rawType": "int64",
         "type": "integer"
        },
        {
         "name": "0-15",
         "rawType": "int64",
         "type": "integer"
        },
        {
         "name": "16-29",
         "rawType": "int64",
         "type": "integer"
        },
        {
         "name": "30-44",
         "rawType": "int64",
         "type": "integer"
        },
        {
         "name": "45-64",
         "rawType": "int64",
         "type": "integer"
        },
        {
         "name": "65+",
         "rawType": "int64",
         "type": "integer"
        }
       ],
       "ref": "60bb8afc-925e-4ca4-a493-3e9bacb7564b",
       "rows": [
        [
         "0",
         "E01011949",
         "Hartlepool 009A",
         "E06000001",
         "Hartlepool",
         "E06000001",
         "Hartlepool",
         "1954",
         "450",
         "315",
         "382",
         "502",
         "305"
        ],
        [
         "1",
         "E01011950",
         "Hartlepool 008A",
         "E06000001",
         "Hartlepool",
         "E06000001",
         "Hartlepool",
         "1257",
         "167",
         "259",
         "250",
         "402",
         "179"
        ],
        [
         "2",
         "E01011951",
         "Hartlepool 007A",
         "E06000001",
         "Hartlepool",
         "E06000001",
         "Hartlepool",
         "1209",
         "199",
         "257",
         "273",
         "326",
         "154"
        ],
        [
         "3",
         "E01011952",
         "Hartlepool 002A",
         "E06000001",
         "Hartlepool",
         "E06000001",
         "Hartlepool",
         "1740",
         "373",
         "278",
         "251",
         "429",
         "409"
        ],
        [
         "4",
         "E01011953",
         "Hartlepool 002B",
         "E06000001",
         "Hartlepool",
         "E06000001",
         "Hartlepool",
         "2033",
         "497",
         "413",
         "365",
         "477",
         "281"
        ]
       ],
       "shape": {
        "columns": 12,
        "rows": 5
       }
      },
      "text/html": [
       "<div>\n",
       "<style scoped>\n",
       "    .dataframe tbody tr th:only-of-type {\n",
       "        vertical-align: middle;\n",
       "    }\n",
       "\n",
       "    .dataframe tbody tr th {\n",
       "        vertical-align: top;\n",
       "    }\n",
       "\n",
       "    .dataframe thead th {\n",
       "        text-align: right;\n",
       "    }\n",
       "</style>\n",
       "<table border=\"1\" class=\"dataframe\">\n",
       "  <thead>\n",
       "    <tr style=\"text-align: right;\">\n",
       "      <th></th>\n",
       "      <th>LSOA Code</th>\n",
       "      <th>LSOA Name</th>\n",
       "      <th>LA Code (2019 boundaries)</th>\n",
       "      <th>LA name (2019 boundaries)</th>\n",
       "      <th>LA Code (2020 boundaries)</th>\n",
       "      <th>LA name (2020 boundaries)</th>\n",
       "      <th>All Ages</th>\n",
       "      <th>0-15</th>\n",
       "      <th>16-29</th>\n",
       "      <th>30-44</th>\n",
       "      <th>45-64</th>\n",
       "      <th>65+</th>\n",
       "    </tr>\n",
       "  </thead>\n",
       "  <tbody>\n",
       "    <tr>\n",
       "      <th>0</th>\n",
       "      <td>E01011949</td>\n",
       "      <td>Hartlepool 009A</td>\n",
       "      <td>E06000001</td>\n",
       "      <td>Hartlepool</td>\n",
       "      <td>E06000001</td>\n",
       "      <td>Hartlepool</td>\n",
       "      <td>1954</td>\n",
       "      <td>450</td>\n",
       "      <td>315</td>\n",
       "      <td>382</td>\n",
       "      <td>502</td>\n",
       "      <td>305</td>\n",
       "    </tr>\n",
       "    <tr>\n",
       "      <th>1</th>\n",
       "      <td>E01011950</td>\n",
       "      <td>Hartlepool 008A</td>\n",
       "      <td>E06000001</td>\n",
       "      <td>Hartlepool</td>\n",
       "      <td>E06000001</td>\n",
       "      <td>Hartlepool</td>\n",
       "      <td>1257</td>\n",
       "      <td>167</td>\n",
       "      <td>259</td>\n",
       "      <td>250</td>\n",
       "      <td>402</td>\n",
       "      <td>179</td>\n",
       "    </tr>\n",
       "    <tr>\n",
       "      <th>2</th>\n",
       "      <td>E01011951</td>\n",
       "      <td>Hartlepool 007A</td>\n",
       "      <td>E06000001</td>\n",
       "      <td>Hartlepool</td>\n",
       "      <td>E06000001</td>\n",
       "      <td>Hartlepool</td>\n",
       "      <td>1209</td>\n",
       "      <td>199</td>\n",
       "      <td>257</td>\n",
       "      <td>273</td>\n",
       "      <td>326</td>\n",
       "      <td>154</td>\n",
       "    </tr>\n",
       "    <tr>\n",
       "      <th>3</th>\n",
       "      <td>E01011952</td>\n",
       "      <td>Hartlepool 002A</td>\n",
       "      <td>E06000001</td>\n",
       "      <td>Hartlepool</td>\n",
       "      <td>E06000001</td>\n",
       "      <td>Hartlepool</td>\n",
       "      <td>1740</td>\n",
       "      <td>373</td>\n",
       "      <td>278</td>\n",
       "      <td>251</td>\n",
       "      <td>429</td>\n",
       "      <td>409</td>\n",
       "    </tr>\n",
       "    <tr>\n",
       "      <th>4</th>\n",
       "      <td>E01011953</td>\n",
       "      <td>Hartlepool 002B</td>\n",
       "      <td>E06000001</td>\n",
       "      <td>Hartlepool</td>\n",
       "      <td>E06000001</td>\n",
       "      <td>Hartlepool</td>\n",
       "      <td>2033</td>\n",
       "      <td>497</td>\n",
       "      <td>413</td>\n",
       "      <td>365</td>\n",
       "      <td>477</td>\n",
       "      <td>281</td>\n",
       "    </tr>\n",
       "  </tbody>\n",
       "</table>\n",
       "</div>"
      ],
      "text/plain": [
       "   LSOA Code        LSOA Name LA Code (2019 boundaries)  \\\n",
       "0  E01011949  Hartlepool 009A                 E06000001   \n",
       "1  E01011950  Hartlepool 008A                 E06000001   \n",
       "2  E01011951  Hartlepool 007A                 E06000001   \n",
       "3  E01011952  Hartlepool 002A                 E06000001   \n",
       "4  E01011953  Hartlepool 002B                 E06000001   \n",
       "\n",
       "  LA name (2019 boundaries) LA Code (2020 boundaries)  \\\n",
       "0                Hartlepool                 E06000001   \n",
       "1                Hartlepool                 E06000001   \n",
       "2                Hartlepool                 E06000001   \n",
       "3                Hartlepool                 E06000001   \n",
       "4                Hartlepool                 E06000001   \n",
       "\n",
       "  LA name (2020 boundaries)  All Ages  0-15  16-29  30-44  45-64  65+  \n",
       "0                Hartlepool      1954   450    315    382    502  305  \n",
       "1                Hartlepool      1257   167    259    250    402  179  \n",
       "2                Hartlepool      1209   199    257    273    326  154  \n",
       "3                Hartlepool      1740   373    278    251    429  409  \n",
       "4                Hartlepool      2033   497    413    365    477  281  "
      ]
     },
     "execution_count": 52,
     "metadata": {},
     "output_type": "execute_result"
    }
   ],
   "source": [
    "age_group_19 = age19.parse(sheet_name=\"Mid-2019 Persons\", header = 4) \n",
    "age_group_19.head()"
   ]
  },
  {
   "cell_type": "code",
   "execution_count": 53,
   "id": "bf183680",
   "metadata": {},
   "outputs": [],
   "source": [
    "# select columns\n",
    "age19_col = ['LSOA Code', '65+', 'All Ages']\n",
    "age_19 = age_group_19[age19_col]"
   ]
  },
  {
   "cell_type": "code",
   "execution_count": 54,
   "id": "787e3cc5",
   "metadata": {},
   "outputs": [
    {
     "name": "stdout",
     "output_type": "stream",
     "text": [
      "   LSOA Code  2019_senior  2019_all  2015_senior  2015_all\n",
      "0  E01011949          305      1954          294      2009\n",
      "1  E01011950          179      1257          191      1443\n",
      "2  E01011951          154      1209          128      1279\n",
      "3  E01011952          409      1740          420      1745\n",
      "4  E01011953          281      2033          242      2011\n"
     ]
    },
    {
     "name": "stderr",
     "output_type": "stream",
     "text": [
      "C:\\Users\\hp\\AppData\\Local\\Temp\\ipykernel_50808\\2481696075.py:3: SettingWithCopyWarning: \n",
      "A value is trying to be set on a copy of a slice from a DataFrame\n",
      "\n",
      "See the caveats in the documentation: https://pandas.pydata.org/pandas-docs/stable/user_guide/indexing.html#returning-a-view-versus-a-copy\n",
      "  age_15.rename(columns={'Area Codes': 'LSOA Code'}, inplace=True)\n",
      "C:\\Users\\hp\\AppData\\Local\\Temp\\ipykernel_50808\\2481696075.py:4: SettingWithCopyWarning: \n",
      "A value is trying to be set on a copy of a slice from a DataFrame\n",
      "\n",
      "See the caveats in the documentation: https://pandas.pydata.org/pandas-docs/stable/user_guide/indexing.html#returning-a-view-versus-a-copy\n",
      "  age_15.rename(columns={'All Ages': '2015_all'}, inplace=True)\n",
      "C:\\Users\\hp\\AppData\\Local\\Temp\\ipykernel_50808\\2481696075.py:5: SettingWithCopyWarning: \n",
      "A value is trying to be set on a copy of a slice from a DataFrame\n",
      "\n",
      "See the caveats in the documentation: https://pandas.pydata.org/pandas-docs/stable/user_guide/indexing.html#returning-a-view-versus-a-copy\n",
      "  age_15.rename(columns={'65+': '2015_senior'}, inplace=True)\n",
      "C:\\Users\\hp\\AppData\\Local\\Temp\\ipykernel_50808\\2481696075.py:6: SettingWithCopyWarning: \n",
      "A value is trying to be set on a copy of a slice from a DataFrame\n",
      "\n",
      "See the caveats in the documentation: https://pandas.pydata.org/pandas-docs/stable/user_guide/indexing.html#returning-a-view-versus-a-copy\n",
      "  age_19.rename(columns={'All Ages': '2019_all'}, inplace=True)\n",
      "C:\\Users\\hp\\AppData\\Local\\Temp\\ipykernel_50808\\2481696075.py:7: SettingWithCopyWarning: \n",
      "A value is trying to be set on a copy of a slice from a DataFrame\n",
      "\n",
      "See the caveats in the documentation: https://pandas.pydata.org/pandas-docs/stable/user_guide/indexing.html#returning-a-view-versus-a-copy\n",
      "  age_19.rename(columns={'65+': '2019_senior'}, inplace=True)\n"
     ]
    }
   ],
   "source": [
    "# join together\n",
    "# 把 df2 的列名改成一致\n",
    "age_15.rename(columns={'Area Codes': 'LSOA Code'}, inplace=True)\n",
    "age_15.rename(columns={'All Ages': '2015_all'}, inplace=True)\n",
    "age_15.rename(columns={'65+': '2015_senior'}, inplace=True)\n",
    "age_19.rename(columns={'All Ages': '2019_all'}, inplace=True)\n",
    "age_19.rename(columns={'65+': '2019_senior'}, inplace=True)\n",
    "\n",
    "# 然后 merge\n",
    "age_all = age_19.merge(age_15, on='LSOA Code', how='left')\n",
    "print(age_all.head())"
   ]
  },
  {
   "cell_type": "code",
   "execution_count": 55,
   "id": "3d670c0d",
   "metadata": {},
   "outputs": [
    {
     "data": {
      "application/vnd.microsoft.datawrangler.viewer.v0+json": {
       "columns": [
        {
         "name": "index",
         "rawType": "object",
         "type": "string"
        },
        {
         "name": "0",
         "rawType": "int64",
         "type": "integer"
        }
       ],
       "ref": "c2abff81-fdc4-458c-a481-fb36dcef05a9",
       "rows": [
        [
         "2015_all",
         "0"
        ],
        [
         "2019_all",
         "0"
        ],
        [
         "2015_senior",
         "0"
        ],
        [
         "2019_senior",
         "0"
        ]
       ],
       "shape": {
        "columns": 1,
        "rows": 4
       }
      },
      "text/plain": [
       "2015_all       0\n",
       "2019_all       0\n",
       "2015_senior    0\n",
       "2019_senior    0\n",
       "dtype: int64"
      ]
     },
     "execution_count": 55,
     "metadata": {},
     "output_type": "execute_result"
    }
   ],
   "source": [
    "age_all[['2015_all', '2019_all', '2015_senior', '2019_senior']].isnull().sum()"
   ]
  },
  {
   "cell_type": "code",
   "execution_count": 56,
   "id": "f19dd420",
   "metadata": {},
   "outputs": [
    {
     "name": "stdout",
     "output_type": "stream",
     "text": [
      "   LSOA Code  2019_senior  2019_all  2015_senior  2015_all  senior_per\n",
      "0  E01011949          305      1954          294      2009   15.121577\n",
      "1  E01011950          179      1257          191      1443   13.738284\n",
      "2  E01011951          154      1209          128      1279   11.372809\n",
      "3  E01011952          409      1740          420      1745   23.787258\n",
      "4  E01011953          281      2033          242      2011   12.927876\n"
     ]
    }
   ],
   "source": [
    "age_all['senior_per'] = (age_all['2019_senior'] / age_all['2019_all'] + age_all['2015_senior'] / age_all['2015_all']) * 100 /2\n",
    "print(age_all.head())"
   ]
  },
  {
   "cell_type": "code",
   "execution_count": 57,
   "id": "67788a8d",
   "metadata": {},
   "outputs": [
    {
     "data": {
      "text/plain": [
       "(4835, 6)"
      ]
     },
     "execution_count": 57,
     "metadata": {},
     "output_type": "execute_result"
    }
   ],
   "source": [
    "# select data in London area\n",
    "df_london_age = age_all[age_all['LSOA Code'].isin(london_lsoa_list)]\n",
    "df_london_age.shape"
   ]
  },
  {
   "cell_type": "markdown",
   "id": "190edcb7",
   "metadata": {},
   "source": [
    "## Ethnic groups\n",
    "\n",
    "Focusing on the minority percentage here."
   ]
  },
  {
   "cell_type": "code",
   "execution_count": 58,
   "id": "efd816fc",
   "metadata": {},
   "outputs": [
    {
     "data": {
      "application/vnd.microsoft.datawrangler.viewer.v0+json": {
       "columns": [
        {
         "name": "index",
         "rawType": "int64",
         "type": "integer"
        },
        {
         "name": "date",
         "rawType": "int64",
         "type": "integer"
        },
        {
         "name": "geography",
         "rawType": "object",
         "type": "string"
        },
        {
         "name": "geography code",
         "rawType": "object",
         "type": "string"
        },
        {
         "name": "Ethnic Group: All categories: Ethnic group; measures: Value",
         "rawType": "int64",
         "type": "integer"
        },
        {
         "name": "Ethnic Group: White; measures: Value",
         "rawType": "int64",
         "type": "integer"
        },
        {
         "name": "Ethnic Group: Gypsy / Traveller / Irish Traveller; measures: Value",
         "rawType": "int64",
         "type": "integer"
        },
        {
         "name": "Ethnic Group: Mixed / Multiple ethnic group; measures: Value",
         "rawType": "int64",
         "type": "integer"
        },
        {
         "name": "Ethnic Group: Asian / Asian British: Indian; measures: Value",
         "rawType": "int64",
         "type": "integer"
        },
        {
         "name": "Ethnic Group: Asian / Asian British: Pakistani; measures: Value",
         "rawType": "int64",
         "type": "integer"
        },
        {
         "name": "Ethnic Group: Asian / Asian British: Bangladeshi; measures: Value",
         "rawType": "int64",
         "type": "integer"
        },
        {
         "name": "Ethnic Group: Asian / Asian British: Chinese; measures: Value",
         "rawType": "int64",
         "type": "integer"
        },
        {
         "name": "Ethnic Group: Asian / Asian British: Other Asian; measures: Value",
         "rawType": "int64",
         "type": "integer"
        },
        {
         "name": "Ethnic Group: Black / African / Caribbean / Black British; measures: Value",
         "rawType": "int64",
         "type": "integer"
        },
        {
         "name": "Ethnic Group: Other Ethnic Group; measures: Value",
         "rawType": "int64",
         "type": "integer"
        }
       ],
       "ref": "e286c349-be96-496b-95c1-7faf8ed3af46",
       "rows": [
        [
         "0",
         "2011",
         "Darlington 001B",
         "E01012334",
         "2466",
         "2401",
         "3",
         "29",
         "18",
         "3",
         "0",
         "5",
         "1",
         "1",
         "5"
        ],
        [
         "1",
         "2011",
         "Darlington 001C",
         "E01012335",
         "1383",
         "1362",
         "0",
         "9",
         "0",
         "0",
         "5",
         "3",
         "3",
         "0",
         "1"
        ],
        [
         "2",
         "2011",
         "Darlington 001D",
         "E01012366",
         "2008",
         "1961",
         "5",
         "16",
         "8",
         "1",
         "1",
         "1",
         "9",
         "6",
         "0"
        ],
        [
         "3",
         "2011",
         "Darlington 001E",
         "E01033481",
         "1364",
         "1311",
         "5",
         "16",
         "11",
         "3",
         "0",
         "5",
         "3",
         "6",
         "4"
        ],
        [
         "4",
         "2011",
         "Darlington 001F",
         "E01033482",
         "1621",
         "1540",
         "26",
         "20",
         "14",
         "0",
         "0",
         "6",
         "3",
         "11",
         "1"
        ]
       ],
       "shape": {
        "columns": 14,
        "rows": 5
       }
      },
      "text/html": [
       "<div>\n",
       "<style scoped>\n",
       "    .dataframe tbody tr th:only-of-type {\n",
       "        vertical-align: middle;\n",
       "    }\n",
       "\n",
       "    .dataframe tbody tr th {\n",
       "        vertical-align: top;\n",
       "    }\n",
       "\n",
       "    .dataframe thead th {\n",
       "        text-align: right;\n",
       "    }\n",
       "</style>\n",
       "<table border=\"1\" class=\"dataframe\">\n",
       "  <thead>\n",
       "    <tr style=\"text-align: right;\">\n",
       "      <th></th>\n",
       "      <th>date</th>\n",
       "      <th>geography</th>\n",
       "      <th>geography code</th>\n",
       "      <th>Ethnic Group: All categories: Ethnic group; measures: Value</th>\n",
       "      <th>Ethnic Group: White; measures: Value</th>\n",
       "      <th>Ethnic Group: Gypsy / Traveller / Irish Traveller; measures: Value</th>\n",
       "      <th>Ethnic Group: Mixed / Multiple ethnic group; measures: Value</th>\n",
       "      <th>Ethnic Group: Asian / Asian British: Indian; measures: Value</th>\n",
       "      <th>Ethnic Group: Asian / Asian British: Pakistani; measures: Value</th>\n",
       "      <th>Ethnic Group: Asian / Asian British: Bangladeshi; measures: Value</th>\n",
       "      <th>Ethnic Group: Asian / Asian British: Chinese; measures: Value</th>\n",
       "      <th>Ethnic Group: Asian / Asian British: Other Asian; measures: Value</th>\n",
       "      <th>Ethnic Group: Black / African / Caribbean / Black British; measures: Value</th>\n",
       "      <th>Ethnic Group: Other Ethnic Group; measures: Value</th>\n",
       "    </tr>\n",
       "  </thead>\n",
       "  <tbody>\n",
       "    <tr>\n",
       "      <th>0</th>\n",
       "      <td>2011</td>\n",
       "      <td>Darlington 001B</td>\n",
       "      <td>E01012334</td>\n",
       "      <td>2466</td>\n",
       "      <td>2401</td>\n",
       "      <td>3</td>\n",
       "      <td>29</td>\n",
       "      <td>18</td>\n",
       "      <td>3</td>\n",
       "      <td>0</td>\n",
       "      <td>5</td>\n",
       "      <td>1</td>\n",
       "      <td>1</td>\n",
       "      <td>5</td>\n",
       "    </tr>\n",
       "    <tr>\n",
       "      <th>1</th>\n",
       "      <td>2011</td>\n",
       "      <td>Darlington 001C</td>\n",
       "      <td>E01012335</td>\n",
       "      <td>1383</td>\n",
       "      <td>1362</td>\n",
       "      <td>0</td>\n",
       "      <td>9</td>\n",
       "      <td>0</td>\n",
       "      <td>0</td>\n",
       "      <td>5</td>\n",
       "      <td>3</td>\n",
       "      <td>3</td>\n",
       "      <td>0</td>\n",
       "      <td>1</td>\n",
       "    </tr>\n",
       "    <tr>\n",
       "      <th>2</th>\n",
       "      <td>2011</td>\n",
       "      <td>Darlington 001D</td>\n",
       "      <td>E01012366</td>\n",
       "      <td>2008</td>\n",
       "      <td>1961</td>\n",
       "      <td>5</td>\n",
       "      <td>16</td>\n",
       "      <td>8</td>\n",
       "      <td>1</td>\n",
       "      <td>1</td>\n",
       "      <td>1</td>\n",
       "      <td>9</td>\n",
       "      <td>6</td>\n",
       "      <td>0</td>\n",
       "    </tr>\n",
       "    <tr>\n",
       "      <th>3</th>\n",
       "      <td>2011</td>\n",
       "      <td>Darlington 001E</td>\n",
       "      <td>E01033481</td>\n",
       "      <td>1364</td>\n",
       "      <td>1311</td>\n",
       "      <td>5</td>\n",
       "      <td>16</td>\n",
       "      <td>11</td>\n",
       "      <td>3</td>\n",
       "      <td>0</td>\n",
       "      <td>5</td>\n",
       "      <td>3</td>\n",
       "      <td>6</td>\n",
       "      <td>4</td>\n",
       "    </tr>\n",
       "    <tr>\n",
       "      <th>4</th>\n",
       "      <td>2011</td>\n",
       "      <td>Darlington 001F</td>\n",
       "      <td>E01033482</td>\n",
       "      <td>1621</td>\n",
       "      <td>1540</td>\n",
       "      <td>26</td>\n",
       "      <td>20</td>\n",
       "      <td>14</td>\n",
       "      <td>0</td>\n",
       "      <td>0</td>\n",
       "      <td>6</td>\n",
       "      <td>3</td>\n",
       "      <td>11</td>\n",
       "      <td>1</td>\n",
       "    </tr>\n",
       "  </tbody>\n",
       "</table>\n",
       "</div>"
      ],
      "text/plain": [
       "   date        geography geography code  \\\n",
       "0  2011  Darlington 001B      E01012334   \n",
       "1  2011  Darlington 001C      E01012335   \n",
       "2  2011  Darlington 001D      E01012366   \n",
       "3  2011  Darlington 001E      E01033481   \n",
       "4  2011  Darlington 001F      E01033482   \n",
       "\n",
       "   Ethnic Group: All categories: Ethnic group; measures: Value  \\\n",
       "0                                               2466             \n",
       "1                                               1383             \n",
       "2                                               2008             \n",
       "3                                               1364             \n",
       "4                                               1621             \n",
       "\n",
       "   Ethnic Group: White; measures: Value  \\\n",
       "0                                  2401   \n",
       "1                                  1362   \n",
       "2                                  1961   \n",
       "3                                  1311   \n",
       "4                                  1540   \n",
       "\n",
       "   Ethnic Group: Gypsy / Traveller / Irish Traveller; measures: Value  \\\n",
       "0                                                  3                    \n",
       "1                                                  0                    \n",
       "2                                                  5                    \n",
       "3                                                  5                    \n",
       "4                                                 26                    \n",
       "\n",
       "   Ethnic Group: Mixed / Multiple ethnic group; measures: Value  \\\n",
       "0                                                 29              \n",
       "1                                                  9              \n",
       "2                                                 16              \n",
       "3                                                 16              \n",
       "4                                                 20              \n",
       "\n",
       "   Ethnic Group: Asian / Asian British: Indian; measures: Value  \\\n",
       "0                                                 18              \n",
       "1                                                  0              \n",
       "2                                                  8              \n",
       "3                                                 11              \n",
       "4                                                 14              \n",
       "\n",
       "   Ethnic Group: Asian / Asian British: Pakistani; measures: Value  \\\n",
       "0                                                  3                 \n",
       "1                                                  0                 \n",
       "2                                                  1                 \n",
       "3                                                  3                 \n",
       "4                                                  0                 \n",
       "\n",
       "   Ethnic Group: Asian / Asian British: Bangladeshi; measures: Value  \\\n",
       "0                                                  0                   \n",
       "1                                                  5                   \n",
       "2                                                  1                   \n",
       "3                                                  0                   \n",
       "4                                                  0                   \n",
       "\n",
       "   Ethnic Group: Asian / Asian British: Chinese; measures: Value  \\\n",
       "0                                                  5               \n",
       "1                                                  3               \n",
       "2                                                  1               \n",
       "3                                                  5               \n",
       "4                                                  6               \n",
       "\n",
       "   Ethnic Group: Asian / Asian British: Other Asian; measures: Value  \\\n",
       "0                                                  1                   \n",
       "1                                                  3                   \n",
       "2                                                  9                   \n",
       "3                                                  3                   \n",
       "4                                                  3                   \n",
       "\n",
       "   Ethnic Group: Black / African / Caribbean / Black British; measures: Value  \\\n",
       "0                                                  1                            \n",
       "1                                                  0                            \n",
       "2                                                  6                            \n",
       "3                                                  6                            \n",
       "4                                                 11                            \n",
       "\n",
       "   Ethnic Group: Other Ethnic Group; measures: Value  \n",
       "0                                                  5  \n",
       "1                                                  1  \n",
       "2                                                  0  \n",
       "3                                                  4  \n",
       "4                                                  1  "
      ]
     },
     "execution_count": 58,
     "metadata": {},
     "output_type": "execute_result"
    }
   ],
   "source": [
    "ethnic_group = pd.read_csv(\"data/stru_data/bulk.csv\")\n",
    "ethnic_group.head(5)"
   ]
  },
  {
   "cell_type": "code",
   "execution_count": 59,
   "id": "507b687b",
   "metadata": {},
   "outputs": [],
   "source": [
    "# select columns\n",
    "eth_col = ['geography code', 'Ethnic Group: All categories: Ethnic group; measures: Value', 'Ethnic Group: White; measures: Value']\n",
    "df_eth = ethnic_group[eth_col]"
   ]
  },
  {
   "cell_type": "code",
   "execution_count": 60,
   "id": "5ef6e74c",
   "metadata": {},
   "outputs": [
    {
     "name": "stderr",
     "output_type": "stream",
     "text": [
      "C:\\Users\\hp\\AppData\\Local\\Temp\\ipykernel_50808\\4047659333.py:1: SettingWithCopyWarning: \n",
      "A value is trying to be set on a copy of a slice from a DataFrame\n",
      "\n",
      "See the caveats in the documentation: https://pandas.pydata.org/pandas-docs/stable/user_guide/indexing.html#returning-a-view-versus-a-copy\n",
      "  df_eth.rename(columns={'geography code': 'LSOA Code'}, inplace=True)\n",
      "C:\\Users\\hp\\AppData\\Local\\Temp\\ipykernel_50808\\4047659333.py:2: SettingWithCopyWarning: \n",
      "A value is trying to be set on a copy of a slice from a DataFrame\n",
      "\n",
      "See the caveats in the documentation: https://pandas.pydata.org/pandas-docs/stable/user_guide/indexing.html#returning-a-view-versus-a-copy\n",
      "  df_eth.rename(columns={'Ethnic Group: All categories: Ethnic group; measures: Value': 'all'}, inplace=True)\n",
      "C:\\Users\\hp\\AppData\\Local\\Temp\\ipykernel_50808\\4047659333.py:3: SettingWithCopyWarning: \n",
      "A value is trying to be set on a copy of a slice from a DataFrame\n",
      "\n",
      "See the caveats in the documentation: https://pandas.pydata.org/pandas-docs/stable/user_guide/indexing.html#returning-a-view-versus-a-copy\n",
      "  df_eth.rename(columns={'Ethnic Group: White; measures: Value': 'white'}, inplace=True)\n"
     ]
    },
    {
     "data": {
      "application/vnd.microsoft.datawrangler.viewer.v0+json": {
       "columns": [
        {
         "name": "index",
         "rawType": "object",
         "type": "string"
        },
        {
         "name": "0",
         "rawType": "int64",
         "type": "integer"
        }
       ],
       "ref": "86d7d2f2-652e-4c5b-afc7-ec3fe11ec8f7",
       "rows": [
        [
         "all",
         "0"
        ],
        [
         "white",
         "0"
        ]
       ],
       "shape": {
        "columns": 1,
        "rows": 2
       }
      },
      "text/plain": [
       "all      0\n",
       "white    0\n",
       "dtype: int64"
      ]
     },
     "execution_count": 60,
     "metadata": {},
     "output_type": "execute_result"
    }
   ],
   "source": [
    "df_eth.rename(columns={'geography code': 'LSOA Code'}, inplace=True)\n",
    "df_eth.rename(columns={'Ethnic Group: All categories: Ethnic group; measures: Value': 'all'}, inplace=True)\n",
    "df_eth.rename(columns={'Ethnic Group: White; measures: Value': 'white'}, inplace=True)\n",
    "df_eth[['all', 'white']].isnull().sum()"
   ]
  },
  {
   "cell_type": "code",
   "execution_count": 61,
   "id": "1ca3b306",
   "metadata": {},
   "outputs": [
    {
     "name": "stdout",
     "output_type": "stream",
     "text": [
      "   LSOA Code   all  white  minority_per\n",
      "0  E01012334  2466   2401      2.635848\n",
      "1  E01012335  1383   1362      1.518438\n",
      "2  E01012366  2008   1961      2.340637\n",
      "3  E01033481  1364   1311      3.885630\n",
      "4  E01033482  1621   1540      4.996915\n"
     ]
    },
    {
     "name": "stderr",
     "output_type": "stream",
     "text": [
      "C:\\Users\\hp\\AppData\\Local\\Temp\\ipykernel_50808\\191691982.py:1: SettingWithCopyWarning: \n",
      "A value is trying to be set on a copy of a slice from a DataFrame.\n",
      "Try using .loc[row_indexer,col_indexer] = value instead\n",
      "\n",
      "See the caveats in the documentation: https://pandas.pydata.org/pandas-docs/stable/user_guide/indexing.html#returning-a-view-versus-a-copy\n",
      "  df_eth['minority_per'] = (df_eth['all'] - df_eth['white']) *100 / df_eth['all']\n"
     ]
    }
   ],
   "source": [
    "df_eth['minority_per'] = (df_eth['all'] - df_eth['white']) *100 / df_eth['all']\n",
    "print(df_eth.head())"
   ]
  },
  {
   "cell_type": "code",
   "execution_count": 62,
   "id": "6d46ec28",
   "metadata": {},
   "outputs": [
    {
     "data": {
      "text/plain": [
       "(4835, 4)"
      ]
     },
     "execution_count": 62,
     "metadata": {},
     "output_type": "execute_result"
    }
   ],
   "source": [
    "# select data in London area\n",
    "df_london_eth = df_eth[df_eth['LSOA Code'].isin(london_lsoa_list)]\n",
    "df_london_eth.shape"
   ]
  },
  {
   "cell_type": "code",
   "execution_count": 63,
   "id": "197b3b20",
   "metadata": {},
   "outputs": [],
   "source": [
    "# merge all the data together\n",
    "df_data_all = df_london_den.merge(df_london_age, on='LSOA Code', how='left')"
   ]
  },
  {
   "cell_type": "code",
   "execution_count": 64,
   "id": "3f9d3f3e",
   "metadata": {},
   "outputs": [
    {
     "name": "stdout",
     "output_type": "stream",
     "text": [
      "   LSOA Code  Mid-2019 population  2019_population_density  \\\n",
      "0  E01000001                 1636             12604.006163   \n",
      "1  E01000002                 1558              6821.366025   \n",
      "2  E01000003                 1786             30219.966159   \n",
      "3  E01000005                 1888              9957.805907   \n",
      "4  E01032739                 1375               831.519110   \n",
      "\n",
      "   Mid-2015 population  2015_population_density  pop_growth_rate  \\\n",
      "0                 1296                     9985         0.262346   \n",
      "1                 1156                     5061         0.347751   \n",
      "2                 1350                    22843         0.322963   \n",
      "3                 1121                     5912         0.684211   \n",
      "4                  802                      485         0.714464   \n",
      "\n",
      "        avg_den  2019_senior  2019_all  2015_senior  2015_all  senior_per  \\\n",
      "0  11294.503082          451      1636          351      1296   27.325285   \n",
      "1   5941.183012          371      1558          303      1156   25.011826   \n",
      "2  26531.483080          411      1786          348      1350   24.395048   \n",
      "3   7934.902954          193      1888          152      1121   11.890890   \n",
      "4    658.259555           63      1375           55       802    5.719837   \n",
      "\n",
      "    all  white  minority_per  \n",
      "0  1465   1237     15.563140  \n",
      "1  1436   1274     11.281337  \n",
      "2  1346   1055     21.619614  \n",
      "3   985    505     48.730964  \n",
      "4  1044    812     22.222222  \n"
     ]
    }
   ],
   "source": [
    "df_data_all = df_data_all.merge(df_london_eth, on='LSOA Code', how='left')\n",
    "print(df_data_all.head(5))"
   ]
  },
  {
   "cell_type": "code",
   "execution_count": 65,
   "id": "2093dea3",
   "metadata": {},
   "outputs": [],
   "source": [
    "columns_to_keep = ['LSOA Code', 'pop_growth_rate', 'avg_den', 'senior_per', 'minority_per']\n",
    "cleaned_df = df_data_all[columns_to_keep]"
   ]
  },
  {
   "cell_type": "code",
   "execution_count": 66,
   "id": "c6dfd161",
   "metadata": {},
   "outputs": [],
   "source": [
    "cleaned_df.to_csv(\"data/all_stru_data.csv\", index=False)"
   ]
  },
  {
   "cell_type": "markdown",
   "id": "82dbb136",
   "metadata": {},
   "source": [
    "## prepare the 2020-2022 data"
   ]
  },
  {
   "cell_type": "code",
   "execution_count": 67,
   "id": "0a78f9fc",
   "metadata": {},
   "outputs": [],
   "source": [
    "# reading population density\n",
    "density_path = \"data/stru_data/sapelsoapopulationdensity20112022.xlsx\"\n",
    "pop_den = pd.ExcelFile(density_path)"
   ]
  },
  {
   "cell_type": "code",
   "execution_count": 68,
   "id": "12121713",
   "metadata": {},
   "outputs": [
    {
     "data": {
      "application/vnd.microsoft.datawrangler.viewer.v0+json": {
       "columns": [
        {
         "name": "index",
         "rawType": "int64",
         "type": "integer"
        },
        {
         "name": "LAD 2021 Code",
         "rawType": "object",
         "type": "string"
        },
        {
         "name": "LAD 2021 Name",
         "rawType": "object",
         "type": "string"
        },
        {
         "name": "LSOA 2021 Code",
         "rawType": "object",
         "type": "string"
        },
        {
         "name": "LSOA 2021 Name",
         "rawType": "object",
         "type": "string"
        },
        {
         "name": "Area Sq Km",
         "rawType": "float64",
         "type": "float"
        },
        {
         "name": "Mid-2011: Population",
         "rawType": "int64",
         "type": "integer"
        },
        {
         "name": "Mid-2011: People per Sq Km",
         "rawType": "float64",
         "type": "float"
        },
        {
         "name": "Mid-2012: Population",
         "rawType": "int64",
         "type": "integer"
        },
        {
         "name": "Mid-2012: People per Sq Km",
         "rawType": "float64",
         "type": "float"
        },
        {
         "name": "Mid-2013: Population",
         "rawType": "int64",
         "type": "integer"
        },
        {
         "name": "Mid-2013: People per Sq Km",
         "rawType": "float64",
         "type": "float"
        },
        {
         "name": "Mid-2014: Population",
         "rawType": "int64",
         "type": "integer"
        },
        {
         "name": "Mid-2014: People per Sq Km",
         "rawType": "float64",
         "type": "float"
        },
        {
         "name": "Mid-2015: Population",
         "rawType": "int64",
         "type": "integer"
        },
        {
         "name": "Mid-2015: People per Sq Km",
         "rawType": "float64",
         "type": "float"
        },
        {
         "name": "Mid-2016: Population",
         "rawType": "int64",
         "type": "integer"
        },
        {
         "name": "Mid-2016: People per Sq Km",
         "rawType": "float64",
         "type": "float"
        },
        {
         "name": "Mid-2017: Population",
         "rawType": "int64",
         "type": "integer"
        },
        {
         "name": "Mid-2017: People per Sq Km",
         "rawType": "float64",
         "type": "float"
        },
        {
         "name": "Mid-2018: Population",
         "rawType": "int64",
         "type": "integer"
        },
        {
         "name": "Mid-2018: People per Sq Km",
         "rawType": "float64",
         "type": "float"
        },
        {
         "name": "Mid-2019: Population",
         "rawType": "int64",
         "type": "integer"
        },
        {
         "name": "Mid-2019: People per Sq Km",
         "rawType": "float64",
         "type": "float"
        },
        {
         "name": "Mid-2020: Population",
         "rawType": "int64",
         "type": "integer"
        },
        {
         "name": "Mid-2020: People per Sq Km",
         "rawType": "float64",
         "type": "float"
        },
        {
         "name": "Mid-2021: Population",
         "rawType": "int64",
         "type": "integer"
        },
        {
         "name": "Mid-2021: People per Sq Km",
         "rawType": "float64",
         "type": "float"
        },
        {
         "name": "Mid-2022: Population",
         "rawType": "int64",
         "type": "integer"
        },
        {
         "name": "Mid-2022: People per Sq Km",
         "rawType": "float64",
         "type": "float"
        }
       ],
       "ref": "65b15c14-5635-4089-92da-b86eb614297f",
       "rows": [
        [
         "0",
         "E09000001",
         "City of London",
         "E01000001",
         "City of London 001A",
         "0.1298",
         "1472",
         "11340.5238828967",
         "1498",
         "11540.8320493066",
         "1624",
         "12511.5562403698",
         "1592",
         "12265.0231124807",
         "1642",
         "12650.2311248073",
         "1613",
         "12426.8104776579",
         "1554",
         "11972.2650231124",
         "1589",
         "12241.9106317411",
         "1677",
         "12919.876733436",
         "1563",
         "12041.6024653312",
         "1573",
         "12118.6440677966",
         "1795",
         "13828.9676425269"
        ],
        [
         "1",
         "E09000001",
         "City of London",
         "E01000002",
         "City of London 001B",
         "0.2283",
         "1438",
         "6298.72974156811",
         "1473",
         "6452.0367936925",
         "1494",
         "6544.02102496714",
         "1509",
         "6609.72404730617",
         "1279",
         "5602.27770477441",
         "1289",
         "5646.0797196671",
         "1384",
         "6062.19886114761",
         "1380",
         "6044.67805519053",
         "1423",
         "6233.02671922908",
         "1309",
         "5733.68374945247",
         "1407",
         "6162.94349540078",
         "1671",
         "7319.31668856767"
        ],
        [
         "2",
         "E09000001",
         "City of London",
         "E01000003",
         "City of London 001C",
         "0.0589",
         "1348",
         "22886.2478777589",
         "1486",
         "25229.2020373514",
         "1488",
         "25263.1578947368",
         "1481",
         "25144.3123938879",
         "1689",
         "28675.7215619694",
         "1723",
         "29252.9711375212",
         "1781",
         "30237.6910016977",
         "1786",
         "30322.5806451612",
         "1841",
         "31256.3667232597",
         "1722",
         "29235.9932088285",
         "1610",
         "27334.4651952461",
         "1896",
         "32190.1528013582"
        ],
        [
         "3",
         "E09000001",
         "City of London",
         "E01000005",
         "City of London 001E",
         "0.1896",
         "987",
         "5205.69620253164",
         "915",
         "4825.9493670886",
         "946",
         "4989.45147679325",
         "1053",
         "5553.79746835443",
         "1064",
         "5611.81434599156",
         "1148",
         "6054.8523206751",
         "1288",
         "6793.24894514767",
         "1349",
         "7114.97890295358",
         "1426",
         "7521.0970464135",
         "1360",
         "7172.99578059071",
         "1104",
         "5822.78481012658",
         "1737",
         "9161.39240506329"
        ],
        [
         "4",
         "E09000002",
         "Barking and Dagenham",
         "E01000006",
         "Barking and Dagenham 016A",
         "0.1466",
         "1731",
         "11807.6398362892",
         "1779",
         "12135.0613915416",
         "1806",
         "12319.236016371",
         "1924",
         "13124.1473396998",
         "1929",
         "13158.2537517053",
         "1882",
         "12837.653478854",
         "1852",
         "12633.0150068212",
         "1844",
         "12578.4447476125",
         "1844",
         "12578.4447476125",
         "1834",
         "12510.2319236016",
         "1829",
         "12476.1255115961",
         "1837",
         "12530.6957708049"
        ]
       ],
       "shape": {
        "columns": 29,
        "rows": 5
       }
      },
      "text/html": [
       "<div>\n",
       "<style scoped>\n",
       "    .dataframe tbody tr th:only-of-type {\n",
       "        vertical-align: middle;\n",
       "    }\n",
       "\n",
       "    .dataframe tbody tr th {\n",
       "        vertical-align: top;\n",
       "    }\n",
       "\n",
       "    .dataframe thead th {\n",
       "        text-align: right;\n",
       "    }\n",
       "</style>\n",
       "<table border=\"1\" class=\"dataframe\">\n",
       "  <thead>\n",
       "    <tr style=\"text-align: right;\">\n",
       "      <th></th>\n",
       "      <th>LAD 2021 Code</th>\n",
       "      <th>LAD 2021 Name</th>\n",
       "      <th>LSOA 2021 Code</th>\n",
       "      <th>LSOA 2021 Name</th>\n",
       "      <th>Area Sq Km</th>\n",
       "      <th>Mid-2011: Population</th>\n",
       "      <th>Mid-2011: People per Sq Km</th>\n",
       "      <th>Mid-2012: Population</th>\n",
       "      <th>Mid-2012: People per Sq Km</th>\n",
       "      <th>Mid-2013: Population</th>\n",
       "      <th>...</th>\n",
       "      <th>Mid-2018: Population</th>\n",
       "      <th>Mid-2018: People per Sq Km</th>\n",
       "      <th>Mid-2019: Population</th>\n",
       "      <th>Mid-2019: People per Sq Km</th>\n",
       "      <th>Mid-2020: Population</th>\n",
       "      <th>Mid-2020: People per Sq Km</th>\n",
       "      <th>Mid-2021: Population</th>\n",
       "      <th>Mid-2021: People per Sq Km</th>\n",
       "      <th>Mid-2022: Population</th>\n",
       "      <th>Mid-2022: People per Sq Km</th>\n",
       "    </tr>\n",
       "  </thead>\n",
       "  <tbody>\n",
       "    <tr>\n",
       "      <th>0</th>\n",
       "      <td>E09000001</td>\n",
       "      <td>City of London</td>\n",
       "      <td>E01000001</td>\n",
       "      <td>City of London 001A</td>\n",
       "      <td>0.1298</td>\n",
       "      <td>1472</td>\n",
       "      <td>11340.523883</td>\n",
       "      <td>1498</td>\n",
       "      <td>11540.832049</td>\n",
       "      <td>1624</td>\n",
       "      <td>...</td>\n",
       "      <td>1589</td>\n",
       "      <td>12241.910632</td>\n",
       "      <td>1677</td>\n",
       "      <td>12919.876733</td>\n",
       "      <td>1563</td>\n",
       "      <td>12041.602465</td>\n",
       "      <td>1573</td>\n",
       "      <td>12118.644068</td>\n",
       "      <td>1795</td>\n",
       "      <td>13828.967643</td>\n",
       "    </tr>\n",
       "    <tr>\n",
       "      <th>1</th>\n",
       "      <td>E09000001</td>\n",
       "      <td>City of London</td>\n",
       "      <td>E01000002</td>\n",
       "      <td>City of London 001B</td>\n",
       "      <td>0.2283</td>\n",
       "      <td>1438</td>\n",
       "      <td>6298.729742</td>\n",
       "      <td>1473</td>\n",
       "      <td>6452.036794</td>\n",
       "      <td>1494</td>\n",
       "      <td>...</td>\n",
       "      <td>1380</td>\n",
       "      <td>6044.678055</td>\n",
       "      <td>1423</td>\n",
       "      <td>6233.026719</td>\n",
       "      <td>1309</td>\n",
       "      <td>5733.683749</td>\n",
       "      <td>1407</td>\n",
       "      <td>6162.943495</td>\n",
       "      <td>1671</td>\n",
       "      <td>7319.316689</td>\n",
       "    </tr>\n",
       "    <tr>\n",
       "      <th>2</th>\n",
       "      <td>E09000001</td>\n",
       "      <td>City of London</td>\n",
       "      <td>E01000003</td>\n",
       "      <td>City of London 001C</td>\n",
       "      <td>0.0589</td>\n",
       "      <td>1348</td>\n",
       "      <td>22886.247878</td>\n",
       "      <td>1486</td>\n",
       "      <td>25229.202037</td>\n",
       "      <td>1488</td>\n",
       "      <td>...</td>\n",
       "      <td>1786</td>\n",
       "      <td>30322.580645</td>\n",
       "      <td>1841</td>\n",
       "      <td>31256.366723</td>\n",
       "      <td>1722</td>\n",
       "      <td>29235.993209</td>\n",
       "      <td>1610</td>\n",
       "      <td>27334.465195</td>\n",
       "      <td>1896</td>\n",
       "      <td>32190.152801</td>\n",
       "    </tr>\n",
       "    <tr>\n",
       "      <th>3</th>\n",
       "      <td>E09000001</td>\n",
       "      <td>City of London</td>\n",
       "      <td>E01000005</td>\n",
       "      <td>City of London 001E</td>\n",
       "      <td>0.1896</td>\n",
       "      <td>987</td>\n",
       "      <td>5205.696203</td>\n",
       "      <td>915</td>\n",
       "      <td>4825.949367</td>\n",
       "      <td>946</td>\n",
       "      <td>...</td>\n",
       "      <td>1349</td>\n",
       "      <td>7114.978903</td>\n",
       "      <td>1426</td>\n",
       "      <td>7521.097046</td>\n",
       "      <td>1360</td>\n",
       "      <td>7172.995781</td>\n",
       "      <td>1104</td>\n",
       "      <td>5822.784810</td>\n",
       "      <td>1737</td>\n",
       "      <td>9161.392405</td>\n",
       "    </tr>\n",
       "    <tr>\n",
       "      <th>4</th>\n",
       "      <td>E09000002</td>\n",
       "      <td>Barking and Dagenham</td>\n",
       "      <td>E01000006</td>\n",
       "      <td>Barking and Dagenham 016A</td>\n",
       "      <td>0.1466</td>\n",
       "      <td>1731</td>\n",
       "      <td>11807.639836</td>\n",
       "      <td>1779</td>\n",
       "      <td>12135.061392</td>\n",
       "      <td>1806</td>\n",
       "      <td>...</td>\n",
       "      <td>1844</td>\n",
       "      <td>12578.444748</td>\n",
       "      <td>1844</td>\n",
       "      <td>12578.444748</td>\n",
       "      <td>1834</td>\n",
       "      <td>12510.231924</td>\n",
       "      <td>1829</td>\n",
       "      <td>12476.125512</td>\n",
       "      <td>1837</td>\n",
       "      <td>12530.695771</td>\n",
       "    </tr>\n",
       "  </tbody>\n",
       "</table>\n",
       "<p>5 rows × 29 columns</p>\n",
       "</div>"
      ],
      "text/plain": [
       "  LAD 2021 Code         LAD 2021 Name LSOA 2021 Code  \\\n",
       "0     E09000001        City of London      E01000001   \n",
       "1     E09000001        City of London      E01000002   \n",
       "2     E09000001        City of London      E01000003   \n",
       "3     E09000001        City of London      E01000005   \n",
       "4     E09000002  Barking and Dagenham      E01000006   \n",
       "\n",
       "              LSOA 2021 Name  Area Sq Km  Mid-2011: Population  \\\n",
       "0        City of London 001A      0.1298                  1472   \n",
       "1        City of London 001B      0.2283                  1438   \n",
       "2        City of London 001C      0.0589                  1348   \n",
       "3        City of London 001E      0.1896                   987   \n",
       "4  Barking and Dagenham 016A      0.1466                  1731   \n",
       "\n",
       "   Mid-2011: People per Sq Km  Mid-2012: Population  \\\n",
       "0                11340.523883                  1498   \n",
       "1                 6298.729742                  1473   \n",
       "2                22886.247878                  1486   \n",
       "3                 5205.696203                   915   \n",
       "4                11807.639836                  1779   \n",
       "\n",
       "   Mid-2012: People per Sq Km  Mid-2013: Population  ...  \\\n",
       "0                11540.832049                  1624  ...   \n",
       "1                 6452.036794                  1494  ...   \n",
       "2                25229.202037                  1488  ...   \n",
       "3                 4825.949367                   946  ...   \n",
       "4                12135.061392                  1806  ...   \n",
       "\n",
       "   Mid-2018: Population  Mid-2018: People per Sq Km  Mid-2019: Population  \\\n",
       "0                  1589                12241.910632                  1677   \n",
       "1                  1380                 6044.678055                  1423   \n",
       "2                  1786                30322.580645                  1841   \n",
       "3                  1349                 7114.978903                  1426   \n",
       "4                  1844                12578.444748                  1844   \n",
       "\n",
       "   Mid-2019: People per Sq Km  Mid-2020: Population  \\\n",
       "0                12919.876733                  1563   \n",
       "1                 6233.026719                  1309   \n",
       "2                31256.366723                  1722   \n",
       "3                 7521.097046                  1360   \n",
       "4                12578.444748                  1834   \n",
       "\n",
       "   Mid-2020: People per Sq Km  Mid-2021: Population  \\\n",
       "0                12041.602465                  1573   \n",
       "1                 5733.683749                  1407   \n",
       "2                29235.993209                  1610   \n",
       "3                 7172.995781                  1104   \n",
       "4                12510.231924                  1829   \n",
       "\n",
       "   Mid-2021: People per Sq Km  Mid-2022: Population  \\\n",
       "0                12118.644068                  1795   \n",
       "1                 6162.943495                  1671   \n",
       "2                27334.465195                  1896   \n",
       "3                 5822.784810                  1737   \n",
       "4                12476.125512                  1837   \n",
       "\n",
       "   Mid-2022: People per Sq Km  \n",
       "0                13828.967643  \n",
       "1                 7319.316689  \n",
       "2                32190.152801  \n",
       "3                 9161.392405  \n",
       "4                12530.695771  \n",
       "\n",
       "[5 rows x 29 columns]"
      ]
     },
     "execution_count": 68,
     "metadata": {},
     "output_type": "execute_result"
    }
   ],
   "source": [
    "# reading sheet\n",
    "df_den = pop_den.parse(sheet_name=\"Mid-2011 to mid-2022 LSOA 2021\", header = 3) \n",
    "df_den.head()"
   ]
  },
  {
   "cell_type": "code",
   "execution_count": 69,
   "id": "fa5f03f9",
   "metadata": {},
   "outputs": [],
   "source": [
    "# select columns\n",
    "den_col = ['LSOA 2021 Code', 'Mid-2020: Population', 'Mid-2020: People per Sq Km', 'Mid-2022: Population', 'Mid-2022: People per Sq Km']\n",
    "den = df_den[den_col]"
   ]
  },
  {
   "cell_type": "code",
   "execution_count": 70,
   "id": "e95f009c",
   "metadata": {},
   "outputs": [
    {
     "name": "stderr",
     "output_type": "stream",
     "text": [
      "C:\\Users\\hp\\AppData\\Local\\Temp\\ipykernel_50808\\2692238796.py:3: SettingWithCopyWarning: \n",
      "A value is trying to be set on a copy of a slice from a DataFrame\n",
      "\n",
      "See the caveats in the documentation: https://pandas.pydata.org/pandas-docs/stable/user_guide/indexing.html#returning-a-view-versus-a-copy\n",
      "  den.rename(columns={'Mid-2020: Population': '2020_population'}, inplace=True)\n",
      "C:\\Users\\hp\\AppData\\Local\\Temp\\ipykernel_50808\\2692238796.py:4: SettingWithCopyWarning: \n",
      "A value is trying to be set on a copy of a slice from a DataFrame\n",
      "\n",
      "See the caveats in the documentation: https://pandas.pydata.org/pandas-docs/stable/user_guide/indexing.html#returning-a-view-versus-a-copy\n",
      "  den.rename(columns={'Mid-2022: Population': '2022_population'}, inplace=True)\n",
      "C:\\Users\\hp\\AppData\\Local\\Temp\\ipykernel_50808\\2692238796.py:5: SettingWithCopyWarning: \n",
      "A value is trying to be set on a copy of a slice from a DataFrame\n",
      "\n",
      "See the caveats in the documentation: https://pandas.pydata.org/pandas-docs/stable/user_guide/indexing.html#returning-a-view-versus-a-copy\n",
      "  den.rename(columns={'Mid-2020: People per Sq Km': '2020_population_density'}, inplace=True)\n",
      "C:\\Users\\hp\\AppData\\Local\\Temp\\ipykernel_50808\\2692238796.py:6: SettingWithCopyWarning: \n",
      "A value is trying to be set on a copy of a slice from a DataFrame\n",
      "\n",
      "See the caveats in the documentation: https://pandas.pydata.org/pandas-docs/stable/user_guide/indexing.html#returning-a-view-versus-a-copy\n",
      "  den.rename(columns={'Mid-2022: People per Sq Km': '2022_population_density'}, inplace=True)\n"
     ]
    }
   ],
   "source": [
    "# join together\n",
    "# 把 df2 的列名改成一致\n",
    "den.rename(columns={'Mid-2020: Population': '2020_population'}, inplace=True)\n",
    "den.rename(columns={'Mid-2022: Population': '2022_population'}, inplace=True)\n",
    "den.rename(columns={'Mid-2020: People per Sq Km': '2020_population_density'}, inplace=True)\n",
    "den.rename(columns={'Mid-2022: People per Sq Km': '2022_population_density'}, inplace=True)"
   ]
  },
  {
   "cell_type": "code",
   "execution_count": 71,
   "id": "73bac7d0",
   "metadata": {},
   "outputs": [
    {
     "name": "stdout",
     "output_type": "stream",
     "text": [
      "  LSOA 2021 Code  2020_population  2020_population_density  2022_population  \\\n",
      "0      E01000001             1563             12041.602465             1795   \n",
      "1      E01000002             1309              5733.683749             1671   \n",
      "2      E01000003             1722             29235.993209             1896   \n",
      "3      E01000005             1360              7172.995781             1737   \n",
      "4      E01000006             1834             12510.231924             1837   \n",
      "\n",
      "   2022_population_density  pop_growth_rate       avg_den  \n",
      "0             13828.967643         0.148433  12935.285054  \n",
      "1              7319.316689         0.276547   6526.500219  \n",
      "2             32190.152801         0.101045  30713.073005  \n",
      "3              9161.392405         0.277206   8167.194093  \n",
      "4             12530.695771         0.001636  12520.463847  \n"
     ]
    },
    {
     "name": "stderr",
     "output_type": "stream",
     "text": [
      "C:\\Users\\hp\\AppData\\Local\\Temp\\ipykernel_50808\\3785997341.py:1: SettingWithCopyWarning: \n",
      "A value is trying to be set on a copy of a slice from a DataFrame.\n",
      "Try using .loc[row_indexer,col_indexer] = value instead\n",
      "\n",
      "See the caveats in the documentation: https://pandas.pydata.org/pandas-docs/stable/user_guide/indexing.html#returning-a-view-versus-a-copy\n",
      "  den['pop_growth_rate'] = (den['2022_population'] - den['2020_population']) / den['2020_population']\n",
      "C:\\Users\\hp\\AppData\\Local\\Temp\\ipykernel_50808\\3785997341.py:2: SettingWithCopyWarning: \n",
      "A value is trying to be set on a copy of a slice from a DataFrame.\n",
      "Try using .loc[row_indexer,col_indexer] = value instead\n",
      "\n",
      "See the caveats in the documentation: https://pandas.pydata.org/pandas-docs/stable/user_guide/indexing.html#returning-a-view-versus-a-copy\n",
      "  den['avg_den'] = (den['2020_population_density'] + den['2022_population_density']) / 2\n"
     ]
    }
   ],
   "source": [
    "den['pop_growth_rate'] = (den['2022_population'] - den['2020_population']) / den['2020_population']\n",
    "den['avg_den'] = (den['2020_population_density'] + den['2022_population_density']) / 2\n",
    "print(den.head())"
   ]
  },
  {
   "cell_type": "code",
   "execution_count": 72,
   "id": "fc5c1bd3",
   "metadata": {},
   "outputs": [],
   "source": [
    "# read in files\n",
    "age_path = \"data/stru_data/sapelsoabroadage20112022.xlsx\"\n",
    "age = pd.ExcelFile(age_path)\n",
    "age_group_20 = age.parse(sheet_name=\"Mid-2020 LSOA 2021\", header = 3) \n",
    "age_group_22 = age.parse(sheet_name=\"Mid-2022 LSOA 2021\", header = 3) "
   ]
  },
  {
   "cell_type": "code",
   "execution_count": 74,
   "id": "dc49896b",
   "metadata": {},
   "outputs": [
    {
     "name": "stdout",
     "output_type": "stream",
     "text": [
      "      LAD 2021 Code   LAD 2021 Name LSOA 2021 Code       LSOA 2021 Name  \\\n",
      "0         E06000001      Hartlepool      E01011949      Hartlepool 009A   \n",
      "1         E06000001      Hartlepool      E01011950      Hartlepool 008A   \n",
      "2         E06000001      Hartlepool      E01011951      Hartlepool 007A   \n",
      "3         E06000001      Hartlepool      E01011952      Hartlepool 002A   \n",
      "4         E06000001      Hartlepool      E01011953      Hartlepool 002B   \n",
      "...             ...             ...            ...                  ...   \n",
      "35667     W06000024  Merthyr Tydfil      W01001324  Merthyr Tydfil 003E   \n",
      "35668     W06000024  Merthyr Tydfil      W01001898  Merthyr Tydfil 008F   \n",
      "35669     W06000024  Merthyr Tydfil      W01001959  Merthyr Tydfil 005E   \n",
      "35670     W06000024  Merthyr Tydfil      W01001960  Merthyr Tydfil 005F   \n",
      "35671     W06000024  Merthyr Tydfil      W01001961  Merthyr Tydfil 006G   \n",
      "\n",
      "       Total  F0 to 15  F16 to 29  F30 to 44  F45 to 64  F65 and over  \\\n",
      "0       1918       194        170        196        278           173   \n",
      "1       1061        90         71        105        167            89   \n",
      "2       1212        99        117        131        155            94   \n",
      "3       1581       175        114        145        211           192   \n",
      "4       1980       230        205        186        244           150   \n",
      "...      ...       ...        ...        ...        ...           ...   \n",
      "35667   1925       140        126        166        277           258   \n",
      "35668   1446       124         87        130        237           162   \n",
      "35669   1552       137        134        172        220           128   \n",
      "35670   1442       128        113        156        174           147   \n",
      "35671   2428       209        215        238        324           230   \n",
      "\n",
      "       M0 to 15  M16 to 29  M30 to 44  M45 to 64  M65 and over  \n",
      "0           221        163        172        225           126  \n",
      "1            83         72        119        187            78  \n",
      "2           120         89        148        184            75  \n",
      "3           183        118        110        212           121  \n",
      "4           284        166        158        220           137  \n",
      "...         ...        ...        ...        ...           ...  \n",
      "35667       151        146        175        267           219  \n",
      "35668       114        111        109        214           158  \n",
      "35669       172        108        154        216           111  \n",
      "35670       134        110        155        210           115  \n",
      "35671       241        189        231        334           217  \n",
      "\n",
      "[35672 rows x 15 columns]\n"
     ]
    }
   ],
   "source": [
    "print(age_group_20)"
   ]
  },
  {
   "cell_type": "code",
   "execution_count": 78,
   "id": "7381e809",
   "metadata": {},
   "outputs": [
    {
     "name": "stderr",
     "output_type": "stream",
     "text": [
      "C:\\Users\\hp\\AppData\\Local\\Temp\\ipykernel_50808\\1434200570.py:5: SettingWithCopyWarning: \n",
      "A value is trying to be set on a copy of a slice from a DataFrame.\n",
      "Try using .loc[row_indexer,col_indexer] = value instead\n",
      "\n",
      "See the caveats in the documentation: https://pandas.pydata.org/pandas-docs/stable/user_guide/indexing.html#returning-a-view-versus-a-copy\n",
      "  age_20[\"elderly_20\"] = age_20[\"F65 and over\"] + age_20[\"M65 and over\"]\n",
      "C:\\Users\\hp\\AppData\\Local\\Temp\\ipykernel_50808\\1434200570.py:6: SettingWithCopyWarning: \n",
      "A value is trying to be set on a copy of a slice from a DataFrame.\n",
      "Try using .loc[row_indexer,col_indexer] = value instead\n",
      "\n",
      "See the caveats in the documentation: https://pandas.pydata.org/pandas-docs/stable/user_guide/indexing.html#returning-a-view-versus-a-copy\n",
      "  age_20[\"elderly_per_20\"] = age_20[\"elderly_20\"] * 100 / age_20[\"Total\"]\n",
      "C:\\Users\\hp\\AppData\\Local\\Temp\\ipykernel_50808\\1434200570.py:7: SettingWithCopyWarning: \n",
      "A value is trying to be set on a copy of a slice from a DataFrame.\n",
      "Try using .loc[row_indexer,col_indexer] = value instead\n",
      "\n",
      "See the caveats in the documentation: https://pandas.pydata.org/pandas-docs/stable/user_guide/indexing.html#returning-a-view-versus-a-copy\n",
      "  age_22[\"elderly_22\"] = age_22[\"F65 and over\"] + age_22[\"M65 and over\"]\n",
      "C:\\Users\\hp\\AppData\\Local\\Temp\\ipykernel_50808\\1434200570.py:8: SettingWithCopyWarning: \n",
      "A value is trying to be set on a copy of a slice from a DataFrame.\n",
      "Try using .loc[row_indexer,col_indexer] = value instead\n",
      "\n",
      "See the caveats in the documentation: https://pandas.pydata.org/pandas-docs/stable/user_guide/indexing.html#returning-a-view-versus-a-copy\n",
      "  age_22[\"elderly_per_22\"] = age_22[\"elderly_22\"] * 100 / age_22[\"Total\"]\n"
     ]
    }
   ],
   "source": [
    "# select columns\n",
    "age_col = ['LSOA 2021 Code', 'F65 and over', 'M65 and over', 'Total']\n",
    "age_20 = age_group_20[age_col]\n",
    "age_22 = age_group_22[age_col]\n",
    "age_20[\"elderly_20\"] = age_20[\"F65 and over\"] + age_20[\"M65 and over\"]\n",
    "age_20[\"elderly_per_20\"] = age_20[\"elderly_20\"] * 100 / age_20[\"Total\"]\n",
    "age_22[\"elderly_22\"] = age_22[\"F65 and over\"] + age_22[\"M65 and over\"]\n",
    "age_22[\"elderly_per_22\"] = age_22[\"elderly_22\"] * 100 / age_22[\"Total\"]\n"
   ]
  },
  {
   "cell_type": "code",
   "execution_count": 80,
   "id": "14955414",
   "metadata": {},
   "outputs": [],
   "source": [
    "age_group = age_20[[\"LSOA 2021 Code\", \"elderly_per_20\"]].merge(age_22[[\"LSOA 2021 Code\", \"elderly_per_22\"]], on = \"LSOA 2021 Code\", how = \"left\")"
   ]
  },
  {
   "cell_type": "code",
   "execution_count": 82,
   "id": "d0f3ae82",
   "metadata": {},
   "outputs": [
    {
     "name": "stdout",
     "output_type": "stream",
     "text": [
      "  LSOA 2021 Code  elderly_per_20  elderly_per_22  senior_per\n",
      "0      E01011949       15.589155       16.256684   15.922920\n",
      "1      E01011950       15.739868       16.134913   15.937391\n",
      "2      E01011951       13.943894       13.053989   13.498942\n",
      "3      E01011952       19.797596       20.495356   20.146476\n",
      "4      E01011953       14.494949       13.319879   13.907414\n"
     ]
    }
   ],
   "source": [
    "age_group[\"senior_per\"] = (age_group[\"elderly_per_20\"] + age_group[\"elderly_per_22\"]) / 2\n",
    "print(age_group.head(5))"
   ]
  },
  {
   "cell_type": "code",
   "execution_count": 88,
   "id": "faa6a673",
   "metadata": {},
   "outputs": [
    {
     "data": {
      "application/vnd.microsoft.datawrangler.viewer.v0+json": {
       "columns": [
        {
         "name": "index",
         "rawType": "int64",
         "type": "integer"
        },
        {
         "name": "2021 super output area - lower layer",
         "rawType": "object",
         "type": "string"
        },
        {
         "name": "mnemonic",
         "rawType": "object",
         "type": "string"
        },
        {
         "name": "Total: All usual residents",
         "rawType": "float64",
         "type": "float"
        },
        {
         "name": "White",
         "rawType": "float64",
         "type": "float"
        }
       ],
       "ref": "ac176277-d277-4390-b2dc-8493b645d9e7",
       "rows": [
        [
         "0",
         "Hartlepool 001A",
         "E01011954",
         "2284.0",
         "2248.0"
        ],
        [
         "1",
         "Hartlepool 001B",
         "E01011969",
         "1345.0",
         "1329.0"
        ],
        [
         "2",
         "Hartlepool 001C",
         "E01011970",
         "1070.0",
         "1059.0"
        ],
        [
         "3",
         "Hartlepool 001D",
         "E01011971",
         "1323.0",
         "1311.0"
        ],
        [
         "4",
         "Hartlepool 001F",
         "E01033465",
         "1954.0",
         "1914.0"
        ]
       ],
       "shape": {
        "columns": 4,
        "rows": 5
       }
      },
      "text/html": [
       "<div>\n",
       "<style scoped>\n",
       "    .dataframe tbody tr th:only-of-type {\n",
       "        vertical-align: middle;\n",
       "    }\n",
       "\n",
       "    .dataframe tbody tr th {\n",
       "        vertical-align: top;\n",
       "    }\n",
       "\n",
       "    .dataframe thead th {\n",
       "        text-align: right;\n",
       "    }\n",
       "</style>\n",
       "<table border=\"1\" class=\"dataframe\">\n",
       "  <thead>\n",
       "    <tr style=\"text-align: right;\">\n",
       "      <th></th>\n",
       "      <th>2021 super output area - lower layer</th>\n",
       "      <th>mnemonic</th>\n",
       "      <th>Total: All usual residents</th>\n",
       "      <th>White</th>\n",
       "    </tr>\n",
       "  </thead>\n",
       "  <tbody>\n",
       "    <tr>\n",
       "      <th>0</th>\n",
       "      <td>Hartlepool 001A</td>\n",
       "      <td>E01011954</td>\n",
       "      <td>2284.0</td>\n",
       "      <td>2248.0</td>\n",
       "    </tr>\n",
       "    <tr>\n",
       "      <th>1</th>\n",
       "      <td>Hartlepool 001B</td>\n",
       "      <td>E01011969</td>\n",
       "      <td>1345.0</td>\n",
       "      <td>1329.0</td>\n",
       "    </tr>\n",
       "    <tr>\n",
       "      <th>2</th>\n",
       "      <td>Hartlepool 001C</td>\n",
       "      <td>E01011970</td>\n",
       "      <td>1070.0</td>\n",
       "      <td>1059.0</td>\n",
       "    </tr>\n",
       "    <tr>\n",
       "      <th>3</th>\n",
       "      <td>Hartlepool 001D</td>\n",
       "      <td>E01011971</td>\n",
       "      <td>1323.0</td>\n",
       "      <td>1311.0</td>\n",
       "    </tr>\n",
       "    <tr>\n",
       "      <th>4</th>\n",
       "      <td>Hartlepool 001F</td>\n",
       "      <td>E01033465</td>\n",
       "      <td>1954.0</td>\n",
       "      <td>1914.0</td>\n",
       "    </tr>\n",
       "  </tbody>\n",
       "</table>\n",
       "</div>"
      ],
      "text/plain": [
       "  2021 super output area - lower layer   mnemonic  Total: All usual residents  \\\n",
       "0                      Hartlepool 001A  E01011954                      2284.0   \n",
       "1                      Hartlepool 001B  E01011969                      1345.0   \n",
       "2                      Hartlepool 001C  E01011970                      1070.0   \n",
       "3                      Hartlepool 001D  E01011971                      1323.0   \n",
       "4                      Hartlepool 001F  E01033465                      1954.0   \n",
       "\n",
       "    White  \n",
       "0  2248.0  \n",
       "1  1329.0  \n",
       "2  1059.0  \n",
       "3  1311.0  \n",
       "4  1914.0  "
      ]
     },
     "execution_count": 88,
     "metadata": {},
     "output_type": "execute_result"
    }
   ],
   "source": [
    "ethnic_group_20_22 = pd.read_csv(\"data/stru_data/1570121892025247.csv\", skiprows=6)\n",
    "ethnic_group_20_22.head(5)"
   ]
  },
  {
   "cell_type": "code",
   "execution_count": 92,
   "id": "64634bb1",
   "metadata": {},
   "outputs": [],
   "source": [
    "ethnic_group_20_22.rename(columns={'mnemonic': 'LSOA 2021 Code'}, inplace=True)\n",
    "ethnic_group_20_22.rename(columns={'Total: All usual residents': 'All'}, inplace=True)\n",
    "ethnic_group_20_22.drop(columns=\"2021 super output area - lower layer\", inplace=True)"
   ]
  },
  {
   "cell_type": "code",
   "execution_count": 94,
   "id": "e81d4de3",
   "metadata": {},
   "outputs": [
    {
     "name": "stdout",
     "output_type": "stream",
     "text": [
      "                                          LSOA 2021 Code     All   White  \\\n",
      "0                                              E01011954  2284.0  2248.0   \n",
      "1                                              E01011969  1345.0  1329.0   \n",
      "2                                              E01011970  1070.0  1059.0   \n",
      "3                                              E01011971  1323.0  1311.0   \n",
      "4                                              E01033465  1954.0  1914.0   \n",
      "...                                                  ...     ...     ...   \n",
      "35672  In order to protect against disclosure of pers...     NaN     NaN   \n",
      "35673  have been swapped between different geographic...     NaN     NaN   \n",
      "35674  by small amounts. Small counts at the lowest g...     NaN     NaN   \n",
      "35675                                          affected.     NaN     NaN   \n",
      "35676                                                NaN     NaN     NaN   \n",
      "\n",
      "       minority_per  \n",
      "0          1.576182  \n",
      "1          1.189591  \n",
      "2          1.028037  \n",
      "3          0.907029  \n",
      "4          2.047083  \n",
      "...             ...  \n",
      "35672           NaN  \n",
      "35673           NaN  \n",
      "35674           NaN  \n",
      "35675           NaN  \n",
      "35676           NaN  \n",
      "\n",
      "[35677 rows x 4 columns]\n"
     ]
    }
   ],
   "source": [
    "ethnic_group_20_22[\"minority_per\"] = (ethnic_group_20_22[\"All\"] - ethnic_group_20_22[\"White\"])*100/ethnic_group_20_22[\"All\"]\n",
    "print(ethnic_group_20_22)"
   ]
  },
  {
   "cell_type": "code",
   "execution_count": null,
   "id": "1bc87939",
   "metadata": {},
   "outputs": [],
   "source": [
    "df_20_22 = den[[\"LSOA 2021 Code\", \"pop_growth_rate\", \"avg_den\"]].merge(age_group[[\"LSOA 2021 Code\", \"senior_per\"]], \n",
    "                                                                       on=\"LSOA 2021 Code\", how=\"left\")\n",
    "df_20_22 = df_20_22.merge(ethnic_group_20_22[[\"minority_per\", \"LSOA 2021 Code\"]], on=\"LSOA 2021 Code\", how=\"left\")"
   ]
  },
  {
   "cell_type": "code",
   "execution_count": 101,
   "id": "3e85abb4",
   "metadata": {},
   "outputs": [
    {
     "name": "stdout",
     "output_type": "stream",
     "text": [
      "      LSOA 2021 Code  pop_growth_rate       avg_den  senior_per  minority_per\n",
      "0          E01000001         0.148433  12935.285054   23.978012     19.877883\n",
      "1          E01000002         0.276547   6526.500219   18.499190     21.789322\n",
      "2          E01000003         0.101045  30713.073005   17.640567     25.868486\n",
      "3          E01000005         0.277206   8167.194093    7.797017     61.489555\n",
      "4          E01000006         0.001636  12520.463847    8.989160     67.208672\n",
      "...              ...              ...           ...         ...           ...\n",
      "35667      W01002036         0.006032   4330.150463   14.432804      9.922680\n",
      "35668      W01002037         0.058416   4900.990099   17.737267      6.760563\n",
      "35669      W01002038         0.066667    354.762109   25.013021      3.399209\n",
      "35670      W01002039         0.137112   2696.033210    9.929882      4.375000\n",
      "35671      W01002040         0.230984   2927.921315    3.974182      7.977355\n",
      "\n",
      "[35672 rows x 5 columns]\n"
     ]
    }
   ],
   "source": [
    "print(df_20_22)"
   ]
  },
  {
   "cell_type": "code",
   "execution_count": 103,
   "id": "9d2f5673",
   "metadata": {},
   "outputs": [],
   "source": [
    "import os\n",
    "\n",
    "# 1. 设定 shapefile 存放路径\n",
    "folder_path = \"data/statistical-gis-boundaries-london/LB_LSOA2021_shp/LB_shp\"\n",
    "\n",
    "# 2. 收集所有 .shp 文件\n",
    "shp_files = [f for f in os.listdir(folder_path) if f.endswith(\".shp\")]\n",
    "\n",
    "# 3. 逐个读取并合并\n",
    "gdf_list = []\n",
    "for shp in shp_files:\n",
    "    path = os.path.join(folder_path, shp)\n",
    "    gdf = gpd.read_file(path)\n",
    "    gdf[\"borough\"] = shp.replace(\".shp\", \"\")  # 添加 borough 来源列（可选）\n",
    "    gdf_list.append(gdf)\n",
    "\n",
    "# 4. 合并所有 GeoDataFrame\n",
    "london_lsoa21_combined = gpd.GeoDataFrame(pd.concat(gdf_list, ignore_index=True), crs=gdf_list[0].crs)\n",
    "\n",
    "# 5. 保存成一个新的 shapefile\n",
    "london_lsoa21_combined.to_file(\"london_lsoa21_combined.shp\")"
   ]
  },
  {
   "cell_type": "code",
   "execution_count": 105,
   "id": "249fdcc9",
   "metadata": {},
   "outputs": [
    {
     "name": "stdout",
     "output_type": "stream",
     "text": [
      "Index(['lsoa21cd', 'lsoa21nm', 'msoa21cd', 'msoa21nm', 'lad22cd', 'lad22nm',\n",
      "       'geometry', 'borough'],\n",
      "      dtype='object')\n"
     ]
    }
   ],
   "source": [
    "print(london_lsoa21_combined.columns)"
   ]
  },
  {
   "cell_type": "code",
   "execution_count": 106,
   "id": "e23935d3",
   "metadata": {},
   "outputs": [],
   "source": [
    "london_lsoa21_combined.rename(columns={'lsoa21cd': 'LSOA 2021 Code'}, inplace=True)\n",
    "\n",
    "stru_20_22_df = london_lsoa21_combined[[\"LSOA 2021 Code\", \"geometry\", \"borough\"]].merge(df_20_22, on=\"LSOA 2021 Code\", how=\"left\")"
   ]
  },
  {
   "cell_type": "code",
   "execution_count": 107,
   "id": "4f5525c0",
   "metadata": {},
   "outputs": [
    {
     "name": "stdout",
     "output_type": "stream",
     "text": [
      "(4994, 7)\n"
     ]
    }
   ],
   "source": [
    "print(stru_20_22_df.shape)"
   ]
  },
  {
   "cell_type": "code",
   "execution_count": 109,
   "id": "9bb4e863",
   "metadata": {},
   "outputs": [
    {
     "name": "stderr",
     "output_type": "stream",
     "text": [
      "C:\\Users\\hp\\AppData\\Local\\Temp\\ipykernel_50808\\896997928.py:1: UserWarning: Column names longer than 10 characters will be truncated when saved to ESRI Shapefile.\n",
      "  stru_20_22_df.to_file(\"data/gentri_data/all_stru_data_20_22.shp\", index=False)\n",
      "e:\\dissertation\\project\\housing_feature_gentrification\\venv\\Lib\\site-packages\\pyogrio\\raw.py:723: RuntimeWarning: Normalized/laundered field name: 'LSOA 2021 Code' to 'LSOA 2021'\n",
      "  ogr_write(\n",
      "e:\\dissertation\\project\\housing_feature_gentrification\\venv\\Lib\\site-packages\\pyogrio\\raw.py:723: RuntimeWarning: Normalized/laundered field name: 'pop_growth_rate' to 'pop_growth'\n",
      "  ogr_write(\n",
      "e:\\dissertation\\project\\housing_feature_gentrification\\venv\\Lib\\site-packages\\pyogrio\\raw.py:723: RuntimeWarning: Normalized/laundered field name: 'minority_per' to 'minority_p'\n",
      "  ogr_write(\n"
     ]
    }
   ],
   "source": [
    "stru_20_22_df.to_file(\"data/gentri_data/all_stru_data_20_22.shp\", index=False)"
   ]
  }
 ],
 "metadata": {
  "kernelspec": {
   "display_name": "venv",
   "language": "python",
   "name": "python3"
  },
  "language_info": {
   "codemirror_mode": {
    "name": "ipython",
    "version": 3
   },
   "file_extension": ".py",
   "mimetype": "text/x-python",
   "name": "python",
   "nbconvert_exporter": "python",
   "pygments_lexer": "ipython3",
   "version": "3.12.5"
  }
 },
 "nbformat": 4,
 "nbformat_minor": 5
}
