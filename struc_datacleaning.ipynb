{
 "cells": [
  {
   "cell_type": "markdown",
   "id": "1598bb87",
   "metadata": {},
   "source": [
    "# Structural Data\n",
    "As the structural values of the lsoa area, describe the background featuers of each lsoa.\n",
    "- population density\n",
    "- age groups (elderly)\n",
    "- ethnic (minority)"
   ]
  },
  {
   "cell_type": "code",
   "execution_count": 1,
   "id": "c499e140",
   "metadata": {},
   "outputs": [],
   "source": [
    "import pandas as pd\n",
    "import geopandas as gpd\n",
    "import matplotlib.pyplot as plt\n",
    "import numpy as np"
   ]
  },
  {
   "cell_type": "markdown",
   "id": "e02cb08a",
   "metadata": {
    "vscode": {
     "languageId": "plaintext"
    }
   },
   "source": [
    "## Population\n",
    "\n",
    "Population density and population growth rate"
   ]
  },
  {
   "cell_type": "code",
   "execution_count": 2,
   "id": "b3f931bb",
   "metadata": {},
   "outputs": [],
   "source": [
    "# reading population density\n",
    "density19_path = \"data/stru_data/SAPE22DT11_mid_2019_lsoa_population_density.xlsx\"\n",
    "pop_den19 = pd.ExcelFile(density19_path)"
   ]
  },
  {
   "cell_type": "code",
   "execution_count": 3,
   "id": "d6c16bfb",
   "metadata": {},
   "outputs": [
    {
     "data": {
      "application/vnd.microsoft.datawrangler.viewer.v0+json": {
       "columns": [
        {
         "name": "index",
         "rawType": "int64",
         "type": "integer"
        },
        {
         "name": "LSOA Code",
         "rawType": "object",
         "type": "string"
        },
        {
         "name": "LSOA Name",
         "rawType": "object",
         "type": "string"
        },
        {
         "name": "Mid-2019 population",
         "rawType": "int64",
         "type": "integer"
        },
        {
         "name": "Area Sq Km",
         "rawType": "float64",
         "type": "float"
        },
        {
         "name": "People per Sq Km",
         "rawType": "float64",
         "type": "float"
        }
       ],
       "ref": "bb06b137-561d-4f70-a437-f6624d5dfcfa",
       "rows": [
        [
         "0",
         "E01011949",
         "Hartlepool 009A",
         "1954",
         "0.5189",
         "3765.658122952399"
        ],
        [
         "1",
         "E01011950",
         "Hartlepool 008A",
         "1257",
         "0.1325",
         "9486.792452830188"
        ],
        [
         "2",
         "E01011951",
         "Hartlepool 007A",
         "1209",
         "0.2086",
         "5795.781399808246"
        ],
        [
         "3",
         "E01011952",
         "Hartlepool 002A",
         "1740",
         "0.46409999999999996",
         "3749.1919844861027"
        ],
        [
         "4",
         "E01011953",
         "Hartlepool 002B",
         "2033",
         "0.8833",
         "2301.5962866523264"
        ]
       ],
       "shape": {
        "columns": 5,
        "rows": 5
       }
      },
      "text/html": [
       "<div>\n",
       "<style scoped>\n",
       "    .dataframe tbody tr th:only-of-type {\n",
       "        vertical-align: middle;\n",
       "    }\n",
       "\n",
       "    .dataframe tbody tr th {\n",
       "        vertical-align: top;\n",
       "    }\n",
       "\n",
       "    .dataframe thead th {\n",
       "        text-align: right;\n",
       "    }\n",
       "</style>\n",
       "<table border=\"1\" class=\"dataframe\">\n",
       "  <thead>\n",
       "    <tr style=\"text-align: right;\">\n",
       "      <th></th>\n",
       "      <th>LSOA Code</th>\n",
       "      <th>LSOA Name</th>\n",
       "      <th>Mid-2019 population</th>\n",
       "      <th>Area Sq Km</th>\n",
       "      <th>People per Sq Km</th>\n",
       "    </tr>\n",
       "  </thead>\n",
       "  <tbody>\n",
       "    <tr>\n",
       "      <th>0</th>\n",
       "      <td>E01011949</td>\n",
       "      <td>Hartlepool 009A</td>\n",
       "      <td>1954</td>\n",
       "      <td>0.5189</td>\n",
       "      <td>3765.658123</td>\n",
       "    </tr>\n",
       "    <tr>\n",
       "      <th>1</th>\n",
       "      <td>E01011950</td>\n",
       "      <td>Hartlepool 008A</td>\n",
       "      <td>1257</td>\n",
       "      <td>0.1325</td>\n",
       "      <td>9486.792453</td>\n",
       "    </tr>\n",
       "    <tr>\n",
       "      <th>2</th>\n",
       "      <td>E01011951</td>\n",
       "      <td>Hartlepool 007A</td>\n",
       "      <td>1209</td>\n",
       "      <td>0.2086</td>\n",
       "      <td>5795.781400</td>\n",
       "    </tr>\n",
       "    <tr>\n",
       "      <th>3</th>\n",
       "      <td>E01011952</td>\n",
       "      <td>Hartlepool 002A</td>\n",
       "      <td>1740</td>\n",
       "      <td>0.4641</td>\n",
       "      <td>3749.191984</td>\n",
       "    </tr>\n",
       "    <tr>\n",
       "      <th>4</th>\n",
       "      <td>E01011953</td>\n",
       "      <td>Hartlepool 002B</td>\n",
       "      <td>2033</td>\n",
       "      <td>0.8833</td>\n",
       "      <td>2301.596287</td>\n",
       "    </tr>\n",
       "  </tbody>\n",
       "</table>\n",
       "</div>"
      ],
      "text/plain": [
       "   LSOA Code        LSOA Name  Mid-2019 population  Area Sq Km  \\\n",
       "0  E01011949  Hartlepool 009A                 1954      0.5189   \n",
       "1  E01011950  Hartlepool 008A                 1257      0.1325   \n",
       "2  E01011951  Hartlepool 007A                 1209      0.2086   \n",
       "3  E01011952  Hartlepool 002A                 1740      0.4641   \n",
       "4  E01011953  Hartlepool 002B                 2033      0.8833   \n",
       "\n",
       "   People per Sq Km  \n",
       "0       3765.658123  \n",
       "1       9486.792453  \n",
       "2       5795.781400  \n",
       "3       3749.191984  \n",
       "4       2301.596287  "
      ]
     },
     "execution_count": 3,
     "metadata": {},
     "output_type": "execute_result"
    }
   ],
   "source": [
    "# reading sheet\n",
    "df_den_19 = pop_den19.parse(sheet_name=\"Mid-2019 Population Density\", header = 4) \n",
    "df_den_19.head()"
   ]
  },
  {
   "cell_type": "code",
   "execution_count": 4,
   "id": "efc2f425",
   "metadata": {},
   "outputs": [],
   "source": [
    "# select columns\n",
    "den19_col = ['LSOA Code', 'Mid-2019 population', 'People per Sq Km']\n",
    "den_19 = df_den_19[den19_col]"
   ]
  },
  {
   "cell_type": "code",
   "execution_count": 5,
   "id": "84c6d895",
   "metadata": {},
   "outputs": [
    {
     "data": {
      "application/vnd.microsoft.datawrangler.viewer.v0+json": {
       "columns": [
        {
         "name": "index",
         "rawType": "int64",
         "type": "integer"
        },
        {
         "name": "Code",
         "rawType": "object",
         "type": "string"
        },
        {
         "name": "Name",
         "rawType": "object",
         "type": "string"
        },
        {
         "name": "Mid-2015 population",
         "rawType": "int64",
         "type": "integer"
        },
        {
         "name": "Area Sq Km",
         "rawType": "float64",
         "type": "float"
        },
        {
         "name": "People per Sq Km",
         "rawType": "int64",
         "type": "integer"
        }
       ],
       "ref": "22cd4033-6c1d-4b77-ace6-389c2ec0111b",
       "rows": [
        [
         "0",
         "E01020634",
         "County Durham 001A",
         "1524",
         "6.4975",
         "235"
        ],
        [
         "1",
         "E01020635",
         "County Durham 001B",
         "1315",
         "1.6963",
         "775"
        ],
        [
         "2",
         "E01020636",
         "County Durham 001C",
         "1749",
         "0.9272",
         "1886"
        ],
        [
         "3",
         "E01020654",
         "County Durham 001D",
         "1860",
         "0.9884000000000001",
         "1882"
        ],
        [
         "4",
         "E01020676",
         "County Durham 001E",
         "1479",
         "5.471699999999999",
         "270"
        ]
       ],
       "shape": {
        "columns": 5,
        "rows": 5
       }
      },
      "text/html": [
       "<div>\n",
       "<style scoped>\n",
       "    .dataframe tbody tr th:only-of-type {\n",
       "        vertical-align: middle;\n",
       "    }\n",
       "\n",
       "    .dataframe tbody tr th {\n",
       "        vertical-align: top;\n",
       "    }\n",
       "\n",
       "    .dataframe thead th {\n",
       "        text-align: right;\n",
       "    }\n",
       "</style>\n",
       "<table border=\"1\" class=\"dataframe\">\n",
       "  <thead>\n",
       "    <tr style=\"text-align: right;\">\n",
       "      <th></th>\n",
       "      <th>Code</th>\n",
       "      <th>Name</th>\n",
       "      <th>Mid-2015 population</th>\n",
       "      <th>Area Sq Km</th>\n",
       "      <th>People per Sq Km</th>\n",
       "    </tr>\n",
       "  </thead>\n",
       "  <tbody>\n",
       "    <tr>\n",
       "      <th>0</th>\n",
       "      <td>E01020634</td>\n",
       "      <td>County Durham 001A</td>\n",
       "      <td>1524</td>\n",
       "      <td>6.4975</td>\n",
       "      <td>235</td>\n",
       "    </tr>\n",
       "    <tr>\n",
       "      <th>1</th>\n",
       "      <td>E01020635</td>\n",
       "      <td>County Durham 001B</td>\n",
       "      <td>1315</td>\n",
       "      <td>1.6963</td>\n",
       "      <td>775</td>\n",
       "    </tr>\n",
       "    <tr>\n",
       "      <th>2</th>\n",
       "      <td>E01020636</td>\n",
       "      <td>County Durham 001C</td>\n",
       "      <td>1749</td>\n",
       "      <td>0.9272</td>\n",
       "      <td>1886</td>\n",
       "    </tr>\n",
       "    <tr>\n",
       "      <th>3</th>\n",
       "      <td>E01020654</td>\n",
       "      <td>County Durham 001D</td>\n",
       "      <td>1860</td>\n",
       "      <td>0.9884</td>\n",
       "      <td>1882</td>\n",
       "    </tr>\n",
       "    <tr>\n",
       "      <th>4</th>\n",
       "      <td>E01020676</td>\n",
       "      <td>County Durham 001E</td>\n",
       "      <td>1479</td>\n",
       "      <td>5.4717</td>\n",
       "      <td>270</td>\n",
       "    </tr>\n",
       "  </tbody>\n",
       "</table>\n",
       "</div>"
      ],
      "text/plain": [
       "        Code                Name  Mid-2015 population  Area Sq Km  \\\n",
       "0  E01020634  County Durham 001A                 1524      6.4975   \n",
       "1  E01020635  County Durham 001B                 1315      1.6963   \n",
       "2  E01020636  County Durham 001C                 1749      0.9272   \n",
       "3  E01020654  County Durham 001D                 1860      0.9884   \n",
       "4  E01020676  County Durham 001E                 1479      5.4717   \n",
       "\n",
       "   People per Sq Km  \n",
       "0               235  \n",
       "1               775  \n",
       "2              1886  \n",
       "3              1882  \n",
       "4               270  "
      ]
     },
     "execution_count": 5,
     "metadata": {},
     "output_type": "execute_result"
    }
   ],
   "source": [
    "# reading the density for 2015\n",
    "density15_path = \"data/stru_data/SAPE20DT11-mid-2015-lsoa-population-density.xls\"\n",
    "pop_den15 = pd.ExcelFile(density15_path)\n",
    "df_den_15 = pop_den15.parse(sheet_name=\"Mid-2015 Population Density\", header = 4) \n",
    "df_den_15.head()"
   ]
  },
  {
   "cell_type": "code",
   "execution_count": 6,
   "id": "f6d63403",
   "metadata": {},
   "outputs": [],
   "source": [
    "# select columns\n",
    "den15_col = ['Code', 'Mid-2015 population', 'People per Sq Km']\n",
    "den_15 = df_den_15[den15_col]"
   ]
  },
  {
   "cell_type": "code",
   "execution_count": 7,
   "id": "89b0a636",
   "metadata": {},
   "outputs": [
    {
     "name": "stdout",
     "output_type": "stream",
     "text": [
      "   LSOA Code  Mid-2019 population  2019_population_density  \\\n",
      "0  E01011949                 1954              3765.658123   \n",
      "1  E01011950                 1257              9486.792453   \n",
      "2  E01011951                 1209              5795.781400   \n",
      "3  E01011952                 1740              3749.191984   \n",
      "4  E01011953                 2033              2301.596287   \n",
      "\n",
      "   Mid-2015 population  2015_population_density  \n",
      "0                 2009                     3872  \n",
      "1                 1443                    10891  \n",
      "2                 1279                     6131  \n",
      "3                 1745                     3760  \n",
      "4                 2011                     2277  \n"
     ]
    },
    {
     "name": "stderr",
     "output_type": "stream",
     "text": [
      "C:\\Users\\hp\\AppData\\Local\\Temp\\ipykernel_9012\\3006015090.py:3: SettingWithCopyWarning: \n",
      "A value is trying to be set on a copy of a slice from a DataFrame\n",
      "\n",
      "See the caveats in the documentation: https://pandas.pydata.org/pandas-docs/stable/user_guide/indexing.html#returning-a-view-versus-a-copy\n",
      "  den_15.rename(columns={'Code': 'LSOA Code'}, inplace=True)\n",
      "C:\\Users\\hp\\AppData\\Local\\Temp\\ipykernel_9012\\3006015090.py:4: SettingWithCopyWarning: \n",
      "A value is trying to be set on a copy of a slice from a DataFrame\n",
      "\n",
      "See the caveats in the documentation: https://pandas.pydata.org/pandas-docs/stable/user_guide/indexing.html#returning-a-view-versus-a-copy\n",
      "  den_15.rename(columns={'People per Sq Km': '2015_population_density'}, inplace=True)\n",
      "C:\\Users\\hp\\AppData\\Local\\Temp\\ipykernel_9012\\3006015090.py:5: SettingWithCopyWarning: \n",
      "A value is trying to be set on a copy of a slice from a DataFrame\n",
      "\n",
      "See the caveats in the documentation: https://pandas.pydata.org/pandas-docs/stable/user_guide/indexing.html#returning-a-view-versus-a-copy\n",
      "  den_19.rename(columns={'People per Sq Km': '2019_population_density'}, inplace=True)\n"
     ]
    }
   ],
   "source": [
    "# join together\n",
    "# 把 df2 的列名改成一致\n",
    "den_15.rename(columns={'Code': 'LSOA Code'}, inplace=True)\n",
    "den_15.rename(columns={'People per Sq Km': '2015_population_density'}, inplace=True)\n",
    "den_19.rename(columns={'People per Sq Km': '2019_population_density'}, inplace=True)\n",
    "\n",
    "# 然后 merge\n",
    "den_all = den_19.merge(den_15, on='LSOA Code', how='left')\n",
    "print(den_all.head())\n"
   ]
  },
  {
   "cell_type": "code",
   "execution_count": 8,
   "id": "51f2a91b",
   "metadata": {},
   "outputs": [
    {
     "name": "stdout",
     "output_type": "stream",
     "text": [
      "   LSOA Code  Mid-2019 population  2019_population_density  \\\n",
      "0  E01011949                 1954              3765.658123   \n",
      "1  E01011950                 1257              9486.792453   \n",
      "2  E01011951                 1209              5795.781400   \n",
      "3  E01011952                 1740              3749.191984   \n",
      "4  E01011953                 2033              2301.596287   \n",
      "\n",
      "   Mid-2015 population  2015_population_density  pop_growth_rate       avg_den  \n",
      "0                 2009                     3872        -0.027377   3818.829061  \n",
      "1                 1443                    10891        -0.128898  10188.896226  \n",
      "2                 1279                     6131        -0.054730   5963.390700  \n",
      "3                 1745                     3760        -0.002865   3754.595992  \n",
      "4                 2011                     2277         0.010940   2289.298143  \n"
     ]
    }
   ],
   "source": [
    "den_all['pop_growth_rate'] = (den_all['Mid-2019 population'] - den_all['Mid-2015 population']) / den_all['Mid-2015 population']\n",
    "den_all['avg_den'] = (den_all['2015_population_density'] + den_all['2019_population_density']) / 2\n",
    "print(den_all.head())"
   ]
  },
  {
   "cell_type": "code",
   "execution_count": 9,
   "id": "8dcf76aa",
   "metadata": {},
   "outputs": [
    {
     "data": {
      "application/vnd.microsoft.datawrangler.viewer.v0+json": {
       "columns": [
        {
         "name": "index",
         "rawType": "object",
         "type": "string"
        },
        {
         "name": "0",
         "rawType": "int64",
         "type": "integer"
        }
       ],
       "ref": "ee490c3b-e08d-43c1-b3b8-f8b07f30f8ad",
       "rows": [
        [
         "LSOA Code",
         "0"
        ],
        [
         "Mid-2019 population",
         "0"
        ],
        [
         "2019_population_density",
         "0"
        ],
        [
         "Mid-2015 population",
         "0"
        ],
        [
         "2015_population_density",
         "0"
        ],
        [
         "pop_growth_rate",
         "0"
        ],
        [
         "avg_den",
         "0"
        ]
       ],
       "shape": {
        "columns": 1,
        "rows": 7
       }
      },
      "text/plain": [
       "LSOA Code                  0\n",
       "Mid-2019 population        0\n",
       "2019_population_density    0\n",
       "Mid-2015 population        0\n",
       "2015_population_density    0\n",
       "pop_growth_rate            0\n",
       "avg_den                    0\n",
       "dtype: int64"
      ]
     },
     "execution_count": 9,
     "metadata": {},
     "output_type": "execute_result"
    }
   ],
   "source": [
    "den_all.isna().sum()"
   ]
  },
  {
   "cell_type": "code",
   "execution_count": 10,
   "id": "59731a0e",
   "metadata": {},
   "outputs": [
    {
     "data": {
      "text/plain": [
       "(4835, 7)"
      ]
     },
     "execution_count": 10,
     "metadata": {},
     "output_type": "execute_result"
    }
   ],
   "source": [
    "# read in lsoa shapefile\n",
    "london_gdf = gpd.read_file(\"data/statistical-gis-boundaries-london/statistical-gis-boundaries-london/ESRI/LSOA_2011_London_gen_MHW.shp\")\n",
    "\n",
    "# extract lsoa11cd as LSOA list\n",
    "london_lsoa_list = london_gdf['LSOA11CD'].unique()\n",
    "\n",
    "# select data in London area\n",
    "df_london_den = den_all[den_all['LSOA Code'].isin(london_lsoa_list)]\n",
    "df_london_den.shape"
   ]
  },
  {
   "cell_type": "code",
   "execution_count": 11,
   "id": "eab791ac",
   "metadata": {},
   "outputs": [],
   "source": [
    "df_london_den.to_csv(\"data/population_data.csv\", index=False)"
   ]
  },
  {
   "cell_type": "markdown",
   "id": "1fa71747",
   "metadata": {},
   "source": [
    "## Age Group\n",
    "\n",
    "focusing on the elderly(over 65) percentage, as a description date."
   ]
  },
  {
   "cell_type": "code",
   "execution_count": 12,
   "id": "3213c86b",
   "metadata": {},
   "outputs": [],
   "source": [
    "# read in files\n",
    "age15_path = \"data/stru_data/SAPE20DT12-mid-2015-lsoa-Broad_ages-estimates-formatted.xls\"\n",
    "age15 = pd.ExcelFile(age15_path)\n",
    "age19_path = \"data/stru_data/SAPE22DT13_mid_2019_lsoa_Broad_ages_estimates_unformatted.xlsx\"\n",
    "age19 = pd.ExcelFile(age19_path)"
   ]
  },
  {
   "cell_type": "code",
   "execution_count": 13,
   "id": "33aec55a",
   "metadata": {},
   "outputs": [
    {
     "data": {
      "application/vnd.microsoft.datawrangler.viewer.v0+json": {
       "columns": [
        {
         "name": "index",
         "rawType": "int64",
         "type": "integer"
        },
        {
         "name": "Area Codes",
         "rawType": "object",
         "type": "string"
        },
        {
         "name": "Area Names",
         "rawType": "object",
         "type": "unknown"
        },
        {
         "name": "Unnamed: 2",
         "rawType": "object",
         "type": "unknown"
        },
        {
         "name": "All Ages",
         "rawType": "int64",
         "type": "integer"
        },
        {
         "name": "0-15",
         "rawType": "int64",
         "type": "integer"
        },
        {
         "name": "16-29",
         "rawType": "int64",
         "type": "integer"
        },
        {
         "name": "30-44",
         "rawType": "int64",
         "type": "integer"
        },
        {
         "name": "45-64",
         "rawType": "int64",
         "type": "integer"
        },
        {
         "name": "65+",
         "rawType": "int64",
         "type": "integer"
        }
       ],
       "ref": "937429ef-06de-4894-a932-0659f4cd80e0",
       "rows": [
        [
         "0",
         "E06000047",
         "County Durham",
         null,
         "519347",
         "88643",
         "93119",
         "89995",
         "144162",
         "103428"
        ],
        [
         "1",
         "E01020634",
         null,
         "County Durham 001A",
         "1524",
         "245",
         "197",
         "270",
         "445",
         "367"
        ],
        [
         "2",
         "E01020635",
         null,
         "County Durham 001B",
         "1315",
         "204",
         "158",
         "258",
         "397",
         "298"
        ],
        [
         "3",
         "E01020636",
         null,
         "County Durham 001C",
         "1749",
         "339",
         "284",
         "344",
         "455",
         "327"
        ],
        [
         "4",
         "E01020654",
         null,
         "County Durham 001D",
         "1860",
         "311",
         "248",
         "350",
         "534",
         "417"
        ]
       ],
       "shape": {
        "columns": 9,
        "rows": 5
       }
      },
      "text/html": [
       "<div>\n",
       "<style scoped>\n",
       "    .dataframe tbody tr th:only-of-type {\n",
       "        vertical-align: middle;\n",
       "    }\n",
       "\n",
       "    .dataframe tbody tr th {\n",
       "        vertical-align: top;\n",
       "    }\n",
       "\n",
       "    .dataframe thead th {\n",
       "        text-align: right;\n",
       "    }\n",
       "</style>\n",
       "<table border=\"1\" class=\"dataframe\">\n",
       "  <thead>\n",
       "    <tr style=\"text-align: right;\">\n",
       "      <th></th>\n",
       "      <th>Area Codes</th>\n",
       "      <th>Area Names</th>\n",
       "      <th>Unnamed: 2</th>\n",
       "      <th>All Ages</th>\n",
       "      <th>0-15</th>\n",
       "      <th>16-29</th>\n",
       "      <th>30-44</th>\n",
       "      <th>45-64</th>\n",
       "      <th>65+</th>\n",
       "    </tr>\n",
       "  </thead>\n",
       "  <tbody>\n",
       "    <tr>\n",
       "      <th>0</th>\n",
       "      <td>E06000047</td>\n",
       "      <td>County Durham</td>\n",
       "      <td>NaN</td>\n",
       "      <td>519347</td>\n",
       "      <td>88643</td>\n",
       "      <td>93119</td>\n",
       "      <td>89995</td>\n",
       "      <td>144162</td>\n",
       "      <td>103428</td>\n",
       "    </tr>\n",
       "    <tr>\n",
       "      <th>1</th>\n",
       "      <td>E01020634</td>\n",
       "      <td>NaN</td>\n",
       "      <td>County Durham 001A</td>\n",
       "      <td>1524</td>\n",
       "      <td>245</td>\n",
       "      <td>197</td>\n",
       "      <td>270</td>\n",
       "      <td>445</td>\n",
       "      <td>367</td>\n",
       "    </tr>\n",
       "    <tr>\n",
       "      <th>2</th>\n",
       "      <td>E01020635</td>\n",
       "      <td>NaN</td>\n",
       "      <td>County Durham 001B</td>\n",
       "      <td>1315</td>\n",
       "      <td>204</td>\n",
       "      <td>158</td>\n",
       "      <td>258</td>\n",
       "      <td>397</td>\n",
       "      <td>298</td>\n",
       "    </tr>\n",
       "    <tr>\n",
       "      <th>3</th>\n",
       "      <td>E01020636</td>\n",
       "      <td>NaN</td>\n",
       "      <td>County Durham 001C</td>\n",
       "      <td>1749</td>\n",
       "      <td>339</td>\n",
       "      <td>284</td>\n",
       "      <td>344</td>\n",
       "      <td>455</td>\n",
       "      <td>327</td>\n",
       "    </tr>\n",
       "    <tr>\n",
       "      <th>4</th>\n",
       "      <td>E01020654</td>\n",
       "      <td>NaN</td>\n",
       "      <td>County Durham 001D</td>\n",
       "      <td>1860</td>\n",
       "      <td>311</td>\n",
       "      <td>248</td>\n",
       "      <td>350</td>\n",
       "      <td>534</td>\n",
       "      <td>417</td>\n",
       "    </tr>\n",
       "  </tbody>\n",
       "</table>\n",
       "</div>"
      ],
      "text/plain": [
       "  Area Codes     Area Names          Unnamed: 2  All Ages   0-15  16-29  \\\n",
       "0  E06000047  County Durham                 NaN    519347  88643  93119   \n",
       "1  E01020634            NaN  County Durham 001A      1524    245    197   \n",
       "2  E01020635            NaN  County Durham 001B      1315    204    158   \n",
       "3  E01020636            NaN  County Durham 001C      1749    339    284   \n",
       "4  E01020654            NaN  County Durham 001D      1860    311    248   \n",
       "\n",
       "   30-44   45-64     65+  \n",
       "0  89995  144162  103428  \n",
       "1    270     445     367  \n",
       "2    258     397     298  \n",
       "3    344     455     327  \n",
       "4    350     534     417  "
      ]
     },
     "execution_count": 13,
     "metadata": {},
     "output_type": "execute_result"
    }
   ],
   "source": [
    "# reading sheet\n",
    "age_group_15 = age15.parse(sheet_name=\"Mid-2015 Persons\", header = 4) \n",
    "age_group_15.head()"
   ]
  },
  {
   "cell_type": "code",
   "execution_count": 14,
   "id": "808fb402",
   "metadata": {},
   "outputs": [],
   "source": [
    "# select columns\n",
    "age15_col = ['Area Codes', '65+', 'All Ages']\n",
    "age_15 = age_group_15[age15_col]"
   ]
  },
  {
   "cell_type": "code",
   "execution_count": 15,
   "id": "ae436866",
   "metadata": {},
   "outputs": [
    {
     "name": "stderr",
     "output_type": "stream",
     "text": [
      "e:\\dissertation\\project\\housing_feature_gentrification\\venv\\Lib\\site-packages\\openpyxl\\worksheet\\header_footer.py:48: UserWarning: Cannot parse header or footer so it will be ignored\n",
      "  warn(\"\"\"Cannot parse header or footer so it will be ignored\"\"\")\n"
     ]
    },
    {
     "data": {
      "application/vnd.microsoft.datawrangler.viewer.v0+json": {
       "columns": [
        {
         "name": "index",
         "rawType": "int64",
         "type": "integer"
        },
        {
         "name": "LSOA Code",
         "rawType": "object",
         "type": "string"
        },
        {
         "name": "LSOA Name",
         "rawType": "object",
         "type": "string"
        },
        {
         "name": "LA Code (2019 boundaries)",
         "rawType": "object",
         "type": "string"
        },
        {
         "name": "LA name (2019 boundaries)",
         "rawType": "object",
         "type": "string"
        },
        {
         "name": "LA Code (2020 boundaries)",
         "rawType": "object",
         "type": "string"
        },
        {
         "name": "LA name (2020 boundaries)",
         "rawType": "object",
         "type": "string"
        },
        {
         "name": "All Ages",
         "rawType": "int64",
         "type": "integer"
        },
        {
         "name": "0-15",
         "rawType": "int64",
         "type": "integer"
        },
        {
         "name": "16-29",
         "rawType": "int64",
         "type": "integer"
        },
        {
         "name": "30-44",
         "rawType": "int64",
         "type": "integer"
        },
        {
         "name": "45-64",
         "rawType": "int64",
         "type": "integer"
        },
        {
         "name": "65+",
         "rawType": "int64",
         "type": "integer"
        }
       ],
       "ref": "14f0e42f-c3f0-4d80-9496-d16d8488931b",
       "rows": [
        [
         "0",
         "E01011949",
         "Hartlepool 009A",
         "E06000001",
         "Hartlepool",
         "E06000001",
         "Hartlepool",
         "1954",
         "450",
         "315",
         "382",
         "502",
         "305"
        ],
        [
         "1",
         "E01011950",
         "Hartlepool 008A",
         "E06000001",
         "Hartlepool",
         "E06000001",
         "Hartlepool",
         "1257",
         "167",
         "259",
         "250",
         "402",
         "179"
        ],
        [
         "2",
         "E01011951",
         "Hartlepool 007A",
         "E06000001",
         "Hartlepool",
         "E06000001",
         "Hartlepool",
         "1209",
         "199",
         "257",
         "273",
         "326",
         "154"
        ],
        [
         "3",
         "E01011952",
         "Hartlepool 002A",
         "E06000001",
         "Hartlepool",
         "E06000001",
         "Hartlepool",
         "1740",
         "373",
         "278",
         "251",
         "429",
         "409"
        ],
        [
         "4",
         "E01011953",
         "Hartlepool 002B",
         "E06000001",
         "Hartlepool",
         "E06000001",
         "Hartlepool",
         "2033",
         "497",
         "413",
         "365",
         "477",
         "281"
        ]
       ],
       "shape": {
        "columns": 12,
        "rows": 5
       }
      },
      "text/html": [
       "<div>\n",
       "<style scoped>\n",
       "    .dataframe tbody tr th:only-of-type {\n",
       "        vertical-align: middle;\n",
       "    }\n",
       "\n",
       "    .dataframe tbody tr th {\n",
       "        vertical-align: top;\n",
       "    }\n",
       "\n",
       "    .dataframe thead th {\n",
       "        text-align: right;\n",
       "    }\n",
       "</style>\n",
       "<table border=\"1\" class=\"dataframe\">\n",
       "  <thead>\n",
       "    <tr style=\"text-align: right;\">\n",
       "      <th></th>\n",
       "      <th>LSOA Code</th>\n",
       "      <th>LSOA Name</th>\n",
       "      <th>LA Code (2019 boundaries)</th>\n",
       "      <th>LA name (2019 boundaries)</th>\n",
       "      <th>LA Code (2020 boundaries)</th>\n",
       "      <th>LA name (2020 boundaries)</th>\n",
       "      <th>All Ages</th>\n",
       "      <th>0-15</th>\n",
       "      <th>16-29</th>\n",
       "      <th>30-44</th>\n",
       "      <th>45-64</th>\n",
       "      <th>65+</th>\n",
       "    </tr>\n",
       "  </thead>\n",
       "  <tbody>\n",
       "    <tr>\n",
       "      <th>0</th>\n",
       "      <td>E01011949</td>\n",
       "      <td>Hartlepool 009A</td>\n",
       "      <td>E06000001</td>\n",
       "      <td>Hartlepool</td>\n",
       "      <td>E06000001</td>\n",
       "      <td>Hartlepool</td>\n",
       "      <td>1954</td>\n",
       "      <td>450</td>\n",
       "      <td>315</td>\n",
       "      <td>382</td>\n",
       "      <td>502</td>\n",
       "      <td>305</td>\n",
       "    </tr>\n",
       "    <tr>\n",
       "      <th>1</th>\n",
       "      <td>E01011950</td>\n",
       "      <td>Hartlepool 008A</td>\n",
       "      <td>E06000001</td>\n",
       "      <td>Hartlepool</td>\n",
       "      <td>E06000001</td>\n",
       "      <td>Hartlepool</td>\n",
       "      <td>1257</td>\n",
       "      <td>167</td>\n",
       "      <td>259</td>\n",
       "      <td>250</td>\n",
       "      <td>402</td>\n",
       "      <td>179</td>\n",
       "    </tr>\n",
       "    <tr>\n",
       "      <th>2</th>\n",
       "      <td>E01011951</td>\n",
       "      <td>Hartlepool 007A</td>\n",
       "      <td>E06000001</td>\n",
       "      <td>Hartlepool</td>\n",
       "      <td>E06000001</td>\n",
       "      <td>Hartlepool</td>\n",
       "      <td>1209</td>\n",
       "      <td>199</td>\n",
       "      <td>257</td>\n",
       "      <td>273</td>\n",
       "      <td>326</td>\n",
       "      <td>154</td>\n",
       "    </tr>\n",
       "    <tr>\n",
       "      <th>3</th>\n",
       "      <td>E01011952</td>\n",
       "      <td>Hartlepool 002A</td>\n",
       "      <td>E06000001</td>\n",
       "      <td>Hartlepool</td>\n",
       "      <td>E06000001</td>\n",
       "      <td>Hartlepool</td>\n",
       "      <td>1740</td>\n",
       "      <td>373</td>\n",
       "      <td>278</td>\n",
       "      <td>251</td>\n",
       "      <td>429</td>\n",
       "      <td>409</td>\n",
       "    </tr>\n",
       "    <tr>\n",
       "      <th>4</th>\n",
       "      <td>E01011953</td>\n",
       "      <td>Hartlepool 002B</td>\n",
       "      <td>E06000001</td>\n",
       "      <td>Hartlepool</td>\n",
       "      <td>E06000001</td>\n",
       "      <td>Hartlepool</td>\n",
       "      <td>2033</td>\n",
       "      <td>497</td>\n",
       "      <td>413</td>\n",
       "      <td>365</td>\n",
       "      <td>477</td>\n",
       "      <td>281</td>\n",
       "    </tr>\n",
       "  </tbody>\n",
       "</table>\n",
       "</div>"
      ],
      "text/plain": [
       "   LSOA Code        LSOA Name LA Code (2019 boundaries)  \\\n",
       "0  E01011949  Hartlepool 009A                 E06000001   \n",
       "1  E01011950  Hartlepool 008A                 E06000001   \n",
       "2  E01011951  Hartlepool 007A                 E06000001   \n",
       "3  E01011952  Hartlepool 002A                 E06000001   \n",
       "4  E01011953  Hartlepool 002B                 E06000001   \n",
       "\n",
       "  LA name (2019 boundaries) LA Code (2020 boundaries)  \\\n",
       "0                Hartlepool                 E06000001   \n",
       "1                Hartlepool                 E06000001   \n",
       "2                Hartlepool                 E06000001   \n",
       "3                Hartlepool                 E06000001   \n",
       "4                Hartlepool                 E06000001   \n",
       "\n",
       "  LA name (2020 boundaries)  All Ages  0-15  16-29  30-44  45-64  65+  \n",
       "0                Hartlepool      1954   450    315    382    502  305  \n",
       "1                Hartlepool      1257   167    259    250    402  179  \n",
       "2                Hartlepool      1209   199    257    273    326  154  \n",
       "3                Hartlepool      1740   373    278    251    429  409  \n",
       "4                Hartlepool      2033   497    413    365    477  281  "
      ]
     },
     "execution_count": 15,
     "metadata": {},
     "output_type": "execute_result"
    }
   ],
   "source": [
    "age_group_19 = age19.parse(sheet_name=\"Mid-2019 Persons\", header = 4) \n",
    "age_group_19.head()"
   ]
  },
  {
   "cell_type": "code",
   "execution_count": 16,
   "id": "bf183680",
   "metadata": {},
   "outputs": [],
   "source": [
    "# select columns\n",
    "age19_col = ['LSOA Code', '65+', 'All Ages']\n",
    "age_19 = age_group_19[age19_col]"
   ]
  },
  {
   "cell_type": "code",
   "execution_count": 17,
   "id": "787e3cc5",
   "metadata": {},
   "outputs": [
    {
     "name": "stdout",
     "output_type": "stream",
     "text": [
      "   LSOA Code  2019_senior  2019_all  2015_senior  2015_all\n",
      "0  E01011949          305      1954          294      2009\n",
      "1  E01011950          179      1257          191      1443\n",
      "2  E01011951          154      1209          128      1279\n",
      "3  E01011952          409      1740          420      1745\n",
      "4  E01011953          281      2033          242      2011\n"
     ]
    },
    {
     "name": "stderr",
     "output_type": "stream",
     "text": [
      "C:\\Users\\hp\\AppData\\Local\\Temp\\ipykernel_9012\\2481696075.py:3: SettingWithCopyWarning: \n",
      "A value is trying to be set on a copy of a slice from a DataFrame\n",
      "\n",
      "See the caveats in the documentation: https://pandas.pydata.org/pandas-docs/stable/user_guide/indexing.html#returning-a-view-versus-a-copy\n",
      "  age_15.rename(columns={'Area Codes': 'LSOA Code'}, inplace=True)\n",
      "C:\\Users\\hp\\AppData\\Local\\Temp\\ipykernel_9012\\2481696075.py:4: SettingWithCopyWarning: \n",
      "A value is trying to be set on a copy of a slice from a DataFrame\n",
      "\n",
      "See the caveats in the documentation: https://pandas.pydata.org/pandas-docs/stable/user_guide/indexing.html#returning-a-view-versus-a-copy\n",
      "  age_15.rename(columns={'All Ages': '2015_all'}, inplace=True)\n",
      "C:\\Users\\hp\\AppData\\Local\\Temp\\ipykernel_9012\\2481696075.py:5: SettingWithCopyWarning: \n",
      "A value is trying to be set on a copy of a slice from a DataFrame\n",
      "\n",
      "See the caveats in the documentation: https://pandas.pydata.org/pandas-docs/stable/user_guide/indexing.html#returning-a-view-versus-a-copy\n",
      "  age_15.rename(columns={'65+': '2015_senior'}, inplace=True)\n",
      "C:\\Users\\hp\\AppData\\Local\\Temp\\ipykernel_9012\\2481696075.py:6: SettingWithCopyWarning: \n",
      "A value is trying to be set on a copy of a slice from a DataFrame\n",
      "\n",
      "See the caveats in the documentation: https://pandas.pydata.org/pandas-docs/stable/user_guide/indexing.html#returning-a-view-versus-a-copy\n",
      "  age_19.rename(columns={'All Ages': '2019_all'}, inplace=True)\n",
      "C:\\Users\\hp\\AppData\\Local\\Temp\\ipykernel_9012\\2481696075.py:7: SettingWithCopyWarning: \n",
      "A value is trying to be set on a copy of a slice from a DataFrame\n",
      "\n",
      "See the caveats in the documentation: https://pandas.pydata.org/pandas-docs/stable/user_guide/indexing.html#returning-a-view-versus-a-copy\n",
      "  age_19.rename(columns={'65+': '2019_senior'}, inplace=True)\n"
     ]
    }
   ],
   "source": [
    "# join together\n",
    "# 把 df2 的列名改成一致\n",
    "age_15.rename(columns={'Area Codes': 'LSOA Code'}, inplace=True)\n",
    "age_15.rename(columns={'All Ages': '2015_all'}, inplace=True)\n",
    "age_15.rename(columns={'65+': '2015_senior'}, inplace=True)\n",
    "age_19.rename(columns={'All Ages': '2019_all'}, inplace=True)\n",
    "age_19.rename(columns={'65+': '2019_senior'}, inplace=True)\n",
    "\n",
    "# 然后 merge\n",
    "age_all = age_19.merge(age_15, on='LSOA Code', how='left')\n",
    "print(age_all.head())"
   ]
  },
  {
   "cell_type": "code",
   "execution_count": 18,
   "id": "3d670c0d",
   "metadata": {},
   "outputs": [
    {
     "data": {
      "application/vnd.microsoft.datawrangler.viewer.v0+json": {
       "columns": [
        {
         "name": "index",
         "rawType": "object",
         "type": "string"
        },
        {
         "name": "0",
         "rawType": "int64",
         "type": "integer"
        }
       ],
       "ref": "f9e798a9-a7aa-47f6-b290-c1fa689f2629",
       "rows": [
        [
         "2015_all",
         "0"
        ],
        [
         "2019_all",
         "0"
        ],
        [
         "2015_senior",
         "0"
        ],
        [
         "2019_senior",
         "0"
        ]
       ],
       "shape": {
        "columns": 1,
        "rows": 4
       }
      },
      "text/plain": [
       "2015_all       0\n",
       "2019_all       0\n",
       "2015_senior    0\n",
       "2019_senior    0\n",
       "dtype: int64"
      ]
     },
     "execution_count": 18,
     "metadata": {},
     "output_type": "execute_result"
    }
   ],
   "source": [
    "age_all[['2015_all', '2019_all', '2015_senior', '2019_senior']].isnull().sum()"
   ]
  },
  {
   "cell_type": "code",
   "execution_count": 19,
   "id": "f19dd420",
   "metadata": {},
   "outputs": [
    {
     "name": "stdout",
     "output_type": "stream",
     "text": [
      "   LSOA Code  2019_senior  2019_all  2015_senior  2015_all  senior_per\n",
      "0  E01011949          305      1954          294      2009   15.121577\n",
      "1  E01011950          179      1257          191      1443   13.738284\n",
      "2  E01011951          154      1209          128      1279   11.372809\n",
      "3  E01011952          409      1740          420      1745   23.787258\n",
      "4  E01011953          281      2033          242      2011   12.927876\n"
     ]
    }
   ],
   "source": [
    "age_all['senior_per'] = (age_all['2019_senior'] / age_all['2019_all'] + age_all['2015_senior'] / age_all['2015_all']) * 100 /2\n",
    "print(age_all.head())"
   ]
  },
  {
   "cell_type": "code",
   "execution_count": 20,
   "id": "67788a8d",
   "metadata": {},
   "outputs": [
    {
     "data": {
      "text/plain": [
       "(4835, 6)"
      ]
     },
     "execution_count": 20,
     "metadata": {},
     "output_type": "execute_result"
    }
   ],
   "source": [
    "# select data in London area\n",
    "df_london_age = age_all[age_all['LSOA Code'].isin(london_lsoa_list)]\n",
    "df_london_age.shape"
   ]
  },
  {
   "cell_type": "markdown",
   "id": "190edcb7",
   "metadata": {},
   "source": [
    "## Ethnic groups\n",
    "\n",
    "Focusing on the minority percentage here."
   ]
  },
  {
   "cell_type": "code",
   "execution_count": 21,
   "id": "efd816fc",
   "metadata": {},
   "outputs": [
    {
     "data": {
      "application/vnd.microsoft.datawrangler.viewer.v0+json": {
       "columns": [
        {
         "name": "index",
         "rawType": "int64",
         "type": "integer"
        },
        {
         "name": "date",
         "rawType": "int64",
         "type": "integer"
        },
        {
         "name": "geography",
         "rawType": "object",
         "type": "string"
        },
        {
         "name": "geography code",
         "rawType": "object",
         "type": "string"
        },
        {
         "name": "Ethnic Group: All categories: Ethnic group; measures: Value",
         "rawType": "int64",
         "type": "integer"
        },
        {
         "name": "Ethnic Group: White; measures: Value",
         "rawType": "int64",
         "type": "integer"
        },
        {
         "name": "Ethnic Group: Gypsy / Traveller / Irish Traveller; measures: Value",
         "rawType": "int64",
         "type": "integer"
        },
        {
         "name": "Ethnic Group: Mixed / Multiple ethnic group; measures: Value",
         "rawType": "int64",
         "type": "integer"
        },
        {
         "name": "Ethnic Group: Asian / Asian British: Indian; measures: Value",
         "rawType": "int64",
         "type": "integer"
        },
        {
         "name": "Ethnic Group: Asian / Asian British: Pakistani; measures: Value",
         "rawType": "int64",
         "type": "integer"
        },
        {
         "name": "Ethnic Group: Asian / Asian British: Bangladeshi; measures: Value",
         "rawType": "int64",
         "type": "integer"
        },
        {
         "name": "Ethnic Group: Asian / Asian British: Chinese; measures: Value",
         "rawType": "int64",
         "type": "integer"
        },
        {
         "name": "Ethnic Group: Asian / Asian British: Other Asian; measures: Value",
         "rawType": "int64",
         "type": "integer"
        },
        {
         "name": "Ethnic Group: Black / African / Caribbean / Black British; measures: Value",
         "rawType": "int64",
         "type": "integer"
        },
        {
         "name": "Ethnic Group: Other Ethnic Group; measures: Value",
         "rawType": "int64",
         "type": "integer"
        }
       ],
       "ref": "3df14bf7-6f07-4bad-a15e-51cfbb53f606",
       "rows": [
        [
         "0",
         "2011",
         "Darlington 001B",
         "E01012334",
         "2466",
         "2401",
         "3",
         "29",
         "18",
         "3",
         "0",
         "5",
         "1",
         "1",
         "5"
        ],
        [
         "1",
         "2011",
         "Darlington 001C",
         "E01012335",
         "1383",
         "1362",
         "0",
         "9",
         "0",
         "0",
         "5",
         "3",
         "3",
         "0",
         "1"
        ],
        [
         "2",
         "2011",
         "Darlington 001D",
         "E01012366",
         "2008",
         "1961",
         "5",
         "16",
         "8",
         "1",
         "1",
         "1",
         "9",
         "6",
         "0"
        ],
        [
         "3",
         "2011",
         "Darlington 001E",
         "E01033481",
         "1364",
         "1311",
         "5",
         "16",
         "11",
         "3",
         "0",
         "5",
         "3",
         "6",
         "4"
        ],
        [
         "4",
         "2011",
         "Darlington 001F",
         "E01033482",
         "1621",
         "1540",
         "26",
         "20",
         "14",
         "0",
         "0",
         "6",
         "3",
         "11",
         "1"
        ]
       ],
       "shape": {
        "columns": 14,
        "rows": 5
       }
      },
      "text/html": [
       "<div>\n",
       "<style scoped>\n",
       "    .dataframe tbody tr th:only-of-type {\n",
       "        vertical-align: middle;\n",
       "    }\n",
       "\n",
       "    .dataframe tbody tr th {\n",
       "        vertical-align: top;\n",
       "    }\n",
       "\n",
       "    .dataframe thead th {\n",
       "        text-align: right;\n",
       "    }\n",
       "</style>\n",
       "<table border=\"1\" class=\"dataframe\">\n",
       "  <thead>\n",
       "    <tr style=\"text-align: right;\">\n",
       "      <th></th>\n",
       "      <th>date</th>\n",
       "      <th>geography</th>\n",
       "      <th>geography code</th>\n",
       "      <th>Ethnic Group: All categories: Ethnic group; measures: Value</th>\n",
       "      <th>Ethnic Group: White; measures: Value</th>\n",
       "      <th>Ethnic Group: Gypsy / Traveller / Irish Traveller; measures: Value</th>\n",
       "      <th>Ethnic Group: Mixed / Multiple ethnic group; measures: Value</th>\n",
       "      <th>Ethnic Group: Asian / Asian British: Indian; measures: Value</th>\n",
       "      <th>Ethnic Group: Asian / Asian British: Pakistani; measures: Value</th>\n",
       "      <th>Ethnic Group: Asian / Asian British: Bangladeshi; measures: Value</th>\n",
       "      <th>Ethnic Group: Asian / Asian British: Chinese; measures: Value</th>\n",
       "      <th>Ethnic Group: Asian / Asian British: Other Asian; measures: Value</th>\n",
       "      <th>Ethnic Group: Black / African / Caribbean / Black British; measures: Value</th>\n",
       "      <th>Ethnic Group: Other Ethnic Group; measures: Value</th>\n",
       "    </tr>\n",
       "  </thead>\n",
       "  <tbody>\n",
       "    <tr>\n",
       "      <th>0</th>\n",
       "      <td>2011</td>\n",
       "      <td>Darlington 001B</td>\n",
       "      <td>E01012334</td>\n",
       "      <td>2466</td>\n",
       "      <td>2401</td>\n",
       "      <td>3</td>\n",
       "      <td>29</td>\n",
       "      <td>18</td>\n",
       "      <td>3</td>\n",
       "      <td>0</td>\n",
       "      <td>5</td>\n",
       "      <td>1</td>\n",
       "      <td>1</td>\n",
       "      <td>5</td>\n",
       "    </tr>\n",
       "    <tr>\n",
       "      <th>1</th>\n",
       "      <td>2011</td>\n",
       "      <td>Darlington 001C</td>\n",
       "      <td>E01012335</td>\n",
       "      <td>1383</td>\n",
       "      <td>1362</td>\n",
       "      <td>0</td>\n",
       "      <td>9</td>\n",
       "      <td>0</td>\n",
       "      <td>0</td>\n",
       "      <td>5</td>\n",
       "      <td>3</td>\n",
       "      <td>3</td>\n",
       "      <td>0</td>\n",
       "      <td>1</td>\n",
       "    </tr>\n",
       "    <tr>\n",
       "      <th>2</th>\n",
       "      <td>2011</td>\n",
       "      <td>Darlington 001D</td>\n",
       "      <td>E01012366</td>\n",
       "      <td>2008</td>\n",
       "      <td>1961</td>\n",
       "      <td>5</td>\n",
       "      <td>16</td>\n",
       "      <td>8</td>\n",
       "      <td>1</td>\n",
       "      <td>1</td>\n",
       "      <td>1</td>\n",
       "      <td>9</td>\n",
       "      <td>6</td>\n",
       "      <td>0</td>\n",
       "    </tr>\n",
       "    <tr>\n",
       "      <th>3</th>\n",
       "      <td>2011</td>\n",
       "      <td>Darlington 001E</td>\n",
       "      <td>E01033481</td>\n",
       "      <td>1364</td>\n",
       "      <td>1311</td>\n",
       "      <td>5</td>\n",
       "      <td>16</td>\n",
       "      <td>11</td>\n",
       "      <td>3</td>\n",
       "      <td>0</td>\n",
       "      <td>5</td>\n",
       "      <td>3</td>\n",
       "      <td>6</td>\n",
       "      <td>4</td>\n",
       "    </tr>\n",
       "    <tr>\n",
       "      <th>4</th>\n",
       "      <td>2011</td>\n",
       "      <td>Darlington 001F</td>\n",
       "      <td>E01033482</td>\n",
       "      <td>1621</td>\n",
       "      <td>1540</td>\n",
       "      <td>26</td>\n",
       "      <td>20</td>\n",
       "      <td>14</td>\n",
       "      <td>0</td>\n",
       "      <td>0</td>\n",
       "      <td>6</td>\n",
       "      <td>3</td>\n",
       "      <td>11</td>\n",
       "      <td>1</td>\n",
       "    </tr>\n",
       "  </tbody>\n",
       "</table>\n",
       "</div>"
      ],
      "text/plain": [
       "   date        geography geography code  \\\n",
       "0  2011  Darlington 001B      E01012334   \n",
       "1  2011  Darlington 001C      E01012335   \n",
       "2  2011  Darlington 001D      E01012366   \n",
       "3  2011  Darlington 001E      E01033481   \n",
       "4  2011  Darlington 001F      E01033482   \n",
       "\n",
       "   Ethnic Group: All categories: Ethnic group; measures: Value  \\\n",
       "0                                               2466             \n",
       "1                                               1383             \n",
       "2                                               2008             \n",
       "3                                               1364             \n",
       "4                                               1621             \n",
       "\n",
       "   Ethnic Group: White; measures: Value  \\\n",
       "0                                  2401   \n",
       "1                                  1362   \n",
       "2                                  1961   \n",
       "3                                  1311   \n",
       "4                                  1540   \n",
       "\n",
       "   Ethnic Group: Gypsy / Traveller / Irish Traveller; measures: Value  \\\n",
       "0                                                  3                    \n",
       "1                                                  0                    \n",
       "2                                                  5                    \n",
       "3                                                  5                    \n",
       "4                                                 26                    \n",
       "\n",
       "   Ethnic Group: Mixed / Multiple ethnic group; measures: Value  \\\n",
       "0                                                 29              \n",
       "1                                                  9              \n",
       "2                                                 16              \n",
       "3                                                 16              \n",
       "4                                                 20              \n",
       "\n",
       "   Ethnic Group: Asian / Asian British: Indian; measures: Value  \\\n",
       "0                                                 18              \n",
       "1                                                  0              \n",
       "2                                                  8              \n",
       "3                                                 11              \n",
       "4                                                 14              \n",
       "\n",
       "   Ethnic Group: Asian / Asian British: Pakistani; measures: Value  \\\n",
       "0                                                  3                 \n",
       "1                                                  0                 \n",
       "2                                                  1                 \n",
       "3                                                  3                 \n",
       "4                                                  0                 \n",
       "\n",
       "   Ethnic Group: Asian / Asian British: Bangladeshi; measures: Value  \\\n",
       "0                                                  0                   \n",
       "1                                                  5                   \n",
       "2                                                  1                   \n",
       "3                                                  0                   \n",
       "4                                                  0                   \n",
       "\n",
       "   Ethnic Group: Asian / Asian British: Chinese; measures: Value  \\\n",
       "0                                                  5               \n",
       "1                                                  3               \n",
       "2                                                  1               \n",
       "3                                                  5               \n",
       "4                                                  6               \n",
       "\n",
       "   Ethnic Group: Asian / Asian British: Other Asian; measures: Value  \\\n",
       "0                                                  1                   \n",
       "1                                                  3                   \n",
       "2                                                  9                   \n",
       "3                                                  3                   \n",
       "4                                                  3                   \n",
       "\n",
       "   Ethnic Group: Black / African / Caribbean / Black British; measures: Value  \\\n",
       "0                                                  1                            \n",
       "1                                                  0                            \n",
       "2                                                  6                            \n",
       "3                                                  6                            \n",
       "4                                                 11                            \n",
       "\n",
       "   Ethnic Group: Other Ethnic Group; measures: Value  \n",
       "0                                                  5  \n",
       "1                                                  1  \n",
       "2                                                  0  \n",
       "3                                                  4  \n",
       "4                                                  1  "
      ]
     },
     "execution_count": 21,
     "metadata": {},
     "output_type": "execute_result"
    }
   ],
   "source": [
    "ethnic_group = pd.read_csv(\"data/stru_data/bulk.csv\")\n",
    "ethnic_group.head(5)"
   ]
  },
  {
   "cell_type": "code",
   "execution_count": 22,
   "id": "507b687b",
   "metadata": {},
   "outputs": [],
   "source": [
    "# select columns\n",
    "eth_col = ['geography code', 'Ethnic Group: All categories: Ethnic group; measures: Value', 'Ethnic Group: White; measures: Value']\n",
    "df_eth = ethnic_group[eth_col]"
   ]
  },
  {
   "cell_type": "code",
   "execution_count": 23,
   "id": "5ef6e74c",
   "metadata": {},
   "outputs": [
    {
     "name": "stderr",
     "output_type": "stream",
     "text": [
      "C:\\Users\\hp\\AppData\\Local\\Temp\\ipykernel_9012\\4047659333.py:1: SettingWithCopyWarning: \n",
      "A value is trying to be set on a copy of a slice from a DataFrame\n",
      "\n",
      "See the caveats in the documentation: https://pandas.pydata.org/pandas-docs/stable/user_guide/indexing.html#returning-a-view-versus-a-copy\n",
      "  df_eth.rename(columns={'geography code': 'LSOA Code'}, inplace=True)\n",
      "C:\\Users\\hp\\AppData\\Local\\Temp\\ipykernel_9012\\4047659333.py:2: SettingWithCopyWarning: \n",
      "A value is trying to be set on a copy of a slice from a DataFrame\n",
      "\n",
      "See the caveats in the documentation: https://pandas.pydata.org/pandas-docs/stable/user_guide/indexing.html#returning-a-view-versus-a-copy\n",
      "  df_eth.rename(columns={'Ethnic Group: All categories: Ethnic group; measures: Value': 'all'}, inplace=True)\n",
      "C:\\Users\\hp\\AppData\\Local\\Temp\\ipykernel_9012\\4047659333.py:3: SettingWithCopyWarning: \n",
      "A value is trying to be set on a copy of a slice from a DataFrame\n",
      "\n",
      "See the caveats in the documentation: https://pandas.pydata.org/pandas-docs/stable/user_guide/indexing.html#returning-a-view-versus-a-copy\n",
      "  df_eth.rename(columns={'Ethnic Group: White; measures: Value': 'white'}, inplace=True)\n"
     ]
    },
    {
     "data": {
      "application/vnd.microsoft.datawrangler.viewer.v0+json": {
       "columns": [
        {
         "name": "index",
         "rawType": "object",
         "type": "string"
        },
        {
         "name": "0",
         "rawType": "int64",
         "type": "integer"
        }
       ],
       "ref": "dcbc9223-cb53-4954-b39e-b22b5415bc6c",
       "rows": [
        [
         "all",
         "0"
        ],
        [
         "white",
         "0"
        ]
       ],
       "shape": {
        "columns": 1,
        "rows": 2
       }
      },
      "text/plain": [
       "all      0\n",
       "white    0\n",
       "dtype: int64"
      ]
     },
     "execution_count": 23,
     "metadata": {},
     "output_type": "execute_result"
    }
   ],
   "source": [
    "df_eth.rename(columns={'geography code': 'LSOA Code'}, inplace=True)\n",
    "df_eth.rename(columns={'Ethnic Group: All categories: Ethnic group; measures: Value': 'all'}, inplace=True)\n",
    "df_eth.rename(columns={'Ethnic Group: White; measures: Value': 'white'}, inplace=True)\n",
    "df_eth[['all', 'white']].isnull().sum()"
   ]
  },
  {
   "cell_type": "code",
   "execution_count": 24,
   "id": "1ca3b306",
   "metadata": {},
   "outputs": [
    {
     "name": "stdout",
     "output_type": "stream",
     "text": [
      "   LSOA Code   all  white  minority_per\n",
      "0  E01012334  2466   2401      2.635848\n",
      "1  E01012335  1383   1362      1.518438\n",
      "2  E01012366  2008   1961      2.340637\n",
      "3  E01033481  1364   1311      3.885630\n",
      "4  E01033482  1621   1540      4.996915\n"
     ]
    },
    {
     "name": "stderr",
     "output_type": "stream",
     "text": [
      "C:\\Users\\hp\\AppData\\Local\\Temp\\ipykernel_9012\\191691982.py:1: SettingWithCopyWarning: \n",
      "A value is trying to be set on a copy of a slice from a DataFrame.\n",
      "Try using .loc[row_indexer,col_indexer] = value instead\n",
      "\n",
      "See the caveats in the documentation: https://pandas.pydata.org/pandas-docs/stable/user_guide/indexing.html#returning-a-view-versus-a-copy\n",
      "  df_eth['minority_per'] = (df_eth['all'] - df_eth['white']) *100 / df_eth['all']\n"
     ]
    }
   ],
   "source": [
    "df_eth['minority_per'] = (df_eth['all'] - df_eth['white']) *100 / df_eth['all']\n",
    "print(df_eth.head())"
   ]
  },
  {
   "cell_type": "code",
   "execution_count": 25,
   "id": "6d46ec28",
   "metadata": {},
   "outputs": [
    {
     "data": {
      "text/plain": [
       "(4835, 4)"
      ]
     },
     "execution_count": 25,
     "metadata": {},
     "output_type": "execute_result"
    }
   ],
   "source": [
    "# select data in London area\n",
    "df_london_eth = df_eth[df_eth['LSOA Code'].isin(london_lsoa_list)]\n",
    "df_london_eth.shape"
   ]
  },
  {
   "cell_type": "code",
   "execution_count": 26,
   "id": "197b3b20",
   "metadata": {},
   "outputs": [],
   "source": [
    "# merge all the data together\n",
    "df_data_all = df_london_den.merge(df_london_age, on='LSOA Code', how='left')"
   ]
  },
  {
   "cell_type": "code",
   "execution_count": 27,
   "id": "3f9d3f3e",
   "metadata": {},
   "outputs": [
    {
     "name": "stdout",
     "output_type": "stream",
     "text": [
      "   LSOA Code  Mid-2019 population  2019_population_density  \\\n",
      "0  E01000001                 1636             12604.006163   \n",
      "1  E01000002                 1558              6821.366025   \n",
      "2  E01000003                 1786             30219.966159   \n",
      "3  E01000005                 1888              9957.805907   \n",
      "4  E01032739                 1375               831.519110   \n",
      "\n",
      "   Mid-2015 population  2015_population_density  pop_growth_rate  \\\n",
      "0                 1296                     9985         0.262346   \n",
      "1                 1156                     5061         0.347751   \n",
      "2                 1350                    22843         0.322963   \n",
      "3                 1121                     5912         0.684211   \n",
      "4                  802                      485         0.714464   \n",
      "\n",
      "        avg_den  2019_senior  2019_all  2015_senior  2015_all  senior_per  \\\n",
      "0  11294.503082          451      1636          351      1296   27.325285   \n",
      "1   5941.183012          371      1558          303      1156   25.011826   \n",
      "2  26531.483080          411      1786          348      1350   24.395048   \n",
      "3   7934.902954          193      1888          152      1121   11.890890   \n",
      "4    658.259555           63      1375           55       802    5.719837   \n",
      "\n",
      "    all  white  minority_per  \n",
      "0  1465   1237     15.563140  \n",
      "1  1436   1274     11.281337  \n",
      "2  1346   1055     21.619614  \n",
      "3   985    505     48.730964  \n",
      "4  1044    812     22.222222  \n"
     ]
    }
   ],
   "source": [
    "df_data_all = df_data_all.merge(df_london_eth, on='LSOA Code', how='left')\n",
    "print(df_data_all.head(5))"
   ]
  },
  {
   "cell_type": "code",
   "execution_count": 28,
   "id": "2093dea3",
   "metadata": {},
   "outputs": [],
   "source": [
    "columns_to_keep = ['LSOA Code', 'pop_growth_rate', 'avg_den', 'senior_per', 'minority_per']\n",
    "cleaned_df = df_data_all[columns_to_keep]"
   ]
  },
  {
   "cell_type": "code",
   "execution_count": 29,
   "id": "c6dfd161",
   "metadata": {},
   "outputs": [],
   "source": [
    "cleaned_df.to_csv(\"data/all_stru_data.csv\", index=False)"
   ]
  }
 ],
 "metadata": {
  "kernelspec": {
   "display_name": "venv",
   "language": "python",
   "name": "python3"
  },
  "language_info": {
   "codemirror_mode": {
    "name": "ipython",
    "version": 3
   },
   "file_extension": ".py",
   "mimetype": "text/x-python",
   "name": "python",
   "nbconvert_exporter": "python",
   "pygments_lexer": "ipython3",
   "version": "3.12.5"
  }
 },
 "nbformat": 4,
 "nbformat_minor": 5
}
