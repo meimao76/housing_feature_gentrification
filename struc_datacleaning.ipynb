{
 "cells": [
  {
   "cell_type": "markdown",
   "id": "1598bb87",
   "metadata": {},
   "source": [
    "# Structural Data\n",
    "As the structural values of the lsoa area, describe the background featuers of each lsoa.\n",
    "- population density\n",
    "- urban expansion efficiency\n",
    "- migration"
   ]
  },
  {
   "cell_type": "markdown",
   "id": "e02cb08a",
   "metadata": {
    "vscode": {
     "languageId": "plaintext"
    }
   },
   "source": [
    "## Population Density"
   ]
  },
  {
   "cell_type": "code",
   "execution_count": null,
   "id": "b3f931bb",
   "metadata": {
    "vscode": {
     "languageId": "plaintext"
    }
   },
   "outputs": [],
   "source": []
  }
 ],
 "metadata": {
  "language_info": {
   "name": "python"
  }
 },
 "nbformat": 4,
 "nbformat_minor": 5
}
