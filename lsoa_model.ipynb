{
 "cells": [
  {
   "cell_type": "markdown",
   "id": "129c1115",
   "metadata": {},
   "source": [
    "In here we tried to perform the model on lsoa level, summerzing all the sentences vectors within one lsoa, use these to predict gentrification."
   ]
  },
  {
   "cell_type": "code",
   "execution_count": 1,
   "id": "b770ed17",
   "metadata": {},
   "outputs": [],
   "source": [
    "import geopandas as gpd\n",
    "import numpy as np\n",
    "import pandas as pd\n",
    "from shapely.geometry import Polygon\n",
    "from shapely.geometry import Point\n",
    "from sentence_transformers import SentenceTransformer, util\n",
    "from sklearn.linear_model import LogisticRegression\n",
    "from sklearn.metrics.pairwise import cosine_similarity\n",
    "from tqdm import tqdm\n",
    "from sklearn.model_selection import train_test_split\n",
    "import seaborn as sns\n",
    "import matplotlib.pyplot as plt\n",
    "from xgboost import XGBClassifier\n",
    "from sklearn.metrics import classification_report, roc_auc_score, log_loss, accuracy_score, recall_score, f1_score\n",
    "from sklearn.model_selection import StratifiedKFold\n",
    "from imblearn.metrics import geometric_mean_score"
   ]
  },
  {
   "cell_type": "code",
   "execution_count": 43,
   "id": "82ddc5bb",
   "metadata": {},
   "outputs": [
    {
     "data": {
      "text/plain": [
       "<Projected CRS: EPSG:27700>\n",
       "Name: OSGB36 / British National Grid\n",
       "Axis Info [cartesian]:\n",
       "- E[east]: Easting (metre)\n",
       "- N[north]: Northing (metre)\n",
       "Area of Use:\n",
       "- name: United Kingdom (UK) - offshore to boundary of UKCS within 49°45'N to 61°N and 9°W to 2°E; onshore Great Britain (England, Wales and Scotland). Isle of Man onshore.\n",
       "- bounds: (-9.01, 49.75, 2.01, 61.01)\n",
       "Coordinate Operation:\n",
       "- name: British National Grid\n",
       "- method: Transverse Mercator\n",
       "Datum: Ordnance Survey of Great Britain 1936\n",
       "- Ellipsoid: Airy 1830\n",
       "- Prime Meridian: Greenwich"
      ]
     },
     "execution_count": 43,
     "metadata": {},
     "output_type": "execute_result"
    }
   ],
   "source": [
    "# merge the gentri label to the vectorization text\n",
    "# use 'polygon' or 'wgs84_polygon', depend on what coordinate the label is\n",
    "# load gentri label\n",
    "lsoa_label = gpd.read_file(\"data/gentri_data/london_gentri_labeled_25_only.shp\")\n",
    "lsoa_label.crs"
   ]
  },
  {
   "cell_type": "code",
   "execution_count": 44,
   "id": "31ad4e59",
   "metadata": {},
   "outputs": [
    {
     "name": "stdout",
     "output_type": "stream",
     "text": [
      "Index(['LSOA Code', 'pop_growth_rate', 'avg_den', 'senior_per', 'minority_per',\n",
      "       'all_dwelling', 'shared_per', 'converted_per', 'level_4_pop',\n",
      "       'level_4_per', 'prof_occ_count', 'prof_occ_per', 'pro_sale_2019',\n",
      "       'sale_avg', 'single_per', 'less_10km_per'],\n",
      "      dtype='object')\n"
     ]
    }
   ],
   "source": [
    "stru_data = pd.read_csv(\"data/all_stru_data_added.csv\")\n",
    "print(stru_data.columns)"
   ]
  },
  {
   "cell_type": "code",
   "execution_count": 45,
   "id": "aeb72a12",
   "metadata": {},
   "outputs": [],
   "source": [
    "stru_data = stru_data.rename(columns={'LSOA Code': 'LSOA code'})\n",
    "lsoa_label = lsoa_label.merge(stru_data, on= \"LSOA code\", how=\"left\")"
   ]
  },
  {
   "cell_type": "code",
   "execution_count": 46,
   "id": "7ec32bcb",
   "metadata": {},
   "outputs": [
    {
     "name": "stdout",
     "output_type": "stream",
     "text": [
      "Index(['site_name', 'decision_date', 'valid_date', 'polygon.geometries',\n",
      "       'polygon.type', 'wgs84_polygon.coordinates', 'wgs84_polygon.type',\n",
      "       'description', 'borough', 'street_name',\n",
      "       ...\n",
      "       'sbert_374', 'sbert_375', 'sbert_376', 'sbert_377', 'sbert_378',\n",
      "       'sbert_379', 'sbert_380', 'sbert_381', 'sbert_382', 'sbert_383'],\n",
      "      dtype='object', length=401)\n"
     ]
    }
   ],
   "source": [
    "# use the wgs84_polygon to join the label with text\n",
    "# read the text\n",
    "text = pd.read_parquet(\"sbert_encoded_data.parquet\")\n",
    "print(text.columns)"
   ]
  },
  {
   "cell_type": "code",
   "execution_count": 47,
   "id": "cbfffb6c",
   "metadata": {},
   "outputs": [],
   "source": [
    "# turn polygon coordinate into shapely \n",
    "# make sure to drop the null geodata\n",
    "import ast\n",
    "from shapely.geometry import Polygon\n",
    "import geopandas as gpd\n",
    "\n",
    "# 1. 去掉空值\n",
    "text_valid = text[text['wgs84_polygon.coordinates'].notnull()].copy()\n",
    "\n",
    "# 2. 如果是字符串形式的 list，先转为真正的 list\n",
    "text_valid[\"geometry\"] = text_valid[\"wgs84_polygon.coordinates\"].apply(\n",
    "    lambda coords: Polygon(ast.literal_eval(coords)[0]) if isinstance(coords, str) else Polygon(coords[0])\n",
    ")\n",
    "\n",
    "# 3. 创建 GeoDataFrame，设置坐标系\n",
    "gdf_text = gpd.GeoDataFrame(text_valid, geometry=\"geometry\", crs=\"EPSG:4326\")"
   ]
  },
  {
   "cell_type": "code",
   "execution_count": 48,
   "id": "2e75290a",
   "metadata": {},
   "outputs": [],
   "source": [
    "# set to 27700\n",
    "gdf_27700 = gdf_text.to_crs(\"EPSG:27700\")"
   ]
  },
  {
   "cell_type": "code",
   "execution_count": 49,
   "id": "f130a260",
   "metadata": {},
   "outputs": [],
   "source": [
    "joined = gpd.sjoin(gdf_27700, lsoa_label[[\"LSOA code\", \"geometry\", \"gentrified\", \"pop_growth_rate\", \n",
    "                                          \"price_grow\", \"avg_den\", \"senior_per\", \"minority_per\"]], \n",
    "                                          how=\"left\", predicate=\"within\")"
   ]
  },
  {
   "cell_type": "code",
   "execution_count": 50,
   "id": "c445f9d0",
   "metadata": {},
   "outputs": [],
   "source": [
    "# get the centroid of each polygon\n",
    "gdf_27700[\"centroid\"] = gdf_27700.geometry.centroid"
   ]
  },
  {
   "cell_type": "code",
   "execution_count": 51,
   "id": "5d2dd4d6",
   "metadata": {},
   "outputs": [],
   "source": [
    "# spatial join\n",
    "joined = gpd.sjoin(gdf_27700, lsoa_label, how=\"left\", predicate=\"within\")"
   ]
  },
  {
   "cell_type": "code",
   "execution_count": 52,
   "id": "98b54865",
   "metadata": {},
   "outputs": [],
   "source": [
    "# spatial join\n",
    "joined_centroid = gpd.sjoin(gdf_27700.set_geometry(\"centroid\"), lsoa_label[[\"LSOA code\", \"geometry\", \"gentrified\", \"pop_growth_rate\", \n",
    "                                                                            \"price_grow\", \"avg_den\", \"senior_per\", \"minority_per\"]],\n",
    "                                                                            how=\"left\",predicate=\"within\")"
   ]
  },
  {
   "cell_type": "code",
   "execution_count": 53,
   "id": "526193ea",
   "metadata": {},
   "outputs": [
    {
     "data": {
      "text/plain": [
       "Index(['site_name', 'decision_date', 'valid_date', 'polygon.geometries',\n",
       "       'polygon.type', 'wgs84_polygon.coordinates', 'wgs84_polygon.type',\n",
       "       'description', 'borough', 'street_name',\n",
       "       ...\n",
       "       'geometry', 'centroid', 'index_right', 'LSOA code', 'gentrified',\n",
       "       'pop_growth_rate', 'price_grow', 'avg_den', 'senior_per',\n",
       "       'minority_per'],\n",
       "      dtype='object', length=411)"
      ]
     },
     "execution_count": 53,
     "metadata": {},
     "output_type": "execute_result"
    }
   ],
   "source": [
    "joined_cleaned = joined_centroid[joined_centroid[\"gentrified\"].notna()].copy()\n",
    "joined_cleaned.columns"
   ]
  },
  {
   "cell_type": "code",
   "execution_count": 54,
   "id": "cd1a7037",
   "metadata": {},
   "outputs": [],
   "source": [
    "lsoa_counts = joined_cleaned.groupby('LSOA code').size().reset_index(name='application_count')"
   ]
  },
  {
   "cell_type": "code",
   "execution_count": 55,
   "id": "8e8492ff",
   "metadata": {},
   "outputs": [
    {
     "data": {
      "text/plain": [
       "<Axes: >"
      ]
     },
     "execution_count": 55,
     "metadata": {},
     "output_type": "execute_result"
    },
    {
     "data": {
      "image/png": "[encoded data removed]",
      "text/plain": [
       "<Figure size 640x480 with 2 Axes>"
      ]
     },
     "metadata": {},
     "output_type": "display_data"
    }
   ],
   "source": [
    "# gdf_lsoa: 是你读取的 LSOA 边界数据\n",
    "lsoa_label = lsoa_label.merge(lsoa_counts, on='LSOA code', how='left')\n",
    "lsoa_label['application_count'] = lsoa_label['application_count'].fillna(0).astype(int)\n",
    "\n",
    "# 地图可视化\n",
    "lsoa_label.plot(column='application_count', cmap='OrRd', legend=True)\n"
   ]
  },
  {
   "cell_type": "code",
   "execution_count": 56,
   "id": "b3d537c0",
   "metadata": {},
   "outputs": [
    {
     "name": "stdout",
     "output_type": "stream",
     "text": [
      "   LSOA code  application_count\n",
      "0  E01000001                 48\n",
      "1  E01000002                 87\n",
      "2  E01000003                 34\n",
      "3  E01000005                 98\n",
      "4  E01000006                  1\n"
     ]
    }
   ],
   "source": [
    "print(lsoa_counts.head(5))"
   ]
  },
  {
   "cell_type": "code",
   "execution_count": 57,
   "id": "8cdb7bde",
   "metadata": {},
   "outputs": [],
   "source": [
    "# 按 LSOA 编码分组，取均值（你也可以试试 sum、max 等方式）\n",
    "sbert_cols = [f\"sbert_{i}\" for i in range(384)]\n",
    "lsoa_vecs = joined_cleaned.groupby(\"LSOA code\")[sbert_cols].mean()\n",
    "\n",
    "# struct_cols = ['pop_growth_rate', 'avg_den', 'senior_per', 'minority_per']\n",
    "# lsoa_struct = joined_cleaned.groupby(\"LSOA code\")[struct_cols].mean()\n",
    "\n",
    "# lsoa_combined = lsoa_vecs.join(lsoa_struct, how='left')\n",
    "\n",
    "# lsoa_label = joined_cleaned[['LSOA code', 'gentrified']].drop_duplicates()\n",
    "# lsoa_combined = lsoa_combined.reset_index().merge(lsoa_label, on=\"LSOA code\", how=\"left\")\n"
   ]
  },
  {
   "cell_type": "code",
   "execution_count": 86,
   "id": "7b334232",
   "metadata": {},
   "outputs": [
    {
     "data": {
      "text/plain": [
       "<bound method NDFrame.head of                                                 site_name decision_date  \\\n",
       "0                                                            2016-05-26   \n",
       "1                                        Residential Unit    2015-10-28   \n",
       "2                                                            2015-05-12   \n",
       "3                                    McDonalds Restaurant    2015-07-03   \n",
       "4                                                            2015-10-19   \n",
       "...                                                   ...           ...   \n",
       "192565                     140 Bruce Road, London, E3 3EU    2019-06-17   \n",
       "192568                      11 Rum Close, London, E1W 3QX    2019-06-24   \n",
       "192578  Site On East Side North Of Railway Bridge Betw...    2020-04-28   \n",
       "192579  Calders Wharf, Saunders Ness Road, London, E14...    2019-09-24   \n",
       "192581               82 West India Dock Road, London, E14    2019-10-21   \n",
       "\n",
       "       valid_date                                 polygon.geometries  \\\n",
       "0      2015-06-12  [{'coordinates': [[array([530673.9038811, 1839...   \n",
       "1      2015-06-23  [{'coordinates': [[array([529220.0027867, 1864...   \n",
       "2      2015-04-03  [{'coordinates': [[array([524377.95, 188031.85...   \n",
       "3      2015-04-15  [{'coordinates': [[array([514258.2428256, 1802...   \n",
       "4      2015-08-24  [{'coordinates': [[array([531615.186, 176934.4...   \n",
       "...           ...                                                ...   \n",
       "192565 2019-04-24  [{'coordinates': [[array([537585.5660028, 1826...   \n",
       "192568 2019-05-07  [{'coordinates': [[array([534999.6279988, 1806...   \n",
       "192578 2019-11-28  [{'coordinates': [[array([534494.721004 , 1809...   \n",
       "192579 2019-08-01  [{'coordinates': [[array([538274.4080011, 1782...   \n",
       "192581 2019-06-07  [{'coordinates': [[array([537043.2960005, 1808...   \n",
       "\n",
       "              polygon.type                          wgs84_polygon.coordinates  \\\n",
       "0       GeometryCollection  [[[-0.11717000000000001, 51.5391065], [-0.1171...   \n",
       "1       GeometryCollection  [[[-0.137201, 51.5619933], [-0.137201699999999...   \n",
       "2       GeometryCollection  [[[-0.20645229999999998, 51.57744], [-0.206366...   \n",
       "3       GeometryCollection  [[[-0.3549546, 51.5095373], [-0.3549082, 51.50...   \n",
       "4       GeometryCollection  [[[-0.1062124, 51.4760699], [-0.10629659999999...   \n",
       "...                    ...                                                ...   \n",
       "192565  GeometryCollection  [[[-0.0180846, 51.5256453], [-0.0180759, 51.52...   \n",
       "192568  GeometryCollection  [[[-0.056075099999999996, 51.5089679], [-0.056...   \n",
       "192578  GeometryCollection  [[[-0.0632398, 51.5115989], [-0.063244, 51.511...   \n",
       "192579  GeometryCollection  [[[-0.0098645, 51.4864345], [-0.0098731, 51.48...   \n",
       "192581  GeometryCollection  [[[-0.0265723, 51.5101552], [-0.0265718, 51.51...   \n",
       "\n",
       "       wgs84_polygon.type                                        description  \\\n",
       "0                 Polygon  Certificate of Lawfulness in connection with e...   \n",
       "1                 Polygon  Substantial demolition of existing residential...   \n",
       "2                 Polygon  Single storey rear extension with a proposed d...   \n",
       "3                 Polygon  Replacement of a 3m advertising pole with a 5m...   \n",
       "4                 Polygon  Change of use from Class A1 retail unit to Cla...   \n",
       "...                   ...                                                ...   \n",
       "192565            Polygon  Application for certificate of lawfulness in r...   \n",
       "192568            Polygon  Proposed rear roof extension and patio doors a...   \n",
       "192578            Polygon  Erection of seven storey building (plus baseme...   \n",
       "192579            Polygon  Submission of Details Pursuant to Condition No...   \n",
       "192581            Polygon  Submission of Details Pursuant to Condition No...   \n",
       "\n",
       "              borough         street_name  ...  \\\n",
       "0           Islington     Caledonian Road  ...   \n",
       "1           Islington      Tremlett Grove  ...   \n",
       "2              Barnet  Golders Green Road  ...   \n",
       "3              Ealing       Uxbridge Road  ...   \n",
       "4             Lambeth       Cromwell Road  ...   \n",
       "...               ...                 ...  ...   \n",
       "192565  Tower Hamlets                None  ...   \n",
       "192568  Tower Hamlets                None  ...   \n",
       "192578  Tower Hamlets                None  ...   \n",
       "192579  Tower Hamlets                None  ...   \n",
       "192581  Tower Hamlets                None  ...   \n",
       "\n",
       "                                                 geometry  \\\n",
       "0       POLYGON ((530675.692 183924.893, 530679.985 18...   \n",
       "1       POLYGON ((529221.785 186434.442, 529221.729 18...   \n",
       "2       POLYGON ((524379.669 188032.215, 524385.763 18...   \n",
       "3       POLYGON ((514259.741 180239.015, 514262.976 18...   \n",
       "4       POLYGON ((531616.952 176934.641, 531611.165 17...   \n",
       "...                                                   ...   \n",
       "192565  POLYGON ((537587.465 182609.481, 537588.062 18...   \n",
       "192568  POLYGON ((535001.458 180684.212, 535001.831 18...   \n",
       "192578  POLYGON ((534496.541 180963.605, 534496.466 18...   \n",
       "192579  POLYGON ((538276.234 178264.652, 538275.572 17...   \n",
       "192581  POLYGON ((537045.158 180871.035, 537045.191 18...   \n",
       "\n",
       "                             centroid  index_right  LSOA code gentrified  \\\n",
       "0       POINT (530683.381 183923.221)       2652.0  E01002714      False   \n",
       "1       POINT (529227.885 186433.184)       2706.0  E01002771      False   \n",
       "2       POINT (524395.034 188042.162)        215.0  E01000220      False   \n",
       "3       POINT (514266.796 180237.645)       1201.0  E01001220      False   \n",
       "4        POINT (531611.885 176937.74)       3119.0  E01003187      False   \n",
       "...                               ...          ...        ...        ...   \n",
       "192565  POINT (537595.026 182611.297)       4136.0  E01004239      False   \n",
       "192568  POINT (535004.096 180676.443)       4190.0  E01004297      False   \n",
       "192578  POINT (534491.838 180959.512)       4211.0  E01004319      False   \n",
       "192579  POINT (538284.172 178291.328)       4117.0  E01004218      False   \n",
       "192581    POINT (537051.4 180830.495)       4152.0  E01004255      False   \n",
       "\n",
       "        pop_growth_rate     price_grow       avg_den  senior_per  minority_per  \n",
       "0              0.073130   41824.500000  16340.515284    8.472850     17.550059  \n",
       "1              0.006618  -29125.000000  12654.580134    9.399077     32.164531  \n",
       "2              0.054458 -108083.333333  13904.333986   15.202991     26.777125  \n",
       "3             -0.014105   93000.000000   1436.788216   11.295069     78.793903  \n",
       "4              0.325665   67000.000000  11407.115656    7.840261     70.611970  \n",
       "...                 ...            ...           ...         ...           ...  \n",
       "192565         0.040120   63354.166667  15965.143861    9.921125     68.041237  \n",
       "192568         0.054260   15375.000000  16823.220930    8.665265     24.096386  \n",
       "192578         0.036684   -1625.000000  23829.319955    7.793485     79.109226  \n",
       "192579         0.075422   61987.500000  13384.374150    8.284962     35.142857  \n",
       "192581         0.068598   27618.750000  18626.438232    6.082758     67.799753  \n",
       "\n",
       "[155367 rows x 411 columns]>"
      ]
     },
     "execution_count": 86,
     "metadata": {},
     "output_type": "execute_result"
    }
   ],
   "source": [
    "joined_cleaned.head"
   ]
  },
  {
   "cell_type": "markdown",
   "id": "11c367cb",
   "metadata": {},
   "source": [
    "# SBERT + KMEANs"
   ]
  },
  {
   "cell_type": "code",
   "execution_count": 28,
   "id": "e5c30581",
   "metadata": {},
   "outputs": [
    {
     "name": "stdout",
     "output_type": "stream",
     "text": [
      "Index(['site_name', 'decision_date', 'valid_date', 'polygon.geometries',\n",
      "       'polygon.type', 'wgs84_polygon.coordinates', 'wgs84_polygon.type',\n",
      "       'description', 'borough', 'street_name',\n",
      "       ...\n",
      "       'centroid', 'index_right', 'LSOA code', 'gentrified', 'pop_growth_rate',\n",
      "       'price_grow', 'avg_den', 'senior_per', 'minority_per', 'text_cluster'],\n",
      "      dtype='object', length=412)\n"
     ]
    }
   ],
   "source": [
    "print(joined_cleaned.columns)"
   ]
  },
  {
   "cell_type": "code",
   "execution_count": 22,
   "id": "6f237d27",
   "metadata": {},
   "outputs": [
    {
     "data": {
      "image/png": "[encoded data removed]",
      "text/plain": [
       "<Figure size 640x480 with 1 Axes>"
      ]
     },
     "metadata": {},
     "output_type": "display_data"
    }
   ],
   "source": [
    "# 试试kmean 聚类\n",
    "\n",
    "from sklearn.cluster import KMeans\n",
    "from sklearn.preprocessing import OneHotEncoder\n",
    "from sklearn.model_selection import train_test_split\n",
    "from sklearn.metrics import classification_report\n",
    "\n",
    "joined_cleaned['gentrified'] = joined_cleaned['gentrified'].astype(int)\n",
    "\n",
    "# Step 1: 取出 SBERT 向量列（你有384维）\n",
    "sbert_cols = [col for col in joined_cleaned.columns if col.startswith('sbert_')]\n",
    "X_embed = joined_cleaned[sbert_cols]\n",
    "\n",
    "inertias = []\n",
    "cluster_range = range(2, 20)  # 一般选 2~15\n",
    "\n",
    "for k in cluster_range:\n",
    "    km = KMeans(n_clusters=k, random_state=42)\n",
    "    km.fit(X_embed)\n",
    "    inertias.append(km.inertia_)\n",
    "\n",
    "plt.plot(cluster_range, inertias, marker='o')\n",
    "plt.xlabel(\"Number of Clusters\")\n",
    "plt.ylabel(\"Inertia (SSE)\")\n",
    "plt.title(\"Elbow Method for Optimal K\")\n",
    "plt.grid(True)\n",
    "plt.show()"
   ]
  },
  {
   "cell_type": "code",
   "execution_count": 26,
   "id": "639c8acd",
   "metadata": {},
   "outputs": [],
   "source": [
    "# Step 2: 聚类， 根据之前的结果可以选6或11\n",
    "n_clusters = 7\n",
    "kmeans = KMeans(n_clusters=n_clusters, random_state=42)\n",
    "joined_cleaned['text_cluster'] = kmeans.fit_predict(X_embed)\n",
    "\n",
    "# Step 3: One-hot 编码这些 cluster（也可以直接用 cluster label）\n",
    "onehot = pd.get_dummies(joined_cleaned['text_cluster'], prefix='anchor_cluster')"
   ]
  },
  {
   "cell_type": "code",
   "execution_count": 27,
   "id": "cef4b61a",
   "metadata": {},
   "outputs": [
    {
     "data": {
      "image/png": "[encoded data removed]",
      "text/plain": [
       "<Figure size 640x480 with 1 Axes>"
      ]
     },
     "metadata": {},
     "output_type": "display_data"
    }
   ],
   "source": [
    "import seaborn as sns\n",
    "import matplotlib.pyplot as plt\n",
    "\n",
    "cluster_g = joined_cleaned.groupby('text_cluster')['gentrified'].mean().sort_values()\n",
    "\n",
    "sns.barplot(x=cluster_g.index, y=cluster_g.values)\n",
    "plt.title(\"P(Gentrified=1 | Cluster)\")\n",
    "plt.ylabel(\"Probability\")\n",
    "plt.xlabel(\"Text Cluster\")\n",
    "plt.axhline(y=joined_cleaned['gentrified'].mean(), color='red', linestyle='--', label='Baseline')\n",
    "plt.legend()\n",
    "plt.tight_layout()\n",
    "plt.show()"
   ]
  },
  {
   "cell_type": "markdown",
   "id": "4e915720",
   "metadata": {},
   "source": [
    "# SBERT"
   ]
  },
  {
   "cell_type": "code",
   "execution_count": null,
   "id": "3bc861ee",
   "metadata": {},
   "outputs": [],
   "source": [
    "# anchor_dict = {\n",
    "#     \"residential\": [\"flat conversion\", \"refurbishment\", \"rear extension\", \n",
    "#                     \"erection of storey\", \"demolition of exsiting rear\", \"alterations\",\n",
    "#                     \"replacement\", \"installation\", \"windows\"],\n",
    "#     \"commercial\": [\"coffee shop\", \"illuminated sign\", \"retail upgrade\", \n",
    "#                    \"change use\", \"fascia\", \"digital screen\"],\n",
    "#     \"green\": [\"park improvement\", \"landscaping\", \"tree planting\"],\n",
    "#     \"cultural\": [\"artist studios\", \"cultural space\", \"gallery conversion\"],\n",
    "#     \"infrustructure\": [\"station upgrade\", \"utilities improvement\", \"internally illuminated\", \n",
    "#                        \"cycle\", \"parking\", \"lighting repalcement\", \"antennas\", \"public\"]\n",
    "# }\n",
    "# sbert_model = SentenceTransformer('paraphrase-MiniLM-L6-v2')\n",
    "# # 正确计算平均向量：\n",
    "# anchor_vecs = {\n",
    "#     k: np.mean(sbert_model.encode(v), axis=0) for k, v in anchor_dict.items()\n",
    "# }"
   ]
  },
  {
   "cell_type": "code",
   "execution_count": null,
   "id": "cb279c43",
   "metadata": {},
   "outputs": [],
   "source": [
    "anchor_dict = {\n",
    "    \"residential\": [\"flat conversion\", \"refurbishment\", \"rear extension\", \n",
    "                    \"erection of storey\", \"demolition of exsiting rear\", \"alterations\",\n",
    "                    \"replacement\", \"installation\", \"windows\"],\n",
    "    \"commercial\": [\"coffee shop\", \"illuminated sign\", \"retail upgrade\", \n",
    "                   \"change use\", \"fascia\", \"digital screen\"],\n",
    "    \"green\": [\"park improvement\", \"landscaping\", \"tree planting\"],\n",
    "    \"cultural\": [\"artist studios\", \"cultural space\", \"gallery conversion\"],\n",
    "    \"infrustructure\": [\"station upgrade\", \"utilities improvement\", \"internally illuminated\", \n",
    "                       \"cycle\", \"parking\", \"lighting repalcement\", \"antennas\", \"public\"]\n",
    "}\n",
    "sbert_model = SentenceTransformer('paraphrase-MiniLM-L6-v2')\n",
    "# 正确计算平均向量：\n",
    "anchor_vecs = {\n",
    "    k: np.mean(sbert_model.encode(v), axis=0) for k, v in anchor_dict.items()\n",
    "}"
   ]
  },
  {
   "cell_type": "code",
   "execution_count": 59,
   "id": "f3e73613",
   "metadata": {},
   "outputs": [],
   "source": [
    "# from sklearn.metrics.pairwise import cosine_similarity\n",
    "\n",
    "# # 示例：一列句子向量 (shape: N x 384)，和 5 个 anchor (5 x 384)\n",
    "# sent_vecs = lsoa_combined[[f\"sbert_{i}\" for i in range(384)]].values\n",
    "# anchor_vecs_matrix = np.vstack([anchor_vecs[a] for a in anchor_dict])  # shape: 5 x 384\n",
    "\n",
    "# # 计算所有句子对所有 anchor 的相似度\n",
    "# sim_matrix = cosine_similarity(sent_vecs, anchor_vecs_matrix)  # shape: N x 5\n",
    "\n",
    "# # 加入列名\n",
    "# sim_df = pd.DataFrame(sim_matrix, columns=[f\"sim_{a}\" for a in anchor_dict])\n",
    "# lsoa_combined = pd.concat([lsoa_combined.reset_index(drop=True), sim_df], axis=1)\n"
   ]
  },
  {
   "cell_type": "code",
   "execution_count": 60,
   "id": "faa8a191",
   "metadata": {},
   "outputs": [],
   "source": [
    "# print(lsoa_combined.shape)"
   ]
  },
  {
   "cell_type": "code",
   "execution_count": 61,
   "id": "96a137b2",
   "metadata": {},
   "outputs": [],
   "source": [
    "# features = ['pop_growth_rate', 'avg_den', 'senior_per','minority_per', \n",
    "#             'sim_residential', 'sim_commercial', 'sim_green', 'sim_cultural', 'sim_infrustructure']\n",
    "# lsoa_combined['gentrified'] = lsoa_combined['gentrified'].astype(int)\n",
    "\n",
    "# X = lsoa_combined[features]\n",
    "# y = lsoa_combined['gentrified']\n",
    "\n",
    "# from sklearn.model_selection import train_test_split\n",
    "# from xgboost import XGBClassifier\n",
    "# from sklearn.metrics import classification_report\n",
    "\n",
    "# # 样本不均衡处理\n",
    "# scale_pos_weight = (y == 0).sum() / (y == 1).sum()\n",
    "\n",
    "# X_train, X_test, y_train, y_test = train_test_split(X, y, stratify=y, test_size=0.2, random_state=42)\n",
    "\n",
    "# model = XGBClassifier(scale_pos_weight=scale_pos_weight, random_state=42)\n",
    "# model.fit(X_train, y_train)\n",
    "\n",
    "# print(classification_report(y_test, model.predict(X_test)))"
   ]
  },
  {
   "cell_type": "code",
   "execution_count": 62,
   "id": "ec91ff95",
   "metadata": {},
   "outputs": [],
   "source": [
    "# print(scale_pos_weight)"
   ]
  },
  {
   "cell_type": "code",
   "execution_count": 63,
   "id": "281b841d",
   "metadata": {},
   "outputs": [],
   "source": [
    "# X_base = lsoa_combined[struct_cols]\n",
    "# y_base = lsoa_combined['gentrified']\n",
    "\n",
    "# X_base_train, X_base_test, y_base_train, y_base_test = train_test_split(X_base, y_base, stratify=y_base, test_size=0.2, random_state=42)\n",
    "\n",
    "# model_base = XGBClassifier(scale_pos_weight=scale_pos_weight, random_state=42)\n",
    "# model_base.fit(X_base_train, y_base_train)\n",
    "\n",
    "# print(classification_report(y_base_test, model_base.predict(X_base_test)))"
   ]
  },
  {
   "cell_type": "code",
   "execution_count": 64,
   "id": "f7543e3d",
   "metadata": {},
   "outputs": [],
   "source": [
    "# # feature importance\n",
    "# from xgboost import plot_importance\n",
    "\n",
    "# plt.figure(figsize=(10, 6))\n",
    "# plot_importance(model, importance_type='gain', max_num_features=10)\n",
    "# plt.title(\"Top 10 Important Features (by Gain)\")\n",
    "# plt.grid(True)\n",
    "# plt.tight_layout()\n",
    "# plt.show()"
   ]
  },
  {
   "cell_type": "code",
   "execution_count": null,
   "id": "aea7ae88",
   "metadata": {},
   "outputs": [],
   "source": [
    "# def extract_diverse_anchor_sentences(\n",
    "#     anchor_vecs,           # 你的人工定义 anchor 向量: {anchor_name: vector}\n",
    "#     all_sentences,         # 句子列表: List[str]\n",
    "#     sbert_model,           # SentenceTransformer 模型\n",
    "#     topk,               # 每个 anchor 最多考虑 topk 相似句子作为候选\n",
    "#     anchor_threshold,  # anchor 与句子相似度下限\n",
    "#     sim_threshold     # 被选句子之间最大相似度（越小越多样）\n",
    "# ):\n",
    "#     # 编码所有句子为向量\n",
    "#     print(\"emcoding all sentences...\")\n",
    "#     sent_vecs = sbert_model.encode(all_sentences, batch_size=32, show_progress_bar=True)\n",
    "\n",
    "#     anchor_top_sentences = {}\n",
    "\n",
    "#     for cat, anchor_vec in tqdm(anchor_vecs.items(), desc=\"🔍 extract sentences from each category\"):\n",
    "#         sims = cosine_similarity([anchor_vec], sent_vecs)[0]\n",
    "\n",
    "#         # 找出相似度高于 anchor_threshold 的 topk 句子\n",
    "#         sorted_idx = np.argsort(sims)[::-1]\n",
    "#         filtered_idx = [i for i in sorted_idx if sims[i] >= anchor_threshold][:topk]\n",
    "\n",
    "#         selected = []\n",
    "#         selected_vecs = []\n",
    "\n",
    "#         for i in filtered_idx:\n",
    "#             sent = all_sentences[i]\n",
    "#             vec = sent_vecs[i]\n",
    "\n",
    "#             # 判断与已选句子的相似度是否都低于 sim_threshold\n",
    "#             if all(cosine_similarity([vec], [v])[0][0] < sim_threshold for v in selected_vecs):\n",
    "#                 selected.append({\"sentence\": sent, \"score\": float(sims[i])})\n",
    "#                 selected_vecs.append(vec)\n",
    "\n",
    "#         anchor_top_sentences[cat] = selected\n",
    "#         print(f\"✅ {cat}: select {len(selected)} sentences\")\n",
    "\n",
    "#     return anchor_top_sentences"
   ]
  },
  {
   "cell_type": "code",
   "execution_count": 87,
   "id": "8cdfbbe1",
   "metadata": {},
   "outputs": [],
   "source": [
    "from sklearn.metrics.pairwise import cosine_similarity\n",
    "from sentence_transformers import SentenceTransformer\n",
    "import numpy as np\n",
    "from tqdm import tqdm\n",
    "\n",
    "def extract_diverse_anchor_sentences(anchor_vecs, all_sentences, sbert_model, topk=10, anchor_threshold=0.6, sim_threshold=0.85):\n",
    "    sent_vecs = sbert_model.encode(all_sentences, batch_size=32, show_progress_bar=False)\n",
    "    anchor_top_sentences = {}\n",
    "\n",
    "    for cat, anchor_vec in tqdm(anchor_vecs.items(), desc=\"🔍 Extracting anchors\"):\n",
    "        sims = cosine_similarity([anchor_vec], sent_vecs)[0]\n",
    "        sorted_idx = np.argsort(sims)[::-1]\n",
    "        filtered_idx = [i for i in sorted_idx if sims[i] >= anchor_threshold][:topk]\n",
    "\n",
    "        selected = []\n",
    "        selected_vecs = []\n",
    "\n",
    "        for i in filtered_idx:\n",
    "            vec = sent_vecs[i]\n",
    "            if all(cosine_similarity([vec], [v])[0][0] < sim_threshold for v in selected_vecs):\n",
    "                selected.append({\"sentence\": all_sentences[i], \"score\": float(sims[i])})\n",
    "                selected_vecs.append(vec)\n",
    "\n",
    "        anchor_top_sentences[cat] = selected\n",
    "    return anchor_top_sentences"
   ]
  },
  {
   "cell_type": "code",
   "execution_count": null,
   "id": "493ac7aa",
   "metadata": {},
   "outputs": [
    {
     "name": "stdout",
     "output_type": "stream",
     "text": [
      "\n",
      "====== Fold 1 ======\n"
     ]
    },
    {
     "name": "stderr",
     "output_type": "stream",
     "text": [
      "🔍 Extracting anchors: 100%|██████████| 5/5 [00:00<00:00, 13.95it/s]\n"
     ]
    },
    {
     "ename": "KeyboardInterrupt",
     "evalue": "",
     "output_type": "error",
     "traceback": [
      "\u001b[31m---------------------------------------------------------------------------\u001b[39m",
      "\u001b[31mKeyboardInterrupt\u001b[39m                         Traceback (most recent call last)",
      "\u001b[36mCell\u001b[39m\u001b[36m \u001b[39m\u001b[32mIn[92]\u001b[39m\u001b[32m, line 47\u001b[39m\n\u001b[32m     45\u001b[39m \u001b[38;5;66;03m# ✅ 对所有句子重新打分（train + test）\u001b[39;00m\n\u001b[32m     46\u001b[39m full_sentences = joined_cleaned[\u001b[33m'\u001b[39m\u001b[33msentences\u001b[39m\u001b[33m'\u001b[39m].dropna().apply(flatten_text).tolist()\n\u001b[32m---> \u001b[39m\u001b[32m47\u001b[39m full_vecs = \u001b[43msbert_model\u001b[49m\u001b[43m.\u001b[49m\u001b[43mencode\u001b[49m\u001b[43m(\u001b[49m\u001b[43mfull_sentences\u001b[49m\u001b[43m,\u001b[49m\u001b[43m \u001b[49m\u001b[43mbatch_size\u001b[49m\u001b[43m=\u001b[49m\u001b[32;43m32\u001b[39;49m\u001b[43m,\u001b[49m\u001b[43m \u001b[49m\u001b[43mshow_progress_bar\u001b[49m\u001b[43m=\u001b[49m\u001b[38;5;28;43;01mFalse\u001b[39;49;00m\u001b[43m)\u001b[49m\n\u001b[32m     49\u001b[39m \u001b[38;5;28;01mfor\u001b[39;00m cat, anchor_list \u001b[38;5;129;01min\u001b[39;00m anchor_sentences.items():\n\u001b[32m     50\u001b[39m     \u001b[38;5;66;03m# ✅ 注意是 'sentence'，不是 'sentences'\u001b[39;00m\n\u001b[32m     51\u001b[39m     anchor_sents = [x[\u001b[33m'\u001b[39m\u001b[33msentence\u001b[39m\u001b[33m'\u001b[39m] \u001b[38;5;28;01mfor\u001b[39;00m x \u001b[38;5;129;01min\u001b[39;00m anchor_list]\n",
      "\u001b[36mFile \u001b[39m\u001b[32me:\\dissertation\\project\\housing_feature_gentrification\\venv\\Lib\\site-packages\\sentence_transformers\\SentenceTransformer.py:685\u001b[39m, in \u001b[36mSentenceTransformer.encode\u001b[39m\u001b[34m(self, sentences, prompt_name, prompt, batch_size, show_progress_bar, output_value, precision, convert_to_numpy, convert_to_tensor, device, normalize_embeddings, **kwargs)\u001b[39m\n\u001b[32m    682\u001b[39m features.update(extra_features)\n\u001b[32m    684\u001b[39m \u001b[38;5;28;01mwith\u001b[39;00m torch.no_grad():\n\u001b[32m--> \u001b[39m\u001b[32m685\u001b[39m     out_features = \u001b[38;5;28;43mself\u001b[39;49m\u001b[43m.\u001b[49m\u001b[43mforward\u001b[49m\u001b[43m(\u001b[49m\u001b[43mfeatures\u001b[49m\u001b[43m,\u001b[49m\u001b[43m \u001b[49m\u001b[43m*\u001b[49m\u001b[43m*\u001b[49m\u001b[43mkwargs\u001b[49m\u001b[43m)\u001b[49m\n\u001b[32m    686\u001b[39m     \u001b[38;5;28;01mif\u001b[39;00m \u001b[38;5;28mself\u001b[39m.device.type == \u001b[33m\"\u001b[39m\u001b[33mhpu\u001b[39m\u001b[33m\"\u001b[39m:\n\u001b[32m    687\u001b[39m         out_features = copy.deepcopy(out_features)\n",
      "\u001b[36mFile \u001b[39m\u001b[32me:\\dissertation\\project\\housing_feature_gentrification\\venv\\Lib\\site-packages\\sentence_transformers\\SentenceTransformer.py:758\u001b[39m, in \u001b[36mSentenceTransformer.forward\u001b[39m\u001b[34m(self, input, **kwargs)\u001b[39m\n\u001b[32m    756\u001b[39m     module_kwarg_keys = \u001b[38;5;28mself\u001b[39m.module_kwargs.get(module_name, [])\n\u001b[32m    757\u001b[39m     module_kwargs = {key: value \u001b[38;5;28;01mfor\u001b[39;00m key, value \u001b[38;5;129;01min\u001b[39;00m kwargs.items() \u001b[38;5;28;01mif\u001b[39;00m key \u001b[38;5;129;01min\u001b[39;00m module_kwarg_keys}\n\u001b[32m--> \u001b[39m\u001b[32m758\u001b[39m     \u001b[38;5;28minput\u001b[39m = \u001b[43mmodule\u001b[49m\u001b[43m(\u001b[49m\u001b[38;5;28;43minput\u001b[39;49m\u001b[43m,\u001b[49m\u001b[43m \u001b[49m\u001b[43m*\u001b[49m\u001b[43m*\u001b[49m\u001b[43mmodule_kwargs\u001b[49m\u001b[43m)\u001b[49m\n\u001b[32m    759\u001b[39m \u001b[38;5;28;01mreturn\u001b[39;00m \u001b[38;5;28minput\u001b[39m\n",
      "\u001b[36mFile \u001b[39m\u001b[32me:\\dissertation\\project\\housing_feature_gentrification\\venv\\Lib\\site-packages\\torch\\nn\\modules\\module.py:1751\u001b[39m, in \u001b[36mModule._wrapped_call_impl\u001b[39m\u001b[34m(self, *args, **kwargs)\u001b[39m\n\u001b[32m   1749\u001b[39m     \u001b[38;5;28;01mreturn\u001b[39;00m \u001b[38;5;28mself\u001b[39m._compiled_call_impl(*args, **kwargs)  \u001b[38;5;66;03m# type: ignore[misc]\u001b[39;00m\n\u001b[32m   1750\u001b[39m \u001b[38;5;28;01melse\u001b[39;00m:\n\u001b[32m-> \u001b[39m\u001b[32m1751\u001b[39m     \u001b[38;5;28;01mreturn\u001b[39;00m \u001b[38;5;28;43mself\u001b[39;49m\u001b[43m.\u001b[49m\u001b[43m_call_impl\u001b[49m\u001b[43m(\u001b[49m\u001b[43m*\u001b[49m\u001b[43margs\u001b[49m\u001b[43m,\u001b[49m\u001b[43m \u001b[49m\u001b[43m*\u001b[49m\u001b[43m*\u001b[49m\u001b[43mkwargs\u001b[49m\u001b[43m)\u001b[49m\n",
      "\u001b[36mFile \u001b[39m\u001b[32me:\\dissertation\\project\\housing_feature_gentrification\\venv\\Lib\\site-packages\\torch\\nn\\modules\\module.py:1762\u001b[39m, in \u001b[36mModule._call_impl\u001b[39m\u001b[34m(self, *args, **kwargs)\u001b[39m\n\u001b[32m   1757\u001b[39m \u001b[38;5;66;03m# If we don't have any hooks, we want to skip the rest of the logic in\u001b[39;00m\n\u001b[32m   1758\u001b[39m \u001b[38;5;66;03m# this function, and just call forward.\u001b[39;00m\n\u001b[32m   1759\u001b[39m \u001b[38;5;28;01mif\u001b[39;00m \u001b[38;5;129;01mnot\u001b[39;00m (\u001b[38;5;28mself\u001b[39m._backward_hooks \u001b[38;5;129;01mor\u001b[39;00m \u001b[38;5;28mself\u001b[39m._backward_pre_hooks \u001b[38;5;129;01mor\u001b[39;00m \u001b[38;5;28mself\u001b[39m._forward_hooks \u001b[38;5;129;01mor\u001b[39;00m \u001b[38;5;28mself\u001b[39m._forward_pre_hooks\n\u001b[32m   1760\u001b[39m         \u001b[38;5;129;01mor\u001b[39;00m _global_backward_pre_hooks \u001b[38;5;129;01mor\u001b[39;00m _global_backward_hooks\n\u001b[32m   1761\u001b[39m         \u001b[38;5;129;01mor\u001b[39;00m _global_forward_hooks \u001b[38;5;129;01mor\u001b[39;00m _global_forward_pre_hooks):\n\u001b[32m-> \u001b[39m\u001b[32m1762\u001b[39m     \u001b[38;5;28;01mreturn\u001b[39;00m \u001b[43mforward_call\u001b[49m\u001b[43m(\u001b[49m\u001b[43m*\u001b[49m\u001b[43margs\u001b[49m\u001b[43m,\u001b[49m\u001b[43m \u001b[49m\u001b[43m*\u001b[49m\u001b[43m*\u001b[49m\u001b[43mkwargs\u001b[49m\u001b[43m)\u001b[49m\n\u001b[32m   1764\u001b[39m result = \u001b[38;5;28;01mNone\u001b[39;00m\n\u001b[32m   1765\u001b[39m called_always_called_hooks = \u001b[38;5;28mset\u001b[39m()\n",
      "\u001b[36mFile \u001b[39m\u001b[32me:\\dissertation\\project\\housing_feature_gentrification\\venv\\Lib\\site-packages\\sentence_transformers\\models\\Transformer.py:442\u001b[39m, in \u001b[36mTransformer.forward\u001b[39m\u001b[34m(self, features, **kwargs)\u001b[39m\n\u001b[32m    435\u001b[39m \u001b[38;5;250m\u001b[39m\u001b[33;03m\"\"\"Returns token_embeddings, cls_token\"\"\"\u001b[39;00m\n\u001b[32m    436\u001b[39m trans_features = {\n\u001b[32m    437\u001b[39m     key: value\n\u001b[32m    438\u001b[39m     \u001b[38;5;28;01mfor\u001b[39;00m key, value \u001b[38;5;129;01min\u001b[39;00m features.items()\n\u001b[32m    439\u001b[39m     \u001b[38;5;28;01mif\u001b[39;00m key \u001b[38;5;129;01min\u001b[39;00m [\u001b[33m\"\u001b[39m\u001b[33minput_ids\u001b[39m\u001b[33m\"\u001b[39m, \u001b[33m\"\u001b[39m\u001b[33mattention_mask\u001b[39m\u001b[33m\"\u001b[39m, \u001b[33m\"\u001b[39m\u001b[33mtoken_type_ids\u001b[39m\u001b[33m\"\u001b[39m, \u001b[33m\"\u001b[39m\u001b[33minputs_embeds\u001b[39m\u001b[33m\"\u001b[39m]\n\u001b[32m    440\u001b[39m }\n\u001b[32m--> \u001b[39m\u001b[32m442\u001b[39m outputs = \u001b[38;5;28;43mself\u001b[39;49m\u001b[43m.\u001b[49m\u001b[43mauto_model\u001b[49m\u001b[43m(\u001b[49m\u001b[43m*\u001b[49m\u001b[43m*\u001b[49m\u001b[43mtrans_features\u001b[49m\u001b[43m,\u001b[49m\u001b[43m \u001b[49m\u001b[43m*\u001b[49m\u001b[43m*\u001b[49m\u001b[43mkwargs\u001b[49m\u001b[43m,\u001b[49m\u001b[43m \u001b[49m\u001b[43mreturn_dict\u001b[49m\u001b[43m=\u001b[49m\u001b[38;5;28;43;01mTrue\u001b[39;49;00m\u001b[43m)\u001b[49m\n\u001b[32m    443\u001b[39m token_embeddings = outputs[\u001b[32m0\u001b[39m]\n\u001b[32m    444\u001b[39m features[\u001b[33m\"\u001b[39m\u001b[33mtoken_embeddings\u001b[39m\u001b[33m\"\u001b[39m] = token_embeddings\n",
      "\u001b[36mFile \u001b[39m\u001b[32me:\\dissertation\\project\\housing_feature_gentrification\\venv\\Lib\\site-packages\\torch\\nn\\modules\\module.py:1751\u001b[39m, in \u001b[36mModule._wrapped_call_impl\u001b[39m\u001b[34m(self, *args, **kwargs)\u001b[39m\n\u001b[32m   1749\u001b[39m     \u001b[38;5;28;01mreturn\u001b[39;00m \u001b[38;5;28mself\u001b[39m._compiled_call_impl(*args, **kwargs)  \u001b[38;5;66;03m# type: ignore[misc]\u001b[39;00m\n\u001b[32m   1750\u001b[39m \u001b[38;5;28;01melse\u001b[39;00m:\n\u001b[32m-> \u001b[39m\u001b[32m1751\u001b[39m     \u001b[38;5;28;01mreturn\u001b[39;00m \u001b[38;5;28;43mself\u001b[39;49m\u001b[43m.\u001b[49m\u001b[43m_call_impl\u001b[49m\u001b[43m(\u001b[49m\u001b[43m*\u001b[49m\u001b[43margs\u001b[49m\u001b[43m,\u001b[49m\u001b[43m \u001b[49m\u001b[43m*\u001b[49m\u001b[43m*\u001b[49m\u001b[43mkwargs\u001b[49m\u001b[43m)\u001b[49m\n",
      "\u001b[36mFile \u001b[39m\u001b[32me:\\dissertation\\project\\housing_feature_gentrification\\venv\\Lib\\site-packages\\torch\\nn\\modules\\module.py:1762\u001b[39m, in \u001b[36mModule._call_impl\u001b[39m\u001b[34m(self, *args, **kwargs)\u001b[39m\n\u001b[32m   1757\u001b[39m \u001b[38;5;66;03m# If we don't have any hooks, we want to skip the rest of the logic in\u001b[39;00m\n\u001b[32m   1758\u001b[39m \u001b[38;5;66;03m# this function, and just call forward.\u001b[39;00m\n\u001b[32m   1759\u001b[39m \u001b[38;5;28;01mif\u001b[39;00m \u001b[38;5;129;01mnot\u001b[39;00m (\u001b[38;5;28mself\u001b[39m._backward_hooks \u001b[38;5;129;01mor\u001b[39;00m \u001b[38;5;28mself\u001b[39m._backward_pre_hooks \u001b[38;5;129;01mor\u001b[39;00m \u001b[38;5;28mself\u001b[39m._forward_hooks \u001b[38;5;129;01mor\u001b[39;00m \u001b[38;5;28mself\u001b[39m._forward_pre_hooks\n\u001b[32m   1760\u001b[39m         \u001b[38;5;129;01mor\u001b[39;00m _global_backward_pre_hooks \u001b[38;5;129;01mor\u001b[39;00m _global_backward_hooks\n\u001b[32m   1761\u001b[39m         \u001b[38;5;129;01mor\u001b[39;00m _global_forward_hooks \u001b[38;5;129;01mor\u001b[39;00m _global_forward_pre_hooks):\n\u001b[32m-> \u001b[39m\u001b[32m1762\u001b[39m     \u001b[38;5;28;01mreturn\u001b[39;00m \u001b[43mforward_call\u001b[49m\u001b[43m(\u001b[49m\u001b[43m*\u001b[49m\u001b[43margs\u001b[49m\u001b[43m,\u001b[49m\u001b[43m \u001b[49m\u001b[43m*\u001b[49m\u001b[43m*\u001b[49m\u001b[43mkwargs\u001b[49m\u001b[43m)\u001b[49m\n\u001b[32m   1764\u001b[39m result = \u001b[38;5;28;01mNone\u001b[39;00m\n\u001b[32m   1765\u001b[39m called_always_called_hooks = \u001b[38;5;28mset\u001b[39m()\n",
      "\u001b[36mFile \u001b[39m\u001b[32me:\\dissertation\\project\\housing_feature_gentrification\\venv\\Lib\\site-packages\\transformers\\models\\bert\\modeling_bert.py:996\u001b[39m, in \u001b[36mBertModel.forward\u001b[39m\u001b[34m(self, input_ids, attention_mask, token_type_ids, position_ids, head_mask, inputs_embeds, encoder_hidden_states, encoder_attention_mask, past_key_values, use_cache, output_attentions, output_hidden_states, return_dict)\u001b[39m\n\u001b[32m    989\u001b[39m \u001b[38;5;66;03m# Prepare head mask if needed\u001b[39;00m\n\u001b[32m    990\u001b[39m \u001b[38;5;66;03m# 1.0 in head_mask indicate we keep the head\u001b[39;00m\n\u001b[32m    991\u001b[39m \u001b[38;5;66;03m# attention_probs has shape bsz x n_heads x N x N\u001b[39;00m\n\u001b[32m    992\u001b[39m \u001b[38;5;66;03m# input head_mask has shape [num_heads] or [num_hidden_layers x num_heads]\u001b[39;00m\n\u001b[32m    993\u001b[39m \u001b[38;5;66;03m# and head_mask is converted to shape [num_hidden_layers x batch x num_heads x seq_length x seq_length]\u001b[39;00m\n\u001b[32m    994\u001b[39m head_mask = \u001b[38;5;28mself\u001b[39m.get_head_mask(head_mask, \u001b[38;5;28mself\u001b[39m.config.num_hidden_layers)\n\u001b[32m--> \u001b[39m\u001b[32m996\u001b[39m encoder_outputs = \u001b[38;5;28;43mself\u001b[39;49m\u001b[43m.\u001b[49m\u001b[43mencoder\u001b[49m\u001b[43m(\u001b[49m\n\u001b[32m    997\u001b[39m \u001b[43m    \u001b[49m\u001b[43membedding_output\u001b[49m\u001b[43m,\u001b[49m\n\u001b[32m    998\u001b[39m \u001b[43m    \u001b[49m\u001b[43mattention_mask\u001b[49m\u001b[43m=\u001b[49m\u001b[43mextended_attention_mask\u001b[49m\u001b[43m,\u001b[49m\n\u001b[32m    999\u001b[39m \u001b[43m    \u001b[49m\u001b[43mhead_mask\u001b[49m\u001b[43m=\u001b[49m\u001b[43mhead_mask\u001b[49m\u001b[43m,\u001b[49m\n\u001b[32m   1000\u001b[39m \u001b[43m    \u001b[49m\u001b[43mencoder_hidden_states\u001b[49m\u001b[43m=\u001b[49m\u001b[43mencoder_hidden_states\u001b[49m\u001b[43m,\u001b[49m\n\u001b[32m   1001\u001b[39m \u001b[43m    \u001b[49m\u001b[43mencoder_attention_mask\u001b[49m\u001b[43m=\u001b[49m\u001b[43mencoder_extended_attention_mask\u001b[49m\u001b[43m,\u001b[49m\n\u001b[32m   1002\u001b[39m \u001b[43m    \u001b[49m\u001b[43mpast_key_values\u001b[49m\u001b[43m=\u001b[49m\u001b[43mpast_key_values\u001b[49m\u001b[43m,\u001b[49m\n\u001b[32m   1003\u001b[39m \u001b[43m    \u001b[49m\u001b[43muse_cache\u001b[49m\u001b[43m=\u001b[49m\u001b[43muse_cache\u001b[49m\u001b[43m,\u001b[49m\n\u001b[32m   1004\u001b[39m \u001b[43m    \u001b[49m\u001b[43moutput_attentions\u001b[49m\u001b[43m=\u001b[49m\u001b[43moutput_attentions\u001b[49m\u001b[43m,\u001b[49m\n\u001b[32m   1005\u001b[39m \u001b[43m    \u001b[49m\u001b[43moutput_hidden_states\u001b[49m\u001b[43m=\u001b[49m\u001b[43moutput_hidden_states\u001b[49m\u001b[43m,\u001b[49m\n\u001b[32m   1006\u001b[39m \u001b[43m    \u001b[49m\u001b[43mreturn_dict\u001b[49m\u001b[43m=\u001b[49m\u001b[43mreturn_dict\u001b[49m\u001b[43m,\u001b[49m\n\u001b[32m   1007\u001b[39m \u001b[43m\u001b[49m\u001b[43m)\u001b[49m\n\u001b[32m   1008\u001b[39m sequence_output = encoder_outputs[\u001b[32m0\u001b[39m]\n\u001b[32m   1009\u001b[39m pooled_output = \u001b[38;5;28mself\u001b[39m.pooler(sequence_output) \u001b[38;5;28;01mif\u001b[39;00m \u001b[38;5;28mself\u001b[39m.pooler \u001b[38;5;129;01mis\u001b[39;00m \u001b[38;5;129;01mnot\u001b[39;00m \u001b[38;5;28;01mNone\u001b[39;00m \u001b[38;5;28;01melse\u001b[39;00m \u001b[38;5;28;01mNone\u001b[39;00m\n",
      "\u001b[36mFile \u001b[39m\u001b[32me:\\dissertation\\project\\housing_feature_gentrification\\venv\\Lib\\site-packages\\torch\\nn\\modules\\module.py:1751\u001b[39m, in \u001b[36mModule._wrapped_call_impl\u001b[39m\u001b[34m(self, *args, **kwargs)\u001b[39m\n\u001b[32m   1749\u001b[39m     \u001b[38;5;28;01mreturn\u001b[39;00m \u001b[38;5;28mself\u001b[39m._compiled_call_impl(*args, **kwargs)  \u001b[38;5;66;03m# type: ignore[misc]\u001b[39;00m\n\u001b[32m   1750\u001b[39m \u001b[38;5;28;01melse\u001b[39;00m:\n\u001b[32m-> \u001b[39m\u001b[32m1751\u001b[39m     \u001b[38;5;28;01mreturn\u001b[39;00m \u001b[38;5;28;43mself\u001b[39;49m\u001b[43m.\u001b[49m\u001b[43m_call_impl\u001b[49m\u001b[43m(\u001b[49m\u001b[43m*\u001b[49m\u001b[43margs\u001b[49m\u001b[43m,\u001b[49m\u001b[43m \u001b[49m\u001b[43m*\u001b[49m\u001b[43m*\u001b[49m\u001b[43mkwargs\u001b[49m\u001b[43m)\u001b[49m\n",
      "\u001b[36mFile \u001b[39m\u001b[32me:\\dissertation\\project\\housing_feature_gentrification\\venv\\Lib\\site-packages\\torch\\nn\\modules\\module.py:1762\u001b[39m, in \u001b[36mModule._call_impl\u001b[39m\u001b[34m(self, *args, **kwargs)\u001b[39m\n\u001b[32m   1757\u001b[39m \u001b[38;5;66;03m# If we don't have any hooks, we want to skip the rest of the logic in\u001b[39;00m\n\u001b[32m   1758\u001b[39m \u001b[38;5;66;03m# this function, and just call forward.\u001b[39;00m\n\u001b[32m   1759\u001b[39m \u001b[38;5;28;01mif\u001b[39;00m \u001b[38;5;129;01mnot\u001b[39;00m (\u001b[38;5;28mself\u001b[39m._backward_hooks \u001b[38;5;129;01mor\u001b[39;00m \u001b[38;5;28mself\u001b[39m._backward_pre_hooks \u001b[38;5;129;01mor\u001b[39;00m \u001b[38;5;28mself\u001b[39m._forward_hooks \u001b[38;5;129;01mor\u001b[39;00m \u001b[38;5;28mself\u001b[39m._forward_pre_hooks\n\u001b[32m   1760\u001b[39m         \u001b[38;5;129;01mor\u001b[39;00m _global_backward_pre_hooks \u001b[38;5;129;01mor\u001b[39;00m _global_backward_hooks\n\u001b[32m   1761\u001b[39m         \u001b[38;5;129;01mor\u001b[39;00m _global_forward_hooks \u001b[38;5;129;01mor\u001b[39;00m _global_forward_pre_hooks):\n\u001b[32m-> \u001b[39m\u001b[32m1762\u001b[39m     \u001b[38;5;28;01mreturn\u001b[39;00m \u001b[43mforward_call\u001b[49m\u001b[43m(\u001b[49m\u001b[43m*\u001b[49m\u001b[43margs\u001b[49m\u001b[43m,\u001b[49m\u001b[43m \u001b[49m\u001b[43m*\u001b[49m\u001b[43m*\u001b[49m\u001b[43mkwargs\u001b[49m\u001b[43m)\u001b[49m\n\u001b[32m   1764\u001b[39m result = \u001b[38;5;28;01mNone\u001b[39;00m\n\u001b[32m   1765\u001b[39m called_always_called_hooks = \u001b[38;5;28mset\u001b[39m()\n",
      "\u001b[36mFile \u001b[39m\u001b[32me:\\dissertation\\project\\housing_feature_gentrification\\venv\\Lib\\site-packages\\transformers\\models\\bert\\modeling_bert.py:651\u001b[39m, in \u001b[36mBertEncoder.forward\u001b[39m\u001b[34m(self, hidden_states, attention_mask, head_mask, encoder_hidden_states, encoder_attention_mask, past_key_values, use_cache, output_attentions, output_hidden_states, return_dict)\u001b[39m\n\u001b[32m    648\u001b[39m layer_head_mask = head_mask[i] \u001b[38;5;28;01mif\u001b[39;00m head_mask \u001b[38;5;129;01mis\u001b[39;00m \u001b[38;5;129;01mnot\u001b[39;00m \u001b[38;5;28;01mNone\u001b[39;00m \u001b[38;5;28;01melse\u001b[39;00m \u001b[38;5;28;01mNone\u001b[39;00m\n\u001b[32m    649\u001b[39m past_key_value = past_key_values[i] \u001b[38;5;28;01mif\u001b[39;00m past_key_values \u001b[38;5;129;01mis\u001b[39;00m \u001b[38;5;129;01mnot\u001b[39;00m \u001b[38;5;28;01mNone\u001b[39;00m \u001b[38;5;28;01melse\u001b[39;00m \u001b[38;5;28;01mNone\u001b[39;00m\n\u001b[32m--> \u001b[39m\u001b[32m651\u001b[39m layer_outputs = \u001b[43mlayer_module\u001b[49m\u001b[43m(\u001b[49m\n\u001b[32m    652\u001b[39m \u001b[43m    \u001b[49m\u001b[43mhidden_states\u001b[49m\u001b[43m,\u001b[49m\n\u001b[32m    653\u001b[39m \u001b[43m    \u001b[49m\u001b[43mattention_mask\u001b[49m\u001b[43m,\u001b[49m\n\u001b[32m    654\u001b[39m \u001b[43m    \u001b[49m\u001b[43mlayer_head_mask\u001b[49m\u001b[43m,\u001b[49m\n\u001b[32m    655\u001b[39m \u001b[43m    \u001b[49m\u001b[43mencoder_hidden_states\u001b[49m\u001b[43m,\u001b[49m\u001b[43m  \u001b[49m\u001b[38;5;66;43;03m# as a positional argument for gradient checkpointing\u001b[39;49;00m\n\u001b[32m    656\u001b[39m \u001b[43m    \u001b[49m\u001b[43mencoder_attention_mask\u001b[49m\u001b[43m=\u001b[49m\u001b[43mencoder_attention_mask\u001b[49m\u001b[43m,\u001b[49m\n\u001b[32m    657\u001b[39m \u001b[43m    \u001b[49m\u001b[43mpast_key_value\u001b[49m\u001b[43m=\u001b[49m\u001b[43mpast_key_value\u001b[49m\u001b[43m,\u001b[49m\n\u001b[32m    658\u001b[39m \u001b[43m    \u001b[49m\u001b[43moutput_attentions\u001b[49m\u001b[43m=\u001b[49m\u001b[43moutput_attentions\u001b[49m\u001b[43m,\u001b[49m\n\u001b[32m    659\u001b[39m \u001b[43m\u001b[49m\u001b[43m)\u001b[49m\n\u001b[32m    661\u001b[39m hidden_states = layer_outputs[\u001b[32m0\u001b[39m]\n\u001b[32m    662\u001b[39m \u001b[38;5;28;01mif\u001b[39;00m use_cache:\n",
      "\u001b[36mFile \u001b[39m\u001b[32me:\\dissertation\\project\\housing_feature_gentrification\\venv\\Lib\\site-packages\\transformers\\modeling_layers.py:83\u001b[39m, in \u001b[36mGradientCheckpointingLayer.__call__\u001b[39m\u001b[34m(self, *args, **kwargs)\u001b[39m\n\u001b[32m     80\u001b[39m         logger.warning(message)\n\u001b[32m     82\u001b[39m     \u001b[38;5;28;01mreturn\u001b[39;00m \u001b[38;5;28mself\u001b[39m._gradient_checkpointing_func(partial(\u001b[38;5;28msuper\u001b[39m().\u001b[34m__call__\u001b[39m, **kwargs), *args)\n\u001b[32m---> \u001b[39m\u001b[32m83\u001b[39m \u001b[38;5;28;01mreturn\u001b[39;00m \u001b[38;5;28;43msuper\u001b[39;49m\u001b[43m(\u001b[49m\u001b[43m)\u001b[49m\u001b[43m.\u001b[49m\u001b[34;43m__call__\u001b[39;49m\u001b[43m(\u001b[49m\u001b[43m*\u001b[49m\u001b[43margs\u001b[49m\u001b[43m,\u001b[49m\u001b[43m \u001b[49m\u001b[43m*\u001b[49m\u001b[43m*\u001b[49m\u001b[43mkwargs\u001b[49m\u001b[43m)\u001b[49m\n",
      "\u001b[36mFile \u001b[39m\u001b[32me:\\dissertation\\project\\housing_feature_gentrification\\venv\\Lib\\site-packages\\torch\\nn\\modules\\module.py:1751\u001b[39m, in \u001b[36mModule._wrapped_call_impl\u001b[39m\u001b[34m(self, *args, **kwargs)\u001b[39m\n\u001b[32m   1749\u001b[39m     \u001b[38;5;28;01mreturn\u001b[39;00m \u001b[38;5;28mself\u001b[39m._compiled_call_impl(*args, **kwargs)  \u001b[38;5;66;03m# type: ignore[misc]\u001b[39;00m\n\u001b[32m   1750\u001b[39m \u001b[38;5;28;01melse\u001b[39;00m:\n\u001b[32m-> \u001b[39m\u001b[32m1751\u001b[39m     \u001b[38;5;28;01mreturn\u001b[39;00m \u001b[38;5;28;43mself\u001b[39;49m\u001b[43m.\u001b[49m\u001b[43m_call_impl\u001b[49m\u001b[43m(\u001b[49m\u001b[43m*\u001b[49m\u001b[43margs\u001b[49m\u001b[43m,\u001b[49m\u001b[43m \u001b[49m\u001b[43m*\u001b[49m\u001b[43m*\u001b[49m\u001b[43mkwargs\u001b[49m\u001b[43m)\u001b[49m\n",
      "\u001b[36mFile \u001b[39m\u001b[32me:\\dissertation\\project\\housing_feature_gentrification\\venv\\Lib\\site-packages\\torch\\nn\\modules\\module.py:1762\u001b[39m, in \u001b[36mModule._call_impl\u001b[39m\u001b[34m(self, *args, **kwargs)\u001b[39m\n\u001b[32m   1757\u001b[39m \u001b[38;5;66;03m# If we don't have any hooks, we want to skip the rest of the logic in\u001b[39;00m\n\u001b[32m   1758\u001b[39m \u001b[38;5;66;03m# this function, and just call forward.\u001b[39;00m\n\u001b[32m   1759\u001b[39m \u001b[38;5;28;01mif\u001b[39;00m \u001b[38;5;129;01mnot\u001b[39;00m (\u001b[38;5;28mself\u001b[39m._backward_hooks \u001b[38;5;129;01mor\u001b[39;00m \u001b[38;5;28mself\u001b[39m._backward_pre_hooks \u001b[38;5;129;01mor\u001b[39;00m \u001b[38;5;28mself\u001b[39m._forward_hooks \u001b[38;5;129;01mor\u001b[39;00m \u001b[38;5;28mself\u001b[39m._forward_pre_hooks\n\u001b[32m   1760\u001b[39m         \u001b[38;5;129;01mor\u001b[39;00m _global_backward_pre_hooks \u001b[38;5;129;01mor\u001b[39;00m _global_backward_hooks\n\u001b[32m   1761\u001b[39m         \u001b[38;5;129;01mor\u001b[39;00m _global_forward_hooks \u001b[38;5;129;01mor\u001b[39;00m _global_forward_pre_hooks):\n\u001b[32m-> \u001b[39m\u001b[32m1762\u001b[39m     \u001b[38;5;28;01mreturn\u001b[39;00m \u001b[43mforward_call\u001b[49m\u001b[43m(\u001b[49m\u001b[43m*\u001b[49m\u001b[43margs\u001b[49m\u001b[43m,\u001b[49m\u001b[43m \u001b[49m\u001b[43m*\u001b[49m\u001b[43m*\u001b[49m\u001b[43mkwargs\u001b[49m\u001b[43m)\u001b[49m\n\u001b[32m   1764\u001b[39m result = \u001b[38;5;28;01mNone\u001b[39;00m\n\u001b[32m   1765\u001b[39m called_always_called_hooks = \u001b[38;5;28mset\u001b[39m()\n",
      "\u001b[36mFile \u001b[39m\u001b[32me:\\dissertation\\project\\housing_feature_gentrification\\venv\\Lib\\site-packages\\transformers\\models\\bert\\modeling_bert.py:553\u001b[39m, in \u001b[36mBertLayer.forward\u001b[39m\u001b[34m(self, hidden_states, attention_mask, head_mask, encoder_hidden_states, encoder_attention_mask, past_key_value, output_attentions)\u001b[39m\n\u001b[32m    541\u001b[39m \u001b[38;5;28;01mdef\u001b[39;00m\u001b[38;5;250m \u001b[39m\u001b[34mforward\u001b[39m(\n\u001b[32m    542\u001b[39m     \u001b[38;5;28mself\u001b[39m,\n\u001b[32m    543\u001b[39m     hidden_states: torch.Tensor,\n\u001b[32m   (...)\u001b[39m\u001b[32m    550\u001b[39m ) -> \u001b[38;5;28mtuple\u001b[39m[torch.Tensor]:\n\u001b[32m    551\u001b[39m     \u001b[38;5;66;03m# decoder uni-directional self-attention cached key/values tuple is at positions 1,2\u001b[39;00m\n\u001b[32m    552\u001b[39m     self_attn_past_key_value = past_key_value[:\u001b[32m2\u001b[39m] \u001b[38;5;28;01mif\u001b[39;00m past_key_value \u001b[38;5;129;01mis\u001b[39;00m \u001b[38;5;129;01mnot\u001b[39;00m \u001b[38;5;28;01mNone\u001b[39;00m \u001b[38;5;28;01melse\u001b[39;00m \u001b[38;5;28;01mNone\u001b[39;00m\n\u001b[32m--> \u001b[39m\u001b[32m553\u001b[39m     self_attention_outputs = \u001b[38;5;28;43mself\u001b[39;49m\u001b[43m.\u001b[49m\u001b[43mattention\u001b[49m\u001b[43m(\u001b[49m\n\u001b[32m    554\u001b[39m \u001b[43m        \u001b[49m\u001b[43mhidden_states\u001b[49m\u001b[43m,\u001b[49m\n\u001b[32m    555\u001b[39m \u001b[43m        \u001b[49m\u001b[43mattention_mask\u001b[49m\u001b[43m,\u001b[49m\n\u001b[32m    556\u001b[39m \u001b[43m        \u001b[49m\u001b[43mhead_mask\u001b[49m\u001b[43m,\u001b[49m\n\u001b[32m    557\u001b[39m \u001b[43m        \u001b[49m\u001b[43moutput_attentions\u001b[49m\u001b[43m=\u001b[49m\u001b[43moutput_attentions\u001b[49m\u001b[43m,\u001b[49m\n\u001b[32m    558\u001b[39m \u001b[43m        \u001b[49m\u001b[43mpast_key_value\u001b[49m\u001b[43m=\u001b[49m\u001b[43mself_attn_past_key_value\u001b[49m\u001b[43m,\u001b[49m\n\u001b[32m    559\u001b[39m \u001b[43m    \u001b[49m\u001b[43m)\u001b[49m\n\u001b[32m    560\u001b[39m     attention_output = self_attention_outputs[\u001b[32m0\u001b[39m]\n\u001b[32m    562\u001b[39m     \u001b[38;5;66;03m# if decoder, the last output is tuple of self-attn cache\u001b[39;00m\n",
      "\u001b[36mFile \u001b[39m\u001b[32me:\\dissertation\\project\\housing_feature_gentrification\\venv\\Lib\\site-packages\\torch\\nn\\modules\\module.py:1751\u001b[39m, in \u001b[36mModule._wrapped_call_impl\u001b[39m\u001b[34m(self, *args, **kwargs)\u001b[39m\n\u001b[32m   1749\u001b[39m     \u001b[38;5;28;01mreturn\u001b[39;00m \u001b[38;5;28mself\u001b[39m._compiled_call_impl(*args, **kwargs)  \u001b[38;5;66;03m# type: ignore[misc]\u001b[39;00m\n\u001b[32m   1750\u001b[39m \u001b[38;5;28;01melse\u001b[39;00m:\n\u001b[32m-> \u001b[39m\u001b[32m1751\u001b[39m     \u001b[38;5;28;01mreturn\u001b[39;00m \u001b[38;5;28;43mself\u001b[39;49m\u001b[43m.\u001b[49m\u001b[43m_call_impl\u001b[49m\u001b[43m(\u001b[49m\u001b[43m*\u001b[49m\u001b[43margs\u001b[49m\u001b[43m,\u001b[49m\u001b[43m \u001b[49m\u001b[43m*\u001b[49m\u001b[43m*\u001b[49m\u001b[43mkwargs\u001b[49m\u001b[43m)\u001b[49m\n",
      "\u001b[36mFile \u001b[39m\u001b[32me:\\dissertation\\project\\housing_feature_gentrification\\venv\\Lib\\site-packages\\torch\\nn\\modules\\module.py:1762\u001b[39m, in \u001b[36mModule._call_impl\u001b[39m\u001b[34m(self, *args, **kwargs)\u001b[39m\n\u001b[32m   1757\u001b[39m \u001b[38;5;66;03m# If we don't have any hooks, we want to skip the rest of the logic in\u001b[39;00m\n\u001b[32m   1758\u001b[39m \u001b[38;5;66;03m# this function, and just call forward.\u001b[39;00m\n\u001b[32m   1759\u001b[39m \u001b[38;5;28;01mif\u001b[39;00m \u001b[38;5;129;01mnot\u001b[39;00m (\u001b[38;5;28mself\u001b[39m._backward_hooks \u001b[38;5;129;01mor\u001b[39;00m \u001b[38;5;28mself\u001b[39m._backward_pre_hooks \u001b[38;5;129;01mor\u001b[39;00m \u001b[38;5;28mself\u001b[39m._forward_hooks \u001b[38;5;129;01mor\u001b[39;00m \u001b[38;5;28mself\u001b[39m._forward_pre_hooks\n\u001b[32m   1760\u001b[39m         \u001b[38;5;129;01mor\u001b[39;00m _global_backward_pre_hooks \u001b[38;5;129;01mor\u001b[39;00m _global_backward_hooks\n\u001b[32m   1761\u001b[39m         \u001b[38;5;129;01mor\u001b[39;00m _global_forward_hooks \u001b[38;5;129;01mor\u001b[39;00m _global_forward_pre_hooks):\n\u001b[32m-> \u001b[39m\u001b[32m1762\u001b[39m     \u001b[38;5;28;01mreturn\u001b[39;00m \u001b[43mforward_call\u001b[49m\u001b[43m(\u001b[49m\u001b[43m*\u001b[49m\u001b[43margs\u001b[49m\u001b[43m,\u001b[49m\u001b[43m \u001b[49m\u001b[43m*\u001b[49m\u001b[43m*\u001b[49m\u001b[43mkwargs\u001b[49m\u001b[43m)\u001b[49m\n\u001b[32m   1764\u001b[39m result = \u001b[38;5;28;01mNone\u001b[39;00m\n\u001b[32m   1765\u001b[39m called_always_called_hooks = \u001b[38;5;28mset\u001b[39m()\n",
      "\u001b[36mFile \u001b[39m\u001b[32me:\\dissertation\\project\\housing_feature_gentrification\\venv\\Lib\\site-packages\\transformers\\models\\bert\\modeling_bert.py:483\u001b[39m, in \u001b[36mBertAttention.forward\u001b[39m\u001b[34m(self, hidden_states, attention_mask, head_mask, encoder_hidden_states, encoder_attention_mask, past_key_value, output_attentions)\u001b[39m\n\u001b[32m    473\u001b[39m \u001b[38;5;28;01mdef\u001b[39;00m\u001b[38;5;250m \u001b[39m\u001b[34mforward\u001b[39m(\n\u001b[32m    474\u001b[39m     \u001b[38;5;28mself\u001b[39m,\n\u001b[32m    475\u001b[39m     hidden_states: torch.Tensor,\n\u001b[32m   (...)\u001b[39m\u001b[32m    481\u001b[39m     output_attentions: Optional[\u001b[38;5;28mbool\u001b[39m] = \u001b[38;5;28;01mFalse\u001b[39;00m,\n\u001b[32m    482\u001b[39m ) -> \u001b[38;5;28mtuple\u001b[39m[torch.Tensor]:\n\u001b[32m--> \u001b[39m\u001b[32m483\u001b[39m     self_outputs = \u001b[38;5;28;43mself\u001b[39;49m\u001b[43m.\u001b[49m\u001b[43mself\u001b[49m\u001b[43m(\u001b[49m\n\u001b[32m    484\u001b[39m \u001b[43m        \u001b[49m\u001b[43mhidden_states\u001b[49m\u001b[43m,\u001b[49m\n\u001b[32m    485\u001b[39m \u001b[43m        \u001b[49m\u001b[43mattention_mask\u001b[49m\u001b[43m,\u001b[49m\n\u001b[32m    486\u001b[39m \u001b[43m        \u001b[49m\u001b[43mhead_mask\u001b[49m\u001b[43m,\u001b[49m\n\u001b[32m    487\u001b[39m \u001b[43m        \u001b[49m\u001b[43mencoder_hidden_states\u001b[49m\u001b[43m,\u001b[49m\n\u001b[32m    488\u001b[39m \u001b[43m        \u001b[49m\u001b[43mencoder_attention_mask\u001b[49m\u001b[43m,\u001b[49m\n\u001b[32m    489\u001b[39m \u001b[43m        \u001b[49m\u001b[43mpast_key_value\u001b[49m\u001b[43m,\u001b[49m\n\u001b[32m    490\u001b[39m \u001b[43m        \u001b[49m\u001b[43moutput_attentions\u001b[49m\u001b[43m,\u001b[49m\n\u001b[32m    491\u001b[39m \u001b[43m    \u001b[49m\u001b[43m)\u001b[49m\n\u001b[32m    492\u001b[39m     attention_output = \u001b[38;5;28mself\u001b[39m.output(self_outputs[\u001b[32m0\u001b[39m], hidden_states)\n\u001b[32m    493\u001b[39m     outputs = (attention_output,) + self_outputs[\u001b[32m1\u001b[39m:]  \u001b[38;5;66;03m# add attentions if we output them\u001b[39;00m\n",
      "\u001b[36mFile \u001b[39m\u001b[32me:\\dissertation\\project\\housing_feature_gentrification\\venv\\Lib\\site-packages\\torch\\nn\\modules\\module.py:1751\u001b[39m, in \u001b[36mModule._wrapped_call_impl\u001b[39m\u001b[34m(self, *args, **kwargs)\u001b[39m\n\u001b[32m   1749\u001b[39m     \u001b[38;5;28;01mreturn\u001b[39;00m \u001b[38;5;28mself\u001b[39m._compiled_call_impl(*args, **kwargs)  \u001b[38;5;66;03m# type: ignore[misc]\u001b[39;00m\n\u001b[32m   1750\u001b[39m \u001b[38;5;28;01melse\u001b[39;00m:\n\u001b[32m-> \u001b[39m\u001b[32m1751\u001b[39m     \u001b[38;5;28;01mreturn\u001b[39;00m \u001b[38;5;28;43mself\u001b[39;49m\u001b[43m.\u001b[49m\u001b[43m_call_impl\u001b[49m\u001b[43m(\u001b[49m\u001b[43m*\u001b[49m\u001b[43margs\u001b[49m\u001b[43m,\u001b[49m\u001b[43m \u001b[49m\u001b[43m*\u001b[49m\u001b[43m*\u001b[49m\u001b[43mkwargs\u001b[49m\u001b[43m)\u001b[49m\n",
      "\u001b[36mFile \u001b[39m\u001b[32me:\\dissertation\\project\\housing_feature_gentrification\\venv\\Lib\\site-packages\\torch\\nn\\modules\\module.py:1762\u001b[39m, in \u001b[36mModule._call_impl\u001b[39m\u001b[34m(self, *args, **kwargs)\u001b[39m\n\u001b[32m   1757\u001b[39m \u001b[38;5;66;03m# If we don't have any hooks, we want to skip the rest of the logic in\u001b[39;00m\n\u001b[32m   1758\u001b[39m \u001b[38;5;66;03m# this function, and just call forward.\u001b[39;00m\n\u001b[32m   1759\u001b[39m \u001b[38;5;28;01mif\u001b[39;00m \u001b[38;5;129;01mnot\u001b[39;00m (\u001b[38;5;28mself\u001b[39m._backward_hooks \u001b[38;5;129;01mor\u001b[39;00m \u001b[38;5;28mself\u001b[39m._backward_pre_hooks \u001b[38;5;129;01mor\u001b[39;00m \u001b[38;5;28mself\u001b[39m._forward_hooks \u001b[38;5;129;01mor\u001b[39;00m \u001b[38;5;28mself\u001b[39m._forward_pre_hooks\n\u001b[32m   1760\u001b[39m         \u001b[38;5;129;01mor\u001b[39;00m _global_backward_pre_hooks \u001b[38;5;129;01mor\u001b[39;00m _global_backward_hooks\n\u001b[32m   1761\u001b[39m         \u001b[38;5;129;01mor\u001b[39;00m _global_forward_hooks \u001b[38;5;129;01mor\u001b[39;00m _global_forward_pre_hooks):\n\u001b[32m-> \u001b[39m\u001b[32m1762\u001b[39m     \u001b[38;5;28;01mreturn\u001b[39;00m \u001b[43mforward_call\u001b[49m\u001b[43m(\u001b[49m\u001b[43m*\u001b[49m\u001b[43margs\u001b[49m\u001b[43m,\u001b[49m\u001b[43m \u001b[49m\u001b[43m*\u001b[49m\u001b[43m*\u001b[49m\u001b[43mkwargs\u001b[49m\u001b[43m)\u001b[49m\n\u001b[32m   1764\u001b[39m result = \u001b[38;5;28;01mNone\u001b[39;00m\n\u001b[32m   1765\u001b[39m called_always_called_hooks = \u001b[38;5;28mset\u001b[39m()\n",
      "\u001b[36mFile \u001b[39m\u001b[32me:\\dissertation\\project\\housing_feature_gentrification\\venv\\Lib\\site-packages\\transformers\\models\\bert\\modeling_bert.py:377\u001b[39m, in \u001b[36mBertSdpaSelfAttention.forward\u001b[39m\u001b[34m(self, hidden_states, attention_mask, head_mask, encoder_hidden_states, encoder_attention_mask, past_key_value, output_attentions)\u001b[39m\n\u001b[32m    375\u001b[39m \u001b[38;5;28;01melse\u001b[39;00m:\n\u001b[32m    376\u001b[39m     key_layer = \u001b[38;5;28mself\u001b[39m.transpose_for_scores(\u001b[38;5;28mself\u001b[39m.key(current_states))\n\u001b[32m--> \u001b[39m\u001b[32m377\u001b[39m     value_layer = \u001b[38;5;28mself\u001b[39m.transpose_for_scores(\u001b[38;5;28;43mself\u001b[39;49m\u001b[43m.\u001b[49m\u001b[43mvalue\u001b[49m\u001b[43m(\u001b[49m\u001b[43mcurrent_states\u001b[49m\u001b[43m)\u001b[49m)\n\u001b[32m    378\u001b[39m     \u001b[38;5;28;01mif\u001b[39;00m past_key_value \u001b[38;5;129;01mis\u001b[39;00m \u001b[38;5;129;01mnot\u001b[39;00m \u001b[38;5;28;01mNone\u001b[39;00m \u001b[38;5;129;01mand\u001b[39;00m \u001b[38;5;129;01mnot\u001b[39;00m is_cross_attention:\n\u001b[32m    379\u001b[39m         key_layer = torch.cat([past_key_value[\u001b[32m0\u001b[39m], key_layer], dim=\u001b[32m2\u001b[39m)\n",
      "\u001b[36mFile \u001b[39m\u001b[32me:\\dissertation\\project\\housing_feature_gentrification\\venv\\Lib\\site-packages\\torch\\nn\\modules\\module.py:1751\u001b[39m, in \u001b[36mModule._wrapped_call_impl\u001b[39m\u001b[34m(self, *args, **kwargs)\u001b[39m\n\u001b[32m   1749\u001b[39m     \u001b[38;5;28;01mreturn\u001b[39;00m \u001b[38;5;28mself\u001b[39m._compiled_call_impl(*args, **kwargs)  \u001b[38;5;66;03m# type: ignore[misc]\u001b[39;00m\n\u001b[32m   1750\u001b[39m \u001b[38;5;28;01melse\u001b[39;00m:\n\u001b[32m-> \u001b[39m\u001b[32m1751\u001b[39m     \u001b[38;5;28;01mreturn\u001b[39;00m \u001b[38;5;28;43mself\u001b[39;49m\u001b[43m.\u001b[49m\u001b[43m_call_impl\u001b[49m\u001b[43m(\u001b[49m\u001b[43m*\u001b[49m\u001b[43margs\u001b[49m\u001b[43m,\u001b[49m\u001b[43m \u001b[49m\u001b[43m*\u001b[49m\u001b[43m*\u001b[49m\u001b[43mkwargs\u001b[49m\u001b[43m)\u001b[49m\n",
      "\u001b[36mFile \u001b[39m\u001b[32me:\\dissertation\\project\\housing_feature_gentrification\\venv\\Lib\\site-packages\\torch\\nn\\modules\\module.py:1762\u001b[39m, in \u001b[36mModule._call_impl\u001b[39m\u001b[34m(self, *args, **kwargs)\u001b[39m\n\u001b[32m   1757\u001b[39m \u001b[38;5;66;03m# If we don't have any hooks, we want to skip the rest of the logic in\u001b[39;00m\n\u001b[32m   1758\u001b[39m \u001b[38;5;66;03m# this function, and just call forward.\u001b[39;00m\n\u001b[32m   1759\u001b[39m \u001b[38;5;28;01mif\u001b[39;00m \u001b[38;5;129;01mnot\u001b[39;00m (\u001b[38;5;28mself\u001b[39m._backward_hooks \u001b[38;5;129;01mor\u001b[39;00m \u001b[38;5;28mself\u001b[39m._backward_pre_hooks \u001b[38;5;129;01mor\u001b[39;00m \u001b[38;5;28mself\u001b[39m._forward_hooks \u001b[38;5;129;01mor\u001b[39;00m \u001b[38;5;28mself\u001b[39m._forward_pre_hooks\n\u001b[32m   1760\u001b[39m         \u001b[38;5;129;01mor\u001b[39;00m _global_backward_pre_hooks \u001b[38;5;129;01mor\u001b[39;00m _global_backward_hooks\n\u001b[32m   1761\u001b[39m         \u001b[38;5;129;01mor\u001b[39;00m _global_forward_hooks \u001b[38;5;129;01mor\u001b[39;00m _global_forward_pre_hooks):\n\u001b[32m-> \u001b[39m\u001b[32m1762\u001b[39m     \u001b[38;5;28;01mreturn\u001b[39;00m \u001b[43mforward_call\u001b[49m\u001b[43m(\u001b[49m\u001b[43m*\u001b[49m\u001b[43margs\u001b[49m\u001b[43m,\u001b[49m\u001b[43m \u001b[49m\u001b[43m*\u001b[49m\u001b[43m*\u001b[49m\u001b[43mkwargs\u001b[49m\u001b[43m)\u001b[49m\n\u001b[32m   1764\u001b[39m result = \u001b[38;5;28;01mNone\u001b[39;00m\n\u001b[32m   1765\u001b[39m called_always_called_hooks = \u001b[38;5;28mset\u001b[39m()\n",
      "\u001b[36mFile \u001b[39m\u001b[32me:\\dissertation\\project\\housing_feature_gentrification\\venv\\Lib\\site-packages\\torch\\nn\\modules\\linear.py:125\u001b[39m, in \u001b[36mLinear.forward\u001b[39m\u001b[34m(self, input)\u001b[39m\n\u001b[32m    124\u001b[39m \u001b[38;5;28;01mdef\u001b[39;00m\u001b[38;5;250m \u001b[39m\u001b[34mforward\u001b[39m(\u001b[38;5;28mself\u001b[39m, \u001b[38;5;28minput\u001b[39m: Tensor) -> Tensor:\n\u001b[32m--> \u001b[39m\u001b[32m125\u001b[39m     \u001b[38;5;28;01mreturn\u001b[39;00m \u001b[43mF\u001b[49m\u001b[43m.\u001b[49m\u001b[43mlinear\u001b[49m\u001b[43m(\u001b[49m\u001b[38;5;28;43minput\u001b[39;49m\u001b[43m,\u001b[49m\u001b[43m \u001b[49m\u001b[38;5;28;43mself\u001b[39;49m\u001b[43m.\u001b[49m\u001b[43mweight\u001b[49m\u001b[43m,\u001b[49m\u001b[43m \u001b[49m\u001b[38;5;28;43mself\u001b[39;49m\u001b[43m.\u001b[49m\u001b[43mbias\u001b[49m\u001b[43m)\u001b[49m\n",
      "\u001b[31mKeyboardInterrupt\u001b[39m: "
     ]
    }
   ],
   "source": [
    "from sklearn.model_selection import StratifiedKFold\n",
    "from sklearn.metrics.pairwise import cosine_similarity\n",
    "\n",
    "kf = StratifiedKFold(n_splits=5, shuffle=True, random_state=42)\n",
    "joined_cleaned['y'] = joined_cleaned['gentrified'].astype(int)\n",
    "\n",
    "# ✅ flatten 工具函数，处理 numpy array / list / string\n",
    "def flatten_text(x):\n",
    "    if isinstance(x, (np.ndarray, list)):\n",
    "        if len(x) > 0:\n",
    "            return str(x[0])\n",
    "        else:\n",
    "            return \"\"  # 空数组返回空字符串或 None\n",
    "    elif isinstance(x, str):\n",
    "        return x\n",
    "    else:\n",
    "        return str(x)\n",
    "\n",
    "\n",
    "for fold, (train_idx, test_idx) in enumerate(kf.split(joined_cleaned, joined_cleaned['y']), 1):\n",
    "    print(f\"\\n====== Fold {fold} ======\")\n",
    "\n",
    "    # 拆分训练和测试集\n",
    "    df_train = joined_cleaned.iloc[train_idx]\n",
    "    df_test = joined_cleaned.iloc[test_idx]\n",
    "\n",
    "    # ✅ 提取训练集中正类的句子，并处理格式\n",
    "    positive_sentences = (\n",
    "        df_train[df_train['y'] == 1]['sentences']\n",
    "        .dropna()\n",
    "        .apply(flatten_text)\n",
    "        .tolist()\n",
    "    )\n",
    "\n",
    "    # ✅ 从正类句子中提取多样化高相似 keylines（作为新的 anchor）\n",
    "    anchor_sentences = extract_diverse_anchor_sentences(\n",
    "        anchor_vecs,\n",
    "        positive_sentences,\n",
    "        sbert_model,\n",
    "        topk=10,\n",
    "        anchor_threshold=0.6,\n",
    "        sim_threshold=0.85\n",
    "    )\n",
    "\n",
    "    # ✅ 对所有句子重新打分（train + test）\n",
    "    full_sentences = joined_cleaned['sentences'].dropna().apply(flatten_text).tolist()\n",
    "    full_vecs = sbert_model.encode(full_sentences, batch_size=32, show_progress_bar=False)\n",
    "\n",
    "    for cat, anchor_list in anchor_sentences.items():\n",
    "        anchor_sents = [x['sentence'] for x in anchor_list]\n",
    "        if not anchor_sents:\n",
    "            print(f\"⚠️ No anchor sentences found for category: {cat}\")\n",
    "            joined_cleaned[f\"{cat}_sim_fold{fold}\"] = np.nan\n",
    "            continue\n",
    "\n",
    "        anchor_vec_set = sbert_model.encode(anchor_sents, batch_size=32)\n",
    "        sims = cosine_similarity(full_vecs, anchor_vec_set).max(axis=1)\n",
    "\n",
    "        # ✅ 写入特征列\n",
    "        joined_cleaned[f\"{cat}_sim_fold{fold}\"] = sims\n",
    "\n",
    "    print(f\"✅ Fold {fold} features done.\")\n"
   ]
  },
  {
   "cell_type": "code",
   "execution_count": 82,
   "id": "1ec3e00a",
   "metadata": {},
   "outputs": [],
   "source": [
    "# 强制转成字符串 & 去除缺失值\n",
    "all_sentences = joined_cleaned['sentences'].dropna().astype(str).tolist()"
   ]
  },
  {
   "cell_type": "code",
   "execution_count": 85,
   "id": "e303f99c",
   "metadata": {},
   "outputs": [
    {
     "name": "stdout",
     "output_type": "stream",
     "text": [
      "emcoding all sentences...\n"
     ]
    },
    {
     "data": {
      "application/vnd.jupyter.widget-view+json": {
       "model_id": "dd5fa774cde14ff0a47a2ce89607d4ad",
       "version_major": 2,
       "version_minor": 0
      },
      "text/plain": [
       "Batches:   0%|          | 0/4856 [00:00<?, ?it/s]"
      ]
     },
     "metadata": {},
     "output_type": "display_data"
    },
    {
     "ename": "KeyboardInterrupt",
     "evalue": "",
     "output_type": "error",
     "traceback": [
      "\u001b[31m---------------------------------------------------------------------------\u001b[39m",
      "\u001b[31mKeyboardInterrupt\u001b[39m                         Traceback (most recent call last)",
      "\u001b[36mCell\u001b[39m\u001b[36m \u001b[39m\u001b[32mIn[85]\u001b[39m\u001b[32m, line 1\u001b[39m\n\u001b[32m----> \u001b[39m\u001b[32m1\u001b[39m diverse_results = \u001b[43mextract_diverse_anchor_sentences\u001b[49m\u001b[43m(\u001b[49m\n\u001b[32m      2\u001b[39m \u001b[43m    \u001b[49m\u001b[43manchor_vecs\u001b[49m\u001b[43m=\u001b[49m\u001b[43manchor_vecs\u001b[49m\u001b[43m,\u001b[49m\n\u001b[32m      3\u001b[39m \u001b[43m    \u001b[49m\u001b[43mall_sentences\u001b[49m\u001b[43m=\u001b[49m\u001b[43mall_sentences\u001b[49m\u001b[43m \u001b[49m\u001b[43m,\u001b[49m\n\u001b[32m      4\u001b[39m \u001b[43m    \u001b[49m\u001b[43msbert_model\u001b[49m\u001b[43m=\u001b[49m\u001b[43msbert_model\u001b[49m\u001b[43m,\u001b[49m\n\u001b[32m      5\u001b[39m \u001b[43m    \u001b[49m\u001b[43mtopk\u001b[49m\u001b[43m=\u001b[49m\u001b[32;43m50\u001b[39;49m\u001b[43m,\u001b[49m\n\u001b[32m      6\u001b[39m \u001b[43m    \u001b[49m\u001b[43manchor_threshold\u001b[49m\u001b[43m=\u001b[49m\u001b[32;43m0.6\u001b[39;49m\u001b[43m,\u001b[49m\u001b[43m \u001b[49m\u001b[38;5;66;43;03m# 0.5\u001b[39;49;00m\n\u001b[32m      7\u001b[39m \u001b[43m    \u001b[49m\u001b[43msim_threshold\u001b[49m\u001b[43m=\u001b[49m\u001b[32;43m0.85\u001b[39;49m\u001b[43m \u001b[49m\u001b[38;5;66;43;03m#0.7\u001b[39;49;00m\n\u001b[32m      8\u001b[39m \u001b[43m)\u001b[49m\n",
      "\u001b[36mCell\u001b[39m\u001b[36m \u001b[39m\u001b[32mIn[81]\u001b[39m\u001b[32m, line 11\u001b[39m, in \u001b[36mextract_diverse_anchor_sentences\u001b[39m\u001b[34m(anchor_vecs, all_sentences, sbert_model, topk, anchor_threshold, sim_threshold)\u001b[39m\n\u001b[32m      1\u001b[39m \u001b[38;5;28;01mdef\u001b[39;00m\u001b[38;5;250m \u001b[39m\u001b[34mextract_diverse_anchor_sentences\u001b[39m(\n\u001b[32m      2\u001b[39m     anchor_vecs,           \u001b[38;5;66;03m# 你的人工定义 anchor 向量: {anchor_name: vector}\u001b[39;00m\n\u001b[32m      3\u001b[39m     all_sentences,         \u001b[38;5;66;03m# 句子列表: List[str]\u001b[39;00m\n\u001b[32m   (...)\u001b[39m\u001b[32m      8\u001b[39m ):\n\u001b[32m      9\u001b[39m     \u001b[38;5;66;03m# 编码所有句子为向量\u001b[39;00m\n\u001b[32m     10\u001b[39m     \u001b[38;5;28mprint\u001b[39m(\u001b[33m\"\u001b[39m\u001b[33memcoding all sentences...\u001b[39m\u001b[33m\"\u001b[39m)\n\u001b[32m---> \u001b[39m\u001b[32m11\u001b[39m     sent_vecs = \u001b[43msbert_model\u001b[49m\u001b[43m.\u001b[49m\u001b[43mencode\u001b[49m\u001b[43m(\u001b[49m\u001b[43mall_sentences\u001b[49m\u001b[43m,\u001b[49m\u001b[43m \u001b[49m\u001b[43mbatch_size\u001b[49m\u001b[43m=\u001b[49m\u001b[32;43m32\u001b[39;49m\u001b[43m,\u001b[49m\u001b[43m \u001b[49m\u001b[43mshow_progress_bar\u001b[49m\u001b[43m=\u001b[49m\u001b[38;5;28;43;01mTrue\u001b[39;49;00m\u001b[43m)\u001b[49m\n\u001b[32m     13\u001b[39m     anchor_top_sentences = {}\n\u001b[32m     15\u001b[39m     \u001b[38;5;28;01mfor\u001b[39;00m cat, anchor_vec \u001b[38;5;129;01min\u001b[39;00m tqdm(anchor_vecs.items(), desc=\u001b[33m\"\u001b[39m\u001b[33m🔍 extract sentences from each category\u001b[39m\u001b[33m\"\u001b[39m):\n",
      "\u001b[36mFile \u001b[39m\u001b[32me:\\dissertation\\project\\housing_feature_gentrification\\venv\\Lib\\site-packages\\sentence_transformers\\SentenceTransformer.py:685\u001b[39m, in \u001b[36mSentenceTransformer.encode\u001b[39m\u001b[34m(self, sentences, prompt_name, prompt, batch_size, show_progress_bar, output_value, precision, convert_to_numpy, convert_to_tensor, device, normalize_embeddings, **kwargs)\u001b[39m\n\u001b[32m    682\u001b[39m features.update(extra_features)\n\u001b[32m    684\u001b[39m \u001b[38;5;28;01mwith\u001b[39;00m torch.no_grad():\n\u001b[32m--> \u001b[39m\u001b[32m685\u001b[39m     out_features = \u001b[38;5;28;43mself\u001b[39;49m\u001b[43m.\u001b[49m\u001b[43mforward\u001b[49m\u001b[43m(\u001b[49m\u001b[43mfeatures\u001b[49m\u001b[43m,\u001b[49m\u001b[43m \u001b[49m\u001b[43m*\u001b[49m\u001b[43m*\u001b[49m\u001b[43mkwargs\u001b[49m\u001b[43m)\u001b[49m\n\u001b[32m    686\u001b[39m     \u001b[38;5;28;01mif\u001b[39;00m \u001b[38;5;28mself\u001b[39m.device.type == \u001b[33m\"\u001b[39m\u001b[33mhpu\u001b[39m\u001b[33m\"\u001b[39m:\n\u001b[32m    687\u001b[39m         out_features = copy.deepcopy(out_features)\n",
      "\u001b[36mFile \u001b[39m\u001b[32me:\\dissertation\\project\\housing_feature_gentrification\\venv\\Lib\\site-packages\\sentence_transformers\\SentenceTransformer.py:758\u001b[39m, in \u001b[36mSentenceTransformer.forward\u001b[39m\u001b[34m(self, input, **kwargs)\u001b[39m\n\u001b[32m    756\u001b[39m     module_kwarg_keys = \u001b[38;5;28mself\u001b[39m.module_kwargs.get(module_name, [])\n\u001b[32m    757\u001b[39m     module_kwargs = {key: value \u001b[38;5;28;01mfor\u001b[39;00m key, value \u001b[38;5;129;01min\u001b[39;00m kwargs.items() \u001b[38;5;28;01mif\u001b[39;00m key \u001b[38;5;129;01min\u001b[39;00m module_kwarg_keys}\n\u001b[32m--> \u001b[39m\u001b[32m758\u001b[39m     \u001b[38;5;28minput\u001b[39m = \u001b[43mmodule\u001b[49m\u001b[43m(\u001b[49m\u001b[38;5;28;43minput\u001b[39;49m\u001b[43m,\u001b[49m\u001b[43m \u001b[49m\u001b[43m*\u001b[49m\u001b[43m*\u001b[49m\u001b[43mmodule_kwargs\u001b[49m\u001b[43m)\u001b[49m\n\u001b[32m    759\u001b[39m \u001b[38;5;28;01mreturn\u001b[39;00m \u001b[38;5;28minput\u001b[39m\n",
      "\u001b[36mFile \u001b[39m\u001b[32me:\\dissertation\\project\\housing_feature_gentrification\\venv\\Lib\\site-packages\\torch\\nn\\modules\\module.py:1751\u001b[39m, in \u001b[36mModule._wrapped_call_impl\u001b[39m\u001b[34m(self, *args, **kwargs)\u001b[39m\n\u001b[32m   1749\u001b[39m     \u001b[38;5;28;01mreturn\u001b[39;00m \u001b[38;5;28mself\u001b[39m._compiled_call_impl(*args, **kwargs)  \u001b[38;5;66;03m# type: ignore[misc]\u001b[39;00m\n\u001b[32m   1750\u001b[39m \u001b[38;5;28;01melse\u001b[39;00m:\n\u001b[32m-> \u001b[39m\u001b[32m1751\u001b[39m     \u001b[38;5;28;01mreturn\u001b[39;00m \u001b[38;5;28;43mself\u001b[39;49m\u001b[43m.\u001b[49m\u001b[43m_call_impl\u001b[49m\u001b[43m(\u001b[49m\u001b[43m*\u001b[49m\u001b[43margs\u001b[49m\u001b[43m,\u001b[49m\u001b[43m \u001b[49m\u001b[43m*\u001b[49m\u001b[43m*\u001b[49m\u001b[43mkwargs\u001b[49m\u001b[43m)\u001b[49m\n",
      "\u001b[36mFile \u001b[39m\u001b[32me:\\dissertation\\project\\housing_feature_gentrification\\venv\\Lib\\site-packages\\torch\\nn\\modules\\module.py:1762\u001b[39m, in \u001b[36mModule._call_impl\u001b[39m\u001b[34m(self, *args, **kwargs)\u001b[39m\n\u001b[32m   1757\u001b[39m \u001b[38;5;66;03m# If we don't have any hooks, we want to skip the rest of the logic in\u001b[39;00m\n\u001b[32m   1758\u001b[39m \u001b[38;5;66;03m# this function, and just call forward.\u001b[39;00m\n\u001b[32m   1759\u001b[39m \u001b[38;5;28;01mif\u001b[39;00m \u001b[38;5;129;01mnot\u001b[39;00m (\u001b[38;5;28mself\u001b[39m._backward_hooks \u001b[38;5;129;01mor\u001b[39;00m \u001b[38;5;28mself\u001b[39m._backward_pre_hooks \u001b[38;5;129;01mor\u001b[39;00m \u001b[38;5;28mself\u001b[39m._forward_hooks \u001b[38;5;129;01mor\u001b[39;00m \u001b[38;5;28mself\u001b[39m._forward_pre_hooks\n\u001b[32m   1760\u001b[39m         \u001b[38;5;129;01mor\u001b[39;00m _global_backward_pre_hooks \u001b[38;5;129;01mor\u001b[39;00m _global_backward_hooks\n\u001b[32m   1761\u001b[39m         \u001b[38;5;129;01mor\u001b[39;00m _global_forward_hooks \u001b[38;5;129;01mor\u001b[39;00m _global_forward_pre_hooks):\n\u001b[32m-> \u001b[39m\u001b[32m1762\u001b[39m     \u001b[38;5;28;01mreturn\u001b[39;00m \u001b[43mforward_call\u001b[49m\u001b[43m(\u001b[49m\u001b[43m*\u001b[49m\u001b[43margs\u001b[49m\u001b[43m,\u001b[49m\u001b[43m \u001b[49m\u001b[43m*\u001b[49m\u001b[43m*\u001b[49m\u001b[43mkwargs\u001b[49m\u001b[43m)\u001b[49m\n\u001b[32m   1764\u001b[39m result = \u001b[38;5;28;01mNone\u001b[39;00m\n\u001b[32m   1765\u001b[39m called_always_called_hooks = \u001b[38;5;28mset\u001b[39m()\n",
      "\u001b[36mFile \u001b[39m\u001b[32me:\\dissertation\\project\\housing_feature_gentrification\\venv\\Lib\\site-packages\\sentence_transformers\\models\\Transformer.py:442\u001b[39m, in \u001b[36mTransformer.forward\u001b[39m\u001b[34m(self, features, **kwargs)\u001b[39m\n\u001b[32m    435\u001b[39m \u001b[38;5;250m\u001b[39m\u001b[33;03m\"\"\"Returns token_embeddings, cls_token\"\"\"\u001b[39;00m\n\u001b[32m    436\u001b[39m trans_features = {\n\u001b[32m    437\u001b[39m     key: value\n\u001b[32m    438\u001b[39m     \u001b[38;5;28;01mfor\u001b[39;00m key, value \u001b[38;5;129;01min\u001b[39;00m features.items()\n\u001b[32m    439\u001b[39m     \u001b[38;5;28;01mif\u001b[39;00m key \u001b[38;5;129;01min\u001b[39;00m [\u001b[33m\"\u001b[39m\u001b[33minput_ids\u001b[39m\u001b[33m\"\u001b[39m, \u001b[33m\"\u001b[39m\u001b[33mattention_mask\u001b[39m\u001b[33m\"\u001b[39m, \u001b[33m\"\u001b[39m\u001b[33mtoken_type_ids\u001b[39m\u001b[33m\"\u001b[39m, \u001b[33m\"\u001b[39m\u001b[33minputs_embeds\u001b[39m\u001b[33m\"\u001b[39m]\n\u001b[32m    440\u001b[39m }\n\u001b[32m--> \u001b[39m\u001b[32m442\u001b[39m outputs = \u001b[38;5;28;43mself\u001b[39;49m\u001b[43m.\u001b[49m\u001b[43mauto_model\u001b[49m\u001b[43m(\u001b[49m\u001b[43m*\u001b[49m\u001b[43m*\u001b[49m\u001b[43mtrans_features\u001b[49m\u001b[43m,\u001b[49m\u001b[43m \u001b[49m\u001b[43m*\u001b[49m\u001b[43m*\u001b[49m\u001b[43mkwargs\u001b[49m\u001b[43m,\u001b[49m\u001b[43m \u001b[49m\u001b[43mreturn_dict\u001b[49m\u001b[43m=\u001b[49m\u001b[38;5;28;43;01mTrue\u001b[39;49;00m\u001b[43m)\u001b[49m\n\u001b[32m    443\u001b[39m token_embeddings = outputs[\u001b[32m0\u001b[39m]\n\u001b[32m    444\u001b[39m features[\u001b[33m\"\u001b[39m\u001b[33mtoken_embeddings\u001b[39m\u001b[33m\"\u001b[39m] = token_embeddings\n",
      "\u001b[36mFile \u001b[39m\u001b[32me:\\dissertation\\project\\housing_feature_gentrification\\venv\\Lib\\site-packages\\torch\\nn\\modules\\module.py:1751\u001b[39m, in \u001b[36mModule._wrapped_call_impl\u001b[39m\u001b[34m(self, *args, **kwargs)\u001b[39m\n\u001b[32m   1749\u001b[39m     \u001b[38;5;28;01mreturn\u001b[39;00m \u001b[38;5;28mself\u001b[39m._compiled_call_impl(*args, **kwargs)  \u001b[38;5;66;03m# type: ignore[misc]\u001b[39;00m\n\u001b[32m   1750\u001b[39m \u001b[38;5;28;01melse\u001b[39;00m:\n\u001b[32m-> \u001b[39m\u001b[32m1751\u001b[39m     \u001b[38;5;28;01mreturn\u001b[39;00m \u001b[38;5;28;43mself\u001b[39;49m\u001b[43m.\u001b[49m\u001b[43m_call_impl\u001b[49m\u001b[43m(\u001b[49m\u001b[43m*\u001b[49m\u001b[43margs\u001b[49m\u001b[43m,\u001b[49m\u001b[43m \u001b[49m\u001b[43m*\u001b[49m\u001b[43m*\u001b[49m\u001b[43mkwargs\u001b[49m\u001b[43m)\u001b[49m\n",
      "\u001b[36mFile \u001b[39m\u001b[32me:\\dissertation\\project\\housing_feature_gentrification\\venv\\Lib\\site-packages\\torch\\nn\\modules\\module.py:1762\u001b[39m, in \u001b[36mModule._call_impl\u001b[39m\u001b[34m(self, *args, **kwargs)\u001b[39m\n\u001b[32m   1757\u001b[39m \u001b[38;5;66;03m# If we don't have any hooks, we want to skip the rest of the logic in\u001b[39;00m\n\u001b[32m   1758\u001b[39m \u001b[38;5;66;03m# this function, and just call forward.\u001b[39;00m\n\u001b[32m   1759\u001b[39m \u001b[38;5;28;01mif\u001b[39;00m \u001b[38;5;129;01mnot\u001b[39;00m (\u001b[38;5;28mself\u001b[39m._backward_hooks \u001b[38;5;129;01mor\u001b[39;00m \u001b[38;5;28mself\u001b[39m._backward_pre_hooks \u001b[38;5;129;01mor\u001b[39;00m \u001b[38;5;28mself\u001b[39m._forward_hooks \u001b[38;5;129;01mor\u001b[39;00m \u001b[38;5;28mself\u001b[39m._forward_pre_hooks\n\u001b[32m   1760\u001b[39m         \u001b[38;5;129;01mor\u001b[39;00m _global_backward_pre_hooks \u001b[38;5;129;01mor\u001b[39;00m _global_backward_hooks\n\u001b[32m   1761\u001b[39m         \u001b[38;5;129;01mor\u001b[39;00m _global_forward_hooks \u001b[38;5;129;01mor\u001b[39;00m _global_forward_pre_hooks):\n\u001b[32m-> \u001b[39m\u001b[32m1762\u001b[39m     \u001b[38;5;28;01mreturn\u001b[39;00m \u001b[43mforward_call\u001b[49m\u001b[43m(\u001b[49m\u001b[43m*\u001b[49m\u001b[43margs\u001b[49m\u001b[43m,\u001b[49m\u001b[43m \u001b[49m\u001b[43m*\u001b[49m\u001b[43m*\u001b[49m\u001b[43mkwargs\u001b[49m\u001b[43m)\u001b[49m\n\u001b[32m   1764\u001b[39m result = \u001b[38;5;28;01mNone\u001b[39;00m\n\u001b[32m   1765\u001b[39m called_always_called_hooks = \u001b[38;5;28mset\u001b[39m()\n",
      "\u001b[36mFile \u001b[39m\u001b[32me:\\dissertation\\project\\housing_feature_gentrification\\venv\\Lib\\site-packages\\transformers\\models\\bert\\modeling_bert.py:996\u001b[39m, in \u001b[36mBertModel.forward\u001b[39m\u001b[34m(self, input_ids, attention_mask, token_type_ids, position_ids, head_mask, inputs_embeds, encoder_hidden_states, encoder_attention_mask, past_key_values, use_cache, output_attentions, output_hidden_states, return_dict)\u001b[39m\n\u001b[32m    989\u001b[39m \u001b[38;5;66;03m# Prepare head mask if needed\u001b[39;00m\n\u001b[32m    990\u001b[39m \u001b[38;5;66;03m# 1.0 in head_mask indicate we keep the head\u001b[39;00m\n\u001b[32m    991\u001b[39m \u001b[38;5;66;03m# attention_probs has shape bsz x n_heads x N x N\u001b[39;00m\n\u001b[32m    992\u001b[39m \u001b[38;5;66;03m# input head_mask has shape [num_heads] or [num_hidden_layers x num_heads]\u001b[39;00m\n\u001b[32m    993\u001b[39m \u001b[38;5;66;03m# and head_mask is converted to shape [num_hidden_layers x batch x num_heads x seq_length x seq_length]\u001b[39;00m\n\u001b[32m    994\u001b[39m head_mask = \u001b[38;5;28mself\u001b[39m.get_head_mask(head_mask, \u001b[38;5;28mself\u001b[39m.config.num_hidden_layers)\n\u001b[32m--> \u001b[39m\u001b[32m996\u001b[39m encoder_outputs = \u001b[38;5;28;43mself\u001b[39;49m\u001b[43m.\u001b[49m\u001b[43mencoder\u001b[49m\u001b[43m(\u001b[49m\n\u001b[32m    997\u001b[39m \u001b[43m    \u001b[49m\u001b[43membedding_output\u001b[49m\u001b[43m,\u001b[49m\n\u001b[32m    998\u001b[39m \u001b[43m    \u001b[49m\u001b[43mattention_mask\u001b[49m\u001b[43m=\u001b[49m\u001b[43mextended_attention_mask\u001b[49m\u001b[43m,\u001b[49m\n\u001b[32m    999\u001b[39m \u001b[43m    \u001b[49m\u001b[43mhead_mask\u001b[49m\u001b[43m=\u001b[49m\u001b[43mhead_mask\u001b[49m\u001b[43m,\u001b[49m\n\u001b[32m   1000\u001b[39m \u001b[43m    \u001b[49m\u001b[43mencoder_hidden_states\u001b[49m\u001b[43m=\u001b[49m\u001b[43mencoder_hidden_states\u001b[49m\u001b[43m,\u001b[49m\n\u001b[32m   1001\u001b[39m \u001b[43m    \u001b[49m\u001b[43mencoder_attention_mask\u001b[49m\u001b[43m=\u001b[49m\u001b[43mencoder_extended_attention_mask\u001b[49m\u001b[43m,\u001b[49m\n\u001b[32m   1002\u001b[39m \u001b[43m    \u001b[49m\u001b[43mpast_key_values\u001b[49m\u001b[43m=\u001b[49m\u001b[43mpast_key_values\u001b[49m\u001b[43m,\u001b[49m\n\u001b[32m   1003\u001b[39m \u001b[43m    \u001b[49m\u001b[43muse_cache\u001b[49m\u001b[43m=\u001b[49m\u001b[43muse_cache\u001b[49m\u001b[43m,\u001b[49m\n\u001b[32m   1004\u001b[39m \u001b[43m    \u001b[49m\u001b[43moutput_attentions\u001b[49m\u001b[43m=\u001b[49m\u001b[43moutput_attentions\u001b[49m\u001b[43m,\u001b[49m\n\u001b[32m   1005\u001b[39m \u001b[43m    \u001b[49m\u001b[43moutput_hidden_states\u001b[49m\u001b[43m=\u001b[49m\u001b[43moutput_hidden_states\u001b[49m\u001b[43m,\u001b[49m\n\u001b[32m   1006\u001b[39m \u001b[43m    \u001b[49m\u001b[43mreturn_dict\u001b[49m\u001b[43m=\u001b[49m\u001b[43mreturn_dict\u001b[49m\u001b[43m,\u001b[49m\n\u001b[32m   1007\u001b[39m \u001b[43m\u001b[49m\u001b[43m)\u001b[49m\n\u001b[32m   1008\u001b[39m sequence_output = encoder_outputs[\u001b[32m0\u001b[39m]\n\u001b[32m   1009\u001b[39m pooled_output = \u001b[38;5;28mself\u001b[39m.pooler(sequence_output) \u001b[38;5;28;01mif\u001b[39;00m \u001b[38;5;28mself\u001b[39m.pooler \u001b[38;5;129;01mis\u001b[39;00m \u001b[38;5;129;01mnot\u001b[39;00m \u001b[38;5;28;01mNone\u001b[39;00m \u001b[38;5;28;01melse\u001b[39;00m \u001b[38;5;28;01mNone\u001b[39;00m\n",
      "\u001b[36mFile \u001b[39m\u001b[32me:\\dissertation\\project\\housing_feature_gentrification\\venv\\Lib\\site-packages\\torch\\nn\\modules\\module.py:1751\u001b[39m, in \u001b[36mModule._wrapped_call_impl\u001b[39m\u001b[34m(self, *args, **kwargs)\u001b[39m\n\u001b[32m   1749\u001b[39m     \u001b[38;5;28;01mreturn\u001b[39;00m \u001b[38;5;28mself\u001b[39m._compiled_call_impl(*args, **kwargs)  \u001b[38;5;66;03m# type: ignore[misc]\u001b[39;00m\n\u001b[32m   1750\u001b[39m \u001b[38;5;28;01melse\u001b[39;00m:\n\u001b[32m-> \u001b[39m\u001b[32m1751\u001b[39m     \u001b[38;5;28;01mreturn\u001b[39;00m \u001b[38;5;28;43mself\u001b[39;49m\u001b[43m.\u001b[49m\u001b[43m_call_impl\u001b[49m\u001b[43m(\u001b[49m\u001b[43m*\u001b[49m\u001b[43margs\u001b[49m\u001b[43m,\u001b[49m\u001b[43m \u001b[49m\u001b[43m*\u001b[49m\u001b[43m*\u001b[49m\u001b[43mkwargs\u001b[49m\u001b[43m)\u001b[49m\n",
      "\u001b[36mFile \u001b[39m\u001b[32me:\\dissertation\\project\\housing_feature_gentrification\\venv\\Lib\\site-packages\\torch\\nn\\modules\\module.py:1762\u001b[39m, in \u001b[36mModule._call_impl\u001b[39m\u001b[34m(self, *args, **kwargs)\u001b[39m\n\u001b[32m   1757\u001b[39m \u001b[38;5;66;03m# If we don't have any hooks, we want to skip the rest of the logic in\u001b[39;00m\n\u001b[32m   1758\u001b[39m \u001b[38;5;66;03m# this function, and just call forward.\u001b[39;00m\n\u001b[32m   1759\u001b[39m \u001b[38;5;28;01mif\u001b[39;00m \u001b[38;5;129;01mnot\u001b[39;00m (\u001b[38;5;28mself\u001b[39m._backward_hooks \u001b[38;5;129;01mor\u001b[39;00m \u001b[38;5;28mself\u001b[39m._backward_pre_hooks \u001b[38;5;129;01mor\u001b[39;00m \u001b[38;5;28mself\u001b[39m._forward_hooks \u001b[38;5;129;01mor\u001b[39;00m \u001b[38;5;28mself\u001b[39m._forward_pre_hooks\n\u001b[32m   1760\u001b[39m         \u001b[38;5;129;01mor\u001b[39;00m _global_backward_pre_hooks \u001b[38;5;129;01mor\u001b[39;00m _global_backward_hooks\n\u001b[32m   1761\u001b[39m         \u001b[38;5;129;01mor\u001b[39;00m _global_forward_hooks \u001b[38;5;129;01mor\u001b[39;00m _global_forward_pre_hooks):\n\u001b[32m-> \u001b[39m\u001b[32m1762\u001b[39m     \u001b[38;5;28;01mreturn\u001b[39;00m \u001b[43mforward_call\u001b[49m\u001b[43m(\u001b[49m\u001b[43m*\u001b[49m\u001b[43margs\u001b[49m\u001b[43m,\u001b[49m\u001b[43m \u001b[49m\u001b[43m*\u001b[49m\u001b[43m*\u001b[49m\u001b[43mkwargs\u001b[49m\u001b[43m)\u001b[49m\n\u001b[32m   1764\u001b[39m result = \u001b[38;5;28;01mNone\u001b[39;00m\n\u001b[32m   1765\u001b[39m called_always_called_hooks = \u001b[38;5;28mset\u001b[39m()\n",
      "\u001b[36mFile \u001b[39m\u001b[32me:\\dissertation\\project\\housing_feature_gentrification\\venv\\Lib\\site-packages\\transformers\\models\\bert\\modeling_bert.py:651\u001b[39m, in \u001b[36mBertEncoder.forward\u001b[39m\u001b[34m(self, hidden_states, attention_mask, head_mask, encoder_hidden_states, encoder_attention_mask, past_key_values, use_cache, output_attentions, output_hidden_states, return_dict)\u001b[39m\n\u001b[32m    648\u001b[39m layer_head_mask = head_mask[i] \u001b[38;5;28;01mif\u001b[39;00m head_mask \u001b[38;5;129;01mis\u001b[39;00m \u001b[38;5;129;01mnot\u001b[39;00m \u001b[38;5;28;01mNone\u001b[39;00m \u001b[38;5;28;01melse\u001b[39;00m \u001b[38;5;28;01mNone\u001b[39;00m\n\u001b[32m    649\u001b[39m past_key_value = past_key_values[i] \u001b[38;5;28;01mif\u001b[39;00m past_key_values \u001b[38;5;129;01mis\u001b[39;00m \u001b[38;5;129;01mnot\u001b[39;00m \u001b[38;5;28;01mNone\u001b[39;00m \u001b[38;5;28;01melse\u001b[39;00m \u001b[38;5;28;01mNone\u001b[39;00m\n\u001b[32m--> \u001b[39m\u001b[32m651\u001b[39m layer_outputs = \u001b[43mlayer_module\u001b[49m\u001b[43m(\u001b[49m\n\u001b[32m    652\u001b[39m \u001b[43m    \u001b[49m\u001b[43mhidden_states\u001b[49m\u001b[43m,\u001b[49m\n\u001b[32m    653\u001b[39m \u001b[43m    \u001b[49m\u001b[43mattention_mask\u001b[49m\u001b[43m,\u001b[49m\n\u001b[32m    654\u001b[39m \u001b[43m    \u001b[49m\u001b[43mlayer_head_mask\u001b[49m\u001b[43m,\u001b[49m\n\u001b[32m    655\u001b[39m \u001b[43m    \u001b[49m\u001b[43mencoder_hidden_states\u001b[49m\u001b[43m,\u001b[49m\u001b[43m  \u001b[49m\u001b[38;5;66;43;03m# as a positional argument for gradient checkpointing\u001b[39;49;00m\n\u001b[32m    656\u001b[39m \u001b[43m    \u001b[49m\u001b[43mencoder_attention_mask\u001b[49m\u001b[43m=\u001b[49m\u001b[43mencoder_attention_mask\u001b[49m\u001b[43m,\u001b[49m\n\u001b[32m    657\u001b[39m \u001b[43m    \u001b[49m\u001b[43mpast_key_value\u001b[49m\u001b[43m=\u001b[49m\u001b[43mpast_key_value\u001b[49m\u001b[43m,\u001b[49m\n\u001b[32m    658\u001b[39m \u001b[43m    \u001b[49m\u001b[43moutput_attentions\u001b[49m\u001b[43m=\u001b[49m\u001b[43moutput_attentions\u001b[49m\u001b[43m,\u001b[49m\n\u001b[32m    659\u001b[39m \u001b[43m\u001b[49m\u001b[43m)\u001b[49m\n\u001b[32m    661\u001b[39m hidden_states = layer_outputs[\u001b[32m0\u001b[39m]\n\u001b[32m    662\u001b[39m \u001b[38;5;28;01mif\u001b[39;00m use_cache:\n",
      "\u001b[36mFile \u001b[39m\u001b[32me:\\dissertation\\project\\housing_feature_gentrification\\venv\\Lib\\site-packages\\transformers\\modeling_layers.py:83\u001b[39m, in \u001b[36mGradientCheckpointingLayer.__call__\u001b[39m\u001b[34m(self, *args, **kwargs)\u001b[39m\n\u001b[32m     80\u001b[39m         logger.warning(message)\n\u001b[32m     82\u001b[39m     \u001b[38;5;28;01mreturn\u001b[39;00m \u001b[38;5;28mself\u001b[39m._gradient_checkpointing_func(partial(\u001b[38;5;28msuper\u001b[39m().\u001b[34m__call__\u001b[39m, **kwargs), *args)\n\u001b[32m---> \u001b[39m\u001b[32m83\u001b[39m \u001b[38;5;28;01mreturn\u001b[39;00m \u001b[38;5;28;43msuper\u001b[39;49m\u001b[43m(\u001b[49m\u001b[43m)\u001b[49m\u001b[43m.\u001b[49m\u001b[34;43m__call__\u001b[39;49m\u001b[43m(\u001b[49m\u001b[43m*\u001b[49m\u001b[43margs\u001b[49m\u001b[43m,\u001b[49m\u001b[43m \u001b[49m\u001b[43m*\u001b[49m\u001b[43m*\u001b[49m\u001b[43mkwargs\u001b[49m\u001b[43m)\u001b[49m\n",
      "\u001b[36mFile \u001b[39m\u001b[32me:\\dissertation\\project\\housing_feature_gentrification\\venv\\Lib\\site-packages\\torch\\nn\\modules\\module.py:1751\u001b[39m, in \u001b[36mModule._wrapped_call_impl\u001b[39m\u001b[34m(self, *args, **kwargs)\u001b[39m\n\u001b[32m   1749\u001b[39m     \u001b[38;5;28;01mreturn\u001b[39;00m \u001b[38;5;28mself\u001b[39m._compiled_call_impl(*args, **kwargs)  \u001b[38;5;66;03m# type: ignore[misc]\u001b[39;00m\n\u001b[32m   1750\u001b[39m \u001b[38;5;28;01melse\u001b[39;00m:\n\u001b[32m-> \u001b[39m\u001b[32m1751\u001b[39m     \u001b[38;5;28;01mreturn\u001b[39;00m \u001b[38;5;28;43mself\u001b[39;49m\u001b[43m.\u001b[49m\u001b[43m_call_impl\u001b[49m\u001b[43m(\u001b[49m\u001b[43m*\u001b[49m\u001b[43margs\u001b[49m\u001b[43m,\u001b[49m\u001b[43m \u001b[49m\u001b[43m*\u001b[49m\u001b[43m*\u001b[49m\u001b[43mkwargs\u001b[49m\u001b[43m)\u001b[49m\n",
      "\u001b[36mFile \u001b[39m\u001b[32me:\\dissertation\\project\\housing_feature_gentrification\\venv\\Lib\\site-packages\\torch\\nn\\modules\\module.py:1762\u001b[39m, in \u001b[36mModule._call_impl\u001b[39m\u001b[34m(self, *args, **kwargs)\u001b[39m\n\u001b[32m   1757\u001b[39m \u001b[38;5;66;03m# If we don't have any hooks, we want to skip the rest of the logic in\u001b[39;00m\n\u001b[32m   1758\u001b[39m \u001b[38;5;66;03m# this function, and just call forward.\u001b[39;00m\n\u001b[32m   1759\u001b[39m \u001b[38;5;28;01mif\u001b[39;00m \u001b[38;5;129;01mnot\u001b[39;00m (\u001b[38;5;28mself\u001b[39m._backward_hooks \u001b[38;5;129;01mor\u001b[39;00m \u001b[38;5;28mself\u001b[39m._backward_pre_hooks \u001b[38;5;129;01mor\u001b[39;00m \u001b[38;5;28mself\u001b[39m._forward_hooks \u001b[38;5;129;01mor\u001b[39;00m \u001b[38;5;28mself\u001b[39m._forward_pre_hooks\n\u001b[32m   1760\u001b[39m         \u001b[38;5;129;01mor\u001b[39;00m _global_backward_pre_hooks \u001b[38;5;129;01mor\u001b[39;00m _global_backward_hooks\n\u001b[32m   1761\u001b[39m         \u001b[38;5;129;01mor\u001b[39;00m _global_forward_hooks \u001b[38;5;129;01mor\u001b[39;00m _global_forward_pre_hooks):\n\u001b[32m-> \u001b[39m\u001b[32m1762\u001b[39m     \u001b[38;5;28;01mreturn\u001b[39;00m \u001b[43mforward_call\u001b[49m\u001b[43m(\u001b[49m\u001b[43m*\u001b[49m\u001b[43margs\u001b[49m\u001b[43m,\u001b[49m\u001b[43m \u001b[49m\u001b[43m*\u001b[49m\u001b[43m*\u001b[49m\u001b[43mkwargs\u001b[49m\u001b[43m)\u001b[49m\n\u001b[32m   1764\u001b[39m result = \u001b[38;5;28;01mNone\u001b[39;00m\n\u001b[32m   1765\u001b[39m called_always_called_hooks = \u001b[38;5;28mset\u001b[39m()\n",
      "\u001b[36mFile \u001b[39m\u001b[32me:\\dissertation\\project\\housing_feature_gentrification\\venv\\Lib\\site-packages\\transformers\\models\\bert\\modeling_bert.py:553\u001b[39m, in \u001b[36mBertLayer.forward\u001b[39m\u001b[34m(self, hidden_states, attention_mask, head_mask, encoder_hidden_states, encoder_attention_mask, past_key_value, output_attentions)\u001b[39m\n\u001b[32m    541\u001b[39m \u001b[38;5;28;01mdef\u001b[39;00m\u001b[38;5;250m \u001b[39m\u001b[34mforward\u001b[39m(\n\u001b[32m    542\u001b[39m     \u001b[38;5;28mself\u001b[39m,\n\u001b[32m    543\u001b[39m     hidden_states: torch.Tensor,\n\u001b[32m   (...)\u001b[39m\u001b[32m    550\u001b[39m ) -> \u001b[38;5;28mtuple\u001b[39m[torch.Tensor]:\n\u001b[32m    551\u001b[39m     \u001b[38;5;66;03m# decoder uni-directional self-attention cached key/values tuple is at positions 1,2\u001b[39;00m\n\u001b[32m    552\u001b[39m     self_attn_past_key_value = past_key_value[:\u001b[32m2\u001b[39m] \u001b[38;5;28;01mif\u001b[39;00m past_key_value \u001b[38;5;129;01mis\u001b[39;00m \u001b[38;5;129;01mnot\u001b[39;00m \u001b[38;5;28;01mNone\u001b[39;00m \u001b[38;5;28;01melse\u001b[39;00m \u001b[38;5;28;01mNone\u001b[39;00m\n\u001b[32m--> \u001b[39m\u001b[32m553\u001b[39m     self_attention_outputs = \u001b[38;5;28;43mself\u001b[39;49m\u001b[43m.\u001b[49m\u001b[43mattention\u001b[49m\u001b[43m(\u001b[49m\n\u001b[32m    554\u001b[39m \u001b[43m        \u001b[49m\u001b[43mhidden_states\u001b[49m\u001b[43m,\u001b[49m\n\u001b[32m    555\u001b[39m \u001b[43m        \u001b[49m\u001b[43mattention_mask\u001b[49m\u001b[43m,\u001b[49m\n\u001b[32m    556\u001b[39m \u001b[43m        \u001b[49m\u001b[43mhead_mask\u001b[49m\u001b[43m,\u001b[49m\n\u001b[32m    557\u001b[39m \u001b[43m        \u001b[49m\u001b[43moutput_attentions\u001b[49m\u001b[43m=\u001b[49m\u001b[43moutput_attentions\u001b[49m\u001b[43m,\u001b[49m\n\u001b[32m    558\u001b[39m \u001b[43m        \u001b[49m\u001b[43mpast_key_value\u001b[49m\u001b[43m=\u001b[49m\u001b[43mself_attn_past_key_value\u001b[49m\u001b[43m,\u001b[49m\n\u001b[32m    559\u001b[39m \u001b[43m    \u001b[49m\u001b[43m)\u001b[49m\n\u001b[32m    560\u001b[39m     attention_output = self_attention_outputs[\u001b[32m0\u001b[39m]\n\u001b[32m    562\u001b[39m     \u001b[38;5;66;03m# if decoder, the last output is tuple of self-attn cache\u001b[39;00m\n",
      "\u001b[36mFile \u001b[39m\u001b[32me:\\dissertation\\project\\housing_feature_gentrification\\venv\\Lib\\site-packages\\torch\\nn\\modules\\module.py:1751\u001b[39m, in \u001b[36mModule._wrapped_call_impl\u001b[39m\u001b[34m(self, *args, **kwargs)\u001b[39m\n\u001b[32m   1749\u001b[39m     \u001b[38;5;28;01mreturn\u001b[39;00m \u001b[38;5;28mself\u001b[39m._compiled_call_impl(*args, **kwargs)  \u001b[38;5;66;03m# type: ignore[misc]\u001b[39;00m\n\u001b[32m   1750\u001b[39m \u001b[38;5;28;01melse\u001b[39;00m:\n\u001b[32m-> \u001b[39m\u001b[32m1751\u001b[39m     \u001b[38;5;28;01mreturn\u001b[39;00m \u001b[38;5;28;43mself\u001b[39;49m\u001b[43m.\u001b[49m\u001b[43m_call_impl\u001b[49m\u001b[43m(\u001b[49m\u001b[43m*\u001b[49m\u001b[43margs\u001b[49m\u001b[43m,\u001b[49m\u001b[43m \u001b[49m\u001b[43m*\u001b[49m\u001b[43m*\u001b[49m\u001b[43mkwargs\u001b[49m\u001b[43m)\u001b[49m\n",
      "\u001b[36mFile \u001b[39m\u001b[32me:\\dissertation\\project\\housing_feature_gentrification\\venv\\Lib\\site-packages\\torch\\nn\\modules\\module.py:1762\u001b[39m, in \u001b[36mModule._call_impl\u001b[39m\u001b[34m(self, *args, **kwargs)\u001b[39m\n\u001b[32m   1757\u001b[39m \u001b[38;5;66;03m# If we don't have any hooks, we want to skip the rest of the logic in\u001b[39;00m\n\u001b[32m   1758\u001b[39m \u001b[38;5;66;03m# this function, and just call forward.\u001b[39;00m\n\u001b[32m   1759\u001b[39m \u001b[38;5;28;01mif\u001b[39;00m \u001b[38;5;129;01mnot\u001b[39;00m (\u001b[38;5;28mself\u001b[39m._backward_hooks \u001b[38;5;129;01mor\u001b[39;00m \u001b[38;5;28mself\u001b[39m._backward_pre_hooks \u001b[38;5;129;01mor\u001b[39;00m \u001b[38;5;28mself\u001b[39m._forward_hooks \u001b[38;5;129;01mor\u001b[39;00m \u001b[38;5;28mself\u001b[39m._forward_pre_hooks\n\u001b[32m   1760\u001b[39m         \u001b[38;5;129;01mor\u001b[39;00m _global_backward_pre_hooks \u001b[38;5;129;01mor\u001b[39;00m _global_backward_hooks\n\u001b[32m   1761\u001b[39m         \u001b[38;5;129;01mor\u001b[39;00m _global_forward_hooks \u001b[38;5;129;01mor\u001b[39;00m _global_forward_pre_hooks):\n\u001b[32m-> \u001b[39m\u001b[32m1762\u001b[39m     \u001b[38;5;28;01mreturn\u001b[39;00m \u001b[43mforward_call\u001b[49m\u001b[43m(\u001b[49m\u001b[43m*\u001b[49m\u001b[43margs\u001b[49m\u001b[43m,\u001b[49m\u001b[43m \u001b[49m\u001b[43m*\u001b[49m\u001b[43m*\u001b[49m\u001b[43mkwargs\u001b[49m\u001b[43m)\u001b[49m\n\u001b[32m   1764\u001b[39m result = \u001b[38;5;28;01mNone\u001b[39;00m\n\u001b[32m   1765\u001b[39m called_always_called_hooks = \u001b[38;5;28mset\u001b[39m()\n",
      "\u001b[36mFile \u001b[39m\u001b[32me:\\dissertation\\project\\housing_feature_gentrification\\venv\\Lib\\site-packages\\transformers\\models\\bert\\modeling_bert.py:483\u001b[39m, in \u001b[36mBertAttention.forward\u001b[39m\u001b[34m(self, hidden_states, attention_mask, head_mask, encoder_hidden_states, encoder_attention_mask, past_key_value, output_attentions)\u001b[39m\n\u001b[32m    473\u001b[39m \u001b[38;5;28;01mdef\u001b[39;00m\u001b[38;5;250m \u001b[39m\u001b[34mforward\u001b[39m(\n\u001b[32m    474\u001b[39m     \u001b[38;5;28mself\u001b[39m,\n\u001b[32m    475\u001b[39m     hidden_states: torch.Tensor,\n\u001b[32m   (...)\u001b[39m\u001b[32m    481\u001b[39m     output_attentions: Optional[\u001b[38;5;28mbool\u001b[39m] = \u001b[38;5;28;01mFalse\u001b[39;00m,\n\u001b[32m    482\u001b[39m ) -> \u001b[38;5;28mtuple\u001b[39m[torch.Tensor]:\n\u001b[32m--> \u001b[39m\u001b[32m483\u001b[39m     self_outputs = \u001b[38;5;28;43mself\u001b[39;49m\u001b[43m.\u001b[49m\u001b[43mself\u001b[49m\u001b[43m(\u001b[49m\n\u001b[32m    484\u001b[39m \u001b[43m        \u001b[49m\u001b[43mhidden_states\u001b[49m\u001b[43m,\u001b[49m\n\u001b[32m    485\u001b[39m \u001b[43m        \u001b[49m\u001b[43mattention_mask\u001b[49m\u001b[43m,\u001b[49m\n\u001b[32m    486\u001b[39m \u001b[43m        \u001b[49m\u001b[43mhead_mask\u001b[49m\u001b[43m,\u001b[49m\n\u001b[32m    487\u001b[39m \u001b[43m        \u001b[49m\u001b[43mencoder_hidden_states\u001b[49m\u001b[43m,\u001b[49m\n\u001b[32m    488\u001b[39m \u001b[43m        \u001b[49m\u001b[43mencoder_attention_mask\u001b[49m\u001b[43m,\u001b[49m\n\u001b[32m    489\u001b[39m \u001b[43m        \u001b[49m\u001b[43mpast_key_value\u001b[49m\u001b[43m,\u001b[49m\n\u001b[32m    490\u001b[39m \u001b[43m        \u001b[49m\u001b[43moutput_attentions\u001b[49m\u001b[43m,\u001b[49m\n\u001b[32m    491\u001b[39m \u001b[43m    \u001b[49m\u001b[43m)\u001b[49m\n\u001b[32m    492\u001b[39m     attention_output = \u001b[38;5;28mself\u001b[39m.output(self_outputs[\u001b[32m0\u001b[39m], hidden_states)\n\u001b[32m    493\u001b[39m     outputs = (attention_output,) + self_outputs[\u001b[32m1\u001b[39m:]  \u001b[38;5;66;03m# add attentions if we output them\u001b[39;00m\n",
      "\u001b[36mFile \u001b[39m\u001b[32me:\\dissertation\\project\\housing_feature_gentrification\\venv\\Lib\\site-packages\\torch\\nn\\modules\\module.py:1751\u001b[39m, in \u001b[36mModule._wrapped_call_impl\u001b[39m\u001b[34m(self, *args, **kwargs)\u001b[39m\n\u001b[32m   1749\u001b[39m     \u001b[38;5;28;01mreturn\u001b[39;00m \u001b[38;5;28mself\u001b[39m._compiled_call_impl(*args, **kwargs)  \u001b[38;5;66;03m# type: ignore[misc]\u001b[39;00m\n\u001b[32m   1750\u001b[39m \u001b[38;5;28;01melse\u001b[39;00m:\n\u001b[32m-> \u001b[39m\u001b[32m1751\u001b[39m     \u001b[38;5;28;01mreturn\u001b[39;00m \u001b[38;5;28;43mself\u001b[39;49m\u001b[43m.\u001b[49m\u001b[43m_call_impl\u001b[49m\u001b[43m(\u001b[49m\u001b[43m*\u001b[49m\u001b[43margs\u001b[49m\u001b[43m,\u001b[49m\u001b[43m \u001b[49m\u001b[43m*\u001b[49m\u001b[43m*\u001b[49m\u001b[43mkwargs\u001b[49m\u001b[43m)\u001b[49m\n",
      "\u001b[36mFile \u001b[39m\u001b[32me:\\dissertation\\project\\housing_feature_gentrification\\venv\\Lib\\site-packages\\torch\\nn\\modules\\module.py:1762\u001b[39m, in \u001b[36mModule._call_impl\u001b[39m\u001b[34m(self, *args, **kwargs)\u001b[39m\n\u001b[32m   1757\u001b[39m \u001b[38;5;66;03m# If we don't have any hooks, we want to skip the rest of the logic in\u001b[39;00m\n\u001b[32m   1758\u001b[39m \u001b[38;5;66;03m# this function, and just call forward.\u001b[39;00m\n\u001b[32m   1759\u001b[39m \u001b[38;5;28;01mif\u001b[39;00m \u001b[38;5;129;01mnot\u001b[39;00m (\u001b[38;5;28mself\u001b[39m._backward_hooks \u001b[38;5;129;01mor\u001b[39;00m \u001b[38;5;28mself\u001b[39m._backward_pre_hooks \u001b[38;5;129;01mor\u001b[39;00m \u001b[38;5;28mself\u001b[39m._forward_hooks \u001b[38;5;129;01mor\u001b[39;00m \u001b[38;5;28mself\u001b[39m._forward_pre_hooks\n\u001b[32m   1760\u001b[39m         \u001b[38;5;129;01mor\u001b[39;00m _global_backward_pre_hooks \u001b[38;5;129;01mor\u001b[39;00m _global_backward_hooks\n\u001b[32m   1761\u001b[39m         \u001b[38;5;129;01mor\u001b[39;00m _global_forward_hooks \u001b[38;5;129;01mor\u001b[39;00m _global_forward_pre_hooks):\n\u001b[32m-> \u001b[39m\u001b[32m1762\u001b[39m     \u001b[38;5;28;01mreturn\u001b[39;00m \u001b[43mforward_call\u001b[49m\u001b[43m(\u001b[49m\u001b[43m*\u001b[49m\u001b[43margs\u001b[49m\u001b[43m,\u001b[49m\u001b[43m \u001b[49m\u001b[43m*\u001b[49m\u001b[43m*\u001b[49m\u001b[43mkwargs\u001b[49m\u001b[43m)\u001b[49m\n\u001b[32m   1764\u001b[39m result = \u001b[38;5;28;01mNone\u001b[39;00m\n\u001b[32m   1765\u001b[39m called_always_called_hooks = \u001b[38;5;28mset\u001b[39m()\n",
      "\u001b[36mFile \u001b[39m\u001b[32me:\\dissertation\\project\\housing_feature_gentrification\\venv\\Lib\\site-packages\\transformers\\models\\bert\\modeling_bert.py:408\u001b[39m, in \u001b[36mBertSdpaSelfAttention.forward\u001b[39m\u001b[34m(self, hidden_states, attention_mask, head_mask, encoder_hidden_states, encoder_attention_mask, past_key_value, output_attentions)\u001b[39m\n\u001b[32m    400\u001b[39m \u001b[38;5;66;03m# We dispatch to SDPA's Flash Attention or Efficient kernels via this `is_causal` if statement instead of an inline conditional assignment\u001b[39;00m\n\u001b[32m    401\u001b[39m \u001b[38;5;66;03m# in SDPA to support both torch.compile's dynamic shapes and full graph options. An inline conditional prevents dynamic shapes from compiling.\u001b[39;00m\n\u001b[32m    402\u001b[39m \u001b[38;5;66;03m# The tgt_len > 1 is necessary to match with AttentionMaskConverter.to_causal_4d that does not create\u001b[39;00m\n\u001b[32m    403\u001b[39m \u001b[38;5;66;03m# a causal mask in case tgt_len == 1.\u001b[39;00m\n\u001b[32m    404\u001b[39m is_causal = (\n\u001b[32m    405\u001b[39m     \u001b[38;5;28;01mTrue\u001b[39;00m \u001b[38;5;28;01mif\u001b[39;00m \u001b[38;5;28mself\u001b[39m.is_decoder \u001b[38;5;129;01mand\u001b[39;00m \u001b[38;5;129;01mnot\u001b[39;00m is_cross_attention \u001b[38;5;129;01mand\u001b[39;00m attention_mask \u001b[38;5;129;01mis\u001b[39;00m \u001b[38;5;28;01mNone\u001b[39;00m \u001b[38;5;129;01mand\u001b[39;00m tgt_len > \u001b[32m1\u001b[39m \u001b[38;5;28;01melse\u001b[39;00m \u001b[38;5;28;01mFalse\u001b[39;00m\n\u001b[32m    406\u001b[39m )\n\u001b[32m--> \u001b[39m\u001b[32m408\u001b[39m attn_output = \u001b[43mtorch\u001b[49m\u001b[43m.\u001b[49m\u001b[43mnn\u001b[49m\u001b[43m.\u001b[49m\u001b[43mfunctional\u001b[49m\u001b[43m.\u001b[49m\u001b[43mscaled_dot_product_attention\u001b[49m\u001b[43m(\u001b[49m\n\u001b[32m    409\u001b[39m \u001b[43m    \u001b[49m\u001b[43mquery_layer\u001b[49m\u001b[43m,\u001b[49m\n\u001b[32m    410\u001b[39m \u001b[43m    \u001b[49m\u001b[43mkey_layer\u001b[49m\u001b[43m,\u001b[49m\n\u001b[32m    411\u001b[39m \u001b[43m    \u001b[49m\u001b[43mvalue_layer\u001b[49m\u001b[43m,\u001b[49m\n\u001b[32m    412\u001b[39m \u001b[43m    \u001b[49m\u001b[43mattn_mask\u001b[49m\u001b[43m=\u001b[49m\u001b[43mattention_mask\u001b[49m\u001b[43m,\u001b[49m\n\u001b[32m    413\u001b[39m \u001b[43m    \u001b[49m\u001b[43mdropout_p\u001b[49m\u001b[43m=\u001b[49m\u001b[38;5;28;43mself\u001b[39;49m\u001b[43m.\u001b[49m\u001b[43mdropout_prob\u001b[49m\u001b[43m \u001b[49m\u001b[38;5;28;43;01mif\u001b[39;49;00m\u001b[43m \u001b[49m\u001b[38;5;28;43mself\u001b[39;49m\u001b[43m.\u001b[49m\u001b[43mtraining\u001b[49m\u001b[43m \u001b[49m\u001b[38;5;28;43;01melse\u001b[39;49;00m\u001b[43m \u001b[49m\u001b[32;43m0.0\u001b[39;49m\u001b[43m,\u001b[49m\n\u001b[32m    414\u001b[39m \u001b[43m    \u001b[49m\u001b[43mis_causal\u001b[49m\u001b[43m=\u001b[49m\u001b[43mis_causal\u001b[49m\u001b[43m,\u001b[49m\n\u001b[32m    415\u001b[39m \u001b[43m\u001b[49m\u001b[43m)\u001b[49m\n\u001b[32m    417\u001b[39m attn_output = attn_output.transpose(\u001b[32m1\u001b[39m, \u001b[32m2\u001b[39m)\n\u001b[32m    418\u001b[39m attn_output = attn_output.reshape(bsz, tgt_len, \u001b[38;5;28mself\u001b[39m.all_head_size)\n",
      "\u001b[31mKeyboardInterrupt\u001b[39m: "
     ]
    }
   ],
   "source": [
    "diverse_results = extract_diverse_anchor_sentences(\n",
    "    anchor_vecs=anchor_vecs,\n",
    "    all_sentences=all_sentences ,\n",
    "    sbert_model=sbert_model,\n",
    "    topk=50,\n",
    "    anchor_threshold=0.6, # 0.5\n",
    "    sim_threshold=0.85 #0.7\n",
    ")"
   ]
  },
  {
   "cell_type": "code",
   "execution_count": null,
   "id": "6a6b0a58",
   "metadata": {},
   "outputs": [],
   "source": [
    "import pickle\n",
    "\n",
    "with open(\"diverse_anchor_results_s.pkl\", \"wb\") as f:\n",
    "    pickle.dump(diverse_results, f)"
   ]
  },
  {
   "cell_type": "code",
   "execution_count": null,
   "id": "f185af6a",
   "metadata": {},
   "outputs": [],
   "source": [
    "with open(\"diverse_anchor_results_s.pkl\", \"rb\") as f:\n",
    "    diverse_results = pickle.load(f)"
   ]
  },
  {
   "cell_type": "code",
   "execution_count": null,
   "id": "7173bbee",
   "metadata": {},
   "outputs": [
    {
     "name": "stdout",
     "output_type": "stream",
     "text": [
      "1. ['Conversion of garage into a playroom/study involving the insertion of a window and a door into front elevation']  (similarity: 0.60)\n",
      "2. ['Conversion of an end-terrace garage into a habitable room for use as a music studio; and single-storey front extension of garage']  (similarity: 0.60)\n",
      "3. ['Construction of 15 no.'\n",
      " \"new artist's studios in three levels with new access platforms and stairs from reconditioned shipping containers to be sited on the vacant front forecourt of Action House.\"\n",
      " '(total area created 195sm2)']  (similarity: 0.59)\n",
      "4. ['Erection of an annexe extension with Art studios and store areas to existing Adult & Community Education Centre']  (similarity: 0.59)\n",
      "5. ['Reconfiguration of the Great Chamber and Ante-Room as a portrait gallery and interpretation, redecoration, new floor and wall finishes, reservicing and relighting.']  (similarity: 0.58)\n",
      "6. ['Installation of Community artwork.']  (similarity: 0.57)\n",
      "7. ['CONVERSION OF GARAGE AS A STORAGE AND OFFICE FOR THE EXISTING SHOP']  (similarity: 0.57)\n",
      "8. [\"Refurbishment of the old boiler room to create a new Artist's bar, refurbishment of the existing Artist Bar at basement level 1 to create two adjacent dressing rooms, and a new corridor connecting to the basement and service area beneath the south steps.\"]  (similarity: 0.56)\n",
      "9. ['Interior alterations to existing studio']  (similarity: 0.55)\n",
      "10. ['Change of use from cafe and bicycle workshop (A3 and B1c) to studio space with office space (Sui Generis/B1a)']  (similarity: 0.55)\n"
     ]
    }
   ],
   "source": [
    "for i, item in enumerate(diverse_results[\"cultural\"]):\n",
    "    print(f\"{i+1}. {item['sentence']}  (similarity: {item['score']:.2f})\")"
   ]
  },
  {
   "cell_type": "code",
   "execution_count": null,
   "id": "b3106f64",
   "metadata": {},
   "outputs": [],
   "source": [
    "# ⚙️ 不求平均，保留所有向量作为每类 anchor 的“多中心表示”\n",
    "anchor_vecs_multi = {}\n",
    "for cat, items in diverse_results.items():\n",
    "    sentences = [entry[\"sentence\"] for entry in items]\n",
    "    vecs = sbert_model.encode(sentences, batch_size=32)\n",
    "    anchor_vecs_multi[cat] = vecs"
   ]
  },
  {
   "cell_type": "code",
   "execution_count": null,
   "id": "bc8f6668",
   "metadata": {},
   "outputs": [],
   "source": [
    "def score_sentences_against_multi_anchors(anchor_vecs, all_sentences, sbert_model):\n",
    "    print(\"encoding all sentences...\")\n",
    "    sent_vecs = sbert_model.encode(all_sentences, batch_size=32, show_progress_bar=True)\n",
    "\n",
    "    scores = {}\n",
    "    for cat, anchor_vec_list in anchor_vecs.items():\n",
    "        # anchor_vec_list: shape = (n_anchor_sents, dim)\n",
    "        sims = cosine_similarity(anchor_vec_list, sent_vecs)  # shape = (n_anchor_sents, n_all_sents)\n",
    "        scores[cat] = sims.max(axis=0)  # 或用 sims.mean(axis=0)\n",
    "\n",
    "    score_df = pd.DataFrame(scores)\n",
    "    score_df['sentence'] = all_sentences\n",
    "    return score_df"
   ]
  },
  {
   "cell_type": "code",
   "execution_count": null,
   "id": "fa3769dd",
   "metadata": {},
   "outputs": [
    {
     "name": "stdout",
     "output_type": "stream",
     "text": [
      "encoding all sentences...\n"
     ]
    },
    {
     "data": {
      "application/vnd.jupyter.widget-view+json": {
       "model_id": "f989821809a04458865c5cc190f20424",
       "version_major": 2,
       "version_minor": 0
      },
      "text/plain": [
       "Batches:   0%|          | 0/4856 [00:00<?, ?it/s]"
      ]
     },
     "metadata": {},
     "output_type": "display_data"
    }
   ],
   "source": [
    "score_df = score_sentences_against_multi_anchors(\n",
    "    anchor_vecs=anchor_vecs_multi,\n",
    "    all_sentences=all_sentences,\n",
    "    sbert_model=sbert_model\n",
    ")"
   ]
  },
  {
   "cell_type": "code",
   "execution_count": null,
   "id": "0a7174f6",
   "metadata": {},
   "outputs": [],
   "source": [
    "# 加上 LSOA code（确保顺序匹配）\n",
    "score_df['LSOA code'] = joined_cleaned['LSOA code'].values\n",
    "\n",
    "# 只保留数值列（通常是 anchor 类别的列）\n",
    "anchor_score_numeric = score_df.select_dtypes(include='number')\n",
    "\n",
    "# 添加 LSOA code 回来做分组\n",
    "anchor_score_numeric['LSOA code'] = score_df['LSOA code']"
   ]
  },
  {
   "cell_type": "code",
   "execution_count": 70,
   "id": "9982eb58",
   "metadata": {},
   "outputs": [],
   "source": [
    "score_df.to_csv(\"data/score_df_85.csv\")"
   ]
  },
  {
   "cell_type": "code",
   "execution_count": 83,
   "id": "2a70fae3",
   "metadata": {},
   "outputs": [
    {
     "name": "stdout",
     "output_type": "stream",
     "text": [
      "        residential  commercial     green  cultural  infrustructure  \\\n",
      "0          0.412703    0.249340  0.291362  0.345742        0.446543   \n",
      "1          0.543195    0.250134  0.509685  0.492026        0.449628   \n",
      "2          0.563165    0.210611  0.326052  0.450688        0.397673   \n",
      "3          0.368364    0.609045  0.353166  0.418836        0.657180   \n",
      "4          0.342973    0.410326  0.290711  0.557229        0.608145   \n",
      "...             ...         ...       ...       ...             ...   \n",
      "155362     0.171435    0.179321  0.135539  0.226568        0.361174   \n",
      "155363     0.686710    0.433803  0.523267  0.552904        0.577236   \n",
      "155364     0.606651    0.293666  0.429066  0.486503        0.489080   \n",
      "155365     0.269870    0.117431  0.207609  0.250262        0.414124   \n",
      "155366     0.337590    0.189124  0.250190  0.274648        0.539632   \n",
      "\n",
      "                                                 sentence  LSOA code  \n",
      "0       ['Certificate of Lawfulness in connection with...  E01002714  \n",
      "1       ['Substantial demolition of existing residenti...  E01002771  \n",
      "2       ['Single storey rear extension with a proposed...  E01000220  \n",
      "3       ['Replacement of a 3m advertising pole with a ...  E01001220  \n",
      "4       ['Change of use from Class A1 retail unit to C...  E01003187  \n",
      "...                                                   ...        ...  \n",
      "155362  ['Application for certificate of lawfulness in...  E01004239  \n",
      "155363  ['Proposed rear roof extension and patio doors...  E01004297  \n",
      "155364  ['Erection of seven storey building (plus base...  E01004319  \n",
      "155365  ['Submission of Details Pursuant to Condition ...  E01004218  \n",
      "155366  ['Submission of Details Pursuant to Condition ...  E01004255  \n",
      "\n",
      "[155367 rows x 7 columns]\n"
     ]
    }
   ],
   "source": [
    "print(score_df)"
   ]
  },
  {
   "cell_type": "code",
   "execution_count": null,
   "id": "ab1cd834",
   "metadata": {},
   "outputs": [
    {
     "ename": "KeyError",
     "evalue": "'residential_mean'",
     "output_type": "error",
     "traceback": [
      "\u001b[31m---------------------------------------------------------------------------\u001b[39m",
      "\u001b[31mKeyError\u001b[39m                                  Traceback (most recent call last)",
      "\u001b[36mCell\u001b[39m\u001b[36m \u001b[39m\u001b[32mIn[71]\u001b[39m\u001b[32m, line 30\u001b[39m\n\u001b[32m     28\u001b[39m     \u001b[38;5;28;01mfor\u001b[39;00m anchor \u001b[38;5;129;01min\u001b[39;00m anchor_cols:\n\u001b[32m     29\u001b[39m         val = top_n_mean(lsoa_df, anchor, n=top_n)\n\u001b[32m---> \u001b[39m\u001b[32m30\u001b[39m         \u001b[43mtopn_dict\u001b[49m\u001b[43m[\u001b[49m\u001b[43manchor\u001b[49m\u001b[43m \u001b[49m\u001b[43m+\u001b[49m\u001b[43m \u001b[49m\u001b[33;43m'\u001b[39;49m\u001b[33;43m_mean\u001b[39;49m\u001b[33;43m'\u001b[39;49m\u001b[43m]\u001b[49m.append(val)\n\u001b[32m     32\u001b[39m \u001b[38;5;66;03m# 转为 DataFrame\u001b[39;00m\n\u001b[32m     33\u001b[39m anchor_lsoa_topn = pd.DataFrame(topn_dict)\n",
      "\u001b[31mKeyError\u001b[39m: 'residential_mean'"
     ]
    }
   ],
   "source": [
    "import pandas as pd\n",
    "\n",
    "# 设置你要保留的 anchor 列和 top-N 值\n",
    "anchor_cols = ['residential', 'commercial', 'green', 'cultural', 'infrustructure']\n",
    "top_n = 5  # 每个 LSOA 只保留相似度最高的 5 条句子\n",
    "\n",
    "# 确保 score_df 里有 'LSOA code' 和 anchor 得分\n",
    "score_df['LSOA code'] = joined_cleaned['LSOA code'].values\n",
    "\n",
    "# 定义函数：对每个 LSOA, anchor 取 top-N 后聚合\n",
    "def top_n_mean(df, anchor, n=5):\n",
    "    return (\n",
    "        df.sort_values(by=anchor, ascending=False)\n",
    "          .head(n)[anchor]\n",
    "          .mean()\n",
    "    )\n",
    "\n",
    "# 建立结果 DataFrame\n",
    "lsoa_list = score_df['LSOA code'].unique()\n",
    "topn_dict = {'LSOA code': []}\n",
    "for anchor in anchor_cols:\n",
    "    topn_dict[anchor + '_topn_mean'] = []\n",
    "\n",
    "# 遍历每个 LSOA 和 anchor 聚合\n",
    "for lsoa in lsoa_list:\n",
    "    topn_dict['LSOA code'].append(lsoa)\n",
    "    lsoa_df = score_df[score_df['LSOA code'] == lsoa]\n",
    "    for anchor in anchor_cols:\n",
    "        val = top_n_mean(lsoa_df, anchor, n=top_n)\n",
    "        topn_dict[anchor + '_topn_mean'].append(val)\n",
    "z\n",
    "# 转为 DataFrame\n",
    "anchor_lsoa_topn = pd.DataFrame(topn_dict)"
   ]
  },
  {
   "cell_type": "code",
   "execution_count": 29,
   "id": "9a109117",
   "metadata": {},
   "outputs": [
    {
     "name": "stdout",
     "output_type": "stream",
     "text": [
      "   LSOA code  residential_topn_mean  commercial_topn_mean  green_topn_mean  \\\n",
      "0  E01002714               0.765265              0.626260         0.700867   \n",
      "1  E01002771               0.747451              0.558030         0.683054   \n",
      "2  E01000220               0.687042              0.411908         0.511596   \n",
      "3  E01001220               0.690279              0.603397         0.555940   \n",
      "4  E01003187               0.541746              0.424574         0.357311   \n",
      "\n",
      "   cultural_topn_mean  infrustructure_topn_mean  \n",
      "0            0.644490                  0.681251  \n",
      "1            0.608008                  0.629741  \n",
      "2            0.600689                  0.573306  \n",
      "3            0.596447                  0.634507  \n",
      "4            0.514902                  0.482219  \n"
     ]
    }
   ],
   "source": [
    "print(anchor_lsoa_topn.head(5))"
   ]
  },
  {
   "cell_type": "code",
   "execution_count": null,
   "id": "679922d2",
   "metadata": {},
   "outputs": [],
   "source": [
    "anchor_lsoa_topn.to_csv(\"data/anchor_similarity_scores_mean.csv\", index=False)"
   ]
  },
  {
   "cell_type": "code",
   "execution_count": null,
   "id": "dd9f08a0",
   "metadata": {},
   "outputs": [
    {
     "name": "stdout",
     "output_type": "stream",
     "text": [
      "   LSOA code  residential_sum  commercial_sum  green_sum  cultural_sum  \\\n",
      "0  E01000001        23.645973       18.562317  20.630339     20.113354   \n",
      "1  E01000002        38.837772       30.800552  36.668304     32.152813   \n",
      "2  E01000003        15.090670       10.165207  14.278521     11.345996   \n",
      "3  E01000005        40.713188       34.940998  39.473312     32.901390   \n",
      "4  E01000006         0.852195        0.300086   0.632047      0.554059   \n",
      "\n",
      "   infrustructure_sum  \n",
      "0           14.504108  \n",
      "1           25.891804  \n",
      "2           10.191477  \n",
      "3           27.702251  \n",
      "4            0.252611  \n"
     ]
    }
   ],
   "source": [
    "# 1️⃣ 按 LSOA 聚合每类 anchor 得分总和\n",
    "anchor_sums = score_df.groupby(\"LSOA code\")[anchor_cols].sum().reset_index()\n",
    "\n",
    "# 2️⃣ 重命名列名，加上 _sum 后缀（更明确）\n",
    "anchor_sums.rename(columns={col: col + \"_sum\" for col in anchor_cols}, inplace=True)\n",
    "\n",
    "# 3️⃣ 输出\n",
    "anchor_lsoa_sum = anchor_sums\n",
    "\n",
    "# 预览结果\n",
    "print(anchor_lsoa_sum.head())"
   ]
  },
  {
   "cell_type": "code",
   "execution_count": null,
   "id": "db3367c9",
   "metadata": {},
   "outputs": [],
   "source": [
    "anchor_lsoa_sum.to_csv(\"data/anchor_similarity_scores_sum_s.csv\", index=False)"
   ]
  },
  {
   "cell_type": "code",
   "execution_count": 31,
   "id": "cba82c43",
   "metadata": {},
   "outputs": [],
   "source": [
    "anchor_lsoa_topn['total_topn_score'] = anchor_lsoa_topn[\n",
    "    ['residential_topn_mean', 'commercial_topn_mean', 'green_topn_mean',\n",
    "     'cultural_topn_mean', 'infrustructure_topn_mean']].sum(axis=1)"
   ]
  },
  {
   "cell_type": "code",
   "execution_count": 32,
   "id": "217f6a2b",
   "metadata": {},
   "outputs": [],
   "source": [
    "anchor_lsoa_sum['total_sum_score'] = anchor_lsoa_sum[\n",
    "    ['residential_sum', 'commercial_sum', 'green_sum',\n",
    "     'cultural_sum', 'infrustructure_sum']].sum(axis=1)"
   ]
  },
  {
   "cell_type": "code",
   "execution_count": null,
   "id": "915d3f26",
   "metadata": {},
   "outputs": [],
   "source": [
    "# 把结构变量也合并进来（你之前好像从 lsoa_label 或其他来源获得\n",
    "# topn平均值\n",
    "final_df_mean = pd.merge(anchor_lsoa_topn, lsoa_label[['LSOA code', 'gentrified', 'application_count',\n",
    "                                                        'avg_den', 'pop_growth_rate', 'senior_per', 'minority_per',\n",
    "                                                        'all_dwelling', 'shared_per', 'converted_per',\n",
    "                                                        'level_4_pop', 'level_4_per',\n",
    "                                                        'prof_occ_count', 'prof_occ_per']], \n",
    "                                            on='LSOA code')"
   ]
  },
  {
   "cell_type": "code",
   "execution_count": 34,
   "id": "afd5d25e",
   "metadata": {},
   "outputs": [],
   "source": [
    "# 得分总和\n",
    "final_df_sum = pd.merge(anchor_lsoa_sum, lsoa_label[['LSOA code', 'gentrified', 'application_count',\n",
    "                                                    'avg_den', 'pop_growth_rate', 'senior_per', 'minority_per',\n",
    "                                                    'all_dwelling', 'shared_per', 'converted_per',\n",
    "                                                    'level_4_pop', 'level_4_per',\n",
    "                                                    'prof_occ_count', 'prof_occ_per']], \n",
    "                                                on='LSOA code')"
   ]
  },
  {
   "cell_type": "code",
   "execution_count": 35,
   "id": "47877c19",
   "metadata": {},
   "outputs": [
    {
     "name": "stdout",
     "output_type": "stream",
     "text": [
      "(4271, 20)\n"
     ]
    }
   ],
   "source": [
    "print(final_df_sum.shape)"
   ]
  },
  {
   "cell_type": "code",
   "execution_count": 36,
   "id": "111735d9",
   "metadata": {},
   "outputs": [],
   "source": [
    "final_df_sum.to_csv(\"lsoa_model_dataframe_sum.csv\", index=False)"
   ]
  },
  {
   "cell_type": "code",
   "execution_count": 39,
   "id": "650f94df",
   "metadata": {},
   "outputs": [],
   "source": [
    "# 平均值\n",
    "features_mean = ['pop_growth_rate', 'avg_den', 'senior_per', 'minority_per', \n",
    "                'all_dwelling', 'shared_per', 'converted_per',\n",
    "                'level_4_pop', 'level_4_per',\n",
    "                'prof_occ_count', 'prof_occ_per',\n",
    "                'residential_topn_mean', 'commercial_topn_mean', 'green_topn_mean', 'cultural_topn_mean', 'infrustructure_topn_mean', \n",
    "                'application_count','total_topn_score']\n",
    "base = ['pop_growth_rate', 'avg_den', 'senior_per','minority_per',\n",
    "        'all_dwelling', 'shared_per', 'converted_per',\n",
    "        'level_4_pop', 'level_4_per',\n",
    "        'prof_occ_count', 'prof_occ_per']"
   ]
  },
  {
   "cell_type": "code",
   "execution_count": 40,
   "id": "56f026bf",
   "metadata": {},
   "outputs": [
    {
     "data": {
      "application/vnd.microsoft.datawrangler.viewer.v0+json": {
       "columns": [
        {
         "name": "gentrified",
         "rawType": "bool",
         "type": "boolean"
        },
        {
         "name": "('pop_growth_rate', 'count')",
         "rawType": "float64",
         "type": "float"
        },
        {
         "name": "('pop_growth_rate', 'mean')",
         "rawType": "float64",
         "type": "float"
        },
        {
         "name": "('pop_growth_rate', 'std')",
         "rawType": "float64",
         "type": "float"
        },
        {
         "name": "('pop_growth_rate', 'min')",
         "rawType": "float64",
         "type": "float"
        },
        {
         "name": "('pop_growth_rate', '25%')",
         "rawType": "float64",
         "type": "float"
        },
        {
         "name": "('pop_growth_rate', '50%')",
         "rawType": "float64",
         "type": "float"
        },
        {
         "name": "('pop_growth_rate', '75%')",
         "rawType": "float64",
         "type": "float"
        },
        {
         "name": "('pop_growth_rate', 'max')",
         "rawType": "float64",
         "type": "float"
        },
        {
         "name": "('avg_den', 'count')",
         "rawType": "float64",
         "type": "float"
        },
        {
         "name": "('avg_den', 'mean')",
         "rawType": "float64",
         "type": "float"
        },
        {
         "name": "('avg_den', 'std')",
         "rawType": "float64",
         "type": "float"
        },
        {
         "name": "('avg_den', 'min')",
         "rawType": "float64",
         "type": "float"
        },
        {
         "name": "('avg_den', '25%')",
         "rawType": "float64",
         "type": "float"
        },
        {
         "name": "('avg_den', '50%')",
         "rawType": "float64",
         "type": "float"
        },
        {
         "name": "('avg_den', '75%')",
         "rawType": "float64",
         "type": "float"
        },
        {
         "name": "('avg_den', 'max')",
         "rawType": "float64",
         "type": "float"
        },
        {
         "name": "('senior_per', 'count')",
         "rawType": "float64",
         "type": "float"
        },
        {
         "name": "('senior_per', 'mean')",
         "rawType": "float64",
         "type": "float"
        },
        {
         "name": "('senior_per', 'std')",
         "rawType": "float64",
         "type": "float"
        },
        {
         "name": "('senior_per', 'min')",
         "rawType": "float64",
         "type": "float"
        },
        {
         "name": "('senior_per', '25%')",
         "rawType": "float64",
         "type": "float"
        },
        {
         "name": "('senior_per', '50%')",
         "rawType": "float64",
         "type": "float"
        },
        {
         "name": "('senior_per', '75%')",
         "rawType": "float64",
         "type": "float"
        },
        {
         "name": "('senior_per', 'max')",
         "rawType": "float64",
         "type": "float"
        },
        {
         "name": "('minority_per', 'count')",
         "rawType": "float64",
         "type": "float"
        },
        {
         "name": "('minority_per', 'mean')",
         "rawType": "float64",
         "type": "float"
        },
        {
         "name": "('minority_per', 'std')",
         "rawType": "float64",
         "type": "float"
        },
        {
         "name": "('minority_per', 'min')",
         "rawType": "float64",
         "type": "float"
        },
        {
         "name": "('minority_per', '25%')",
         "rawType": "float64",
         "type": "float"
        },
        {
         "name": "('minority_per', '50%')",
         "rawType": "float64",
         "type": "float"
        },
        {
         "name": "('minority_per', '75%')",
         "rawType": "float64",
         "type": "float"
        },
        {
         "name": "('minority_per', 'max')",
         "rawType": "float64",
         "type": "float"
        },
        {
         "name": "('all_dwelling', 'count')",
         "rawType": "float64",
         "type": "float"
        },
        {
         "name": "('all_dwelling', 'mean')",
         "rawType": "float64",
         "type": "float"
        },
        {
         "name": "('all_dwelling', 'std')",
         "rawType": "float64",
         "type": "float"
        },
        {
         "name": "('all_dwelling', 'min')",
         "rawType": "float64",
         "type": "float"
        },
        {
         "name": "('all_dwelling', '25%')",
         "rawType": "float64",
         "type": "float"
        },
        {
         "name": "('all_dwelling', '50%')",
         "rawType": "float64",
         "type": "float"
        },
        {
         "name": "('all_dwelling', '75%')",
         "rawType": "float64",
         "type": "float"
        },
        {
         "name": "('all_dwelling', 'max')",
         "rawType": "float64",
         "type": "float"
        },
        {
         "name": "('shared_per', 'count')",
         "rawType": "float64",
         "type": "float"
        },
        {
         "name": "('shared_per', 'mean')",
         "rawType": "float64",
         "type": "float"
        },
        {
         "name": "('shared_per', 'std')",
         "rawType": "float64",
         "type": "float"
        },
        {
         "name": "('shared_per', 'min')",
         "rawType": "float64",
         "type": "float"
        },
        {
         "name": "('shared_per', '25%')",
         "rawType": "float64",
         "type": "float"
        },
        {
         "name": "('shared_per', '50%')",
         "rawType": "float64",
         "type": "float"
        },
        {
         "name": "('shared_per', '75%')",
         "rawType": "float64",
         "type": "float"
        },
        {
         "name": "('shared_per', 'max')",
         "rawType": "float64",
         "type": "float"
        },
        {
         "name": "('converted_per', 'count')",
         "rawType": "float64",
         "type": "float"
        },
        {
         "name": "('converted_per', 'mean')",
         "rawType": "float64",
         "type": "float"
        },
        {
         "name": "('converted_per', 'std')",
         "rawType": "float64",
         "type": "float"
        },
        {
         "name": "('converted_per', 'min')",
         "rawType": "float64",
         "type": "float"
        },
        {
         "name": "('converted_per', '25%')",
         "rawType": "float64",
         "type": "float"
        },
        {
         "name": "('converted_per', '50%')",
         "rawType": "float64",
         "type": "float"
        },
        {
         "name": "('converted_per', '75%')",
         "rawType": "float64",
         "type": "float"
        },
        {
         "name": "('converted_per', 'max')",
         "rawType": "float64",
         "type": "float"
        },
        {
         "name": "('level_4_pop', 'count')",
         "rawType": "float64",
         "type": "float"
        },
        {
         "name": "('level_4_pop', 'mean')",
         "rawType": "float64",
         "type": "float"
        },
        {
         "name": "('level_4_pop', 'std')",
         "rawType": "float64",
         "type": "float"
        },
        {
         "name": "('level_4_pop', 'min')",
         "rawType": "float64",
         "type": "float"
        },
        {
         "name": "('level_4_pop', '25%')",
         "rawType": "float64",
         "type": "float"
        },
        {
         "name": "('level_4_pop', '50%')",
         "rawType": "float64",
         "type": "float"
        },
        {
         "name": "('level_4_pop', '75%')",
         "rawType": "float64",
         "type": "float"
        },
        {
         "name": "('level_4_pop', 'max')",
         "rawType": "float64",
         "type": "float"
        },
        {
         "name": "('level_4_per', 'count')",
         "rawType": "float64",
         "type": "float"
        },
        {
         "name": "('level_4_per', 'mean')",
         "rawType": "float64",
         "type": "float"
        },
        {
         "name": "('level_4_per', 'std')",
         "rawType": "float64",
         "type": "float"
        },
        {
         "name": "('level_4_per', 'min')",
         "rawType": "float64",
         "type": "float"
        },
        {
         "name": "('level_4_per', '25%')",
         "rawType": "float64",
         "type": "float"
        },
        {
         "name": "('level_4_per', '50%')",
         "rawType": "float64",
         "type": "float"
        },
        {
         "name": "('level_4_per', '75%')",
         "rawType": "float64",
         "type": "float"
        },
        {
         "name": "('level_4_per', 'max')",
         "rawType": "float64",
         "type": "float"
        },
        {
         "name": "('prof_occ_count', 'count')",
         "rawType": "float64",
         "type": "float"
        },
        {
         "name": "('prof_occ_count', 'mean')",
         "rawType": "float64",
         "type": "float"
        },
        {
         "name": "('prof_occ_count', 'std')",
         "rawType": "float64",
         "type": "float"
        },
        {
         "name": "('prof_occ_count', 'min')",
         "rawType": "float64",
         "type": "float"
        },
        {
         "name": "('prof_occ_count', '25%')",
         "rawType": "float64",
         "type": "float"
        },
        {
         "name": "('prof_occ_count', '50%')",
         "rawType": "float64",
         "type": "float"
        },
        {
         "name": "('prof_occ_count', '75%')",
         "rawType": "float64",
         "type": "float"
        },
        {
         "name": "('prof_occ_count', 'max')",
         "rawType": "float64",
         "type": "float"
        },
        {
         "name": "('prof_occ_per', 'count')",
         "rawType": "float64",
         "type": "float"
        },
        {
         "name": "('prof_occ_per', 'mean')",
         "rawType": "float64",
         "type": "float"
        },
        {
         "name": "('prof_occ_per', 'std')",
         "rawType": "float64",
         "type": "float"
        },
        {
         "name": "('prof_occ_per', 'min')",
         "rawType": "float64",
         "type": "float"
        },
        {
         "name": "('prof_occ_per', '25%')",
         "rawType": "float64",
         "type": "float"
        },
        {
         "name": "('prof_occ_per', '50%')",
         "rawType": "float64",
         "type": "float"
        },
        {
         "name": "('prof_occ_per', '75%')",
         "rawType": "float64",
         "type": "float"
        },
        {
         "name": "('prof_occ_per', 'max')",
         "rawType": "float64",
         "type": "float"
        },
        {
         "name": "('residential_topn_mean', 'count')",
         "rawType": "float64",
         "type": "float"
        },
        {
         "name": "('residential_topn_mean', 'mean')",
         "rawType": "float64",
         "type": "float"
        },
        {
         "name": "('residential_topn_mean', 'std')",
         "rawType": "float64",
         "type": "float"
        },
        {
         "name": "('residential_topn_mean', 'min')",
         "rawType": "float64",
         "type": "float"
        },
        {
         "name": "('residential_topn_mean', '25%')",
         "rawType": "float64",
         "type": "float"
        },
        {
         "name": "('residential_topn_mean', '50%')",
         "rawType": "float64",
         "type": "float"
        },
        {
         "name": "('residential_topn_mean', '75%')",
         "rawType": "float64",
         "type": "float"
        },
        {
         "name": "('residential_topn_mean', 'max')",
         "rawType": "float64",
         "type": "float"
        },
        {
         "name": "('commercial_topn_mean', 'count')",
         "rawType": "float64",
         "type": "float"
        },
        {
         "name": "('commercial_topn_mean', 'mean')",
         "rawType": "float64",
         "type": "float"
        },
        {
         "name": "('commercial_topn_mean', 'std')",
         "rawType": "float64",
         "type": "float"
        },
        {
         "name": "('commercial_topn_mean', 'min')",
         "rawType": "float64",
         "type": "float"
        },
        {
         "name": "('commercial_topn_mean', '25%')",
         "rawType": "float64",
         "type": "float"
        },
        {
         "name": "('commercial_topn_mean', '50%')",
         "rawType": "float64",
         "type": "float"
        },
        {
         "name": "('commercial_topn_mean', '75%')",
         "rawType": "float64",
         "type": "float"
        },
        {
         "name": "('commercial_topn_mean', 'max')",
         "rawType": "float64",
         "type": "float"
        },
        {
         "name": "('green_topn_mean', 'count')",
         "rawType": "float64",
         "type": "float"
        },
        {
         "name": "('green_topn_mean', 'mean')",
         "rawType": "float64",
         "type": "float"
        },
        {
         "name": "('green_topn_mean', 'std')",
         "rawType": "float64",
         "type": "float"
        },
        {
         "name": "('green_topn_mean', 'min')",
         "rawType": "float64",
         "type": "float"
        },
        {
         "name": "('green_topn_mean', '25%')",
         "rawType": "float64",
         "type": "float"
        },
        {
         "name": "('green_topn_mean', '50%')",
         "rawType": "float64",
         "type": "float"
        },
        {
         "name": "('green_topn_mean', '75%')",
         "rawType": "float64",
         "type": "float"
        },
        {
         "name": "('green_topn_mean', 'max')",
         "rawType": "float64",
         "type": "float"
        },
        {
         "name": "('cultural_topn_mean', 'count')",
         "rawType": "float64",
         "type": "float"
        },
        {
         "name": "('cultural_topn_mean', 'mean')",
         "rawType": "float64",
         "type": "float"
        },
        {
         "name": "('cultural_topn_mean', 'std')",
         "rawType": "float64",
         "type": "float"
        },
        {
         "name": "('cultural_topn_mean', 'min')",
         "rawType": "float64",
         "type": "float"
        },
        {
         "name": "('cultural_topn_mean', '25%')",
         "rawType": "float64",
         "type": "float"
        },
        {
         "name": "('cultural_topn_mean', '50%')",
         "rawType": "float64",
         "type": "float"
        },
        {
         "name": "('cultural_topn_mean', '75%')",
         "rawType": "float64",
         "type": "float"
        },
        {
         "name": "('cultural_topn_mean', 'max')",
         "rawType": "float64",
         "type": "float"
        },
        {
         "name": "('infrustructure_topn_mean', 'count')",
         "rawType": "float64",
         "type": "float"
        },
        {
         "name": "('infrustructure_topn_mean', 'mean')",
         "rawType": "float64",
         "type": "float"
        },
        {
         "name": "('infrustructure_topn_mean', 'std')",
         "rawType": "float64",
         "type": "float"
        },
        {
         "name": "('infrustructure_topn_mean', 'min')",
         "rawType": "float64",
         "type": "float"
        },
        {
         "name": "('infrustructure_topn_mean', '25%')",
         "rawType": "float64",
         "type": "float"
        },
        {
         "name": "('infrustructure_topn_mean', '50%')",
         "rawType": "float64",
         "type": "float"
        },
        {
         "name": "('infrustructure_topn_mean', '75%')",
         "rawType": "float64",
         "type": "float"
        },
        {
         "name": "('infrustructure_topn_mean', 'max')",
         "rawType": "float64",
         "type": "float"
        },
        {
         "name": "('application_count', 'count')",
         "rawType": "float64",
         "type": "float"
        },
        {
         "name": "('application_count', 'mean')",
         "rawType": "float64",
         "type": "float"
        },
        {
         "name": "('application_count', 'std')",
         "rawType": "float64",
         "type": "float"
        },
        {
         "name": "('application_count', 'min')",
         "rawType": "float64",
         "type": "float"
        },
        {
         "name": "('application_count', '25%')",
         "rawType": "float64",
         "type": "float"
        },
        {
         "name": "('application_count', '50%')",
         "rawType": "float64",
         "type": "float"
        },
        {
         "name": "('application_count', '75%')",
         "rawType": "float64",
         "type": "float"
        },
        {
         "name": "('application_count', 'max')",
         "rawType": "float64",
         "type": "float"
        },
        {
         "name": "('total_topn_score', 'count')",
         "rawType": "float64",
         "type": "float"
        },
        {
         "name": "('total_topn_score', 'mean')",
         "rawType": "float64",
         "type": "float"
        },
        {
         "name": "('total_topn_score', 'std')",
         "rawType": "float64",
         "type": "float"
        },
        {
         "name": "('total_topn_score', 'min')",
         "rawType": "float64",
         "type": "float"
        },
        {
         "name": "('total_topn_score', '25%')",
         "rawType": "float64",
         "type": "float"
        },
        {
         "name": "('total_topn_score', '50%')",
         "rawType": "float64",
         "type": "float"
        },
        {
         "name": "('total_topn_score', '75%')",
         "rawType": "float64",
         "type": "float"
        },
        {
         "name": "('total_topn_score', 'max')",
         "rawType": "float64",
         "type": "float"
        }
       ],
       "ref": "fb394ba0-56f8-4677-8d5f-68c449f18a05",
       "rows": [
        [
         "False",
         "4031.0",
         "0.03195094328633635",
         "0.09451967018061351",
         "-0.4058053500284576",
         "-0.012573959573204601",
         "0.0151724137931034",
         "0.0506592387862263",
         "1.6888331242158092",
         "4031.0",
         "10268.589688532702",
         "6911.811178311672",
         "124.2322724734785",
         "5420.058753096539",
         "8750.518289251548",
         "13865.19482278285",
         "99245.48816568048",
         "4031.0",
         "12.3512202652083",
         "5.417123490965013",
         "1.397050176340753",
         "8.523647932859173",
         "11.331261674699627",
         "15.374333866737684",
         "44.78541084771488",
         "4031.0",
         "38.339349921428855",
         "19.955349650367065",
         "1.840942562592047",
         "22.155528062696504",
         "35.66398390342052",
         "52.18525398344974",
         "96.59245797364834",
         "4031.0",
         "697.6261473579757",
         "145.82547576010904",
         "408.0",
         "606.0",
         "670.0",
         "772.5",
         "1551.0",
         "4031.0",
         "0.2570909848898136",
         "0.3858942088465256",
         "0.0",
         "0.0",
         "0.1310615989515072",
         "0.37759612185732616",
         "3.1591737545565004",
         "4031.0",
         "11.794846349272538",
         "14.500302545123363",
         "0.0",
         "1.8170812238608849",
         "5.206463195691203",
         "16.807944072808702",
         "77.46031746031746",
         "4031.0",
         "509.965021086579",
         "231.66565498417958",
         "88.0",
         "327.0",
         "463.0",
         "665.5",
         "1366.0",
         "4031.0",
         "37.1236665839742",
         "14.602920798019245",
         "8.3",
         "25.55",
         "34.4",
         "47.5",
         "83.8",
         "4031.0",
         "186.11907715207144",
         "95.59181579190657",
         "32.0",
         "111.0",
         "165.0",
         "243.0",
         "602.0",
         "4031.0",
         "21.673778218804266",
         "7.98913558738862",
         "5.9",
         "15.0",
         "20.7",
         "27.6",
         "50.4",
         "4031.0",
         "0.6499849557876587",
         "0.09281957149505615",
         "0.11583440005779266",
         "0.6176013946533203",
         "0.6719970703125",
         "0.7119112610816956",
         "0.8102074861526489",
         "4031.0",
         "0.40931493043899536",
         "0.10991200804710388",
         "0.015631115064024925",
         "0.34749969840049744",
         "0.39668020606040955",
         "0.45167067646980286",
         "0.8678479194641113",
         "4031.0",
         "0.4792052209377289",
         "0.09748749434947968",
         "0.04762286692857742",
         "0.41724373400211334",
         "0.4783037602901459",
         "0.542471706867218",
         "0.8008016347885132",
         "4031.0",
         "0.5313868522644043",
         "0.08709337562322617",
         "0.08774496614933014",
         "0.48205699026584625",
         "0.5435333847999573",
         "0.5919610857963562",
         "0.7366695404052734",
         "4031.0",
         "0.5348267555236816",
         "0.079984150826931",
         "0.1367744654417038",
         "0.48681285977363586",
         "0.5435253977775574",
         "0.590596616268158",
         "0.7626286745071411",
         "4031.0",
         "36.43363929546018",
         "52.410864893988006",
         "1.0",
         "10.0",
         "21.0",
         "40.0",
         "942.0",
         "4031.0",
         "2.6047186851501465",
         "0.40136033296585083",
         "0.6423555612564087",
         "2.375312089920044",
         "2.65775465965271",
         "2.8684033155441284",
         "3.6512274742126465"
        ],
        [
         "True",
         "240.0",
         "0.05168111247593157",
         "0.11708139010703145",
         "-0.2987625220978196",
         "-0.005060298527134275",
         "0.02318712062548395",
         "0.07149042955504913",
         "0.8553590010405827",
         "240.0",
         "12291.068545404489",
         "7421.6225632261785",
         "429.2099755971309",
         "6473.081941797881",
         "11444.884795198166",
         "17098.433902092038",
         "36361.42465753425",
         "240.0",
         "10.861241925192896",
         "4.578136355426882",
         "2.356215973218369",
         "7.659992714891053",
         "9.872196247212859",
         "13.600448443520696",
         "26.33915179423647",
         "240.0",
         "46.80269002523869",
         "20.666650617703407",
         "5.393939393939394",
         "30.488747121811638",
         "50.683252128408746",
         "61.313030790024",
         "92.95227524972252",
         "240.0",
         "706.4583333333334",
         "170.20066403822165",
         "421.0",
         "611.0",
         "674.0",
         "775.25",
         "1746.0",
         "240.0",
         "0.31678172766256907",
         "0.33397926006397227",
         "0.0",
         "0.0",
         "0.2101072164766432",
         "0.4959846284988497",
         "1.3812154696132597",
         "240.0",
         "11.815745578793818",
         "12.862565093625365",
         "0.0",
         "2.656632980385921",
         "7.61611707411625",
         "16.02902902902903",
         "62.57822277847309",
         "240.0",
         "469.2375",
         "196.31883663356103",
         "173.0",
         "323.75",
         "420.0",
         "568.5",
         "1125.0",
         "240.0",
         "34.55041666666667",
         "12.914621462683575",
         "13.8",
         "25.275",
         "31.15",
         "41.8",
         "69.0",
         "240.0",
         "160.27083333333334",
         "76.35940661360686",
         "44.0",
         "98.0",
         "141.5",
         "202.5",
         "403.0",
         "240.0",
         "19.97625",
         "7.241724356306284",
         "6.1",
         "14.3",
         "18.35",
         "24.1",
         "43.0",
         "240.0",
         "0.621008574962616",
         "0.10500601679086685",
         "0.2740209698677063",
         "0.5674048811197281",
         "0.6452776789665222",
         "0.7038455456495285",
         "0.8008014559745789",
         "240.0",
         "0.4119856655597687",
         "0.1147904247045517",
         "0.0900382325053215",
         "0.3460021987557411",
         "0.4045266658067703",
         "0.46797464042901993",
         "0.7509349584579468",
         "240.0",
         "0.45819899439811707",
         "0.1041095033288002",
         "0.18015286326408386",
         "0.3880288600921631",
         "0.4606395959854126",
         "0.5303811579942703",
         "0.7426402568817139",
         "240.0",
         "0.5202439427375793",
         "0.09233164042234421",
         "0.20445352792739868",
         "0.4569145068526268",
         "0.5296908318996429",
         "0.5922823548316956",
         "0.7377957105636597",
         "240.0",
         "0.5264445543289185",
         "0.0851689875125885",
         "0.2553647756576538",
         "0.47936607897281647",
         "0.5293710231781006",
         "0.5812433063983917",
         "0.7516632080078125",
         "240.0",
         "35.42916666666667",
         "57.34862905539047",
         "1.0",
         "7.0",
         "19.0",
         "41.5",
         "551.0",
         "240.0",
         "2.53788161277771",
         "0.4437749683856964",
         "1.0868041515350342",
         "2.256271541118622",
         "2.5625256299972534",
         "2.8691619634628296",
         "3.5518975257873535"
        ]
       ],
       "shape": {
        "columns": 144,
        "rows": 2
       }
      },
      "text/html": [
       "<div>\n",
       "<style scoped>\n",
       "    .dataframe tbody tr th:only-of-type {\n",
       "        vertical-align: middle;\n",
       "    }\n",
       "\n",
       "    .dataframe tbody tr th {\n",
       "        vertical-align: top;\n",
       "    }\n",
       "\n",
       "    .dataframe thead tr th {\n",
       "        text-align: left;\n",
       "    }\n",
       "\n",
       "    .dataframe thead tr:last-of-type th {\n",
       "        text-align: right;\n",
       "    }\n",
       "</style>\n",
       "<table border=\"1\" class=\"dataframe\">\n",
       "  <thead>\n",
       "    <tr>\n",
       "      <th></th>\n",
       "      <th colspan=\"8\" halign=\"left\">pop_growth_rate</th>\n",
       "      <th colspan=\"2\" halign=\"left\">avg_den</th>\n",
       "      <th>...</th>\n",
       "      <th colspan=\"2\" halign=\"left\">application_count</th>\n",
       "      <th colspan=\"8\" halign=\"left\">total_topn_score</th>\n",
       "    </tr>\n",
       "    <tr>\n",
       "      <th></th>\n",
       "      <th>count</th>\n",
       "      <th>mean</th>\n",
       "      <th>std</th>\n",
       "      <th>min</th>\n",
       "      <th>25%</th>\n",
       "      <th>50%</th>\n",
       "      <th>75%</th>\n",
       "      <th>max</th>\n",
       "      <th>count</th>\n",
       "      <th>mean</th>\n",
       "      <th>...</th>\n",
       "      <th>75%</th>\n",
       "      <th>max</th>\n",
       "      <th>count</th>\n",
       "      <th>mean</th>\n",
       "      <th>std</th>\n",
       "      <th>min</th>\n",
       "      <th>25%</th>\n",
       "      <th>50%</th>\n",
       "      <th>75%</th>\n",
       "      <th>max</th>\n",
       "    </tr>\n",
       "    <tr>\n",
       "      <th>gentrified</th>\n",
       "      <th></th>\n",
       "      <th></th>\n",
       "      <th></th>\n",
       "      <th></th>\n",
       "      <th></th>\n",
       "      <th></th>\n",
       "      <th></th>\n",
       "      <th></th>\n",
       "      <th></th>\n",
       "      <th></th>\n",
       "      <th></th>\n",
       "      <th></th>\n",
       "      <th></th>\n",
       "      <th></th>\n",
       "      <th></th>\n",
       "      <th></th>\n",
       "      <th></th>\n",
       "      <th></th>\n",
       "      <th></th>\n",
       "      <th></th>\n",
       "      <th></th>\n",
       "    </tr>\n",
       "  </thead>\n",
       "  <tbody>\n",
       "    <tr>\n",
       "      <th>False</th>\n",
       "      <td>4031.0</td>\n",
       "      <td>0.031951</td>\n",
       "      <td>0.094520</td>\n",
       "      <td>-0.405805</td>\n",
       "      <td>-0.012574</td>\n",
       "      <td>0.015172</td>\n",
       "      <td>0.050659</td>\n",
       "      <td>1.688833</td>\n",
       "      <td>4031.0</td>\n",
       "      <td>10268.589689</td>\n",
       "      <td>...</td>\n",
       "      <td>40.0</td>\n",
       "      <td>942.0</td>\n",
       "      <td>4031.0</td>\n",
       "      <td>2.604719</td>\n",
       "      <td>0.401360</td>\n",
       "      <td>0.642356</td>\n",
       "      <td>2.375312</td>\n",
       "      <td>2.657755</td>\n",
       "      <td>2.868403</td>\n",
       "      <td>3.651227</td>\n",
       "    </tr>\n",
       "    <tr>\n",
       "      <th>True</th>\n",
       "      <td>240.0</td>\n",
       "      <td>0.051681</td>\n",
       "      <td>0.117081</td>\n",
       "      <td>-0.298763</td>\n",
       "      <td>-0.005060</td>\n",
       "      <td>0.023187</td>\n",
       "      <td>0.071490</td>\n",
       "      <td>0.855359</td>\n",
       "      <td>240.0</td>\n",
       "      <td>12291.068545</td>\n",
       "      <td>...</td>\n",
       "      <td>41.5</td>\n",
       "      <td>551.0</td>\n",
       "      <td>240.0</td>\n",
       "      <td>2.537882</td>\n",
       "      <td>0.443775</td>\n",
       "      <td>1.086804</td>\n",
       "      <td>2.256272</td>\n",
       "      <td>2.562526</td>\n",
       "      <td>2.869162</td>\n",
       "      <td>3.551898</td>\n",
       "    </tr>\n",
       "  </tbody>\n",
       "</table>\n",
       "<p>2 rows × 144 columns</p>\n",
       "</div>"
      ],
      "text/plain": [
       "           pop_growth_rate                                                    \\\n",
       "                     count      mean       std       min       25%       50%   \n",
       "gentrified                                                                     \n",
       "False               4031.0  0.031951  0.094520 -0.405805 -0.012574  0.015172   \n",
       "True                 240.0  0.051681  0.117081 -0.298763 -0.005060  0.023187   \n",
       "\n",
       "                               avg_den                ... application_count  \\\n",
       "                 75%       max   count          mean  ...               75%   \n",
       "gentrified                                            ...                     \n",
       "False       0.050659  1.688833  4031.0  10268.589689  ...              40.0   \n",
       "True        0.071490  0.855359   240.0  12291.068545  ...              41.5   \n",
       "\n",
       "                  total_topn_score                                          \\\n",
       "              max            count      mean       std       min       25%   \n",
       "gentrified                                                                   \n",
       "False       942.0           4031.0  2.604719  0.401360  0.642356  2.375312   \n",
       "True        551.0            240.0  2.537882  0.443775  1.086804  2.256272   \n",
       "\n",
       "                                          \n",
       "                 50%       75%       max  \n",
       "gentrified                                \n",
       "False       2.657755  2.868403  3.651227  \n",
       "True        2.562526  2.869162  3.551898  \n",
       "\n",
       "[2 rows x 144 columns]"
      ]
     },
     "execution_count": 40,
     "metadata": {},
     "output_type": "execute_result"
    }
   ],
   "source": [
    "final_df_mean.groupby('gentrified')[features_mean].describe()"
   ]
  },
  {
   "cell_type": "code",
   "execution_count": 41,
   "id": "74d84c3d",
   "metadata": {},
   "outputs": [],
   "source": [
    "# 总和\n",
    "features_sum = ['pop_growth_rate', 'avg_den', 'senior_per', 'minority_per', \n",
    "                'application_count', 'total_sum_score',\n",
    "                'pop_growth_rate', 'avg_den', 'senior_per', 'minority_per', \n",
    "                'all_dwelling', 'shared_per', 'converted_per',\n",
    "                'level_4_pop', 'level_4_per',\n",
    "                'prof_occ_count', 'prof_occ_per']"
   ]
  },
  {
   "cell_type": "code",
   "execution_count": 42,
   "id": "7163dec8",
   "metadata": {},
   "outputs": [
    {
     "data": {
      "application/vnd.microsoft.datawrangler.viewer.v0+json": {
       "columns": [
        {
         "name": "gentrified",
         "rawType": "bool",
         "type": "boolean"
        },
        {
         "name": "('pop_growth_rate', 'count')",
         "rawType": "float64",
         "type": "float"
        },
        {
         "name": "('pop_growth_rate', 'mean')",
         "rawType": "float64",
         "type": "float"
        },
        {
         "name": "('pop_growth_rate', 'std')",
         "rawType": "float64",
         "type": "float"
        },
        {
         "name": "('pop_growth_rate', 'min')",
         "rawType": "float64",
         "type": "float"
        },
        {
         "name": "('pop_growth_rate', '25%')",
         "rawType": "float64",
         "type": "float"
        },
        {
         "name": "('pop_growth_rate', '50%')",
         "rawType": "float64",
         "type": "float"
        },
        {
         "name": "('pop_growth_rate', '75%')",
         "rawType": "float64",
         "type": "float"
        },
        {
         "name": "('pop_growth_rate', 'max')",
         "rawType": "float64",
         "type": "float"
        },
        {
         "name": "('avg_den', 'count')",
         "rawType": "float64",
         "type": "float"
        },
        {
         "name": "('avg_den', 'mean')",
         "rawType": "float64",
         "type": "float"
        },
        {
         "name": "('avg_den', 'std')",
         "rawType": "float64",
         "type": "float"
        },
        {
         "name": "('avg_den', 'min')",
         "rawType": "float64",
         "type": "float"
        },
        {
         "name": "('avg_den', '25%')",
         "rawType": "float64",
         "type": "float"
        },
        {
         "name": "('avg_den', '50%')",
         "rawType": "float64",
         "type": "float"
        },
        {
         "name": "('avg_den', '75%')",
         "rawType": "float64",
         "type": "float"
        },
        {
         "name": "('avg_den', 'max')",
         "rawType": "float64",
         "type": "float"
        },
        {
         "name": "('senior_per', 'count')",
         "rawType": "float64",
         "type": "float"
        },
        {
         "name": "('senior_per', 'mean')",
         "rawType": "float64",
         "type": "float"
        },
        {
         "name": "('senior_per', 'std')",
         "rawType": "float64",
         "type": "float"
        },
        {
         "name": "('senior_per', 'min')",
         "rawType": "float64",
         "type": "float"
        },
        {
         "name": "('senior_per', '25%')",
         "rawType": "float64",
         "type": "float"
        },
        {
         "name": "('senior_per', '50%')",
         "rawType": "float64",
         "type": "float"
        },
        {
         "name": "('senior_per', '75%')",
         "rawType": "float64",
         "type": "float"
        },
        {
         "name": "('senior_per', 'max')",
         "rawType": "float64",
         "type": "float"
        },
        {
         "name": "('minority_per', 'count')",
         "rawType": "float64",
         "type": "float"
        },
        {
         "name": "('minority_per', 'mean')",
         "rawType": "float64",
         "type": "float"
        },
        {
         "name": "('minority_per', 'std')",
         "rawType": "float64",
         "type": "float"
        },
        {
         "name": "('minority_per', 'min')",
         "rawType": "float64",
         "type": "float"
        },
        {
         "name": "('minority_per', '25%')",
         "rawType": "float64",
         "type": "float"
        },
        {
         "name": "('minority_per', '50%')",
         "rawType": "float64",
         "type": "float"
        },
        {
         "name": "('minority_per', '75%')",
         "rawType": "float64",
         "type": "float"
        },
        {
         "name": "('minority_per', 'max')",
         "rawType": "float64",
         "type": "float"
        },
        {
         "name": "('application_count', 'count')",
         "rawType": "float64",
         "type": "float"
        },
        {
         "name": "('application_count', 'mean')",
         "rawType": "float64",
         "type": "float"
        },
        {
         "name": "('application_count', 'std')",
         "rawType": "float64",
         "type": "float"
        },
        {
         "name": "('application_count', 'min')",
         "rawType": "float64",
         "type": "float"
        },
        {
         "name": "('application_count', '25%')",
         "rawType": "float64",
         "type": "float"
        },
        {
         "name": "('application_count', '50%')",
         "rawType": "float64",
         "type": "float"
        },
        {
         "name": "('application_count', '75%')",
         "rawType": "float64",
         "type": "float"
        },
        {
         "name": "('application_count', 'max')",
         "rawType": "float64",
         "type": "float"
        },
        {
         "name": "('total_sum_score', 'count')",
         "rawType": "float64",
         "type": "float"
        },
        {
         "name": "('total_sum_score', 'mean')",
         "rawType": "float64",
         "type": "float"
        },
        {
         "name": "('total_sum_score', 'std')",
         "rawType": "float64",
         "type": "float"
        },
        {
         "name": "('total_sum_score', 'min')",
         "rawType": "float64",
         "type": "float"
        },
        {
         "name": "('total_sum_score', '25%')",
         "rawType": "float64",
         "type": "float"
        },
        {
         "name": "('total_sum_score', '50%')",
         "rawType": "float64",
         "type": "float"
        },
        {
         "name": "('total_sum_score', '75%')",
         "rawType": "float64",
         "type": "float"
        },
        {
         "name": "('total_sum_score', 'max')",
         "rawType": "float64",
         "type": "float"
        },
        {
         "name": "('pop_growth_rate', 'count')",
         "rawType": "float64",
         "type": "float"
        },
        {
         "name": "('pop_growth_rate', 'mean')",
         "rawType": "float64",
         "type": "float"
        },
        {
         "name": "('pop_growth_rate', 'std')",
         "rawType": "float64",
         "type": "float"
        },
        {
         "name": "('pop_growth_rate', 'min')",
         "rawType": "float64",
         "type": "float"
        },
        {
         "name": "('pop_growth_rate', '25%')",
         "rawType": "float64",
         "type": "float"
        },
        {
         "name": "('pop_growth_rate', '50%')",
         "rawType": "float64",
         "type": "float"
        },
        {
         "name": "('pop_growth_rate', '75%')",
         "rawType": "float64",
         "type": "float"
        },
        {
         "name": "('pop_growth_rate', 'max')",
         "rawType": "float64",
         "type": "float"
        },
        {
         "name": "('avg_den', 'count')",
         "rawType": "float64",
         "type": "float"
        },
        {
         "name": "('avg_den', 'mean')",
         "rawType": "float64",
         "type": "float"
        },
        {
         "name": "('avg_den', 'std')",
         "rawType": "float64",
         "type": "float"
        },
        {
         "name": "('avg_den', 'min')",
         "rawType": "float64",
         "type": "float"
        },
        {
         "name": "('avg_den', '25%')",
         "rawType": "float64",
         "type": "float"
        },
        {
         "name": "('avg_den', '50%')",
         "rawType": "float64",
         "type": "float"
        },
        {
         "name": "('avg_den', '75%')",
         "rawType": "float64",
         "type": "float"
        },
        {
         "name": "('avg_den', 'max')",
         "rawType": "float64",
         "type": "float"
        },
        {
         "name": "('senior_per', 'count')",
         "rawType": "float64",
         "type": "float"
        },
        {
         "name": "('senior_per', 'mean')",
         "rawType": "float64",
         "type": "float"
        },
        {
         "name": "('senior_per', 'std')",
         "rawType": "float64",
         "type": "float"
        },
        {
         "name": "('senior_per', 'min')",
         "rawType": "float64",
         "type": "float"
        },
        {
         "name": "('senior_per', '25%')",
         "rawType": "float64",
         "type": "float"
        },
        {
         "name": "('senior_per', '50%')",
         "rawType": "float64",
         "type": "float"
        },
        {
         "name": "('senior_per', '75%')",
         "rawType": "float64",
         "type": "float"
        },
        {
         "name": "('senior_per', 'max')",
         "rawType": "float64",
         "type": "float"
        },
        {
         "name": "('minority_per', 'count')",
         "rawType": "float64",
         "type": "float"
        },
        {
         "name": "('minority_per', 'mean')",
         "rawType": "float64",
         "type": "float"
        },
        {
         "name": "('minority_per', 'std')",
         "rawType": "float64",
         "type": "float"
        },
        {
         "name": "('minority_per', 'min')",
         "rawType": "float64",
         "type": "float"
        },
        {
         "name": "('minority_per', '25%')",
         "rawType": "float64",
         "type": "float"
        },
        {
         "name": "('minority_per', '50%')",
         "rawType": "float64",
         "type": "float"
        },
        {
         "name": "('minority_per', '75%')",
         "rawType": "float64",
         "type": "float"
        },
        {
         "name": "('minority_per', 'max')",
         "rawType": "float64",
         "type": "float"
        },
        {
         "name": "('all_dwelling', 'count')",
         "rawType": "float64",
         "type": "float"
        },
        {
         "name": "('all_dwelling', 'mean')",
         "rawType": "float64",
         "type": "float"
        },
        {
         "name": "('all_dwelling', 'std')",
         "rawType": "float64",
         "type": "float"
        },
        {
         "name": "('all_dwelling', 'min')",
         "rawType": "float64",
         "type": "float"
        },
        {
         "name": "('all_dwelling', '25%')",
         "rawType": "float64",
         "type": "float"
        },
        {
         "name": "('all_dwelling', '50%')",
         "rawType": "float64",
         "type": "float"
        },
        {
         "name": "('all_dwelling', '75%')",
         "rawType": "float64",
         "type": "float"
        },
        {
         "name": "('all_dwelling', 'max')",
         "rawType": "float64",
         "type": "float"
        },
        {
         "name": "('shared_per', 'count')",
         "rawType": "float64",
         "type": "float"
        },
        {
         "name": "('shared_per', 'mean')",
         "rawType": "float64",
         "type": "float"
        },
        {
         "name": "('shared_per', 'std')",
         "rawType": "float64",
         "type": "float"
        },
        {
         "name": "('shared_per', 'min')",
         "rawType": "float64",
         "type": "float"
        },
        {
         "name": "('shared_per', '25%')",
         "rawType": "float64",
         "type": "float"
        },
        {
         "name": "('shared_per', '50%')",
         "rawType": "float64",
         "type": "float"
        },
        {
         "name": "('shared_per', '75%')",
         "rawType": "float64",
         "type": "float"
        },
        {
         "name": "('shared_per', 'max')",
         "rawType": "float64",
         "type": "float"
        },
        {
         "name": "('converted_per', 'count')",
         "rawType": "float64",
         "type": "float"
        },
        {
         "name": "('converted_per', 'mean')",
         "rawType": "float64",
         "type": "float"
        },
        {
         "name": "('converted_per', 'std')",
         "rawType": "float64",
         "type": "float"
        },
        {
         "name": "('converted_per', 'min')",
         "rawType": "float64",
         "type": "float"
        },
        {
         "name": "('converted_per', '25%')",
         "rawType": "float64",
         "type": "float"
        },
        {
         "name": "('converted_per', '50%')",
         "rawType": "float64",
         "type": "float"
        },
        {
         "name": "('converted_per', '75%')",
         "rawType": "float64",
         "type": "float"
        },
        {
         "name": "('converted_per', 'max')",
         "rawType": "float64",
         "type": "float"
        },
        {
         "name": "('level_4_pop', 'count')",
         "rawType": "float64",
         "type": "float"
        },
        {
         "name": "('level_4_pop', 'mean')",
         "rawType": "float64",
         "type": "float"
        },
        {
         "name": "('level_4_pop', 'std')",
         "rawType": "float64",
         "type": "float"
        },
        {
         "name": "('level_4_pop', 'min')",
         "rawType": "float64",
         "type": "float"
        },
        {
         "name": "('level_4_pop', '25%')",
         "rawType": "float64",
         "type": "float"
        },
        {
         "name": "('level_4_pop', '50%')",
         "rawType": "float64",
         "type": "float"
        },
        {
         "name": "('level_4_pop', '75%')",
         "rawType": "float64",
         "type": "float"
        },
        {
         "name": "('level_4_pop', 'max')",
         "rawType": "float64",
         "type": "float"
        },
        {
         "name": "('level_4_per', 'count')",
         "rawType": "float64",
         "type": "float"
        },
        {
         "name": "('level_4_per', 'mean')",
         "rawType": "float64",
         "type": "float"
        },
        {
         "name": "('level_4_per', 'std')",
         "rawType": "float64",
         "type": "float"
        },
        {
         "name": "('level_4_per', 'min')",
         "rawType": "float64",
         "type": "float"
        },
        {
         "name": "('level_4_per', '25%')",
         "rawType": "float64",
         "type": "float"
        },
        {
         "name": "('level_4_per', '50%')",
         "rawType": "float64",
         "type": "float"
        },
        {
         "name": "('level_4_per', '75%')",
         "rawType": "float64",
         "type": "float"
        },
        {
         "name": "('level_4_per', 'max')",
         "rawType": "float64",
         "type": "float"
        },
        {
         "name": "('prof_occ_count', 'count')",
         "rawType": "float64",
         "type": "float"
        },
        {
         "name": "('prof_occ_count', 'mean')",
         "rawType": "float64",
         "type": "float"
        },
        {
         "name": "('prof_occ_count', 'std')",
         "rawType": "float64",
         "type": "float"
        },
        {
         "name": "('prof_occ_count', 'min')",
         "rawType": "float64",
         "type": "float"
        },
        {
         "name": "('prof_occ_count', '25%')",
         "rawType": "float64",
         "type": "float"
        },
        {
         "name": "('prof_occ_count', '50%')",
         "rawType": "float64",
         "type": "float"
        },
        {
         "name": "('prof_occ_count', '75%')",
         "rawType": "float64",
         "type": "float"
        },
        {
         "name": "('prof_occ_count', 'max')",
         "rawType": "float64",
         "type": "float"
        },
        {
         "name": "('prof_occ_per', 'count')",
         "rawType": "float64",
         "type": "float"
        },
        {
         "name": "('prof_occ_per', 'mean')",
         "rawType": "float64",
         "type": "float"
        },
        {
         "name": "('prof_occ_per', 'std')",
         "rawType": "float64",
         "type": "float"
        },
        {
         "name": "('prof_occ_per', 'min')",
         "rawType": "float64",
         "type": "float"
        },
        {
         "name": "('prof_occ_per', '25%')",
         "rawType": "float64",
         "type": "float"
        },
        {
         "name": "('prof_occ_per', '50%')",
         "rawType": "float64",
         "type": "float"
        },
        {
         "name": "('prof_occ_per', '75%')",
         "rawType": "float64",
         "type": "float"
        },
        {
         "name": "('prof_occ_per', 'max')",
         "rawType": "float64",
         "type": "float"
        }
       ],
       "ref": "9f5d76cd-fdaf-49a5-9325-227d8834b92c",
       "rows": [
        [
         "False",
         "4031.0",
         "0.03195094328633635",
         "0.09451967018061351",
         "-0.4058053500284576",
         "-0.012573959573204601",
         "0.0151724137931034",
         "0.0506592387862263",
         "1.6888331242158092",
         "4031.0",
         "10268.5896885327",
         "6911.811178311671",
         "124.2322724734785",
         "5420.058753096539",
         "8750.518289251548",
         "13865.19482278285",
         "99245.48816568048",
         "4031.0",
         "12.3512202652083",
         "5.417123490965014",
         "1.397050176340753",
         "8.523647932859173",
         "11.331261674699627",
         "15.374333866737684",
         "44.78541084771488",
         "4031.0",
         "38.339349921428855",
         "19.955349650367065",
         "1.840942562592047",
         "22.155528062696504",
         "35.66398390342052",
         "52.18525398344974",
         "96.59245797364834",
         "4031.0",
         "36.43363929546018",
         "52.41086489398801",
         "1.0",
         "10.0",
         "21.0",
         "40.0",
         "942.0",
         "4031.0",
         "71.92877197265625",
         "100.26741790771484",
         "0.6423555612564087",
         "19.40739917755127",
         "43.735206604003906",
         "80.24016189575195",
         "1790.9627685546875",
         "4031.0",
         "0.03195094328633635",
         "0.09451967018061351",
         "-0.4058053500284576",
         "-0.012573959573204601",
         "0.0151724137931034",
         "0.0506592387862263",
         "1.6888331242158092",
         "4031.0",
         "10268.5896885327",
         "6911.811178311671",
         "124.2322724734785",
         "5420.058753096539",
         "8750.518289251548",
         "13865.19482278285",
         "99245.48816568048",
         "4031.0",
         "12.3512202652083",
         "5.417123490965014",
         "1.397050176340753",
         "8.523647932859173",
         "11.331261674699627",
         "15.374333866737684",
         "44.78541084771488",
         "4031.0",
         "38.339349921428855",
         "19.955349650367065",
         "1.840942562592047",
         "22.155528062696504",
         "35.66398390342052",
         "52.18525398344974",
         "96.59245797364834",
         "4031.0",
         "697.6261473579757",
         "145.82547576010904",
         "408.0",
         "606.0",
         "670.0",
         "772.5",
         "1551.0",
         "4031.0",
         "0.2570909848898136",
         "0.38589420884652553",
         "0.0",
         "0.0",
         "0.1310615989515072",
         "0.37759612185732616",
         "3.1591737545565004",
         "4031.0",
         "11.794846349272538",
         "14.500302545123363",
         "0.0",
         "1.8170812238608849",
         "5.206463195691203",
         "16.807944072808702",
         "77.46031746031746",
         "4031.0",
         "509.965021086579",
         "231.6656549841796",
         "88.0",
         "327.0",
         "463.0",
         "665.5",
         "1366.0",
         "4031.0",
         "37.1236665839742",
         "14.602920798019245",
         "8.3",
         "25.55",
         "34.4",
         "47.5",
         "83.8",
         "4031.0",
         "186.11907715207144",
         "95.59181579190657",
         "32.0",
         "111.0",
         "165.0",
         "243.0",
         "602.0",
         "4031.0",
         "21.673778218804266",
         "7.98913558738862",
         "5.9",
         "15.0",
         "20.7",
         "27.6",
         "50.4"
        ],
        [
         "True",
         "240.0",
         "0.051681112475931566",
         "0.11708139010703143",
         "-0.2987625220978196",
         "-0.005060298527134275",
         "0.02318712062548395",
         "0.07149042955504913",
         "0.8553590010405827",
         "240.0",
         "12291.068545404489",
         "7421.6225632261785",
         "429.2099755971309",
         "6473.081941797881",
         "11444.884795198166",
         "17098.433902092038",
         "36361.42465753425",
         "240.0",
         "10.861241925192896",
         "4.578136355426882",
         "2.356215973218369",
         "7.659992714891053",
         "9.872196247212859",
         "13.600448443520696",
         "26.33915179423647",
         "240.0",
         "46.80269002523869",
         "20.666650617703407",
         "5.393939393939394",
         "30.488747121811638",
         "50.683252128408746",
         "61.313030790024",
         "92.95227524972252",
         "240.0",
         "35.42916666666667",
         "57.348629055390454",
         "1.0",
         "7.0",
         "19.0",
         "41.5",
         "551.0",
         "240.0",
         "68.50814056396484",
         "112.03816986083984",
         "1.0868041515350342",
         "14.216870784759521",
         "38.192562103271484",
         "82.82645797729492",
         "1071.030029296875",
         "240.0",
         "0.051681112475931566",
         "0.11708139010703143",
         "-0.2987625220978196",
         "-0.005060298527134275",
         "0.02318712062548395",
         "0.07149042955504913",
         "0.8553590010405827",
         "240.0",
         "12291.068545404489",
         "7421.6225632261785",
         "429.2099755971309",
         "6473.081941797881",
         "11444.884795198166",
         "17098.433902092038",
         "36361.42465753425",
         "240.0",
         "10.861241925192896",
         "4.578136355426882",
         "2.356215973218369",
         "7.659992714891053",
         "9.872196247212859",
         "13.600448443520696",
         "26.33915179423647",
         "240.0",
         "46.80269002523869",
         "20.666650617703407",
         "5.393939393939394",
         "30.488747121811638",
         "50.683252128408746",
         "61.313030790024",
         "92.95227524972252",
         "240.0",
         "706.4583333333334",
         "170.20066403822167",
         "421.0",
         "611.0",
         "674.0",
         "775.25",
         "1746.0",
         "240.0",
         "0.31678172766256907",
         "0.3339792600639722",
         "0.0",
         "0.0",
         "0.2101072164766432",
         "0.4959846284988497",
         "1.3812154696132597",
         "240.0",
         "11.815745578793818",
         "12.862565093625365",
         "0.0",
         "2.656632980385921",
         "7.61611707411625",
         "16.02902902902903",
         "62.57822277847309",
         "240.0",
         "469.2375",
         "196.318836633561",
         "173.0",
         "323.75",
         "420.0",
         "568.5",
         "1125.0",
         "240.0",
         "34.55041666666666",
         "12.914621462683575",
         "13.8",
         "25.275",
         "31.15",
         "41.8",
         "69.0",
         "240.0",
         "160.27083333333334",
         "76.35940661360686",
         "44.0",
         "98.0",
         "141.5",
         "202.5",
         "403.0",
         "240.0",
         "19.976249999999997",
         "7.241724356306284",
         "6.1",
         "14.3",
         "18.35",
         "24.1",
         "43.0"
        ]
       ],
       "shape": {
        "columns": 136,
        "rows": 2
       }
      },
      "text/html": [
       "<div>\n",
       "<style scoped>\n",
       "    .dataframe tbody tr th:only-of-type {\n",
       "        vertical-align: middle;\n",
       "    }\n",
       "\n",
       "    .dataframe tbody tr th {\n",
       "        vertical-align: top;\n",
       "    }\n",
       "\n",
       "    .dataframe thead tr th {\n",
       "        text-align: left;\n",
       "    }\n",
       "\n",
       "    .dataframe thead tr:last-of-type th {\n",
       "        text-align: right;\n",
       "    }\n",
       "</style>\n",
       "<table border=\"1\" class=\"dataframe\">\n",
       "  <thead>\n",
       "    <tr>\n",
       "      <th></th>\n",
       "      <th colspan=\"8\" halign=\"left\">pop_growth_rate</th>\n",
       "      <th colspan=\"2\" halign=\"left\">avg_den</th>\n",
       "      <th>...</th>\n",
       "      <th colspan=\"2\" halign=\"left\">prof_occ_count</th>\n",
       "      <th colspan=\"8\" halign=\"left\">prof_occ_per</th>\n",
       "    </tr>\n",
       "    <tr>\n",
       "      <th></th>\n",
       "      <th>count</th>\n",
       "      <th>mean</th>\n",
       "      <th>std</th>\n",
       "      <th>min</th>\n",
       "      <th>25%</th>\n",
       "      <th>50%</th>\n",
       "      <th>75%</th>\n",
       "      <th>max</th>\n",
       "      <th>count</th>\n",
       "      <th>mean</th>\n",
       "      <th>...</th>\n",
       "      <th>75%</th>\n",
       "      <th>max</th>\n",
       "      <th>count</th>\n",
       "      <th>mean</th>\n",
       "      <th>std</th>\n",
       "      <th>min</th>\n",
       "      <th>25%</th>\n",
       "      <th>50%</th>\n",
       "      <th>75%</th>\n",
       "      <th>max</th>\n",
       "    </tr>\n",
       "    <tr>\n",
       "      <th>gentrified</th>\n",
       "      <th></th>\n",
       "      <th></th>\n",
       "      <th></th>\n",
       "      <th></th>\n",
       "      <th></th>\n",
       "      <th></th>\n",
       "      <th></th>\n",
       "      <th></th>\n",
       "      <th></th>\n",
       "      <th></th>\n",
       "      <th></th>\n",
       "      <th></th>\n",
       "      <th></th>\n",
       "      <th></th>\n",
       "      <th></th>\n",
       "      <th></th>\n",
       "      <th></th>\n",
       "      <th></th>\n",
       "      <th></th>\n",
       "      <th></th>\n",
       "      <th></th>\n",
       "    </tr>\n",
       "  </thead>\n",
       "  <tbody>\n",
       "    <tr>\n",
       "      <th>False</th>\n",
       "      <td>4031.0</td>\n",
       "      <td>0.031951</td>\n",
       "      <td>0.094520</td>\n",
       "      <td>-0.405805</td>\n",
       "      <td>-0.012574</td>\n",
       "      <td>0.015172</td>\n",
       "      <td>0.050659</td>\n",
       "      <td>1.688833</td>\n",
       "      <td>4031.0</td>\n",
       "      <td>10268.589689</td>\n",
       "      <td>...</td>\n",
       "      <td>243.0</td>\n",
       "      <td>602.0</td>\n",
       "      <td>4031.0</td>\n",
       "      <td>21.673778</td>\n",
       "      <td>7.989136</td>\n",
       "      <td>5.9</td>\n",
       "      <td>15.0</td>\n",
       "      <td>20.70</td>\n",
       "      <td>27.6</td>\n",
       "      <td>50.4</td>\n",
       "    </tr>\n",
       "    <tr>\n",
       "      <th>True</th>\n",
       "      <td>240.0</td>\n",
       "      <td>0.051681</td>\n",
       "      <td>0.117081</td>\n",
       "      <td>-0.298763</td>\n",
       "      <td>-0.005060</td>\n",
       "      <td>0.023187</td>\n",
       "      <td>0.071490</td>\n",
       "      <td>0.855359</td>\n",
       "      <td>240.0</td>\n",
       "      <td>12291.068545</td>\n",
       "      <td>...</td>\n",
       "      <td>202.5</td>\n",
       "      <td>403.0</td>\n",
       "      <td>240.0</td>\n",
       "      <td>19.976250</td>\n",
       "      <td>7.241724</td>\n",
       "      <td>6.1</td>\n",
       "      <td>14.3</td>\n",
       "      <td>18.35</td>\n",
       "      <td>24.1</td>\n",
       "      <td>43.0</td>\n",
       "    </tr>\n",
       "  </tbody>\n",
       "</table>\n",
       "<p>2 rows × 136 columns</p>\n",
       "</div>"
      ],
      "text/plain": [
       "           pop_growth_rate                                                    \\\n",
       "                     count      mean       std       min       25%       50%   \n",
       "gentrified                                                                     \n",
       "False               4031.0  0.031951  0.094520 -0.405805 -0.012574  0.015172   \n",
       "True                 240.0  0.051681  0.117081 -0.298763 -0.005060  0.023187   \n",
       "\n",
       "                               avg_den                ... prof_occ_count  \\\n",
       "                 75%       max   count          mean  ...            75%   \n",
       "gentrified                                            ...                  \n",
       "False       0.050659  1.688833  4031.0  10268.589689  ...          243.0   \n",
       "True        0.071490  0.855359   240.0  12291.068545  ...          202.5   \n",
       "\n",
       "                  prof_occ_per                                               \\\n",
       "              max        count       mean       std  min   25%    50%   75%   \n",
       "gentrified                                                                    \n",
       "False       602.0       4031.0  21.673778  7.989136  5.9  15.0  20.70  27.6   \n",
       "True        403.0        240.0  19.976250  7.241724  6.1  14.3  18.35  24.1   \n",
       "\n",
       "                  \n",
       "             max  \n",
       "gentrified        \n",
       "False       50.4  \n",
       "True        43.0  \n",
       "\n",
       "[2 rows x 136 columns]"
      ]
     },
     "execution_count": 42,
     "metadata": {},
     "output_type": "execute_result"
    }
   ],
   "source": [
    "final_df_sum.groupby('gentrified')[features_sum].describe()"
   ]
  },
  {
   "cell_type": "code",
   "execution_count": null,
   "id": "4286b3b7",
   "metadata": {},
   "outputs": [],
   "source": [
    "final_df_sum.shape"
   ]
  },
  {
   "cell_type": "code",
   "execution_count": 74,
   "id": "d5e9d355",
   "metadata": {},
   "outputs": [
    {
     "name": "stdout",
     "output_type": "stream",
     "text": [
      "Cross-Validation Summary:\n",
      "Average Accuracy: 0.8651\n",
      "Average AUROC: 0.6428\n",
      "Average Log-loss: 0.3324\n",
      "Average G-mean:     0.4269\n",
      "Average F1-score:   0.1452\n",
      "Average Recall:     0.2037\n"
     ]
    }
   ],
   "source": [
    "# 特征和标签\n",
    "X = final_df_mean[features_mean]\n",
    "y = final_df_mean['gentrified'].astype(int)\n",
    "\n",
    "# 初始化评估器\n",
    "kf = StratifiedKFold(n_splits=7, shuffle=True, random_state=42)\n",
    "acc_scores, auc_scores, logloss_scores, gmean_scores, f1s, recalls = [], [], [], [], [], []\n",
    "\n",
    "for fold, (train_idx, test_idx) in enumerate(kf.split(X, y), 1):\n",
    "\n",
    "    X_train, X_test = X.iloc[train_idx], X.iloc[test_idx]\n",
    "    y_train, y_test = y.iloc[train_idx], y.iloc[test_idx]\n",
    "\n",
    "    # 可选：自动设置 scale_pos_weight\n",
    "    scale_pos_weight = len(y_train[y_train == 0]) / len(y_train[y_train == 1])\n",
    "    # sample_weight = np.where(y_train == 1, 8.0, 1.0)\n",
    "\n",
    "    model = XGBClassifier(\n",
    "        random_state=42,\n",
    "        # sample_weight=sample_weight,\n",
    "        objective='binary:logistic',\n",
    "        scale_pos_weight = scale_pos_weight*2,\n",
    "        eval_metric='logloss',\n",
    "        max_delta_step=1,             # ✅ 让每棵树的更新更稳健\n",
    "        learning_rate=0.05,           # ✅ 低学习率有助稳定少数类识别\n",
    "        n_estimators=200 \n",
    "    )\n",
    "\n",
    "    model.fit(X_train.values, y_train)\n",
    "    y_proba = model.predict_proba(X_test.values)[:, 1]  # 概率预测正类\n",
    "    threshold = 0.5  \n",
    "    y_pred = (y_proba >= threshold).astype(int)\n",
    "\n",
    "\n",
    "    # 评估\n",
    "    acc = accuracy_score(y_test, y_pred)\n",
    "    auc = roc_auc_score(y_test, y_proba)\n",
    "    ll = log_loss(y_test, y_proba)\n",
    "    gmean = geometric_mean_score(y_test, y_pred)\n",
    "    f1s.append(f1_score(y_test, y_pred, zero_division=0))\n",
    "    recalls.append(recall_score(y_test, y_pred))\n",
    "\n",
    "    acc_scores.append(acc)\n",
    "    auc_scores.append(auc)\n",
    "    logloss_scores.append(ll)\n",
    "    gmean_scores.append(gmean)\n",
    "\n",
    "# 汇总平均结果\n",
    "print(\"Cross-Validation Summary:\")\n",
    "print(f\"Average Accuracy: {np.mean(acc_scores):.4f}\")\n",
    "print(f\"Average AUROC: {np.mean(auc_scores):.4f}\")\n",
    "print(f\"Average Log-loss: {np.mean(logloss_scores):.4f}\")\n",
    "print(f\"Average G-mean:     {np.mean(gmean_scores):.4f}\")\n",
    "print(f\"Average F1-score:   {np.mean(f1s):.4f}\")\n",
    "print(f\"Average Recall:     {np.mean(recalls):.4f}\")\n"
   ]
  },
  {
   "cell_type": "code",
   "execution_count": 73,
   "id": "e8174a25",
   "metadata": {},
   "outputs": [
    {
     "name": "stdout",
     "output_type": "stream",
     "text": [
      "Best F1: 0.1895 at threshold: 0.50\n"
     ]
    }
   ],
   "source": [
    "from sklearn.metrics import f1_score\n",
    "\n",
    "thresholds = np.linspace(0.05, 0.5, 30)\n",
    "f1_scores = []\n",
    "\n",
    "for t in thresholds:\n",
    "    y_pred = (y_proba >= t).astype(int)\n",
    "    f1 = f1_score(y_test, y_pred)\n",
    "    f1_scores.append(f1)\n",
    "\n",
    "best_threshold = thresholds[np.argmax(f1_scores)]\n",
    "print(f\"Best F1: {max(f1_scores):.4f} at threshold: {best_threshold:.2f}\")"
   ]
  },
  {
   "cell_type": "code",
   "execution_count": 75,
   "id": "5dfeecb9",
   "metadata": {},
   "outputs": [
    {
     "name": "stderr",
     "output_type": "stream",
     "text": [
      "C:\\Users\\hp\\AppData\\Local\\Temp\\ipykernel_3368\\876960543.py:4: RuntimeWarning: invalid value encountered in divide\n",
      "  f1 = 2 * (prec * recall) / (prec + recall)\n"
     ]
    },
    {
     "data": {
      "image/png": "[encoded data removed]",
      "text/plain": [
       "<Figure size 640x480 with 1 Axes>"
      ]
     },
     "metadata": {},
     "output_type": "display_data"
    }
   ],
   "source": [
    "from sklearn.metrics import precision_recall_curve\n",
    "\n",
    "prec, recall, thresholds = precision_recall_curve(y_test, y_proba)\n",
    "f1 = 2 * (prec * recall) / (prec + recall)\n",
    "\n",
    "plt.plot(thresholds, f1[:-1], label='F1-score')\n",
    "plt.plot(thresholds, recall[:-1], label='Recall')\n",
    "plt.xlabel(\"Threshold\")\n",
    "plt.legend()\n",
    "plt.title(\"Threshold vs F1 / Recall\")\n",
    "plt.show()"
   ]
  },
  {
   "cell_type": "code",
   "execution_count": 137,
   "id": "6caaeb3d",
   "metadata": {},
   "outputs": [
    {
     "name": "stdout",
     "output_type": "stream",
     "text": [
      "Fold 1\n",
      "  Accuracy: 0.1836 | AUROC: 0.5568 | Log-loss: 0.5329\n",
      "              precision    recall  f1-score   support\n",
      "\n",
      "           0       0.96      0.14      0.25       807\n",
      "           1       0.06      0.90      0.11        48\n",
      "\n",
      "    accuracy                           0.18       855\n",
      "   macro avg       0.51      0.52      0.18       855\n",
      "weighted avg       0.91      0.18      0.24       855\n",
      "\n",
      "Fold 2\n",
      "  Accuracy: 0.1897 | AUROC: 0.5852 | Log-loss: 0.5171\n",
      "              precision    recall  f1-score   support\n",
      "\n",
      "           0       0.97      0.15      0.25       806\n",
      "           1       0.06      0.94      0.12        48\n",
      "\n",
      "    accuracy                           0.19       854\n",
      "   macro avg       0.52      0.54      0.18       854\n",
      "weighted avg       0.92      0.19      0.24       854\n",
      "\n",
      "Fold 3\n",
      "  Accuracy: 0.2365 | AUROC: 0.5391 | Log-loss: 0.5136\n",
      "              precision    recall  f1-score   support\n",
      "\n",
      "           0       0.93      0.21      0.34       806\n",
      "           1       0.05      0.73      0.10        48\n",
      "\n",
      "    accuracy                           0.24       854\n",
      "   macro avg       0.49      0.47      0.22       854\n",
      "weighted avg       0.88      0.24      0.33       854\n",
      "\n",
      "Fold 4\n",
      "  Accuracy: 0.1885 | AUROC: 0.5905 | Log-loss: 0.4804\n",
      "              precision    recall  f1-score   support\n",
      "\n",
      "           0       0.99      0.14      0.25       806\n",
      "           1       0.06      0.98      0.12        48\n",
      "\n",
      "    accuracy                           0.19       854\n",
      "   macro avg       0.53      0.56      0.18       854\n",
      "weighted avg       0.94      0.19      0.24       854\n",
      "\n",
      "Fold 5\n",
      "  Accuracy: 0.1745 | AUROC: 0.5888 | Log-loss: 0.5204\n",
      "              precision    recall  f1-score   support\n",
      "\n",
      "           0       0.97      0.13      0.23       806\n",
      "           1       0.06      0.94      0.11        48\n",
      "\n",
      "    accuracy                           0.17       854\n",
      "   macro avg       0.52      0.53      0.17       854\n",
      "weighted avg       0.92      0.17      0.22       854\n",
      "\n",
      "Cross-Validation Summary:\n",
      "Average Accuracy: 0.1946\n",
      "Average AUROC: 0.5721\n",
      "Average Log-loss: 0.5129\n"
     ]
    }
   ],
   "source": [
    "from imblearn.over_sampling import SMOTE\n",
    "\n",
    "acc_scores, auc_scores, logloss_scores = [], [], []\n",
    "\n",
    "for fold, (train_idx, test_idx) in enumerate(kf.split(X, y), 1):\n",
    "    print(f\"Fold {fold}\")\n",
    "\n",
    "    X_train, X_test = X.iloc[train_idx], X.iloc[test_idx]\n",
    "    y_train, y_test = y.iloc[train_idx], y.iloc[test_idx]\n",
    "\n",
    "    # 上采样：只在训练集上做 SMOTE，防止泄漏\n",
    "    smote = SMOTE(random_state=42)\n",
    "    X_train_resampled, y_train_resampled = smote.fit_resample(X_train, y_train)\n",
    "\n",
    "    # 构建防过拟合的 XGBoost 模型\n",
    "    model = XGBClassifier(\n",
    "        random_state=42,\n",
    "        objective='binary:logistic',\n",
    "        eval_metric='logloss',\n",
    "        max_depth=3,\n",
    "        n_estimators=100,\n",
    "        subsample=0.8,\n",
    "        colsample_bytree=0.8,\n",
    "        reg_alpha=0.1,\n",
    "        reg_lambda=1.0\n",
    "    )\n",
    "\n",
    "    model.fit(X_train_resampled, y_train_resampled)\n",
    "\n",
    "    y_proba = model.predict_proba(X_test)[:, 1]\n",
    "    threshold = 0.05\n",
    "    y_pred = (y_proba >= threshold).astype(int)\n",
    "\n",
    "    acc = accuracy_score(y_test, y_pred)\n",
    "    auc = roc_auc_score(y_test, y_proba)\n",
    "    ll = log_loss(y_test, y_proba)\n",
    "\n",
    "    acc_scores.append(acc)\n",
    "    auc_scores.append(auc)\n",
    "    logloss_scores.append(ll)\n",
    "\n",
    "    print(f\"  Accuracy: {acc:.4f} | AUROC: {auc:.4f} | Log-loss: {ll:.4f}\")\n",
    "    print(classification_report(y_test, y_pred))\n",
    "\n",
    "print(\"Cross-Validation Summary:\")\n",
    "print(f\"Average Accuracy: {np.mean(acc_scores):.4f}\")\n",
    "print(f\"Average AUROC: {np.mean(auc_scores):.4f}\")\n",
    "print(f\"Average Log-loss: {np.mean(logloss_scores):.4f}\")\n"
   ]
  },
  {
   "cell_type": "code",
   "execution_count": 138,
   "id": "f3a5d7ba",
   "metadata": {},
   "outputs": [
    {
     "name": "stdout",
     "output_type": "stream",
     "text": [
      "Fold 1\n",
      "  Accuracy: 0.6901 | AUROC: 0.5462 | Log-loss: 0.3077\n",
      "              precision    recall  f1-score   support\n",
      "\n",
      "           0       0.95      0.71      0.81       807\n",
      "           1       0.06      0.31      0.10        48\n",
      "\n",
      "    accuracy                           0.69       855\n",
      "   macro avg       0.50      0.51      0.46       855\n",
      "weighted avg       0.90      0.69      0.77       855\n",
      "\n",
      "Fold 2\n",
      "  Accuracy: 0.6674 | AUROC: 0.6565 | Log-loss: 0.2726\n",
      "              precision    recall  f1-score   support\n",
      "\n",
      "           0       0.96      0.67      0.79       806\n",
      "           1       0.09      0.54      0.15        48\n",
      "\n",
      "    accuracy                           0.67       854\n",
      "   macro avg       0.53      0.61      0.47       854\n",
      "weighted avg       0.91      0.67      0.76       854\n",
      "\n",
      "Fold 3\n",
      "  Accuracy: 0.6838 | AUROC: 0.5627 | Log-loss: 0.3249\n",
      "              precision    recall  f1-score   support\n",
      "\n",
      "           0       0.96      0.70      0.81       806\n",
      "           1       0.08      0.46      0.14        48\n",
      "\n",
      "    accuracy                           0.68       854\n",
      "   macro avg       0.52      0.58      0.47       854\n",
      "weighted avg       0.91      0.68      0.77       854\n",
      "\n",
      "Fold 4\n",
      "  Accuracy: 0.7037 | AUROC: 0.6021 | Log-loss: 0.2968\n",
      "              precision    recall  f1-score   support\n",
      "\n",
      "           0       0.96      0.72      0.82       806\n",
      "           1       0.09      0.50      0.16        48\n",
      "\n",
      "    accuracy                           0.70       854\n",
      "   macro avg       0.53      0.61      0.49       854\n",
      "weighted avg       0.91      0.70      0.78       854\n",
      "\n",
      "Fold 5\n",
      "  Accuracy: 0.6487 | AUROC: 0.5822 | Log-loss: 0.3049\n",
      "              precision    recall  f1-score   support\n",
      "\n",
      "           0       0.95      0.67      0.78       806\n",
      "           1       0.06      0.35      0.10        48\n",
      "\n",
      "    accuracy                           0.65       854\n",
      "   macro avg       0.50      0.51      0.44       854\n",
      "weighted avg       0.90      0.65      0.74       854\n",
      "\n",
      "Cross-Validation Summary:\n",
      "Average Accuracy: 0.6788\n",
      "Average AUROC: 0.5899\n",
      "Average Log-loss: 0.3014\n"
     ]
    }
   ],
   "source": [
    "X_base = final_df_sum[base]\n",
    "y_base = final_df_sum['gentrified'].astype(int)\n",
    "\n",
    "# 初始化评估器\n",
    "kf = StratifiedKFold(n_splits=5, shuffle=True, random_state=42)\n",
    "acc_scores, auc_scores, logloss_scores = [], [], []\n",
    "\n",
    "for fold, (train_idx, test_idx) in enumerate(kf.split(X, y), 1):\n",
    "    print(f\"Fold {fold}\")\n",
    "\n",
    "    X_base_train, X_base_test = X_base.iloc[train_idx], X_base.iloc[test_idx]\n",
    "    y_base_train, y_base_test = y_base.iloc[train_idx], y_base.iloc[test_idx]\n",
    "\n",
    "    # 可选：自动设置 scale_pos_weight\n",
    "    scale_pos_weight = len(y_base_train[y_base_train == 0]) / len(y_base_train[y_base_train == 1])\n",
    "\n",
    "    model_base = XGBClassifier(\n",
    "        random_state=42,\n",
    "        scale_pos_weight=scale_pos_weight,\n",
    "        objective='binary:logistic',\n",
    "        eval_metric='logloss',\n",
    "    )\n",
    "\n",
    "    model_base.fit(X_base_train, y_base_train)\n",
    "    y_base_proba = model_base.predict_proba(X_base_test)[:, 1]  # 概率预测正类\n",
    "    threshold = 0.05  \n",
    "    y_base_pred = (y_base_proba >= threshold).astype(int)\n",
    "\n",
    "\n",
    "    # 评估\n",
    "    acc = accuracy_score(y_base_test, y_base_pred)\n",
    "    auc = roc_auc_score(y_base_test, y_base_proba)\n",
    "    ll = log_loss(y_base_test, y_base_proba)\n",
    "\n",
    "    acc_scores.append(acc)\n",
    "    auc_scores.append(auc)\n",
    "    logloss_scores.append(ll)\n",
    "\n",
    "    print(f\"  Accuracy: {acc:.4f} | AUROC: {auc:.4f} | Log-loss: {ll:.4f}\")\n",
    "    print(classification_report(y_base_test, y_base_pred))\n",
    "\n",
    "# 汇总平均结果\n",
    "print(\"Cross-Validation Summary:\")\n",
    "print(f\"Average Accuracy: {np.mean(acc_scores):.4f}\")\n",
    "print(f\"Average AUROC: {np.mean(auc_scores):.4f}\")\n",
    "print(f\"Average Log-loss: {np.mean(logloss_scores):.4f}\")"
   ]
  },
  {
   "cell_type": "code",
   "execution_count": null,
   "id": "7bc51e26",
   "metadata": {},
   "outputs": [
    {
     "name": "stdout",
     "output_type": "stream",
     "text": [
      "F1 score for minority class (gentrified=1) across 5 folds:\n",
      "Scores: [0.1128 0.1409 0.1304 0.1241 0.1429]\n",
      "Mean F1 score: 0.1302\n"
     ]
    }
   ],
   "source": [
    "from sklearn.model_selection import StratifiedKFold, cross_val_score\n",
    "from imblearn.under_sampling import RandomUnderSampler\n",
    "from imblearn.pipeline import Pipeline\n",
    "from xgboost import XGBClassifier\n",
    "from sklearn.metrics import make_scorer, classification_report, f1_score\n",
    "import numpy as np\n",
    "\n",
    "# 1. 特征与标签\n",
    "X = final_df[features]\n",
    "y = final_df['gentrified'].astype(int)\n",
    "\n",
    "# 2. 创建 pipeline：undersampling + XGBoost\n",
    "\n",
    "pipeline = Pipeline([\n",
    "    (\"undersample\", RandomUnderSampler(random_state=42)),\n",
    "    (\"clf\", XGBClassifier(scale_pos_weight=1,  # 不需要 scale_pos_weight，因为已经下采样\n",
    "                          random_state=42, \n",
    "                          eval_metric=\"aucpr\"))\n",
    "])\n",
    "\n",
    "# 3. Stratified K-Fold\n",
    "cv = StratifiedKFold(n_splits=5, shuffle=True, random_state=42)\n",
    "\n",
    "# 4. 交叉验证评估：使用 F1-score（重点关注 minority class）\n",
    "scores = cross_val_score(pipeline, X, y, \n",
    "                         scoring=make_scorer(f1_score, pos_label=1), \n",
    "                         cv=cv)\n",
    "\n",
    "print(\"F1 score for minority class (gentrified=1) across 5 folds:\")\n",
    "print(\"Scores:\", np.round(scores, 4))\n",
    "print(\"Mean F1 score:\", np.round(scores.mean(), 4))"
   ]
  },
  {
   "cell_type": "code",
   "execution_count": null,
   "id": "b063f233",
   "metadata": {},
   "outputs": [
    {
     "data": {
      "image/png": "[encoded data removed]",
      "text/plain": [
       "<Figure size 600x300 with 1 Axes>"
      ]
     },
     "metadata": {},
     "output_type": "display_data"
    },
    {
     "data": {
      "image/png": "[encoded data removed]",
      "text/plain": [
       "<Figure size 600x300 with 1 Axes>"
      ]
     },
     "metadata": {},
     "output_type": "display_data"
    },
    {
     "data": {
      "image/png": "[encoded data removed]",
      "text/plain": [
       "<Figure size 600x300 with 1 Axes>"
      ]
     },
     "metadata": {},
     "output_type": "display_data"
    },
    {
     "data": {
      "image/png": "[encoded data removed]",
      "text/plain": [
       "<Figure size 600x300 with 1 Axes>"
      ]
     },
     "metadata": {},
     "output_type": "display_data"
    },
    {
     "data": {
      "image/png": "[encoded data removed]",
      "text/plain": [
       "<Figure size 600x300 with 1 Axes>"
      ]
     },
     "metadata": {},
     "output_type": "display_data"
    }
   ],
   "source": [
    "anchor_cols = ['residential_topn_mean', 'commercial_topn_mean', 'green_topn_mean', 'cultural_topn_mean', 'infrustructure_topn_mean']\n",
    "\n",
    "for col in anchor_cols:\n",
    "    plt.figure(figsize=(6, 3))\n",
    "    sns.kdeplot(data=final_df, x=col, hue='gentrified', common_norm=False)\n",
    "    plt.title(f\"{col} Distribution by Gentrification\")\n",
    "    plt.show()"
   ]
  },
  {
   "cell_type": "code",
   "execution_count": null,
   "id": "050f7c13",
   "metadata": {},
   "outputs": [
    {
     "name": "stdout",
     "output_type": "stream",
     "text": [
      "              precision    recall  f1-score   support\n",
      "\n",
      "           0       0.53      0.48      0.50        60\n",
      "           1       0.52      0.57      0.54        60\n",
      "\n",
      "    accuracy                           0.53       120\n",
      "   macro avg       0.53      0.53      0.52       120\n",
      "weighted avg       0.53      0.53      0.52       120\n",
      "\n",
      "AUROC: 0.5900000000000001\n",
      "AUPRC: 0.6494055326948425\n"
     ]
    }
   ],
   "source": [
    "X = final_df[features]\n",
    "y = final_df['gentrified']\n",
    "\n",
    "rus = RandomUnderSampler(random_state=42)\n",
    "X_resampled, y_resampled = rus.fit_resample(X, y)\n",
    "\n",
    "X_resampled_train, X_resampled_test, y_resampled_train, y_resampled_test = train_test_split(X_resampled, y_resampled, \n",
    "                                                                                            stratify=y_resampled, \n",
    "                                                                                            test_size=0.25, \n",
    "                                                                                            random_state=42)\n",
    "\n",
    "scale_pos_weight = len(y_resampled_train[y_resampled_train == 0]) / len(y_resampled_train[y_resampled_train == 1])\n",
    "\n",
    "model_resampled = XGBClassifier(scale_pos_weight = scale_pos_weight,\n",
    "                      random_state=42, \n",
    "                      eval_metric=\"aucpr\")\n",
    "\n",
    "model_resampled.fit(X_resampled_train, y_resampled_train)\n",
    "\n",
    "# Evaluate\n",
    "y_resampled_pred = model_resampled.predict(X_resampled_test)\n",
    "print(classification_report(y_resampled_test, y_resampled_pred))\n",
    "y_resampled_proba = model_resampled.predict_proba(X_resampled_test)[:, 1]  # 取预测为 1 的概率\n",
    "print(\"AUROC:\", roc_auc_score(y_resampled_test, y_resampled_proba))\n",
    "print(\"AUPRC:\", average_precision_score(y_resampled_test, y_resampled_proba))\n"
   ]
  },
  {
   "cell_type": "code",
   "execution_count": null,
   "id": "cc5ab067",
   "metadata": {},
   "outputs": [
    {
     "name": "stdout",
     "output_type": "stream",
     "text": [
      "TEST\n",
      "              precision    recall  f1-score   support\n",
      "\n",
      "           0       1.00      0.97      0.98      1008\n",
      "           1       0.97      1.00      0.98      1008\n",
      "\n",
      "    accuracy                           0.98      2016\n",
      "   macro avg       0.98      0.98      0.98      2016\n",
      "weighted avg       0.98      0.98      0.98      2016\n",
      "\n",
      "AUROC: 0.9992815413202318\n",
      "AUPRC: 0.998949371212279\n",
      "TRAIN\n",
      "              precision    recall  f1-score   support\n",
      "\n",
      "           0       1.00      1.00      1.00      3023\n",
      "           1       1.00      1.00      1.00      3023\n",
      "\n",
      "    accuracy                           1.00      6046\n",
      "   macro avg       1.00      1.00      1.00      6046\n",
      "weighted avg       1.00      1.00      1.00      6046\n",
      "\n",
      "Train AUROC: 1.0\n",
      "Train AUPRC: 1.0\n"
     ]
    }
   ],
   "source": [
    "X = final_df[features]\n",
    "y = final_df['gentrified']\n",
    "\n",
    "\n",
    "from imblearn.over_sampling import RandomOverSampler\n",
    "rus = RandomOverSampler(random_state=42)\n",
    "X_resampled, y_resampled = rus.fit_resample(X, y)\n",
    "\n",
    "X_resampled_train, X_resampled_test, y_resampled_train, y_resampled_test = train_test_split(X_resampled, y_resampled, \n",
    "                                                                                            stratify=y_resampled, \n",
    "                                                                                            test_size=0.25, \n",
    "                                                                                            random_state=42)\n",
    "\n",
    "scale_pos_weight = len(y_resampled_train[y_resampled_train == 0]) / len(y_resampled_train[y_resampled_train == 1])\n",
    "\n",
    "model_resampled = XGBClassifier(scale_pos_weight = scale_pos_weight,\n",
    "                      random_state=42, \n",
    "                      eval_metric=\"aucpr\")\n",
    "\n",
    "model_resampled.fit(X_resampled_train, y_resampled_train)\n",
    "\n",
    "y_resampled_pred = model_resampled.predict(X_resampled_test)\n",
    "print(\"TEST\")\n",
    "print(classification_report(y_resampled_test, y_resampled_pred))\n",
    "y_resampled_proba = model_resampled.predict_proba(X_resampled_test)[:, 1]  # 取预测为 1 的概率\n",
    "print(\"AUROC:\", roc_auc_score(y_resampled_test, y_resampled_proba))\n",
    "print(\"AUPRC:\", average_precision_score(y_resampled_test, y_resampled_proba))\n",
    "\n",
    "y_resampled_pred_train = model_resampled.predict(X_resampled_train)\n",
    "y_resampled_proba_train = model_resampled.predict_proba(X_resampled_train)[:, 1]\n",
    "print(\"TRAIN\")\n",
    "print(classification_report(y_resampled_train, y_resampled_pred_train))\n",
    "print(\"Train AUROC:\", roc_auc_score(y_resampled_train, y_resampled_proba_train))\n",
    "print(\"Train AUPRC:\", average_precision_score(y_resampled_train, y_resampled_proba_train))"
   ]
  },
  {
   "cell_type": "code",
   "execution_count": null,
   "id": "a469353f",
   "metadata": {},
   "outputs": [
    {
     "data": {
      "text/plain": [
       "<Axes: title={'center': 'Feature importance'}, xlabel='Importance score', ylabel='Features'>"
      ]
     },
     "execution_count": 41,
     "metadata": {},
     "output_type": "execute_result"
    },
    {
     "data": {
      "image/png": "[encoded data removed]",
      "text/plain": [
       "<Figure size 640x480 with 1 Axes>"
      ]
     },
     "metadata": {},
     "output_type": "display_data"
    }
   ],
   "source": [
    "from xgboost import plot_importance\n",
    "plot_importance(model, importance_type='cover')"
   ]
  },
  {
   "cell_type": "code",
   "execution_count": null,
   "id": "85b88c85",
   "metadata": {},
   "outputs": [
    {
     "data": {
      "image/png": "[encoded data removed]",
      "text/plain": [
       "<Figure size 800x510 with 2 Axes>"
      ]
     },
     "metadata": {},
     "output_type": "display_data"
    }
   ],
   "source": [
    "import shap\n",
    "\n",
    "explainer = shap.Explainer(model)\n",
    "shap_values = explainer(X_test)\n",
    "shap.plots.beeswarm(shap_values)"
   ]
  },
  {
   "cell_type": "code",
   "execution_count": null,
   "id": "cc319d3d",
   "metadata": {},
   "outputs": [
    {
     "data": {
      "image/png": "[encoded data removed]",
      "text/plain": [
       "<Figure size 800x600 with 1 Axes>"
      ]
     },
     "metadata": {},
     "output_type": "display_data"
    }
   ],
   "source": [
    "# shap_values: SHAP 的主对象（假设是 TreeExplainer 得到的）\n",
    "# X: 输入特征 dataframe\n",
    "\n",
    "shap_df = pd.DataFrame(shap_values.values, columns=X.columns)\n",
    "\n",
    "# 计算每个特征的平均 SHAP 值（带符号）\n",
    "mean_shap = shap_df.mean().sort_values()\n",
    "\n",
    "mean_shap.plot(kind='barh', figsize=(8,6), color=(mean_shap > 0).map({True: 'crimson', False: 'steelblue'}))\n",
    "plt.xlabel(\"Mean SHAP value (impact on model output)\")\n",
    "plt.title(\"Mean directional impact of each feature\")\n",
    "plt.tight_layout()\n",
    "plt.show()"
   ]
  },
  {
   "cell_type": "code",
   "execution_count": null,
   "id": "bc08f500",
   "metadata": {},
   "outputs": [
    {
     "data": {
      "text/plain": [
       "np.float32(-0.086433284)"
      ]
     },
     "execution_count": 44,
     "metadata": {},
     "output_type": "execute_result"
    }
   ],
   "source": [
    "shap_values.base_values.mean()  # 这是所有 SHAP 值的基准线"
   ]
  },
  {
   "cell_type": "code",
   "execution_count": null,
   "id": "45c4a78d",
   "metadata": {},
   "outputs": [
    {
     "data": {
      "image/png": "[encoded data removed]",
      "text/plain": [
       "<Figure size 640x480 with 1 Axes>"
      ]
     },
     "metadata": {},
     "output_type": "display_data"
    }
   ],
   "source": [
    "X_g1 = X[y == 1]\n",
    "X_g0 = X[y == 0]\n",
    "\n",
    "shap_g1 = shap_df.loc[y == 1].mean()\n",
    "shap_g0 = shap_df.loc[y == 0].mean()\n",
    "\n",
    "diff = shap_g1 - shap_g0\n",
    "diff.sort_values().plot(kind='barh')\n",
    "plt.title(\"SHAP Mean Difference (gentri=1 - gentri=0)\")\n",
    "plt.xlabel(\"Difference in SHAP values\")\n",
    "plt.tight_layout()\n",
    "plt.show()\n"
   ]
  },
  {
   "cell_type": "code",
   "execution_count": null,
   "id": "b2892bbd",
   "metadata": {},
   "outputs": [
    {
     "data": {
      "text/plain": [
       "['xgb_model_original.pkl']"
      ]
     },
     "execution_count": 46,
     "metadata": {},
     "output_type": "execute_result"
    }
   ],
   "source": [
    "import joblib\n",
    "\n",
    "# 保存模型\n",
    "joblib.dump(model, \"xgb_model_original.pkl\")"
   ]
  }
 ],
 "metadata": {
  "kernelspec": {
   "display_name": "Python (venv)",
   "language": "python",
   "name": "venv"
  },
  "language_info": {
   "codemirror_mode": {
    "name": "ipython",
    "version": 3
   },
   "file_extension": ".py",
   "mimetype": "text/x-python",
   "name": "python",
   "nbconvert_exporter": "python",
   "pygments_lexer": "ipython3",
   "version": "3.12.5"
  }
 },
 "nbformat": 4,
 "nbformat_minor": 5
}
