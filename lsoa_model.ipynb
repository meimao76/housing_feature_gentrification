{
 "cells": [
  {
   "cell_type": "markdown",
   "id": "129c1115",
   "metadata": {},
   "source": [
    "In here we tried to perform the model on lsoa level, summerzing all the sentences vectors within one lsoa, use these to predict gentrification."
   ]
  },
  {
   "cell_type": "code",
   "execution_count": 67,
   "id": "b770ed17",
   "metadata": {},
   "outputs": [],
   "source": [
    "import geopandas as gpd\n",
    "import numpy as np\n",
    "import pandas as pd\n",
    "from shapely.geometry import Polygon\n",
    "from shapely.geometry import Point\n",
    "from sentence_transformers import SentenceTransformer\n",
    "from sklearn.linear_model import LogisticRegression\n",
    "from sklearn.metrics.pairwise import cosine_similarity\n",
    "from tqdm import tqdm\n",
    "from sklearn.model_selection import train_test_split\n",
    "from sklearn.metrics import classification_report, roc_auc_score\n",
    "import seaborn as sns\n",
    "import matplotlib.pyplot as plt"
   ]
  },
  {
   "cell_type": "code",
   "execution_count": 68,
   "id": "82ddc5bb",
   "metadata": {},
   "outputs": [
    {
     "data": {
      "text/plain": [
       "<Projected CRS: EPSG:27700>\n",
       "Name: OSGB36 / British National Grid\n",
       "Axis Info [cartesian]:\n",
       "- E[east]: Easting (metre)\n",
       "- N[north]: Northing (metre)\n",
       "Area of Use:\n",
       "- name: United Kingdom (UK) - offshore to boundary of UKCS within 49°45'N to 61°N and 9°W to 2°E; onshore Great Britain (England, Wales and Scotland). Isle of Man onshore.\n",
       "- bounds: (-9.01, 49.75, 2.01, 61.01)\n",
       "Coordinate Operation:\n",
       "- name: British National Grid\n",
       "- method: Transverse Mercator\n",
       "Datum: Ordnance Survey of Great Britain 1936\n",
       "- Ellipsoid: Airy 1830\n",
       "- Prime Meridian: Greenwich"
      ]
     },
     "execution_count": 68,
     "metadata": {},
     "output_type": "execute_result"
    }
   ],
   "source": [
    "# merge the gentri label to the vectorization text\n",
    "# use 'polygon' or 'wgs84_polygon', depend on what coordinate the label is\n",
    "# load gentri label\n",
    "lsoa_label = gpd.read_file(\"data/gentri_data/london_gentri_labeled_25.shp\")\n",
    "lsoa_label.crs"
   ]
  },
  {
   "cell_type": "code",
   "execution_count": 69,
   "id": "31ad4e59",
   "metadata": {},
   "outputs": [
    {
     "name": "stdout",
     "output_type": "stream",
     "text": [
      "Index(['LSOA code', 'LSOA11NM', 'imd_score_', 'price_grow', 'high_price',\n",
      "       'high_imd_i', 'gentrified', 'geometry'],\n",
      "      dtype='object')\n"
     ]
    }
   ],
   "source": [
    "stru_data = pd.read_csv(\"data/all_stru_data.csv\")\n",
    "print(lsoa_label.columns)"
   ]
  },
  {
   "cell_type": "code",
   "execution_count": 70,
   "id": "aeb72a12",
   "metadata": {},
   "outputs": [],
   "source": [
    "stru_data = stru_data.rename(columns={'LSOA Code': 'LSOA code'})\n",
    "lsoa_label = lsoa_label.merge(stru_data, on= \"LSOA code\", how=\"left\")"
   ]
  },
  {
   "cell_type": "code",
   "execution_count": 71,
   "id": "7ec32bcb",
   "metadata": {},
   "outputs": [
    {
     "name": "stdout",
     "output_type": "stream",
     "text": [
      "Index(['site_name', 'decision_date', 'valid_date', 'polygon.geometries',\n",
      "       'polygon.type', 'wgs84_polygon.coordinates', 'wgs84_polygon.type',\n",
      "       'description', 'borough', 'street_name',\n",
      "       ...\n",
      "       'sbert_374', 'sbert_375', 'sbert_376', 'sbert_377', 'sbert_378',\n",
      "       'sbert_379', 'sbert_380', 'sbert_381', 'sbert_382', 'sbert_383'],\n",
      "      dtype='object', length=401)\n"
     ]
    }
   ],
   "source": [
    "# use the wgs84_polygon to join the label with text\n",
    "# read the text\n",
    "text = pd.read_parquet(\"sbert_encoded_data.parquet\")\n",
    "print(text.columns)"
   ]
  },
  {
   "cell_type": "code",
   "execution_count": 72,
   "id": "cbfffb6c",
   "metadata": {},
   "outputs": [],
   "source": [
    "# turn polygon coordinate into shapely \n",
    "# make sure to drop the null geodata\n",
    "text_valid = text[text['wgs84_polygon.coordinates'].notnull()].copy()\n",
    "text_valid[\"geometry\"] = text_valid[\"wgs84_polygon.coordinates\"].apply(lambda coords: Polygon(coords[0]))\n",
    "# creat GeoDataFrame， set WGS84 coordinate\n",
    "gdf_text = gpd.GeoDataFrame(text_valid, geometry=\"geometry\", crs=\"EPSG:4326\")"
   ]
  },
  {
   "cell_type": "code",
   "execution_count": 73,
   "id": "2e75290a",
   "metadata": {},
   "outputs": [],
   "source": [
    "# set to 27700\n",
    "gdf_27700 = gdf_text.to_crs(\"EPSG:27700\")"
   ]
  },
  {
   "cell_type": "code",
   "execution_count": 74,
   "id": "f130a260",
   "metadata": {},
   "outputs": [],
   "source": [
    "joined = gpd.sjoin(gdf_27700, lsoa_label[[\"LSOA code\", \"geometry\", \"high_price\", \"gentrified\", \"pop_growth_rate\", \n",
    "                                          \"price_grow\", \"avg_den\", \"senior_per\", \"minority_per\"]], \n",
    "                                          how=\"left\", predicate=\"within\")"
   ]
  },
  {
   "cell_type": "code",
   "execution_count": 75,
   "id": "c445f9d0",
   "metadata": {},
   "outputs": [],
   "source": [
    "# get the centroid of each polygon\n",
    "gdf_27700[\"centroid\"] = gdf_27700.geometry.centroid"
   ]
  },
  {
   "cell_type": "code",
   "execution_count": 76,
   "id": "5d2dd4d6",
   "metadata": {},
   "outputs": [],
   "source": [
    "# spatial join\n",
    "joined_centroid = gpd.sjoin(gdf_27700.set_geometry(\"centroid\"), lsoa_label[[\"LSOA code\", \"geometry\", \"high_price\", \"gentrified\", \"pop_growth_rate\", \n",
    "                                                                            \"price_grow\", \"avg_den\", \"senior_per\", \"minority_per\"]],\n",
    "                                                                            how=\"left\",predicate=\"within\")"
   ]
  },
  {
   "cell_type": "code",
   "execution_count": 77,
   "id": "526193ea",
   "metadata": {},
   "outputs": [
    {
     "data": {
      "text/plain": [
       "Index(['site_name', 'decision_date', 'valid_date', 'polygon.geometries',\n",
       "       'polygon.type', 'wgs84_polygon.coordinates', 'wgs84_polygon.type',\n",
       "       'description', 'borough', 'street_name',\n",
       "       ...\n",
       "       'centroid', 'index_right', 'LSOA code', 'high_price', 'gentrified',\n",
       "       'pop_growth_rate', 'price_grow', 'avg_den', 'senior_per',\n",
       "       'minority_per'],\n",
       "      dtype='object', length=412)"
      ]
     },
     "execution_count": 77,
     "metadata": {},
     "output_type": "execute_result"
    }
   ],
   "source": [
    "joined_cleaned = joined_centroid[joined_centroid[\"gentrified\"].notna()].copy()\n",
    "joined_cleaned.columns"
   ]
  },
  {
   "cell_type": "code",
   "execution_count": 78,
   "id": "8cdb7bde",
   "metadata": {},
   "outputs": [],
   "source": [
    "# 按 LSOA 编码分组，取均值（你也可以试试 sum、max 等方式）\n",
    "sbert_cols = [f\"sbert_{i}\" for i in range(384)]\n",
    "lsoa_vecs = joined_cleaned.groupby(\"LSOA code\")[sbert_cols].mean()\n",
    "\n",
    "# struct_cols = ['pop_growth_rate', 'avg_den', 'senior_per', 'minority_per']\n",
    "# lsoa_struct = joined_cleaned.groupby(\"LSOA code\")[struct_cols].mean()\n",
    "\n",
    "# lsoa_combined = lsoa_vecs.join(lsoa_struct, how='left')\n",
    "\n",
    "# lsoa_label = joined_cleaned[['LSOA code', 'gentrified']].drop_duplicates()\n",
    "# lsoa_combined = lsoa_combined.reset_index().merge(lsoa_label, on=\"LSOA code\", how=\"left\")\n"
   ]
  },
  {
   "cell_type": "code",
   "execution_count": 79,
   "id": "3bc861ee",
   "metadata": {},
   "outputs": [],
   "source": [
    "anchor_dict = {\n",
    "    \"residential\": [\"flat conversion\", \"refurbishment\", \"rear extension\", \"self contained\", \"flats\", \"single storey\", \"storey rear extension\"],\n",
    "    \"commercial\": [\"coffee shop\", \"illuminated sign\", \"retail unit upgrade\", \"use class\", \"change use\"],\n",
    "    \"green\": [\"park improvement\", \"landscaping\", \"tree planting\"],\n",
    "    \"cultural\": [\"artist studios\", \"cultural space\", \"gallery conversion\"],\n",
    "    \"infrustructure\": [\"station upgrade\", \"utilities improvement\", \"internally illuminated\", \"ground floor level\", \"floor level\"]\n",
    "}\n",
    "sbert_model = SentenceTransformer('paraphrase-MiniLM-L6-v2')\n",
    "# 正确计算平均向量：\n",
    "anchor_vecs = {\n",
    "    k: np.mean(sbert_model.encode(v), axis=0) for k, v in anchor_dict.items()\n",
    "}"
   ]
  },
  {
   "cell_type": "code",
   "execution_count": 80,
   "id": "f3e73613",
   "metadata": {},
   "outputs": [],
   "source": [
    "# from sklearn.metrics.pairwise import cosine_similarity\n",
    "\n",
    "# # 示例：一列句子向量 (shape: N x 384)，和 5 个 anchor (5 x 384)\n",
    "# sent_vecs = lsoa_combined[[f\"sbert_{i}\" for i in range(384)]].values\n",
    "# anchor_vecs_matrix = np.vstack([anchor_vecs[a] for a in anchor_dict])  # shape: 5 x 384\n",
    "\n",
    "# # 计算所有句子对所有 anchor 的相似度\n",
    "# sim_matrix = cosine_similarity(sent_vecs, anchor_vecs_matrix)  # shape: N x 5\n",
    "\n",
    "# # 加入列名\n",
    "# sim_df = pd.DataFrame(sim_matrix, columns=[f\"sim_{a}\" for a in anchor_dict])\n",
    "# lsoa_combined = pd.concat([lsoa_combined.reset_index(drop=True), sim_df], axis=1)\n"
   ]
  },
  {
   "cell_type": "code",
   "execution_count": 81,
   "id": "faa8a191",
   "metadata": {},
   "outputs": [],
   "source": [
    "# print(lsoa_combined.shape)"
   ]
  },
  {
   "cell_type": "code",
   "execution_count": 82,
   "id": "96a137b2",
   "metadata": {},
   "outputs": [],
   "source": [
    "# features = ['pop_growth_rate', 'avg_den', 'senior_per','minority_per', \n",
    "#             'sim_residential', 'sim_commercial', 'sim_green', 'sim_cultural', 'sim_infrustructure']\n",
    "# lsoa_combined['gentrified'] = lsoa_combined['gentrified'].astype(int)\n",
    "\n",
    "# X = lsoa_combined[features]\n",
    "# y = lsoa_combined['gentrified']\n",
    "\n",
    "# from sklearn.model_selection import train_test_split\n",
    "# from xgboost import XGBClassifier\n",
    "# from sklearn.metrics import classification_report\n",
    "\n",
    "# # 样本不均衡处理\n",
    "# scale_pos_weight = (y == 0).sum() / (y == 1).sum()\n",
    "\n",
    "# X_train, X_test, y_train, y_test = train_test_split(X, y, stratify=y, test_size=0.2, random_state=42)\n",
    "\n",
    "# model = XGBClassifier(scale_pos_weight=scale_pos_weight, random_state=42)\n",
    "# model.fit(X_train, y_train)\n",
    "\n",
    "# print(classification_report(y_test, model.predict(X_test)))"
   ]
  },
  {
   "cell_type": "code",
   "execution_count": 83,
   "id": "ec91ff95",
   "metadata": {},
   "outputs": [],
   "source": [
    "# print(scale_pos_weight)"
   ]
  },
  {
   "cell_type": "code",
   "execution_count": 84,
   "id": "281b841d",
   "metadata": {},
   "outputs": [],
   "source": [
    "# X_base = lsoa_combined[struct_cols]\n",
    "# y_base = lsoa_combined['gentrified']\n",
    "\n",
    "# X_base_train, X_base_test, y_base_train, y_base_test = train_test_split(X_base, y_base, stratify=y_base, test_size=0.2, random_state=42)\n",
    "\n",
    "# model_base = XGBClassifier(scale_pos_weight=scale_pos_weight, random_state=42)\n",
    "# model_base.fit(X_base_train, y_base_train)\n",
    "\n",
    "# print(classification_report(y_base_test, model_base.predict(X_base_test)))"
   ]
  },
  {
   "cell_type": "code",
   "execution_count": 85,
   "id": "f7543e3d",
   "metadata": {},
   "outputs": [],
   "source": [
    "# # feature importance\n",
    "# from xgboost import plot_importance\n",
    "\n",
    "# plt.figure(figsize=(10, 6))\n",
    "# plot_importance(model, importance_type='gain', max_num_features=10)\n",
    "# plt.title(\"Top 10 Important Features (by Gain)\")\n",
    "# plt.grid(True)\n",
    "# plt.tight_layout()\n",
    "# plt.show()"
   ]
  },
  {
   "cell_type": "code",
   "execution_count": 86,
   "id": "aea7ae88",
   "metadata": {},
   "outputs": [],
   "source": [
    "def extract_diverse_anchor_sentences(\n",
    "    anchor_vecs,           # 你的人工定义 anchor 向量: {anchor_name: vector}\n",
    "    all_sentences,         # 句子列表: List[str]\n",
    "    sbert_model,           # SentenceTransformer 模型\n",
    "    topk,               # 每个 anchor 最多考虑 topk 相似句子作为候选\n",
    "    anchor_threshold,  # anchor 与句子相似度下限\n",
    "    sim_threshold     # 被选句子之间最大相似度（越小越多样）\n",
    "):\n",
    "    # 编码所有句子为向量\n",
    "    print(\"emcoding all sentences...\")\n",
    "    sent_vecs = sbert_model.encode(all_sentences, batch_size=32, show_progress_bar=True)\n",
    "\n",
    "    anchor_top_sentences = {}\n",
    "\n",
    "    for cat, anchor_vec in tqdm(anchor_vecs.items(), desc=\"🔍 extract sentences from each category\"):\n",
    "        sims = cosine_similarity([anchor_vec], sent_vecs)[0]\n",
    "\n",
    "        # 找出相似度高于 anchor_threshold 的 topk 句子\n",
    "        sorted_idx = np.argsort(sims)[::-1]\n",
    "        filtered_idx = [i for i in sorted_idx if sims[i] >= anchor_threshold][:topk]\n",
    "\n",
    "        selected = []\n",
    "        selected_vecs = []\n",
    "\n",
    "        for i in filtered_idx:\n",
    "            sent = all_sentences[i]\n",
    "            vec = sent_vecs[i]\n",
    "\n",
    "            # 判断与已选句子的相似度是否都低于 sim_threshold\n",
    "            if all(cosine_similarity([vec], [v])[0][0] < sim_threshold for v in selected_vecs):\n",
    "                selected.append({\"sentence\": sent, \"score\": float(sims[i])})\n",
    "                selected_vecs.append(vec)\n",
    "\n",
    "        anchor_top_sentences[cat] = selected\n",
    "        print(f\"✅ {cat}: select {len(selected)} sentences\")\n",
    "\n",
    "    return anchor_top_sentences"
   ]
  },
  {
   "cell_type": "code",
   "execution_count": null,
   "id": "1ec3e00a",
   "metadata": {},
   "outputs": [],
   "source": [
    "# 强制转成字符串 & 去除缺失值\n",
    "all_sentences = joined_cleaned['sentences'].dropna().astype(str).tolist()"
   ]
  },
  {
   "cell_type": "code",
   "execution_count": 89,
   "id": "e303f99c",
   "metadata": {},
   "outputs": [
    {
     "name": "stdout",
     "output_type": "stream",
     "text": [
      "emcoding all sentences...\n"
     ]
    },
    {
     "data": {
      "application/vnd.jupyter.widget-view+json": {
       "model_id": "6e114c2b364c448cb8b1a1c5df23f440",
       "version_major": 2,
       "version_minor": 0
      },
      "text/plain": [
       "Batches:   0%|          | 0/4856 [00:00<?, ?it/s]"
      ]
     },
     "metadata": {},
     "output_type": "display_data"
    },
    {
     "name": "stderr",
     "output_type": "stream",
     "text": [
      "🔍 extract sentences from each category:  20%|██        | 1/5 [00:00<00:00,  4.19it/s]"
     ]
    },
    {
     "name": "stdout",
     "output_type": "stream",
     "text": [
      "✅ residential: select 1 sentences\n",
      "✅ commercial: select 5 sentences\n"
     ]
    },
    {
     "name": "stderr",
     "output_type": "stream",
     "text": [
      "🔍 extract sentences from each category:  60%|██████    | 3/5 [00:00<00:00,  3.71it/s]"
     ]
    },
    {
     "name": "stdout",
     "output_type": "stream",
     "text": [
      "✅ green: select 7 sentences\n",
      "✅ cultural: select 10 sentences\n"
     ]
    },
    {
     "name": "stderr",
     "output_type": "stream",
     "text": [
      "🔍 extract sentences from each category: 100%|██████████| 5/5 [00:01<00:00,  4.15it/s]"
     ]
    },
    {
     "name": "stdout",
     "output_type": "stream",
     "text": [
      "✅ infrustructure: select 14 sentences\n"
     ]
    },
    {
     "name": "stderr",
     "output_type": "stream",
     "text": [
      "\n"
     ]
    }
   ],
   "source": [
    "diverse_results = extract_diverse_anchor_sentences(\n",
    "    anchor_vecs=anchor_vecs,\n",
    "    all_sentences=all_sentences ,\n",
    "    sbert_model=sbert_model,\n",
    "    topk=50,\n",
    "    anchor_threshold=0.5,\n",
    "    sim_threshold=0.7\n",
    ")"
   ]
  },
  {
   "cell_type": "code",
   "execution_count": 91,
   "id": "90c0a463",
   "metadata": {},
   "outputs": [],
   "source": [
    "def get_anchor_vecs_from_diverse_results(diverse_results, sbert_model):\n",
    "    anchor_vecs = {}\n",
    "    for cat, items in diverse_results.items():\n",
    "        sentences = [entry[\"sentence\"] for entry in items]\n",
    "        vecs = sbert_model.encode(sentences, batch_size=32)\n",
    "        anchor_vecs[cat] = vecs.mean(axis=0)  # 平均向量作为 anchor\n",
    "    return anchor_vecs"
   ]
  },
  {
   "cell_type": "code",
   "execution_count": 92,
   "id": "9d55f8d7",
   "metadata": {},
   "outputs": [],
   "source": [
    "# 获取平均向量组成的 anchor\n",
    "keyline_vecs = get_anchor_vecs_from_diverse_results(diverse_results, sbert_model)"
   ]
  },
  {
   "cell_type": "code",
   "execution_count": 93,
   "id": "bc8f6668",
   "metadata": {},
   "outputs": [],
   "source": [
    "def score_sentences_against_anchors(anchor_vecs, all_sentences, sbert_model):\n",
    "    \n",
    "    print(\"encoding all sentences...\")\n",
    "    sent_vecs = sbert_model.encode(all_sentences, batch_size=32, show_progress_bar=True)\n",
    "\n",
    "    scores = {}\n",
    "\n",
    "    for cat, anchor_vec in anchor_vecs.items():\n",
    "        sims = cosine_similarity([anchor_vec], sent_vecs)[0]  # shape: (num_sentences,)\n",
    "        scores[cat] = sims\n",
    "\n",
    "    # 合成 DataFrame\n",
    "    import pandas as pd\n",
    "    score_df = pd.DataFrame(scores)\n",
    "    score_df['sentence'] = all_sentences\n",
    "\n",
    "    return score_df"
   ]
  },
  {
   "cell_type": "code",
   "execution_count": 94,
   "id": "ec233d92",
   "metadata": {},
   "outputs": [
    {
     "name": "stdout",
     "output_type": "stream",
     "text": [
      "encoding all sentences...\n"
     ]
    },
    {
     "data": {
      "application/vnd.jupyter.widget-view+json": {
       "model_id": "fd1c8285595844b792745f6e9abb8ab9",
       "version_major": 2,
       "version_minor": 0
      },
      "text/plain": [
       "Batches:   0%|          | 0/4856 [00:00<?, ?it/s]"
      ]
     },
     "metadata": {},
     "output_type": "display_data"
    }
   ],
   "source": [
    "# 调用函数\n",
    "score_df = score_sentences_against_anchors(\n",
    "    anchor_vecs=keyline_vecs,\n",
    "    all_sentences=all_sentences,\n",
    "    sbert_model=sbert_model\n",
    ")"
   ]
  },
  {
   "cell_type": "code",
   "execution_count": null,
   "id": "0a7174f6",
   "metadata": {},
   "outputs": [],
   "source": [
    "# # 加上 LSOA code（确保顺序匹配）\n",
    "# score_df['LSOA code'] = joined_cleaned['LSOA code'].values\n",
    "\n",
    "# # 只保留数值列（通常是 anchor 类别的列）\n",
    "# anchor_score_numeric = score_df.select_dtypes(include='number')\n",
    "\n",
    "# # 添加 LSOA code 回来做分组\n",
    "# anchor_score_numeric['LSOA code'] = score_df['LSOA code']\n",
    "\n",
    "# # 按 LSOA 聚合 anchor 得分（均值）\n",
    "# anchor_lsoa = anchor_score_numeric.groupby('LSOA code').mean().reset_index()\n"
   ]
  },
  {
   "cell_type": "code",
   "execution_count": 159,
   "id": "ab1cd834",
   "metadata": {},
   "outputs": [],
   "source": [
    "import pandas as pd\n",
    "\n",
    "# 设置你要保留的 anchor 列和 top-N 值\n",
    "anchor_cols = ['residential', 'commercial', 'green', 'cultural', 'infrustructure']\n",
    "top_n = 5  # 每个 LSOA 只保留相似度最高的 5 条句子\n",
    "\n",
    "# 确保 score_df 里有 'LSOA code' 和 anchor 得分\n",
    "score_df['LSOA code'] = joined_cleaned['LSOA code'].values\n",
    "\n",
    "# 定义函数：对每个 LSOA, anchor 取 top-N 后聚合\n",
    "def top_n_mean(df, anchor, n=5):\n",
    "    return (\n",
    "        df.sort_values(by=anchor, ascending=False)\n",
    "          .head(n)[anchor]\n",
    "          .mean()\n",
    "    )\n",
    "\n",
    "# 建立结果 DataFrame\n",
    "lsoa_list = score_df['LSOA code'].unique()\n",
    "topn_dict = {'LSOA code': []}\n",
    "for anchor in anchor_cols:\n",
    "    topn_dict[anchor + '_topn_mean'] = []\n",
    "\n",
    "# 遍历每个 LSOA 和 anchor 聚合\n",
    "for lsoa in lsoa_list:\n",
    "    topn_dict['LSOA code'].append(lsoa)\n",
    "    lsoa_df = score_df[score_df['LSOA code'] == lsoa]\n",
    "    for anchor in anchor_cols:\n",
    "        val = top_n_mean(lsoa_df, anchor, n=top_n)\n",
    "        topn_dict[anchor + '_topn_mean'].append(val)\n",
    "\n",
    "# 转为 DataFrame\n",
    "anchor_lsoa_topn = pd.DataFrame(topn_dict)"
   ]
  },
  {
   "cell_type": "code",
   "execution_count": 161,
   "id": "9a109117",
   "metadata": {},
   "outputs": [
    {
     "name": "stdout",
     "output_type": "stream",
     "text": [
      "   LSOA code  residential_topn_mean  commercial_topn_mean  green_topn_mean  \\\n",
      "0  E01002714               0.760136              0.689529         0.700867   \n",
      "1  E01002771               0.781176              0.581556         0.683054   \n",
      "2  E01000220               0.906424              0.508664         0.511596   \n",
      "3  E01001220               0.669778              0.600520         0.555940   \n",
      "4  E01003187               0.349043              0.578166         0.357311   \n",
      "\n",
      "   cultural_topn_mean  infrustructure_topn_mean  \n",
      "0            0.580095                  0.756108  \n",
      "1            0.564128                  0.699904  \n",
      "2            0.580305                  0.633844  \n",
      "3            0.555096                  0.644365  \n",
      "4            0.474421                  0.488227  \n"
     ]
    }
   ],
   "source": [
    "print(anchor_lsoa_topn.head(5))"
   ]
  },
  {
   "cell_type": "code",
   "execution_count": 163,
   "id": "915d3f26",
   "metadata": {},
   "outputs": [],
   "source": [
    "# 把结构变量也合并进来（你之前好像从 lsoa_label 或其他来源获得）\n",
    "final_df = pd.merge(anchor_lsoa_topn, lsoa_label[['LSOA code', 'gentrified', \n",
    "                                             'avg_den', 'pop_growth_rate', 'senior_per', 'minority_per']], \n",
    "                                             on='LSOA code')"
   ]
  },
  {
   "cell_type": "code",
   "execution_count": 182,
   "id": "47877c19",
   "metadata": {},
   "outputs": [
    {
     "name": "stdout",
     "output_type": "stream",
     "text": [
      "(4271, 11)\n"
     ]
    }
   ],
   "source": [
    "print(final_df.shape)"
   ]
  },
  {
   "cell_type": "code",
   "execution_count": 196,
   "id": "d5e9d355",
   "metadata": {},
   "outputs": [
    {
     "name": "stdout",
     "output_type": "stream",
     "text": [
      "              precision    recall  f1-score   support\n",
      "\n",
      "           0       0.95      0.98      0.96      1008\n",
      "           1       0.17      0.08      0.11        60\n",
      "\n",
      "    accuracy                           0.93      1068\n",
      "   macro avg       0.56      0.53      0.54      1068\n",
      "weighted avg       0.90      0.93      0.91      1068\n",
      "\n",
      "AUROC: 0.6272652116402118\n",
      "AUPRC: 0.09806154371254769\n"
     ]
    }
   ],
   "source": [
    "features = ['pop_growth_rate', 'avg_den', 'senior_per','minority_per', \n",
    "            'residential_topn_mean', 'commercial_topn_mean', \n",
    "            'green_topn_mean', 'cultural_topn_mean', 'infrustructure_topn_mean']\n",
    "final_df['gentrified'] = final_df['gentrified'].astype(int)\n",
    "\n",
    "X = final_df[features]\n",
    "y = final_df['gentrified']\n",
    "\n",
    "from sklearn.model_selection import train_test_split\n",
    "from xgboost import XGBClassifier\n",
    "from sklearn.metrics import classification_report\n",
    "\n",
    "\n",
    "# 样本不均衡处理\n",
    "X_train, X_test, y_train, y_test = train_test_split(X, y, \n",
    "                                                    stratify=y, \n",
    "                                                    test_size=0.25, \n",
    "                                                    random_state=42)\n",
    "\n",
    "scale_pos_weight = len(y_train[y_train == 0]) / len(y_train[y_train == 1])\n",
    "\n",
    "model = XGBClassifier(scale_pos_weight = scale_pos_weight,\n",
    "                      random_state=42, \n",
    "                      eval_metric=\"aucpr\")\n",
    "\n",
    "model.fit(X_train, y_train)\n",
    "\n",
    "# Evaluate\n",
    "y_pred = model.predict(X_test)\n",
    "print(classification_report(y_test, y_pred))\n",
    "\n",
    "from sklearn.metrics import roc_auc_score, average_precision_score\n",
    "\n",
    "y_proba = model.predict_proba(X_test)[:, 1]  # 取预测为 1 的概率\n",
    "print(\"AUROC:\", roc_auc_score(y_test, y_proba))\n",
    "print(\"AUPRC:\", average_precision_score(y_test, y_proba))\n"
   ]
  },
  {
   "cell_type": "code",
   "execution_count": 183,
   "id": "7e9a707b",
   "metadata": {},
   "outputs": [
    {
     "name": "stdout",
     "output_type": "stream",
     "text": [
      "16.794444444444444\n"
     ]
    }
   ],
   "source": [
    "print(scale_pos_weight)"
   ]
  },
  {
   "cell_type": "code",
   "execution_count": 197,
   "id": "f3a5d7ba",
   "metadata": {},
   "outputs": [
    {
     "name": "stdout",
     "output_type": "stream",
     "text": [
      "              precision    recall  f1-score   support\n",
      "\n",
      "           0       0.94      0.96      0.95      1008\n",
      "           1       0.04      0.03      0.04        60\n",
      "\n",
      "    accuracy                           0.90      1068\n",
      "   macro avg       0.49      0.49      0.49      1068\n",
      "weighted avg       0.89      0.90      0.90      1068\n",
      "\n",
      "AUROC: 0.5544808201058201\n",
      "AUPRC: 0.07328960651049135\n"
     ]
    }
   ],
   "source": [
    "base = ['pop_growth_rate', 'avg_den', 'senior_per','minority_per']\n",
    "\n",
    "X_base = final_df[base]\n",
    "y_base = final_df['gentrified']\n",
    "\n",
    "X_base_train, X_base_test, y_base_train, y_base_test = train_test_split(X_base, y_base, \n",
    "                                                                        stratify=y_base, \n",
    "                                                                        test_size=0.25, \n",
    "                                                                        random_state=42)\n",
    "\n",
    "model_base = XGBClassifier(scale_pos_weight=scale_pos_weight, random_state=42)\n",
    "model_base.fit(X_base_train, y_base_train)\n",
    "\n",
    "y_base_pred = model_base.predict(X_base_test)\n",
    "\n",
    "print(classification_report(y_base_test, y_base_pred))\n",
    "\n",
    "y_base_proba = model_base.predict_proba(X_base_test)[:, 1]  # 取预测为 1 的概率\n",
    "print(\"AUROC:\", roc_auc_score(y_base_test, y_base_proba))\n",
    "print(\"AUPRC:\", average_precision_score(y_base_test, y_base_proba))"
   ]
  },
  {
   "cell_type": "code",
   "execution_count": 187,
   "id": "c4417eb9",
   "metadata": {},
   "outputs": [],
   "source": [
    "# Undersampling\n",
    "\n",
    "from sklearn.utils import resample\n",
    "\n",
    "# separate\n",
    "df_0 = final_df[final_df['gentrified'] == 0]\n",
    "df_1 = final_df[final_df['gentrified'] == 1]\n",
    "\n",
    "# Random downsampling of class 0\n",
    "df_0_down = resample(df_0, replace=False, n_samples=len(df_1), random_state=42)\n",
    "\n",
    "# merge\n",
    "df_balanced = pd.concat([df_0_down, df_1])"
   ]
  },
  {
   "cell_type": "code",
   "execution_count": 188,
   "id": "9a647f39",
   "metadata": {},
   "outputs": [
    {
     "name": "stdout",
     "output_type": "stream",
     "text": [
      "              precision    recall  f1-score   support\n",
      "\n",
      "           0       0.53      0.48      0.50        60\n",
      "           1       0.52      0.57      0.54        60\n",
      "\n",
      "    accuracy                           0.53       120\n",
      "   macro avg       0.53      0.53      0.52       120\n",
      "weighted avg       0.53      0.53      0.52       120\n",
      "\n"
     ]
    }
   ],
   "source": [
    "X_bal = df_balanced[features]\n",
    "y_bal = df_balanced['gentrified']\n",
    "\n",
    "# 拆分训练集和测试集\n",
    "X_bal_train, X_bal_test, y_bal_train, y_bal_test = train_test_split(\n",
    "    X_bal, y_bal, stratify=y_bal, test_size=0.25, random_state=42\n",
    ")\n",
    "\n",
    "# 模型训练\n",
    "model_balanced = XGBClassifier(random_state=42)\n",
    "model_balanced.fit(X_bal_train, y_bal_train)\n",
    "\n",
    "# 预测 & 评估\n",
    "y_bal_pred = model_balanced.predict(X_bal_test)\n",
    "print(classification_report(y_bal_test, y_bal_pred))"
   ]
  },
  {
   "cell_type": "code",
   "execution_count": 189,
   "id": "768d0430",
   "metadata": {},
   "outputs": [
    {
     "name": "stdout",
     "output_type": "stream",
     "text": [
      "              precision    recall  f1-score   support\n",
      "\n",
      "           0       0.49      0.52      0.50        60\n",
      "           1       0.49      0.47      0.48        60\n",
      "\n",
      "    accuracy                           0.49       120\n",
      "   macro avg       0.49      0.49      0.49       120\n",
      "weighted avg       0.49      0.49      0.49       120\n",
      "\n"
     ]
    }
   ],
   "source": [
    "X_bal_base = df_balanced[base]\n",
    "y_bal_base = df_balanced['gentrified']\n",
    "\n",
    "# 拆分训练集和测试集\n",
    "X_bal_base_train, X_bal_base_test, y_bal_base_train, y_bal_base_test = train_test_split(\n",
    "    X_bal_base, y_bal_base, stratify=y_bal_base, test_size=0.25, random_state=42\n",
    ")\n",
    "\n",
    "# 模型训练\n",
    "model_balanced_base = XGBClassifier(random_state=42)\n",
    "model_balanced_base.fit(X_bal_base_train, y_bal_base_train)\n",
    "\n",
    "# 预测 & 评估\n",
    "y_bal_base_pred = model_balanced_base.predict(X_bal_base_test)\n",
    "print(classification_report(y_bal_base_test, y_bal_base_pred))"
   ]
  },
  {
   "cell_type": "code",
   "execution_count": 190,
   "id": "7bc51e26",
   "metadata": {},
   "outputs": [
    {
     "name": "stdout",
     "output_type": "stream",
     "text": [
      "F1 score for minority class (gentrified=1) across 5 folds:\n",
      "Scores: [0.1128 0.1409 0.1304 0.1241 0.1429]\n",
      "Mean F1 score: 0.1302\n"
     ]
    }
   ],
   "source": [
    "from sklearn.model_selection import StratifiedKFold, cross_val_score\n",
    "from imblearn.under_sampling import RandomUnderSampler\n",
    "from imblearn.pipeline import Pipeline\n",
    "from xgboost import XGBClassifier\n",
    "from sklearn.metrics import make_scorer, classification_report, f1_score\n",
    "import numpy as np\n",
    "\n",
    "# 1. 特征与标签\n",
    "X = final_df[features]\n",
    "y = final_df['gentrified'].astype(int)\n",
    "\n",
    "# 2. 创建 pipeline：undersampling + XGBoost\n",
    "\n",
    "pipeline = Pipeline([\n",
    "    (\"undersample\", RandomUnderSampler(random_state=42)),\n",
    "    (\"clf\", XGBClassifier(scale_pos_weight=1,  # 不需要 scale_pos_weight，因为已经下采样\n",
    "                          random_state=42, \n",
    "                          eval_metric=\"aucpr\"))\n",
    "])\n",
    "\n",
    "# 3. Stratified K-Fold\n",
    "cv = StratifiedKFold(n_splits=5, shuffle=True, random_state=42)\n",
    "\n",
    "# 4. 交叉验证评估：使用 F1-score（重点关注 minority class）\n",
    "scores = cross_val_score(pipeline, X, y, \n",
    "                         scoring=make_scorer(f1_score, pos_label=1), \n",
    "                         cv=cv)\n",
    "\n",
    "print(\"F1 score for minority class (gentrified=1) across 5 folds:\")\n",
    "print(\"Scores:\", np.round(scores, 4))\n",
    "print(\"Mean F1 score:\", np.round(scores.mean(), 4))"
   ]
  },
  {
   "cell_type": "code",
   "execution_count": 193,
   "id": "b063f233",
   "metadata": {},
   "outputs": [
    {
     "data": {
      "image/png": "[encoded data removed]",
      "text/plain": [
       "<Figure size 600x300 with 1 Axes>"
      ]
     },
     "metadata": {},
     "output_type": "display_data"
    },
    {
     "data": {
      "image/png": "[encoded data removed]",
      "text/plain": [
       "<Figure size 600x300 with 1 Axes>"
      ]
     },
     "metadata": {},
     "output_type": "display_data"
    },
    {
     "data": {
      "image/png": "[encoded data removed]",
      "text/plain": [
       "<Figure size 600x300 with 1 Axes>"
      ]
     },
     "metadata": {},
     "output_type": "display_data"
    },
    {
     "data": {
      "image/png": "[encoded data removed]",
      "text/plain": [
       "<Figure size 600x300 with 1 Axes>"
      ]
     },
     "metadata": {},
     "output_type": "display_data"
    },
    {
     "data": {
      "image/png": "[encoded data removed]",
      "text/plain": [
       "<Figure size 600x300 with 1 Axes>"
      ]
     },
     "metadata": {},
     "output_type": "display_data"
    }
   ],
   "source": [
    "anchor_cols = ['residential_topn_mean', 'commercial_topn_mean', 'green_topn_mean', 'cultural_topn_mean', 'infrustructure_topn_mean']\n",
    "\n",
    "for col in anchor_cols:\n",
    "    plt.figure(figsize=(6, 3))\n",
    "    sns.kdeplot(data=final_df, x=col, hue='gentrified', common_norm=False)\n",
    "    plt.title(f\"{col} Distribution by Gentrification\")\n",
    "    plt.show()"
   ]
  },
  {
   "cell_type": "code",
   "execution_count": 205,
   "id": "050f7c13",
   "metadata": {},
   "outputs": [
    {
     "name": "stdout",
     "output_type": "stream",
     "text": [
      "              precision    recall  f1-score   support\n",
      "\n",
      "           0       0.53      0.48      0.50        60\n",
      "           1       0.52      0.57      0.54        60\n",
      "\n",
      "    accuracy                           0.53       120\n",
      "   macro avg       0.53      0.53      0.52       120\n",
      "weighted avg       0.53      0.53      0.52       120\n",
      "\n",
      "AUROC: 0.5900000000000001\n",
      "AUPRC: 0.6494055326948425\n"
     ]
    }
   ],
   "source": [
    "X = final_df[features]\n",
    "y = final_df['gentrified']\n",
    "\n",
    "rus = RandomUnderSampler(random_state=42)\n",
    "X_resampled, y_resampled = rus.fit_resample(X, y)\n",
    "\n",
    "X_resampled_train, X_resampled_test, y_resampled_train, y_resampled_test = train_test_split(X_resampled, y_resampled, \n",
    "                                                                                            stratify=y_resampled, \n",
    "                                                                                            test_size=0.25, \n",
    "                                                                                            random_state=42)\n",
    "\n",
    "scale_pos_weight = len(y_resampled_train[y_resampled_train == 0]) / len(y_resampled_train[y_resampled_train == 1])\n",
    "\n",
    "model_resampled = XGBClassifier(scale_pos_weight = scale_pos_weight,\n",
    "                      random_state=42, \n",
    "                      eval_metric=\"aucpr\")\n",
    "\n",
    "model_resampled.fit(X_resampled_train, y_resampled_train)\n",
    "\n",
    "# Evaluate\n",
    "y_resampled_pred = model_resampled.predict(X_resampled_test)\n",
    "print(classification_report(y_resampled_test, y_resampled_pred))\n",
    "y_resampled_proba = model_resampled.predict_proba(X_resampled_test)[:, 1]  # 取预测为 1 的概率\n",
    "print(\"AUROC:\", roc_auc_score(y_resampled_test, y_resampled_proba))\n",
    "print(\"AUPRC:\", average_precision_score(y_resampled_test, y_resampled_proba))\n"
   ]
  }
 ],
 "metadata": {
  "kernelspec": {
   "display_name": "Python (venv)",
   "language": "python",
   "name": "venv"
  },
  "language_info": {
   "codemirror_mode": {
    "name": "ipython",
    "version": 3
   },
   "file_extension": ".py",
   "mimetype": "text/x-python",
   "name": "python",
   "nbconvert_exporter": "python",
   "pygments_lexer": "ipython3",
   "version": "3.12.5"
  }
 },
 "nbformat": 4,
 "nbformat_minor": 5
}
