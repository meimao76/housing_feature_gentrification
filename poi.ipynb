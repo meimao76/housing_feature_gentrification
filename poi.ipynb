{
 "cells": [
  {
   "cell_type": "code",
   "execution_count": 1,
   "id": "d7be58f0",
   "metadata": {},
   "outputs": [],
   "source": [
    "import pandas as pd\n",
    "import osmnx as ox # OSMnx is a Python package to get access to geospatial features from OpenStreetMap. (Boeing, G. 2024)\n",
    "import geopandas as gpd\n",
    "import numpy as np\n",
    "\n",
    "from xgboost import XGBRegressor\n",
    "from sklearn.model_selection import train_test_split\n",
    "from sklearn.model_selection import GridSearchCV\n",
    "import shap"
   ]
  },
  {
   "cell_type": "code",
   "execution_count": 3,
   "id": "56a391e6",
   "metadata": {},
   "outputs": [],
   "source": [
    "from ohsome import OhsomeClient\n"
   ]
  },
  {
   "cell_type": "code",
   "execution_count": 3,
   "id": "091fe071",
   "metadata": {},
   "outputs": [],
   "source": [
    "# final_gdf.to_csv(\"data/poi2015.csv\", index=False)"
   ]
  },
  {
   "cell_type": "code",
   "execution_count": 8,
   "id": "093e783c",
   "metadata": {},
   "outputs": [
    {
     "data": {
      "text/plain": [
       "<Projected CRS: EPSG:27700>\n",
       "Name: OSGB36 / British National Grid\n",
       "Axis Info [cartesian]:\n",
       "- E[east]: Easting (metre)\n",
       "- N[north]: Northing (metre)\n",
       "Area of Use:\n",
       "- name: United Kingdom (UK) - offshore to boundary of UKCS within 49°45'N to 61°N and 9°W to 2°E; onshore Great Britain (England, Wales and Scotland). Isle of Man onshore.\n",
       "- bounds: (-9.01, 49.75, 2.01, 61.01)\n",
       "Coordinate Operation:\n",
       "- name: British National Grid\n",
       "- method: Transverse Mercator\n",
       "Datum: Ordnance Survey of Great Britain 1936\n",
       "- Ellipsoid: Airy 1830\n",
       "- Prime Meridian: Greenwich"
      ]
     },
     "execution_count": 8,
     "metadata": {},
     "output_type": "execute_result"
    }
   ],
   "source": [
    "gdf = gpd.read_file(\"london_lsoa21_combined.shp\")\n",
    "gdf.crs"
   ]
  },
  {
   "cell_type": "code",
   "execution_count": 9,
   "id": "4d9b859a",
   "metadata": {},
   "outputs": [],
   "source": [
    "# 转换为 WGS84（EPSG:4326）\n",
    "gdf = gdf.to_crs(epsg=4326)"
   ]
  },
  {
   "cell_type": "code",
   "execution_count": 12,
   "id": "7f87f4a9",
   "metadata": {},
   "outputs": [
    {
     "name": "stdout",
     "output_type": "stream",
     "text": [
      "Index(['lsoa21cd', 'lsoa21nm', 'msoa21cd', 'msoa21nm', 'lad22cd', 'lad22nm',\n",
      "       'borough', 'geometry'],\n",
      "      dtype='object')\n"
     ]
    }
   ],
   "source": [
    "print(gdf.columns)"
   ]
  },
  {
   "cell_type": "code",
   "execution_count": 14,
   "id": "00da7e6f",
   "metadata": {},
   "outputs": [
    {
     "name": "stderr",
     "output_type": "stream",
     "text": [
      "C:\\Users\\hp\\AppData\\Local\\Temp\\ipykernel_36360\\2966168743.py:16: DeprecationWarning: The 'unary_union' attribute is deprecated, use the 'union_all()' method instead.\n",
      "  london_geom = gdf.unary_union\n"
     ]
    },
    {
     "name": "stdout",
     "output_type": "stream",
     "text": [
      "查询 shops POIs...\n",
      "已获取 18297 个 shops POI点\n",
      "查询 metro POIs...\n",
      "已获取 250 个 metro POI点\n",
      "查询 bus_stops POIs...\n",
      "已获取 19968 个 bus_stops POI点\n",
      "总共获取 38515 个POI点\n",
      "执行空间连接...\n",
      "计算每个LSOA的POI数量...\n",
      "保存结果...\n",
      "完成!\n",
      "    lsoa21cd  shops  metro  bus_stops\n",
      "0  E01000011    0.0    0.0        1.0\n",
      "1  E01000046    0.0    0.0        2.0\n",
      "2  E01000051    0.0    0.0        2.0\n",
      "3  E01000077    0.0    0.0        4.0\n",
      "4  E01000083    0.0    0.0        6.0\n"
     ]
    }
   ],
   "source": [
    "# 2. 初始化 Ohsome 客户端\n",
    "client = OhsomeClient()\n",
    "\n",
    "# 3. 设置查询时间为单个时间点（快照）\n",
    "time_param = \"2020-06-01\"\n",
    "\n",
    "# 4. 查询三种 POI 类型（获取点要素）\n",
    "queries = {\n",
    "    \"shops\": \"type:node and shop=*\",\n",
    "    \"metro\": \"type:node and railway=station and station=subway\",\n",
    "    \"bus_stops\": \"type:node and highway=bus_stop\"\n",
    "}\n",
    "\n",
    "# 获取整个伦敦区域的边界\n",
    "\n",
    "london_geom = gdf.unary_union\n",
    "\n",
    "# 创建一个空的GeoDataFrame用于存储所有POI点\n",
    "all_poi_gdf = gpd.GeoDataFrame()\n",
    "\n",
    "# 遍历每种POI类型\n",
    "for name, filter_query in queries.items():\n",
    "    print(f\"查询 {name} POIs...\")\n",
    "    \n",
    "    try:\n",
    "        # 使用elements.geometry.post方法获取点要素\n",
    "        response = client.elements.geometry.post(\n",
    "            bpolys=london_geom,\n",
    "            time=time_param,\n",
    "            filter=filter_query\n",
    "        )\n",
    "        \n",
    "        # 直接转换为GeoDataFrame\n",
    "        poi_gdf = response.as_dataframe()\n",
    "        \n",
    "        # 如果返回为空，则跳过\n",
    "        if poi_gdf.empty:\n",
    "            print(f\"未找到 {name} POIs\")\n",
    "            continue\n",
    "        \n",
    "        # 确保几何列是有效的几何类型\n",
    "        if 'geometry' not in poi_gdf.columns:\n",
    "            print(f\"警告: {name} 结果中没有几何列\")\n",
    "            continue\n",
    "        \n",
    "        # 添加POI类型列\n",
    "        poi_gdf['poi_type'] = name\n",
    "        \n",
    "        # 添加到总的数据集\n",
    "        all_poi_gdf = pd.concat([all_poi_gdf, poi_gdf], ignore_index=True)\n",
    "        \n",
    "        print(f\"已获取 {len(poi_gdf)} 个 {name} POI点\")\n",
    "    \n",
    "    except Exception as e:\n",
    "        print(f\"查询 {name} 时出错: {str(e)}\")\n",
    "        continue\n",
    "\n",
    "# 5. 空间连接：将POI点分配到LSOA区域\n",
    "if not all_poi_gdf.empty:\n",
    "    print(f\"总共获取 {len(all_poi_gdf)} 个POI点\")\n",
    "    print(\"执行空间连接...\")\n",
    "    \n",
    "    # 确保几何列是有效的Point对象\n",
    "    if not all_poi_gdf.geometry.is_valid.all():\n",
    "        print(\"修复无效几何对象...\")\n",
    "        all_poi_gdf = all_poi_gdf[all_poi_gdf.geometry.is_valid]\n",
    "    \n",
    "    # 执行空间连接（点在多边形内）\n",
    "    joined_gdf = gpd.sjoin(gdf, all_poi_gdf, how='left', predicate='contains')\n",
    "    \n",
    "    # 6. 按LSOA和POI类型分组计数\n",
    "    print(\"计算每个LSOA的POI数量...\")\n",
    "    \n",
    "    # 创建交叉表：行是LSOA，列是POI类型，值是计数\n",
    "    counts = pd.crosstab(joined_gdf['lsoa21cd'], joined_gdf['poi_type'])\n",
    "    \n",
    "    # 确保三种POI类型都存在（如果某一类型在某个LSOA中没有，则计数为0）\n",
    "    for col in queries.keys():\n",
    "        if col not in counts.columns:\n",
    "            counts[col] = 0\n",
    "    \n",
    "    # 只保留我们关心的三种类型\n",
    "    counts = counts[list(queries.keys())].reset_index()\n",
    "    counts.rename(columns={'lsoa21cd': 'lsoa_id'}, inplace=True)\n",
    "    \n",
    "    # 7. 合并回原始GeoDataFrame\n",
    "    final_gdf = gdf.merge(counts, left_on='lsoa21cd', right_on='lsoa_id', how='left')\n",
    "    \n",
    "    # 8. 将缺失值替换为0（没有POI的LSOA）\n",
    "    final_gdf[list(queries.keys())] = final_gdf[list(queries.keys())].fillna(0)\n",
    "    \n",
    "    # ✅ 保存结果\n",
    "    print(\"保存结果...\")\n",
    "    final_gdf.to_file(\"london_poi_counts_2020.shp\")  # 保存为shapefile\n",
    "    final_gdf.to_csv(\"london_poi_counts_2020.csv\", index=False)  # 保存为CSV\n",
    "    \n",
    "    print(\"完成!\")\n",
    "    print(final_gdf[['lsoa21cd', 'shops', 'metro', 'bus_stops']].head())\n",
    "else:\n",
    "    print(\"未找到任何POI数据\")\n",
    "    \n",
    "    # 如果未找到POI，创建空结果\n",
    "    for name in queries.keys():\n",
    "        gdf[name] = 0\n",
    "    \n",
    "    # 保存空结果\n",
    "    gdf.to_file(\"london_poi_counts_2020.shp\")\n",
    "    gdf.to_csv(\"london_poi_counts_2020.csv\", index=False)\n",
    "    print(\"已创建包含零值的空结果文件\")"
   ]
  },
  {
   "cell_type": "code",
   "execution_count": 15,
   "id": "e9282828",
   "metadata": {},
   "outputs": [],
   "source": [
    "final_gdf.to_csv(\"data/poi2020.csv\", index=False)"
   ]
  },
  {
   "cell_type": "code",
   "execution_count": 6,
   "id": "584a6dd3",
   "metadata": {},
   "outputs": [],
   "source": [
    "poi_15 = pd.read_csv(\"data/poi2015.csv\")\n",
    "poi_19 = pd.read_csv(\"data/poi2019.csv\")"
   ]
  },
  {
   "cell_type": "code",
   "execution_count": 7,
   "id": "f16782fd",
   "metadata": {},
   "outputs": [],
   "source": [
    "poi_15.rename(columns={'shops': 'shop_15'}, inplace=True)\n",
    "poi_15.rename(columns={'metro': 'metro_15'}, inplace=True)\n",
    "poi_15.rename(columns={'bus_stops': 'bus_stops_15'}, inplace=True)\n",
    "poi_19.rename(columns={'shops': 'shop_19'}, inplace=True)\n",
    "poi_19.rename(columns={'metro': 'metro_19'}, inplace=True)\n",
    "poi_19.rename(columns={'bus_stops': 'bus_stops_19'}, inplace=True)"
   ]
  },
  {
   "cell_type": "code",
   "execution_count": 8,
   "id": "8d3fcc96",
   "metadata": {},
   "outputs": [
    {
     "name": "stdout",
     "output_type": "stream",
     "text": [
      "Index(['LSOA code', 'LSOA11NM', 'imd_score_', 'price_grow', 'high_price',\n",
      "       'high_imd_i', 'gentri_cat', 'geometry', 'lsoa_id', 'shop_15',\n",
      "       'metro_15', 'bus_stops_15'],\n",
      "      dtype='object')\n"
     ]
    }
   ],
   "source": [
    "print(poi_15.columns)"
   ]
  },
  {
   "cell_type": "code",
   "execution_count": 9,
   "id": "dc30df10",
   "metadata": {},
   "outputs": [
    {
     "name": "stdout",
     "output_type": "stream",
     "text": [
      "Index(['LSOA code', 'LSOA11NM_x', 'imd_score__x', 'price_grow_x',\n",
      "       'high_price_x', 'high_imd_i_x', 'gentri_cat_x', 'geometry_x',\n",
      "       'lsoa_id_x', 'shop_15', 'metro_15', 'bus_stops_15', 'LSOA11NM_y',\n",
      "       'imd_score__y', 'price_grow_y', 'high_price_y', 'high_imd_i_y',\n",
      "       'gentri_cat_y', 'geometry_y', 'lsoa_id_y', 'shop_19', 'metro_19',\n",
      "       'bus_stops_19'],\n",
      "      dtype='object')\n"
     ]
    }
   ],
   "source": [
    "df_poi = poi_15.merge(poi_19, on=\"LSOA code\", how=\"left\")\n",
    "print(df_poi.columns)"
   ]
  },
  {
   "cell_type": "code",
   "execution_count": 10,
   "id": "7518081a",
   "metadata": {},
   "outputs": [
    {
     "name": "stdout",
     "output_type": "stream",
     "text": [
      "   LSOA code                 LSOA11NM_x  imd_score__x  price_grow_x  \\\n",
      "0  E01000001        City of London 001A     -0.023916     -0.033399   \n",
      "1  E01000002        City of London 001B      0.177778      0.092194   \n",
      "2  E01000003        City of London 001C      0.007469      0.107022   \n",
      "3  E01000005        City of London 001E     -0.101788      0.697026   \n",
      "4  E01000006  Barking and Dagenham 016A      0.121012      0.261313   \n",
      "\n",
      "   high_price_x  high_imd_i_x          gentri_cat_x  \\\n",
      "0         False         False        non_gentrified   \n",
      "1         False          True  imd_improvement_only   \n",
      "2         False         False        non_gentrified   \n",
      "3          True         False       high_price_only   \n",
      "4          True          True        non_gentrified   \n",
      "\n",
      "                                          geometry_x  lsoa_id_x  shop_15  ...  \\\n",
      "0  POLYGON ((-0.0972886738363828 51.5215770412695...  E01000001      6.0  ...   \n",
      "1  POLYGON ((-0.0881291513868094 51.5194107187603...  E01000002      6.0  ...   \n",
      "2  POLYGON ((-0.0967857376580251 51.5232494893845...  E01000003      0.0  ...   \n",
      "3  POLYGON ((-0.0732309396132651 51.5100023979362...  E01000005     10.0  ...   \n",
      "4  POLYGON ((0.0911520748782917 51.53908530122539...        NaN      0.0  ...   \n",
      "\n",
      "   high_imd_i_y          gentri_cat_y  \\\n",
      "0         False        non_gentrified   \n",
      "1          True  imd_improvement_only   \n",
      "2         False        non_gentrified   \n",
      "3         False       high_price_only   \n",
      "4          True        non_gentrified   \n",
      "\n",
      "                                          geometry_y  lsoa_id_y  shop_19  \\\n",
      "0  POLYGON ((-0.0972886738363828 51.5215770412695...  E01000001      8.0   \n",
      "1  POLYGON ((-0.0881291513868094 51.5194107187603...  E01000002      6.0   \n",
      "2  POLYGON ((-0.0967857376580251 51.5232494893845...  E01000003      8.0   \n",
      "3  POLYGON ((-0.0732309396132651 51.5100023979362...  E01000005     16.0   \n",
      "4  POLYGON ((0.0911520748782917 51.53908530122539...        NaN      0.0   \n",
      "\n",
      "   metro_19  bus_stops_19 shop_increase metro_increase bus_increase  \n",
      "0       0.0           8.0           2.0           -1.0          1.0  \n",
      "1       1.0           4.0           0.0            1.0         -6.0  \n",
      "2       0.0           2.0           8.0            0.0          0.0  \n",
      "3       1.0           9.0           6.0            1.0         -1.0  \n",
      "4       0.0           0.0           0.0            0.0          0.0  \n",
      "\n",
      "[5 rows x 26 columns]\n"
     ]
    }
   ],
   "source": [
    "df_poi['shop_increase'] = df_poi['shop_19'] - df_poi['shop_15']\n",
    "df_poi['metro_increase'] = df_poi['metro_19'] - df_poi['metro_15']\n",
    "df_poi['bus_increase'] = df_poi['bus_stops_19'] - df_poi['bus_stops_15']\n",
    "print(df_poi.head(5))"
   ]
  },
  {
   "cell_type": "code",
   "execution_count": 12,
   "id": "6db9801d",
   "metadata": {},
   "outputs": [
    {
     "name": "stdout",
     "output_type": "stream",
     "text": [
      "   LSOA code  shop_increase  metro_increase  bus_increase\n",
      "0  E01000001            2.0            -1.0           1.0\n",
      "1  E01000002            0.0             1.0          -6.0\n",
      "2  E01000003            8.0             0.0           0.0\n",
      "3  E01000005            6.0             1.0          -1.0\n",
      "4  E01000006            0.0             0.0           0.0\n"
     ]
    }
   ],
   "source": [
    "poi_col = ['LSOA code', 'shop_increase', 'metro_increase', 'bus_increase']\n",
    "df_poi = df_poi[poi_col]\n",
    "print(df_poi.head(5))"
   ]
  },
  {
   "cell_type": "code",
   "execution_count": 13,
   "id": "5eef179b",
   "metadata": {},
   "outputs": [],
   "source": [
    "df_poi.to_csv(\"data/poi_15_19.csv\", index=False)"
   ]
  }
 ],
 "metadata": {
  "kernelspec": {
   "display_name": "Python (venv)",
   "language": "python",
   "name": "venv"
  },
  "language_info": {
   "codemirror_mode": {
    "name": "ipython",
    "version": 3
   },
   "file_extension": ".py",
   "mimetype": "text/x-python",
   "name": "python",
   "nbconvert_exporter": "python",
   "pygments_lexer": "ipython3",
   "version": "3.12.5"
  }
 },
 "nbformat": 4,
 "nbformat_minor": 5
}
