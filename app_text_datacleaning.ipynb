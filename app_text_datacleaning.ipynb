{
 "cells": [
  {
   "cell_type": "code",
   "execution_count": 5,
   "id": "2e0f3d5e",
   "metadata": {},
   "outputs": [],
   "source": [
    "import pandas as pd\n",
    "import numpy as np\n",
    "from elasticsearch import Elasticsearch\n",
    "import re\n",
    "\n",
    "import sys\n",
    "sys.path.append('functions')\n",
    "import preprocessing_fncs as ppf\n",
    "import elastic_search_fncs as esf"
   ]
  },
  {
   "cell_type": "markdown",
   "id": "1fbbbbb4",
   "metadata": {},
   "source": [
    "# Connecting"
   ]
  },
  {
   "cell_type": "code",
   "execution_count": 9,
   "id": "59b1628e",
   "metadata": {},
   "outputs": [
    {
     "name": "stdout",
     "output_type": "stream",
     "text": [
      "Connected to Elasticsearch!\n"
     ]
    }
   ],
   "source": [
    "# Details of the dataset\n",
    "db_host = 'https://athena.london.gov.uk'\n",
    "db_user = 'odbc_readonly'\n",
    "db_pass = 'odbc_readonly'\n",
    "db_port = '10099'\n",
    "db_name = 'gla-ldd-external'\n",
    "\n",
    "# Creates connection to the dataset\n",
    "es = Elasticsearch(\n",
    "    [f\"{db_host}:{db_port}\"],\n",
    "    basic_auth=(db_user, db_pass),\n",
    "    verify_certs=True,\n",
    "    ca_certs='athena_es_full_chain.crt'\n",
    ")\n",
    "\n",
    "# Check connection\n",
    "if es.ping():\n",
    "    print(\"Connected to Elasticsearch!\")\n",
    "else:\n",
    "    print(\"Could not connect to Elasticsearch.\")"
   ]
  },
  {
   "cell_type": "markdown",
   "id": "d14d08bb",
   "metadata": {},
   "source": [
    "# Get the data from 2015 to 2019"
   ]
  },
  {
   "cell_type": "code",
   "execution_count": 10,
   "id": "20fc715f",
   "metadata": {},
   "outputs": [
    {
     "name": "stderr",
     "output_type": "stream",
     "text": [
      "C:\\Users\\hp\\AppData\\Local\\Temp\\ipykernel_30212\\2830067377.py:53: DeprecationWarning: Received 'size' via a specific parameter in the presence of a 'body' parameter, which is deprecated and will be removed in a future version. Instead, use only 'body' or only specific parameters.\n",
      "  response = es.search(index=\"applications\", body=query, scroll=\"2m\", size=10000)\n",
      "C:\\Users\\hp\\AppData\\Local\\Temp\\ipykernel_30212\\2830067377.py:53: DeprecationWarning: Received 'size' via a specific parameter in the presence of a 'body' parameter, which is deprecated and will be removed in a future version. Instead, use only 'body' or only specific parameters.\n",
      "  response = es.search(index=\"applications\", body=query, scroll=\"2m\", size=10000)\n",
      "C:\\Users\\hp\\AppData\\Local\\Temp\\ipykernel_30212\\2830067377.py:53: DeprecationWarning: Received 'size' via a specific parameter in the presence of a 'body' parameter, which is deprecated and will be removed in a future version. Instead, use only 'body' or only specific parameters.\n",
      "  response = es.search(index=\"applications\", body=query, scroll=\"2m\", size=10000)\n",
      "C:\\Users\\hp\\AppData\\Local\\Temp\\ipykernel_30212\\2830067377.py:53: DeprecationWarning: Received 'size' via a specific parameter in the presence of a 'body' parameter, which is deprecated and will be removed in a future version. Instead, use only 'body' or only specific parameters.\n",
      "  response = es.search(index=\"applications\", body=query, scroll=\"2m\", size=10000)\n",
      "C:\\Users\\hp\\AppData\\Local\\Temp\\ipykernel_30212\\2830067377.py:53: DeprecationWarning: Received 'size' via a specific parameter in the presence of a 'body' parameter, which is deprecated and will be removed in a future version. Instead, use only 'body' or only specific parameters.\n",
      "  response = es.search(index=\"applications\", body=query, scroll=\"2m\", size=10000)\n"
     ]
    }
   ],
   "source": [
    "all_years_df = [] # save the data into this dataframe\n",
    "\n",
    "for year in range(2015, 2020):  # 2015–2019\n",
    "    query = {\n",
    "        \"query\": {\n",
    "            \"bool\": {\n",
    "                # conditions that must be met\n",
    "                \"must\": [ \n",
    "                    {\n",
    "                        \"range\": {\n",
    "                            # valid data between 2015-019\n",
    "                            \"valid_date\": {\n",
    "                                \"gte\": f\"01/01/{year}\",\n",
    "                                \"lt\": f\"01/01/{year + 1}\"\n",
    "                            }\n",
    "                        }\n",
    "                    }\n",
    "                ],\n",
    "                # The conditions that should be met\n",
    "                \"should\": [\n",
    "                    {\n",
    "                        \"range\": {\n",
    "                            \"application_details.residential_details.total_no_existing_residential_units\": {\n",
    "                                \"gte\": 1\n",
    "                            }\n",
    "                        }\n",
    "                    },\n",
    "                    {\n",
    "                        \"range\": {\n",
    "                            \"application_details.residential_details.total_no_proposed_residential_units\": {\n",
    "                                \"gte\": 1\n",
    "                            }\n",
    "                        }\n",
    "                    }\n",
    "                ],\n",
    "                \"minimum_should_match\": 1 # At least meet one of the condition\n",
    "            }\n",
    "        },\n",
    "        \"_source\": [\n",
    "            \"valid_date\",\n",
    "            \"borough\",\n",
    "            \"application_details.residential_details.total_no_existing_residential_units\",\n",
    "            \"application_details.residential_details.total_no_proposed_residential_units\",\n",
    "            \"street_name\",\n",
    "            \"site_name\",\n",
    "            \"polygon\", \n",
    "            \"wgs84_polygon\", # geo\n",
    "            \"description\" # main target\n",
    "        ]\n",
    "    }\n",
    "    \n",
    "    # Elasticsearch query\n",
    "    response = es.search(index=\"applications\", body=query, scroll=\"2m\", size=10000)\n",
    "    scroll_id = response['_scroll_id']\n",
    "    hits = response['hits']['hits']\n",
    "\n",
    "    all_hits = []\n",
    "    all_hits.extend(hits)\n",
    "\n",
    "    while len(hits) > 0:\n",
    "        response = es.scroll(scroll_id=scroll_id, scroll=\"2m\")\n",
    "        scroll_id = response['_scroll_id']\n",
    "        hits = response['hits']['hits']\n",
    "        all_hits.extend(hits)\n",
    "\n",
    "    df_raw = pd.json_normalize(all_hits)\n",
    "    df_cleaned = ppf.format_df(df_raw)\n",
    "    df_cleaned['year'] = year\n",
    "\n",
    "    all_years_df.append(df_cleaned)\n",
    "\n",
    "# combined all the data\n",
    "df_london_all = pd.concat(all_years_df, ignore_index=True)\n"
   ]
  },
  {
   "cell_type": "code",
   "execution_count": 12,
   "id": "e0144751",
   "metadata": {},
   "outputs": [
    {
     "name": "stdout",
     "output_type": "stream",
     "text": [
      "(9717, 15)\n",
      "          site_name valid_date  \\\n",
      "0  Residential Unit 2015-06-23   \n",
      "1                   2015-05-11   \n",
      "2      2 Elers Road 2015-05-05   \n",
      "3        Rose Court 2015-08-21   \n",
      "4                   2015-09-17   \n",
      "\n",
      "                                  polygon.geometries        polygon.type  \\\n",
      "0  [{'coordinates': [[[529220.0027867, 186434.103...  GeometryCollection   \n",
      "1  [{'coordinates': [[[529924.4937875, 186185.904...  GeometryCollection   \n",
      "2  [{'coordinates': [[[517284.89757, 179818.14684...  GeometryCollection   \n",
      "3  [{'coordinates': [[[524961.5441693, 171136.692...  GeometryCollection   \n",
      "4                                                NaN                 NaN   \n",
      "\n",
      "                           wgs84_polygon.coordinates wgs84_polygon.type  \\\n",
      "0  [[[-0.137201, 51.5619933], [-0.137201699999999...            Polygon   \n",
      "1  [[[-0.1271351, 51.5596012], [-0.1271822, 51.55...            Polygon   \n",
      "2  [[[-0.3115011, 51.5051362], [-0.311508, 51.505...            Polygon   \n",
      "3  [[[-0.2040145, 51.4254703], [-0.2040078, 51.42...            Polygon   \n",
      "4  [[[-0.175381, 51.650952], [-0.175382, 51.65092...            Polygon   \n",
      "\n",
      "   total_no_proposed_residential_units  total_no_existing_residential_units  \\\n",
      "0                                    3                                    1   \n",
      "1                                    1                                    3   \n",
      "2                                    7                                    1   \n",
      "3                                    9                                   11   \n",
      "4                                    9                                    2   \n",
      "\n",
      "                                         description    borough  \\\n",
      "0  Substantial demolition of existing residential...  Islington   \n",
      "1  Single storey rear and side infill extension a...  Islington   \n",
      "2  Conversion of dwellinghouse into 7 flats (6 x ...     Ealing   \n",
      "3  DEMOLITION OF EXISTING APARTMENT BLOCK AND RED...     Merton   \n",
      "4  Demolition of existing buildings and redevelop...     Barnet   \n",
      "\n",
      "      street_name  polygon polygon.coordinates  wgs84_polygon  year  \n",
      "0  Tremlett Grove      NaN                 NaN            NaN  2015  \n",
      "1    Yerbury Road      NaN                 NaN            NaN  2015  \n",
      "2      Elers Road      NaN                 NaN            NaN  2015  \n",
      "3        Woodside      NaN                 NaN            NaN  2015  \n",
      "4     Lytton Road      NaN                 NaN            NaN  2015  \n"
     ]
    }
   ],
   "source": [
    "print(df_london_all.shape)\n",
    "print(df_london_all.head())"
   ]
  },
  {
   "cell_type": "code",
   "execution_count": 13,
   "id": "c0968cb8",
   "metadata": {},
   "outputs": [
    {
     "name": "stderr",
     "output_type": "stream",
     "text": [
      "C:\\Users\\hp\\AppData\\Local\\Temp\\ipykernel_30212\\2603484322.py:53: DeprecationWarning: Received 'size' via a specific parameter in the presence of a 'body' parameter, which is deprecated and will be removed in a future version. Instead, use only 'body' or only specific parameters.\n",
      "  response = es.search(index=\"applications\", body=query, scroll=\"2m\", size=10000)\n",
      "C:\\Users\\hp\\AppData\\Local\\Temp\\ipykernel_30212\\2603484322.py:53: DeprecationWarning: Received 'size' via a specific parameter in the presence of a 'body' parameter, which is deprecated and will be removed in a future version. Instead, use only 'body' or only specific parameters.\n",
      "  response = es.search(index=\"applications\", body=query, scroll=\"2m\", size=10000)\n",
      "C:\\Users\\hp\\AppData\\Local\\Temp\\ipykernel_30212\\2603484322.py:53: DeprecationWarning: Received 'size' via a specific parameter in the presence of a 'body' parameter, which is deprecated and will be removed in a future version. Instead, use only 'body' or only specific parameters.\n",
      "  response = es.search(index=\"applications\", body=query, scroll=\"2m\", size=10000)\n",
      "C:\\Users\\hp\\AppData\\Local\\Temp\\ipykernel_30212\\2603484322.py:53: DeprecationWarning: Received 'size' via a specific parameter in the presence of a 'body' parameter, which is deprecated and will be removed in a future version. Instead, use only 'body' or only specific parameters.\n",
      "  response = es.search(index=\"applications\", body=query, scroll=\"2m\", size=10000)\n",
      "C:\\Users\\hp\\AppData\\Local\\Temp\\ipykernel_30212\\2603484322.py:53: DeprecationWarning: Received 'size' via a specific parameter in the presence of a 'body' parameter, which is deprecated and will be removed in a future version. Instead, use only 'body' or only specific parameters.\n",
      "  response = es.search(index=\"applications\", body=query, scroll=\"2m\", size=10000)\n"
     ]
    }
   ],
   "source": [
    "all_years_df2 = [] # save the data into this dataframe\n",
    "\n",
    "for year in range(2015, 2020):  # 2015–2019\n",
    "    query = {\n",
    "        \"query\": {\n",
    "            \"bool\": {\n",
    "                # conditions that must be met\n",
    "                \"must\": [ \n",
    "                    {\n",
    "                        \"range\": {\n",
    "                            # desition data between 2015-019\n",
    "                            \"decision_date\": {\n",
    "                                \"gte\": f\"01/01/{year}\",\n",
    "                                \"lt\": f\"01/01/{year + 1}\"\n",
    "                            }\n",
    "                        }\n",
    "                    }\n",
    "                ],\n",
    "                # The conditions that should be met\n",
    "                \"should\": [\n",
    "                    {\n",
    "                        \"range\": {\n",
    "                            \"application_details.residential_details.total_no_existing_residential_units\": {\n",
    "                                \"gte\": 1\n",
    "                            }\n",
    "                        }\n",
    "                    },\n",
    "                    {\n",
    "                        \"range\": {\n",
    "                            \"application_details.residential_details.total_no_proposed_residential_units\": {\n",
    "                                \"gte\": 1\n",
    "                            }\n",
    "                        }\n",
    "                    }\n",
    "                ],\n",
    "                \"minimum_should_match\": 1 # At least meet one of the condition\n",
    "            }\n",
    "        },\n",
    "        \"_source\": [\n",
    "            \"decision_date\",\n",
    "            \"borough\",\n",
    "            \"application_details.residential_details.total_no_existing_residential_units\",\n",
    "            \"application_details.residential_details.total_no_proposed_residential_units\",\n",
    "            \"street_name\",\n",
    "            \"site_name\",\n",
    "            \"polygon\", \n",
    "            \"wgs84_polygon\", # geo\n",
    "            \"description\" # main target\n",
    "        ]\n",
    "    }\n",
    "    \n",
    "    # Elasticsearch query\n",
    "    response = es.search(index=\"applications\", body=query, scroll=\"2m\", size=10000)\n",
    "    scroll_id = response['_scroll_id']\n",
    "    hits = response['hits']['hits']\n",
    "\n",
    "    all_hits = []\n",
    "    all_hits.extend(hits)\n",
    "\n",
    "    while len(hits) > 0:\n",
    "        response = es.scroll(scroll_id=scroll_id, scroll=\"2m\")\n",
    "        scroll_id = response['_scroll_id']\n",
    "        hits = response['hits']['hits']\n",
    "        all_hits.extend(hits)\n",
    "\n",
    "    df_raw = pd.json_normalize(all_hits)\n",
    "    df_cleaned = ppf.format_df(df_raw)\n",
    "    df_cleaned['year'] = year\n",
    "\n",
    "    all_years_df2.append(df_cleaned)\n",
    "\n",
    "# combined all the data\n",
    "df_london_all2 = pd.concat(all_years_df2, ignore_index=True)"
   ]
  },
  {
   "cell_type": "code",
   "execution_count": 14,
   "id": "bea10114",
   "metadata": {},
   "outputs": [
    {
     "name": "stdout",
     "output_type": "stream",
     "text": [
      "(31718, 15)\n"
     ]
    }
   ],
   "source": [
    "print(df_london_all2.shape)"
   ]
  },
  {
   "cell_type": "markdown",
   "id": "ffd8dd4c",
   "metadata": {},
   "source": [
    "There is a large gap between the decision date and the valid date.\n",
    "\n",
    "1. change into decision date?\n",
    "\n",
    "2. stick to valid date but change the range to a longer time period?"
   ]
  },
  {
   "cell_type": "markdown",
   "id": "abdcb79a",
   "metadata": {},
   "source": [
    "# All applications between 2015 - 2019"
   ]
  },
  {
   "cell_type": "code",
   "execution_count": 17,
   "id": "aef5f622",
   "metadata": {},
   "outputs": [
    {
     "name": "stderr",
     "output_type": "stream",
     "text": [
      "C:\\Users\\hp\\AppData\\Local\\Temp\\ipykernel_30212\\4074234069.py:35: DeprecationWarning: Received 'size' via a specific parameter in the presence of a 'body' parameter, which is deprecated and will be removed in a future version. Instead, use only 'body' or only specific parameters.\n",
      "  response = es.search(index=\"applications\", body=query, scroll=\"2m\", size=10000)\n",
      "C:\\Users\\hp\\AppData\\Local\\Temp\\ipykernel_30212\\4074234069.py:35: DeprecationWarning: Received 'size' via a specific parameter in the presence of a 'body' parameter, which is deprecated and will be removed in a future version. Instead, use only 'body' or only specific parameters.\n",
      "  response = es.search(index=\"applications\", body=query, scroll=\"2m\", size=10000)\n",
      "C:\\Users\\hp\\AppData\\Local\\Temp\\ipykernel_30212\\4074234069.py:35: DeprecationWarning: Received 'size' via a specific parameter in the presence of a 'body' parameter, which is deprecated and will be removed in a future version. Instead, use only 'body' or only specific parameters.\n",
      "  response = es.search(index=\"applications\", body=query, scroll=\"2m\", size=10000)\n",
      "C:\\Users\\hp\\AppData\\Local\\Temp\\ipykernel_30212\\4074234069.py:35: DeprecationWarning: Received 'size' via a specific parameter in the presence of a 'body' parameter, which is deprecated and will be removed in a future version. Instead, use only 'body' or only specific parameters.\n",
      "  response = es.search(index=\"applications\", body=query, scroll=\"2m\", size=10000)\n",
      "C:\\Users\\hp\\AppData\\Local\\Temp\\ipykernel_30212\\4074234069.py:35: DeprecationWarning: Received 'size' via a specific parameter in the presence of a 'body' parameter, which is deprecated and will be removed in a future version. Instead, use only 'body' or only specific parameters.\n",
      "  response = es.search(index=\"applications\", body=query, scroll=\"2m\", size=10000)\n"
     ]
    }
   ],
   "source": [
    "all_years_df3 = [] # save the data into this dataframe\n",
    "\n",
    "for year in range(2015, 2020):  # 2015–2019\n",
    "    query = {\n",
    "        \"query\": {\n",
    "            \"bool\": {\n",
    "                # conditions that must be met\n",
    "                \"must\": [ \n",
    "                    {\n",
    "                        \"range\": {\n",
    "                            \"valid_date\": {\n",
    "                                \"gte\": f\"01/01/{year}\",\n",
    "                                \"lt\": f\"01/01/{year + 1}\"\n",
    "                            }\n",
    "                        }\n",
    "                    }\n",
    "                ],\n",
    "            }\n",
    "        },\n",
    "        \"_source\": [\n",
    "            \"valid_date\",\n",
    "            \"decision_date\",\n",
    "            \"borough\",\n",
    "            \"application_details.residential_details.total_no_existing_residential_units\",\n",
    "            \"application_details.residential_details.total_no_proposed_residential_units\",\n",
    "            \"street_name\",\n",
    "            \"site_name\",\n",
    "            \"polygon\", \n",
    "            \"wgs84_polygon\", # geo\n",
    "            \"description\" # main target\n",
    "        ]\n",
    "    }\n",
    "    \n",
    "    # Elasticsearch query\n",
    "    response = es.search(index=\"applications\", body=query, scroll=\"2m\", size=10000)\n",
    "    scroll_id = response['_scroll_id']\n",
    "    hits = response['hits']['hits']\n",
    "\n",
    "    all_hits = []\n",
    "    all_hits.extend(hits)\n",
    "\n",
    "    while len(hits) > 0:\n",
    "        response = es.scroll(scroll_id=scroll_id, scroll=\"2m\")\n",
    "        scroll_id = response['_scroll_id']\n",
    "        hits = response['hits']['hits']\n",
    "        all_hits.extend(hits)\n",
    "\n",
    "    df_raw = pd.json_normalize(all_hits)\n",
    "    df_cleaned = ppf.format_df(df_raw)\n",
    "    df_cleaned['year'] = year\n",
    "\n",
    "    all_years_df3.append(df_cleaned)\n",
    "\n",
    "# combined all the data\n",
    "df_london_all3 = pd.concat(all_years_df3, ignore_index=True)"
   ]
  },
  {
   "cell_type": "code",
   "execution_count": 18,
   "id": "aa47e474",
   "metadata": {},
   "outputs": [
    {
     "name": "stdout",
     "output_type": "stream",
     "text": [
      "(192635, 16)\n"
     ]
    }
   ],
   "source": [
    "print(df_london_all3.shape)"
   ]
  }
 ],
 "metadata": {
  "kernelspec": {
   "display_name": "venv",
   "language": "python",
   "name": "python3"
  },
  "language_info": {
   "codemirror_mode": {
    "name": "ipython",
    "version": 3
   },
   "file_extension": ".py",
   "mimetype": "text/x-python",
   "name": "python",
   "nbconvert_exporter": "python",
   "pygments_lexer": "ipython3",
   "version": "3.12.5"
  }
 },
 "nbformat": 4,
 "nbformat_minor": 5
}
