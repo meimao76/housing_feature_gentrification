{
 "cells": [
  {
   "cell_type": "code",
   "execution_count": null,
   "id": "1a85c6ab",
   "metadata": {},
   "outputs": [],
   "source": [
    "import geopandas as gpd\n",
    "import numpy as np\n",
    "import pandas as pd\n",
    "from shapely.geometry import Polygon\n",
    "from shapely.geometry import Point\n",
    "from sentence_transformers import SentenceTransformer\n",
    "from sklearn.linear_model import LogisticRegression\n",
    "from sklearn.metrics.pairwise import cosine_similarity\n",
    "from tqdm import tqdm\n",
    "from sklearn.model_selection import train_test_split\n",
    "from sklearn.metrics import classification_report, roc_auc_score"
   ]
  },
  {
   "cell_type": "code",
   "execution_count": null,
   "id": "e35081cd",
   "metadata": {},
   "outputs": [],
   "source": [
    "# merge the gentri label to the vectorization text\n",
    "# use 'polygon' or 'wgs84_polygon', depend on what coordinate the label is\n",
    "# load gentri label\n",
    "lsoa_label = gpd.read_file(\"data/gentri_data/london_gentri_labeled_25_only.shp\")\n",
    "lsoa_label.crs"
   ]
  },
  {
   "cell_type": "code",
   "execution_count": null,
   "id": "ad6c0619",
   "metadata": {},
   "outputs": [],
   "source": [
    "stru_data = pd.read_csv(\"data/all_stru_data_added.csv\")\n",
    "stru_data = stru_data.rename(columns={'LSOA Code': 'LSOA code'})\n",
    "lsoa_label = lsoa_label.merge(stru_data, on= \"LSOA code\", how=\"left\")\n",
    "text = pd.read_parquet(\"sbert_encoded_data.parquet\")\n",
    "# turn polygon coordinate into shapely \n",
    "# make sure to drop the null geodata\n",
    "text_valid = text[text['wgs84_polygon.coordinates'].notnull()].copy()\n",
    "text_valid[\"geometry\"] = text_valid[\"wgs84_polygon.coordinates\"].apply(lambda coords: Polygon(coords[0]))\n",
    "# creat GeoDataFrame， set WGS84 coordinate\n",
    "gdf_text = gpd.GeoDataFrame(text_valid, geometry=\"geometry\", crs=\"EPSG:4326\")\n",
    "# set to 27700\n",
    "gdf_27700 = gdf_text.to_crs(\"EPSG:27700\")\n",
    "joined = gpd.sjoin(gdf_27700, lsoa_label[[\"LSOA code\", \"geometry\", \"gentrified\", \"pop_growth_rate\",  \n",
    "                                          \"avg_den\", \"senior_per\", \"minority_per\",\n",
    "                                          'all_dwelling', 'shared_per', 'converted_per',\n",
    "                                          'level_4_pop', 'level_4_per',\n",
    "                                          'prof_occ_count', 'prof_occ_per',\n",
    "                                          'sale_avg',\n",
    "                                          'single_per',\n",
    "                                          'less_10km_per']], \n",
    "                                          how=\"left\", predicate=\"within\")\n",
    "# get the centroid of each polygon\n",
    "gdf_27700[\"centroid\"] = gdf_27700.geometry.centroid\n",
    "# spatial join\n",
    "joined_centroid = gpd.sjoin(gdf_27700.set_geometry(\"centroid\"), lsoa_label[[\"LSOA code\", \"geometry\", \n",
    "                                                                            \"gentrified\", \n",
    "                                                                            \"avg_den\", \"senior_per\", \"minority_per\"]],\n",
    "                                                                            how=\"left\",predicate=\"within\")\n",
    "joined_cleaned = joined_centroid[joined_centroid[\"gentrified\"].notna()].copy()\n",
    "joined_cleaned.columns\n",
    "df_poi = pd.read_csv(\"data/poi_15_19.csv\")\n",
    "final_df = joined_cleaned.merge(df_poi[['LSOA code','shop_increase','metro_increase','bus_increase']], on=\"LSOA code\", how=\"left\")"
   ]
  }
 ],
 "metadata": {
  "language_info": {
   "name": "python"
  }
 },
 "nbformat": 4,
 "nbformat_minor": 5
}
