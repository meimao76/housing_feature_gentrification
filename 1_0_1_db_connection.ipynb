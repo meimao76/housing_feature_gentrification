{
 "cells": [
  {
   "cell_type": "markdown",
   "metadata": {},
   "source": [
    "## 1. Import relevant packages. \n",
    "\n",
    "It's a good practise to install these packages inside a [virtual environment](https://realpython.com/python-virtual-environments-a-primer/)"
   ]
  },
  {
   "cell_type": "code",
   "execution_count": 1,
   "metadata": {},
   "outputs": [],
   "source": [
    "import pandas as pd\n",
    "import numpy as np\n",
    "from elasticsearch import Elasticsearch\n",
    "import re\n",
    "\n",
    "import sys\n",
    "sys.path.append('functions')\n",
    "import preprocessing_fncs as ppf\n",
    "import elastic_search_fncs as esf"
   ]
  },
  {
   "cell_type": "markdown",
   "metadata": {},
   "source": [
    "## 2. Check the database connection \n",
    "\n",
    "This is how you connect to the remote database. "
   ]
  },
  {
   "cell_type": "code",
   "execution_count": 2,
   "metadata": {},
   "outputs": [
    {
     "name": "stdout",
     "output_type": "stream",
     "text": [
      "Connected to Elasticsearch!\n"
     ]
    }
   ],
   "source": [
    "# Details of the dataset\n",
    "db_host = 'https://athena.london.gov.uk'\n",
    "db_user = 'odbc_readonly'\n",
    "db_pass = 'odbc_readonly'\n",
    "db_port = '10099'\n",
    "db_name = 'gla-ldd-external'\n",
    "\n",
    "# Creates connection to the dataset\n",
    "es = Elasticsearch(\n",
    "    [f\"{db_host}:{db_port}\"],\n",
    "    basic_auth=(db_user, db_pass),\n",
    "    verify_certs=True,\n",
    "    ca_certs='athena_es_full_chain.crt'\n",
    ")\n",
    "\n",
    "# Check connection\n",
    "if es.ping():\n",
    "    print(\"Connected to Elasticsearch!\")\n",
    "else:\n",
    "    print(\"Could not connect to Elasticsearch.\")"
   ]
  },
  {
   "cell_type": "markdown",
   "metadata": {},
   "source": [
    "## 3. Retreive dataset \n",
    "\n",
    "Here I use a function I wrote, which queries the dataset and returns the dataframe matching the query. "
   ]
  },
  {
   "cell_type": "code",
   "execution_count": 3,
   "metadata": {},
   "outputs": [],
   "source": [
    "borough = 'camden'\n",
    "year = 2021\n",
    "\n",
    "df = esf.get_residential_units_by_borough(es=es, borough=borough, year=year)\n",
    "df = ppf.format_df(df)"
   ]
  },
  {
   "cell_type": "code",
   "execution_count": 4,
   "metadata": {},
   "outputs": [
    {
     "data": {
      "text/html": [
       "<div>\n",
       "<style scoped>\n",
       "    .dataframe tbody tr th:only-of-type {\n",
       "        vertical-align: middle;\n",
       "    }\n",
       "\n",
       "    .dataframe tbody tr th {\n",
       "        vertical-align: top;\n",
       "    }\n",
       "\n",
       "    .dataframe thead th {\n",
       "        text-align: right;\n",
       "    }\n",
       "</style>\n",
       "<table border=\"1\" class=\"dataframe\">\n",
       "  <thead>\n",
       "    <tr style=\"text-align: right;\">\n",
       "      <th></th>\n",
       "      <th>uprn</th>\n",
       "      <th>pp_id</th>\n",
       "      <th>decision</th>\n",
       "      <th>wgs84_polygon.coordinates</th>\n",
       "      <th>wgs84_polygon.type</th>\n",
       "      <th>description</th>\n",
       "      <th>total_no_proposed_residential_units</th>\n",
       "      <th>habitable_rooms_density</th>\n",
       "      <th>site_area</th>\n",
       "      <th>borough</th>\n",
       "      <th>...</th>\n",
       "      <th>site_name</th>\n",
       "      <th>decision_date</th>\n",
       "      <th>valid_date</th>\n",
       "      <th>lpa_app_no</th>\n",
       "      <th>polygon.geometries</th>\n",
       "      <th>polygon.type</th>\n",
       "      <th>site_number</th>\n",
       "      <th>status</th>\n",
       "      <th>wgs84_polygon</th>\n",
       "      <th>polygon</th>\n",
       "    </tr>\n",
       "  </thead>\n",
       "  <tbody>\n",
       "    <tr>\n",
       "      <th>0</th>\n",
       "      <td>5048246</td>\n",
       "      <td>None</td>\n",
       "      <td>Approved</td>\n",
       "      <td>[[[-0.204059, 51.553921], [-0.204056, 51.55392...</td>\n",
       "      <td>Polygon</td>\n",
       "      <td>Conversion of 1 x 5 bed dwellinghouse into 2 f...</td>\n",
       "      <td>2</td>\n",
       "      <td>NaN</td>\n",
       "      <td>NaN</td>\n",
       "      <td>Camden</td>\n",
       "      <td>...</td>\n",
       "      <td></td>\n",
       "      <td>2021-10-13</td>\n",
       "      <td>2020-09-10</td>\n",
       "      <td>2020/4107/P</td>\n",
       "      <td>[{'coordinates': [[[524609.7521472294, 185420....</td>\n",
       "      <td>geometrycollection</td>\n",
       "      <td>2</td>\n",
       "      <td>Lapsed</td>\n",
       "      <td>NaN</td>\n",
       "      <td>NaN</td>\n",
       "    </tr>\n",
       "    <tr>\n",
       "      <th>1</th>\n",
       "      <td>5190055</td>\n",
       "      <td>None</td>\n",
       "      <td>Approved</td>\n",
       "      <td>[[[-0.18916339999999998, 51.5406683], [-0.1890...</td>\n",
       "      <td>Polygon</td>\n",
       "      <td>Erection of 2-storey plus basement house with ...</td>\n",
       "      <td>1</td>\n",
       "      <td>NaN</td>\n",
       "      <td>NaN</td>\n",
       "      <td>Camden</td>\n",
       "      <td>...</td>\n",
       "      <td>Garages And Land Adjacent To 39 Priory Terrace</td>\n",
       "      <td>2021-04-14</td>\n",
       "      <td>2020-06-11</td>\n",
       "      <td>2020/2839/P</td>\n",
       "      <td>[{'coordinates': [[[525677.1274171, 183972.261...</td>\n",
       "      <td>GeometryCollection</td>\n",
       "      <td>41</td>\n",
       "      <td>Completed</td>\n",
       "      <td>NaN</td>\n",
       "      <td>NaN</td>\n",
       "    </tr>\n",
       "    <tr>\n",
       "      <th>2</th>\n",
       "      <td>5006173</td>\n",
       "      <td>7937949</td>\n",
       "      <td>Approved</td>\n",
       "      <td>[[[-0.2014926, 51.5522848], [-0.2014673, 51.55...</td>\n",
       "      <td>Polygon</td>\n",
       "      <td>Excavation of basement including new front bay...</td>\n",
       "      <td>1</td>\n",
       "      <td>NaN</td>\n",
       "      <td>NaN</td>\n",
       "      <td>Camden</td>\n",
       "      <td>...</td>\n",
       "      <td>None</td>\n",
       "      <td>2021-05-26</td>\n",
       "      <td>2019-07-19</td>\n",
       "      <td>2019/3109/P</td>\n",
       "      <td>[{'coordinates': [[[524790.4014361, 185242.954...</td>\n",
       "      <td>GeometryCollection</td>\n",
       "      <td>1</td>\n",
       "      <td>Lapsed</td>\n",
       "      <td>NaN</td>\n",
       "      <td>NaN</td>\n",
       "    </tr>\n",
       "    <tr>\n",
       "      <th>3</th>\n",
       "      <td>5090695</td>\n",
       "      <td>8621615</td>\n",
       "      <td>Approved</td>\n",
       "      <td>[[[-0.1514144, 51.5444391], [-0.1513821, 51.54...</td>\n",
       "      <td>Polygon</td>\n",
       "      <td>Redevelopment of site including demolition of ...</td>\n",
       "      <td>115</td>\n",
       "      <td>NaN</td>\n",
       "      <td>NaN</td>\n",
       "      <td>Camden</td>\n",
       "      <td>...</td>\n",
       "      <td>Former Charlie Ratchford Centre</td>\n",
       "      <td>2021-11-05</td>\n",
       "      <td>2020-11-02</td>\n",
       "      <td>2020/5063/P</td>\n",
       "      <td>[{'coordinates': [[[528284.1966095, 184457.049...</td>\n",
       "      <td>GeometryCollection</td>\n",
       "      <td>None</td>\n",
       "      <td>Commenced</td>\n",
       "      <td>NaN</td>\n",
       "      <td>NaN</td>\n",
       "    </tr>\n",
       "    <tr>\n",
       "      <th>4</th>\n",
       "      <td>5109475</td>\n",
       "      <td>9450405</td>\n",
       "      <td>Refused</td>\n",
       "      <td>[[[-0.1383528, 51.5352708], [-0.1385007, 51.53...</td>\n",
       "      <td>Polygon</td>\n",
       "      <td>Erection of 2x three storey mews houses on sit...</td>\n",
       "      <td>3</td>\n",
       "      <td>NaN</td>\n",
       "      <td>NaN</td>\n",
       "      <td>Camden</td>\n",
       "      <td>...</td>\n",
       "      <td></td>\n",
       "      <td>2021-08-10</td>\n",
       "      <td>2021-05-24</td>\n",
       "      <td>2021/0602/P</td>\n",
       "      <td>[{'coordinates': [[[529215.8189115, 183460.480...</td>\n",
       "      <td>GeometryCollection</td>\n",
       "      <td>8</td>\n",
       "      <td>Refused</td>\n",
       "      <td>NaN</td>\n",
       "      <td>NaN</td>\n",
       "    </tr>\n",
       "  </tbody>\n",
       "</table>\n",
       "<p>5 rows × 21 columns</p>\n",
       "</div>"
      ],
      "text/plain": [
       "      uprn    pp_id  decision  \\\n",
       "0  5048246     None  Approved   \n",
       "1  5190055     None  Approved   \n",
       "2  5006173  7937949  Approved   \n",
       "3  5090695  8621615  Approved   \n",
       "4  5109475  9450405   Refused   \n",
       "\n",
       "                           wgs84_polygon.coordinates wgs84_polygon.type  \\\n",
       "0  [[[-0.204059, 51.553921], [-0.204056, 51.55392...            Polygon   \n",
       "1  [[[-0.18916339999999998, 51.5406683], [-0.1890...            Polygon   \n",
       "2  [[[-0.2014926, 51.5522848], [-0.2014673, 51.55...            Polygon   \n",
       "3  [[[-0.1514144, 51.5444391], [-0.1513821, 51.54...            Polygon   \n",
       "4  [[[-0.1383528, 51.5352708], [-0.1385007, 51.53...            Polygon   \n",
       "\n",
       "                                         description  \\\n",
       "0  Conversion of 1 x 5 bed dwellinghouse into 2 f...   \n",
       "1  Erection of 2-storey plus basement house with ...   \n",
       "2  Excavation of basement including new front bay...   \n",
       "3  Redevelopment of site including demolition of ...   \n",
       "4  Erection of 2x three storey mews houses on sit...   \n",
       "\n",
       "   total_no_proposed_residential_units  habitable_rooms_density  site_area  \\\n",
       "0                                    2                      NaN        NaN   \n",
       "1                                    1                      NaN        NaN   \n",
       "2                                    1                      NaN        NaN   \n",
       "3                                  115                      NaN        NaN   \n",
       "4                                    3                      NaN        NaN   \n",
       "\n",
       "  borough  ...                                       site_name decision_date  \\\n",
       "0  Camden  ...                                                    2021-10-13   \n",
       "1  Camden  ...  Garages And Land Adjacent To 39 Priory Terrace    2021-04-14   \n",
       "2  Camden  ...                                            None    2021-05-26   \n",
       "3  Camden  ...                Former Charlie Ratchford Centre     2021-11-05   \n",
       "4  Camden  ...                                                    2021-08-10   \n",
       "\n",
       "  valid_date   lpa_app_no                                 polygon.geometries  \\\n",
       "0 2020-09-10  2020/4107/P  [{'coordinates': [[[524609.7521472294, 185420....   \n",
       "1 2020-06-11  2020/2839/P  [{'coordinates': [[[525677.1274171, 183972.261...   \n",
       "2 2019-07-19  2019/3109/P  [{'coordinates': [[[524790.4014361, 185242.954...   \n",
       "3 2020-11-02  2020/5063/P  [{'coordinates': [[[528284.1966095, 184457.049...   \n",
       "4 2021-05-24  2021/0602/P  [{'coordinates': [[[529215.8189115, 183460.480...   \n",
       "\n",
       "         polygon.type site_number     status wgs84_polygon  polygon  \n",
       "0  geometrycollection           2     Lapsed           NaN      NaN  \n",
       "1  GeometryCollection          41  Completed           NaN      NaN  \n",
       "2  GeometryCollection           1     Lapsed           NaN      NaN  \n",
       "3  GeometryCollection        None  Commenced           NaN      NaN  \n",
       "4  GeometryCollection           8    Refused           NaN      NaN  \n",
       "\n",
       "[5 rows x 21 columns]"
      ]
     },
     "execution_count": 4,
     "metadata": {},
     "output_type": "execute_result"
    }
   ],
   "source": [
    "df.head()"
   ]
  },
  {
   "cell_type": "code",
   "execution_count": 5,
   "metadata": {},
   "outputs": [
    {
     "data": {
      "text/plain": [
       "Index(['uprn', 'pp_id', 'decision', 'wgs84_polygon.coordinates',\n",
       "       'wgs84_polygon.type', 'description',\n",
       "       'total_no_proposed_residential_units', 'habitable_rooms_density',\n",
       "       'site_area', 'borough', 'street_name', 'site_name', 'decision_date',\n",
       "       'valid_date', 'lpa_app_no', 'polygon.geometries', 'polygon.type',\n",
       "       'site_number', 'status', 'wgs84_polygon', 'polygon'],\n",
       "      dtype='object')"
      ]
     },
     "execution_count": 5,
     "metadata": {},
     "output_type": "execute_result"
    }
   ],
   "source": [
    "df.columns"
   ]
  },
  {
   "cell_type": "markdown",
   "metadata": {},
   "source": [
    "## 4. Inspect the free-text descriptions"
   ]
  },
  {
   "cell_type": "code",
   "execution_count": null,
   "metadata": {},
   "outputs": [
    {
     "name": "stdout",
     "output_type": "stream",
     "text": [
      "Conversion of 1 x 5 bed dwellinghouse into 2 flats and replacement of front, side and rear single glazed timber framed windows with double glazed timber framed windows.\n",
      "\n",
      "Erection of 2-storey plus basement house with front lightwell and associated landscaping following demolition of existing garage. \n",
      "\n",
      "Excavation of basement including new front bay window and front garden area. Erection of single storey rear extension and green roof above, installation of two rooflights to front roofslope and replacement dormer window to rear roofslope in the creation of one additional residential unit. Erection of bin and bike store to rear.\n",
      "\n",
      "\n",
      "\n",
      "Redevelopment of site including demolition of existing buildings and erection of a building up to 10 storeys in height to provide self-contained residential flats (Class C3) and associated works.\n",
      "\n",
      "Erection of 2x three storey mews houses on site of existing car park\n",
      "\n",
      "Change of use from office (Class B1a) to residential (Class C3) at ground floor level to provide one 3 bedroom flat.\n",
      "\n",
      "Erection of new dwelling with basement level East of No.12 following demolition of garage with associated landscaping and installation of front bin and bike stores. \n",
      "To No.12: Excavation of basement level and front lightwell; erection of rear single storey extension at ground floor and side/rear extension at first floor with associated balcony; erection of roof extension, rear dormer and installation of side rooflight; fenestration alterations at first floor including replacement of 2x rear windows and insertion of 2x side windows and alterations to West side fenestration; front/rear landscaping alterations and installation of front cycle and bin stores.\n",
      "\n",
      "\n",
      "Conversion of 1 x 3 bed flat and 1 x 2 bed flat to to1 x 4 bed flat and 1 x 1 bed flat. Replacement of two first floor rear windows. Installation of rear/side solar shade at ground floor.\n",
      "\n",
      "Sub-division of the upper floors to form 3 x 1 bed and 1 x 2 bed flats, minor extension to rear at ground level and installation of rear balcony and stair to garden level, associated internal and external alterations and hard and soft landscaping.\n",
      "\n",
      "Erection of mansard roof extension and change of use from office (B1) to 3 residential units (C3) (1x2-bed; 2x1-bed) at first to third floors with first floor terrace. Change of use of ground floor restaurant (A3) and  erection of extensions with integrated terraces ranging in height from one to three storeys (following demolition of existing structures) in association with provision of office (B1a) (with ancillary cafe use) at ground to second floor levels \n",
      "\n"
     ]
    }
   ],
   "source": [
    "for text in list(df['description'][0:10]):\n",
    "    print(text+'\\n')"
   ]
  },
  {
   "cell_type": "code",
   "execution_count": 11,
   "metadata": {},
   "outputs": [],
   "source": [
    "camden_21_descriptions = list(df['description'])"
   ]
  },
  {
   "cell_type": "code",
   "execution_count": 14,
   "metadata": {},
   "outputs": [
    {
     "name": "stdout",
     "output_type": "stream",
     "text": [
      "Number of descriptions for residential planning applictaions in Camden in 2021:  98\n"
     ]
    }
   ],
   "source": [
    "print(\"Number of descriptions for residential planning applictaions in Camden in 2021: \", len(camden_21_descriptions))"
   ]
  },
  {
   "cell_type": "markdown",
   "metadata": {},
   "source": [
    "## 5. Regex match \n",
    "\n",
    "Simple regex match to see how many applications mention 'lightwells'. "
   ]
  },
  {
   "cell_type": "code",
   "execution_count": 12,
   "metadata": {},
   "outputs": [],
   "source": [
    "# regex match for the text 'lightwell'\n",
    "\n",
    "lightwell_regex = re.compile(r'\\b(?:lightwell|light well)\\b', re.IGNORECASE)\n",
    "lightwell_matches = []\n",
    "for text in camden_21_descriptions:\n",
    "    if lightwell_regex.search(text):\n",
    "        lightwell_matches.append(text)"
   ]
  },
  {
   "cell_type": "code",
   "execution_count": 15,
   "metadata": {},
   "outputs": [
    {
     "name": "stdout",
     "output_type": "stream",
     "text": [
      "6 matches found for the regex \"lightwell\" in the descriptions of residential units in Camden in 2021.\n"
     ]
    }
   ],
   "source": [
    "print(f'{len(lightwell_matches)} matches found for the regex \"lightwell\" in the descriptions of residential units in Camden in 2021.')"
   ]
  }
 ],
 "metadata": {
  "kernelspec": {
   "display_name": "AI4CI_base_env",
   "language": "python",
   "name": "python3"
  },
  "language_info": {
   "codemirror_mode": {
    "name": "ipython",
    "version": 3
   },
   "file_extension": ".py",
   "mimetype": "text/x-python",
   "name": "python",
   "nbconvert_exporter": "python",
   "pygments_lexer": "ipython3",
   "version": "3.9.20"
  }
 },
 "nbformat": 4,
 "nbformat_minor": 2
}
