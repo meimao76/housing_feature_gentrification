{
 "cells": [
  {
   "cell_type": "markdown",
   "metadata": {},
   "source": [
    "## 1. Import relevant packages. \n",
    "\n",
    "It's a good practise to install these packages inside a [virtual environment](https://realpython.com/python-virtual-environments-a-primer/)"
   ]
  },
  {
   "cell_type": "code",
   "execution_count": 5,
   "metadata": {},
   "outputs": [],
   "source": [
    "import pandas as pd\n",
    "import numpy as np\n",
    "from elasticsearch import Elasticsearch\n",
    "import re\n",
    "\n",
    "import sys\n",
    "sys.path.append('functions')\n",
    "import preprocessing_fncs as ppf\n",
    "import elastic_search_fncs as esf"
   ]
  },
  {
   "cell_type": "markdown",
   "metadata": {},
   "source": [
    "## 2. Check the database connection \n",
    "\n",
    "This is how you connect to the remote database. "
   ]
  },
  {
   "cell_type": "code",
   "execution_count": 8,
   "metadata": {},
   "outputs": [
    {
     "name": "stdout",
     "output_type": "stream",
     "text": [
      "Connected to Elasticsearch!\n"
     ]
    }
   ],
   "source": [
    "# Details of the dataset\n",
    "db_host = 'https://athena.london.gov.uk'\n",
    "db_user = 'odbc_readonly'\n",
    "db_pass = 'odbc_readonly'\n",
    "db_port = '10099'\n",
    "db_name = 'gla-ldd-external'\n",
    "\n",
    "# Creates connection to the dataset\n",
    "es = Elasticsearch(\n",
    "    [f\"{db_host}:{db_port}\"],\n",
    "    basic_auth=(db_user, db_pass),\n",
    "    verify_certs=True,\n",
    "    ca_certs='athena_es_full_chain.crt'\n",
    ")\n",
    "\n",
    "# Check connection\n",
    "if es.ping():\n",
    "    print(\"Connected to Elasticsearch!\")\n",
    "else:\n",
    "    print(\"Could not connect to Elasticsearch.\")"
   ]
  },
  {
   "cell_type": "markdown",
   "metadata": {},
   "source": [
    "## 3. Retreive dataset \n",
    "\n",
    "Here I use a function I wrote, which queries the dataset and returns the dataframe matching the query. "
   ]
  },
  {
   "cell_type": "code",
   "execution_count": 10,
   "metadata": {},
   "outputs": [],
   "source": [
    "borough = 'camden'\n",
    "year = 2021\n",
    "\n",
    "df = esf.get_residential_units_by_borough(es=es, borough=borough, year=year)\n",
    "df = ppf.format_df(df)"
   ]
  },
  {
   "cell_type": "code",
   "execution_count": 11,
   "metadata": {},
   "outputs": [
    {
     "data": {
      "application/vnd.microsoft.datawrangler.viewer.v0+json": {
       "columns": [
        {
         "name": "index",
         "rawType": "int64",
         "type": "integer"
        },
        {
         "name": "uprn",
         "rawType": "object",
         "type": "string"
        },
        {
         "name": "pp_id",
         "rawType": "object",
         "type": "string"
        },
        {
         "name": "decision",
         "rawType": "object",
         "type": "string"
        },
        {
         "name": "wgs84_polygon.coordinates",
         "rawType": "object",
         "type": "unknown"
        },
        {
         "name": "wgs84_polygon.type",
         "rawType": "object",
         "type": "string"
        },
        {
         "name": "description",
         "rawType": "object",
         "type": "string"
        },
        {
         "name": "total_no_proposed_residential_units",
         "rawType": "int64",
         "type": "integer"
        },
        {
         "name": "habitable_rooms_density",
         "rawType": "float64",
         "type": "float"
        },
        {
         "name": "site_area",
         "rawType": "float64",
         "type": "float"
        },
        {
         "name": "borough",
         "rawType": "object",
         "type": "string"
        },
        {
         "name": "street_name",
         "rawType": "object",
         "type": "string"
        },
        {
         "name": "site_name",
         "rawType": "object",
         "type": "unknown"
        },
        {
         "name": "decision_date",
         "rawType": "datetime64[ns]",
         "type": "datetime"
        },
        {
         "name": "valid_date",
         "rawType": "datetime64[ns]",
         "type": "datetime"
        },
        {
         "name": "lpa_app_no",
         "rawType": "object",
         "type": "string"
        },
        {
         "name": "polygon.geometries",
         "rawType": "object",
         "type": "unknown"
        },
        {
         "name": "polygon.type",
         "rawType": "object",
         "type": "string"
        },
        {
         "name": "site_number",
         "rawType": "object",
         "type": "unknown"
        },
        {
         "name": "status",
         "rawType": "object",
         "type": "string"
        },
        {
         "name": "wgs84_polygon",
         "rawType": "float64",
         "type": "float"
        },
        {
         "name": "polygon",
         "rawType": "float64",
         "type": "float"
        }
       ],
       "conversionMethod": "pd.DataFrame",
       "ref": "af245ac1-d77f-4799-9b6c-2f78e7e6be11",
       "rows": [
        [
         "0",
         "5034091",
         "8285651",
         "Approved",
         "[[[-0.1420526, 51.5467319], [-0.1420714, 51.5466751], [-0.1420919, 51.5466151], [-0.1423151, 51.5466412], [-0.1422333, 51.5468989], [-0.1422043, 51.5469371], [-0.1421847, 51.5469373], [-0.142178, 51.5469634], [-0.142178, 51.5469637], [-0.14181249999999998, 51.5469241], [-0.141839, 51.5468396], [-0.1420091, 51.5468616], [-0.1420526, 51.5467319]]]",
         "Polygon",
         "Alterations, extensions and changes of use to property including erection of two storey roof extension to provide a Class A2 unit at ground and 1st floors, and 4 new residential flats at part 1st to 4th floors; alterations to the front and rear facades of the building including installation of a new shopfront and balconies; and provision of refuse and cycle storage ",
         "4",
         null,
         null,
         "Camden",
         "Kentish Town Road",
         null,
         "2021-06-02 00:00:00",
         "2019-12-27 00:00:00",
         "2019/6433/P",
         "[{'coordinates': [[[528926.8496524, 184728.4516173], [528925.7035889, 184722.1034345], [528924.4503396, 184715.3953547], [528908.9001544, 184717.9046364], [528913.8471911, 184746.6963948], [528915.7518002, 184751.0051615], [528917.1039902, 184751.0551472], [528917.4997531, 184753.9743116], [528917.4997531, 184754.004303], [528942.9522568, 184750.2453789], [528941.3527149, 184740.7980832], [528929.496317, 184742.9474679], [528926.8496524, 184728.4516173]]], 'type': 'Polygon'}]",
         "GeometryCollection",
         "197",
         "Completed",
         null,
         null
        ],
        [
         "1",
         "5042568",
         "7675754",
         "Approved",
         "[[[-0.17861749999999998, 51.5503339], [-0.17861849999999999, 51.5503104], [-0.1788566, 51.5503065], [-0.1789734, 51.5503052], [-0.1791177, 51.5503043], [-0.17911939999999998, 51.5504433], [-0.1791201, 51.5504626], [-0.1791187, 51.5505323], [-0.1789925, 51.550533], [-0.17862519999999998, 51.5505372], [-0.1786226, 51.5504669], [-0.1786215, 51.5504397], [-0.1786206, 51.5504172], [-0.1786198, 51.5503957], [-0.17861749999999998, 51.5503339]]]",
         "Polygon",
         "Erection of 3 storey extension plus basement to existing property to provide 4 flats (2x 1-bed and 2x 2-bed) (Class C3) with rear roof terraces and refuse and cycle store at the front, following demolition of 2 storey garage extension and 1-bed flat. ",
         "4",
         null,
         null,
         "Camden",
         "Netherhall Gardens",
         "Ames House ",
         "2021-10-12 00:00:00",
         "2019-03-20 00:00:00",
         "2019/1515/P",
         "[{'coordinates': [[[526381.6487592, 185065.2552085], [526381.6487592, 185062.6459553], [526365.1503919, 185061.7961986], [526357.0537419, 185061.4462987], [526347.0524828, 185061.0963989], [526346.549534, 185076.5519748], [526346.4505933, 185078.7013595], [526346.3516526, 185086.4491418], [526355.0996624, 185086.7490559], [526380.552166, 185087.8487411], [526380.9314389, 185080.0409761], [526381.07985, 185077.0118432], [526381.2035259, 185074.5125586], [526381.3189567, 185072.1232425], [526381.6487592, 185065.2552085]]], 'type': 'Polygon'}]",
         "GeometryCollection",
         "26",
         "Lapsed",
         null,
         null
        ],
        [
         "2",
         "5049221",
         "10059583",
         "Approved",
         "[[[-0.1737205, 51.5564226], [-0.173845, 51.556451], [-0.173792, 51.55651], [-0.1738013, 51.5565124], [-0.17389559999999998, 51.556499], [-0.1738996, 51.5565094], [-0.1739221, 51.5565057], [-0.1739272, 51.5565197], [-0.17391279999999998, 51.5565217], [-0.1736537, 51.5565601], [-0.1736095, 51.5565661], [-0.1736052, 51.5565651], [-0.1735932, 51.55656], [-0.1735987, 51.556548], [-0.1736335, 51.5564886], [-0.1736605, 51.5564436], [-0.1736791, 51.5564129], [-0.1737205, 51.5564226]]]",
         "Polygon",
         "Amalgamation of 2 flats to form 1 maisonette.",
         "1",
         null,
         null,
         "Camden",
         "Willoughby Road",
         "Flat 3  ",
         "2021-11-18 00:00:00",
         "2021-09-24 00:00:00",
         "2021/3548/P",
         "[{'coordinates': [[[526704.2532651, 185750.7989738], [526695.5464806, 185753.7481296], [526699.0506315, 185760.3962266], [526698.3992717, 185760.6461551], [526691.9021636, 185758.9966272], [526691.5970963, 185760.1462981], [526690.0470248, 185759.6964269], [526689.6512619, 185761.2459834], [526690.6489143, 185761.4959118], [526708.4994716, 185766.204564], [526711.5501442, 185766.9543494], [526711.8469664, 185766.854378], [526712.6962077, 185766.3045354], [526712.3499151, 185764.9549217], [526710.0990134, 185758.2968275], [526708.3510605, 185753.2482727], [526707.1472815, 185749.79926], [526704.2532651, 185750.7989738]]], 'type': 'Polygon'}]",
         "GeometryCollection",
         null,
         "Lapsed",
         null,
         null
        ],
        [
         "3",
         "5130769",
         "7828873",
         "Approved",
         "[[[-0.20331439999999998, 51.5491346], [-0.2031299, 51.5491853], [-0.2028624, 51.5492595], [-0.20278369999999998, 51.5492807], [-0.2027414, 51.5492189], [-0.20334549999999998, 51.5490586], [-0.203316, 51.5491324], [-0.20331439999999998, 51.5491346]]]",
         "Polygon",
         "Change of use from HMO (sui generis) to 4 x residential units (C3) with; side and rear dormer roof windows, and; ground floor rear extensions to create; 1 x 3 bed, 1 x 2 bed and 2 x Studio flats, with; refuse, recycling and cycle stores [part retrospective].",
         "4",
         null,
         null,
         "Camden",
         "Fordwych Road",
         null,
         "2021-04-28 00:00:00",
         "2020-04-21 00:00:00",
         "2019/2472/P",
         "[{'coordinates': [[[524672.7031888, 184889.5455048], [524685.3511125, 184895.5037993], [524703.6963735, 184904.2013096], [524709.0968885, 184906.7005942], [524712.1970315, 184899.9025401], [524670.7491093, 184881.0479372], [524672.596003, 184889.2955763], [524672.7031888, 184889.5455048]]], 'type': 'Polygon'}]",
         "GeometryCollection",
         "42",
         "Lapsed",
         null,
         null
        ],
        [
         "4",
         "5088394",
         "9093001",
         "Approved",
         "[[[-0.12640969999999999, 51.5146607], [-0.1264335, 51.5146786], [-0.1264538, 51.5146933], [-0.12646359999999998, 51.5147006], [-0.1265097, 51.5147351], [-0.1264774, 51.5147516], [-0.12637869999999998, 51.5148018], [-0.12628019999999998, 51.5147283], [-0.12640969999999999, 51.5146607]]]",
         "Polygon",
         "Change of use of the 4th floor from office (Class E) to residential (Class C3); installation of new plant equipment and acoustic enclosure at roof level; various alterations to front and rear fenestrations including replacement windows, doors, balustrades and external lighting.",
         "2",
         null,
         null,
         "Camden",
         "Neal Street",
         null,
         "2021-06-22 00:00:00",
         "2020-11-03 00:00:00",
         "2020/5067/P",
         "[{'coordinates': [[[530102.8014928, 181189.7545578], [530101.1030102, 181191.7039998], [530099.6518794, 181193.3035419], [530098.9510492, 181194.103313], [530095.6530248, 181197.8522399], [530097.846211, 181199.7516961], [530104.5494457, 181205.5000507], [530111.598973, 181197.50234], [530102.8014928, 181189.7545578]]], 'type': 'Polygon'}]",
         "GeometryCollection",
         "57",
         "Lapsed",
         null,
         null
        ]
       ],
       "shape": {
        "columns": 21,
        "rows": 5
       }
      },
      "text/html": [
       "<div>\n",
       "<style scoped>\n",
       "    .dataframe tbody tr th:only-of-type {\n",
       "        vertical-align: middle;\n",
       "    }\n",
       "\n",
       "    .dataframe tbody tr th {\n",
       "        vertical-align: top;\n",
       "    }\n",
       "\n",
       "    .dataframe thead th {\n",
       "        text-align: right;\n",
       "    }\n",
       "</style>\n",
       "<table border=\"1\" class=\"dataframe\">\n",
       "  <thead>\n",
       "    <tr style=\"text-align: right;\">\n",
       "      <th></th>\n",
       "      <th>uprn</th>\n",
       "      <th>pp_id</th>\n",
       "      <th>decision</th>\n",
       "      <th>wgs84_polygon.coordinates</th>\n",
       "      <th>wgs84_polygon.type</th>\n",
       "      <th>description</th>\n",
       "      <th>total_no_proposed_residential_units</th>\n",
       "      <th>habitable_rooms_density</th>\n",
       "      <th>site_area</th>\n",
       "      <th>borough</th>\n",
       "      <th>...</th>\n",
       "      <th>site_name</th>\n",
       "      <th>decision_date</th>\n",
       "      <th>valid_date</th>\n",
       "      <th>lpa_app_no</th>\n",
       "      <th>polygon.geometries</th>\n",
       "      <th>polygon.type</th>\n",
       "      <th>site_number</th>\n",
       "      <th>status</th>\n",
       "      <th>wgs84_polygon</th>\n",
       "      <th>polygon</th>\n",
       "    </tr>\n",
       "  </thead>\n",
       "  <tbody>\n",
       "    <tr>\n",
       "      <th>0</th>\n",
       "      <td>5034091</td>\n",
       "      <td>8285651</td>\n",
       "      <td>Approved</td>\n",
       "      <td>[[[-0.1420526, 51.5467319], [-0.1420714, 51.54...</td>\n",
       "      <td>Polygon</td>\n",
       "      <td>Alterations, extensions and changes of use to ...</td>\n",
       "      <td>4</td>\n",
       "      <td>NaN</td>\n",
       "      <td>NaN</td>\n",
       "      <td>Camden</td>\n",
       "      <td>...</td>\n",
       "      <td>None</td>\n",
       "      <td>2021-06-02</td>\n",
       "      <td>2019-12-27</td>\n",
       "      <td>2019/6433/P</td>\n",
       "      <td>[{'coordinates': [[[528926.8496524, 184728.451...</td>\n",
       "      <td>GeometryCollection</td>\n",
       "      <td>197</td>\n",
       "      <td>Completed</td>\n",
       "      <td>NaN</td>\n",
       "      <td>NaN</td>\n",
       "    </tr>\n",
       "    <tr>\n",
       "      <th>1</th>\n",
       "      <td>5042568</td>\n",
       "      <td>7675754</td>\n",
       "      <td>Approved</td>\n",
       "      <td>[[[-0.17861749999999998, 51.5503339], [-0.1786...</td>\n",
       "      <td>Polygon</td>\n",
       "      <td>Erection of 3 storey extension plus basement t...</td>\n",
       "      <td>4</td>\n",
       "      <td>NaN</td>\n",
       "      <td>NaN</td>\n",
       "      <td>Camden</td>\n",
       "      <td>...</td>\n",
       "      <td>Ames House</td>\n",
       "      <td>2021-10-12</td>\n",
       "      <td>2019-03-20</td>\n",
       "      <td>2019/1515/P</td>\n",
       "      <td>[{'coordinates': [[[526381.6487592, 185065.255...</td>\n",
       "      <td>GeometryCollection</td>\n",
       "      <td>26</td>\n",
       "      <td>Lapsed</td>\n",
       "      <td>NaN</td>\n",
       "      <td>NaN</td>\n",
       "    </tr>\n",
       "    <tr>\n",
       "      <th>2</th>\n",
       "      <td>5049221</td>\n",
       "      <td>10059583</td>\n",
       "      <td>Approved</td>\n",
       "      <td>[[[-0.1737205, 51.5564226], [-0.173845, 51.556...</td>\n",
       "      <td>Polygon</td>\n",
       "      <td>Amalgamation of 2 flats to form 1 maisonette.</td>\n",
       "      <td>1</td>\n",
       "      <td>NaN</td>\n",
       "      <td>NaN</td>\n",
       "      <td>Camden</td>\n",
       "      <td>...</td>\n",
       "      <td>Flat 3</td>\n",
       "      <td>2021-11-18</td>\n",
       "      <td>2021-09-24</td>\n",
       "      <td>2021/3548/P</td>\n",
       "      <td>[{'coordinates': [[[526704.2532651, 185750.798...</td>\n",
       "      <td>GeometryCollection</td>\n",
       "      <td>None</td>\n",
       "      <td>Lapsed</td>\n",
       "      <td>NaN</td>\n",
       "      <td>NaN</td>\n",
       "    </tr>\n",
       "    <tr>\n",
       "      <th>3</th>\n",
       "      <td>5130769</td>\n",
       "      <td>7828873</td>\n",
       "      <td>Approved</td>\n",
       "      <td>[[[-0.20331439999999998, 51.5491346], [-0.2031...</td>\n",
       "      <td>Polygon</td>\n",
       "      <td>Change of use from HMO (sui generis) to 4 x re...</td>\n",
       "      <td>4</td>\n",
       "      <td>NaN</td>\n",
       "      <td>NaN</td>\n",
       "      <td>Camden</td>\n",
       "      <td>...</td>\n",
       "      <td>None</td>\n",
       "      <td>2021-04-28</td>\n",
       "      <td>2020-04-21</td>\n",
       "      <td>2019/2472/P</td>\n",
       "      <td>[{'coordinates': [[[524672.7031888, 184889.545...</td>\n",
       "      <td>GeometryCollection</td>\n",
       "      <td>42</td>\n",
       "      <td>Lapsed</td>\n",
       "      <td>NaN</td>\n",
       "      <td>NaN</td>\n",
       "    </tr>\n",
       "    <tr>\n",
       "      <th>4</th>\n",
       "      <td>5088394</td>\n",
       "      <td>9093001</td>\n",
       "      <td>Approved</td>\n",
       "      <td>[[[-0.12640969999999999, 51.5146607], [-0.1264...</td>\n",
       "      <td>Polygon</td>\n",
       "      <td>Change of use of the 4th floor from office (Cl...</td>\n",
       "      <td>2</td>\n",
       "      <td>NaN</td>\n",
       "      <td>NaN</td>\n",
       "      <td>Camden</td>\n",
       "      <td>...</td>\n",
       "      <td>None</td>\n",
       "      <td>2021-06-22</td>\n",
       "      <td>2020-11-03</td>\n",
       "      <td>2020/5067/P</td>\n",
       "      <td>[{'coordinates': [[[530102.8014928, 181189.754...</td>\n",
       "      <td>GeometryCollection</td>\n",
       "      <td>57</td>\n",
       "      <td>Lapsed</td>\n",
       "      <td>NaN</td>\n",
       "      <td>NaN</td>\n",
       "    </tr>\n",
       "  </tbody>\n",
       "</table>\n",
       "<p>5 rows × 21 columns</p>\n",
       "</div>"
      ],
      "text/plain": [
       "      uprn     pp_id  decision  \\\n",
       "0  5034091   8285651  Approved   \n",
       "1  5042568   7675754  Approved   \n",
       "2  5049221  10059583  Approved   \n",
       "3  5130769   7828873  Approved   \n",
       "4  5088394   9093001  Approved   \n",
       "\n",
       "                           wgs84_polygon.coordinates wgs84_polygon.type  \\\n",
       "0  [[[-0.1420526, 51.5467319], [-0.1420714, 51.54...            Polygon   \n",
       "1  [[[-0.17861749999999998, 51.5503339], [-0.1786...            Polygon   \n",
       "2  [[[-0.1737205, 51.5564226], [-0.173845, 51.556...            Polygon   \n",
       "3  [[[-0.20331439999999998, 51.5491346], [-0.2031...            Polygon   \n",
       "4  [[[-0.12640969999999999, 51.5146607], [-0.1264...            Polygon   \n",
       "\n",
       "                                         description  \\\n",
       "0  Alterations, extensions and changes of use to ...   \n",
       "1  Erection of 3 storey extension plus basement t...   \n",
       "2      Amalgamation of 2 flats to form 1 maisonette.   \n",
       "3  Change of use from HMO (sui generis) to 4 x re...   \n",
       "4  Change of use of the 4th floor from office (Cl...   \n",
       "\n",
       "   total_no_proposed_residential_units  habitable_rooms_density  site_area  \\\n",
       "0                                    4                      NaN        NaN   \n",
       "1                                    4                      NaN        NaN   \n",
       "2                                    1                      NaN        NaN   \n",
       "3                                    4                      NaN        NaN   \n",
       "4                                    2                      NaN        NaN   \n",
       "\n",
       "  borough  ...    site_name decision_date valid_date   lpa_app_no  \\\n",
       "0  Camden  ...         None    2021-06-02 2019-12-27  2019/6433/P   \n",
       "1  Camden  ...  Ames House     2021-10-12 2019-03-20  2019/1515/P   \n",
       "2  Camden  ...     Flat 3      2021-11-18 2021-09-24  2021/3548/P   \n",
       "3  Camden  ...         None    2021-04-28 2020-04-21  2019/2472/P   \n",
       "4  Camden  ...         None    2021-06-22 2020-11-03  2020/5067/P   \n",
       "\n",
       "                                  polygon.geometries        polygon.type  \\\n",
       "0  [{'coordinates': [[[528926.8496524, 184728.451...  GeometryCollection   \n",
       "1  [{'coordinates': [[[526381.6487592, 185065.255...  GeometryCollection   \n",
       "2  [{'coordinates': [[[526704.2532651, 185750.798...  GeometryCollection   \n",
       "3  [{'coordinates': [[[524672.7031888, 184889.545...  GeometryCollection   \n",
       "4  [{'coordinates': [[[530102.8014928, 181189.754...  GeometryCollection   \n",
       "\n",
       "  site_number     status wgs84_polygon  polygon  \n",
       "0         197  Completed           NaN      NaN  \n",
       "1          26     Lapsed           NaN      NaN  \n",
       "2        None     Lapsed           NaN      NaN  \n",
       "3          42     Lapsed           NaN      NaN  \n",
       "4          57     Lapsed           NaN      NaN  \n",
       "\n",
       "[5 rows x 21 columns]"
      ]
     },
     "execution_count": 11,
     "metadata": {},
     "output_type": "execute_result"
    }
   ],
   "source": [
    "df.head()"
   ]
  },
  {
   "cell_type": "code",
   "execution_count": 12,
   "metadata": {},
   "outputs": [
    {
     "data": {
      "text/plain": [
       "Index(['uprn', 'pp_id', 'decision', 'wgs84_polygon.coordinates',\n",
       "       'wgs84_polygon.type', 'description',\n",
       "       'total_no_proposed_residential_units', 'habitable_rooms_density',\n",
       "       'site_area', 'borough', 'street_name', 'site_name', 'decision_date',\n",
       "       'valid_date', 'lpa_app_no', 'polygon.geometries', 'polygon.type',\n",
       "       'site_number', 'status', 'wgs84_polygon', 'polygon'],\n",
       "      dtype='object')"
      ]
     },
     "execution_count": 12,
     "metadata": {},
     "output_type": "execute_result"
    }
   ],
   "source": [
    "df.columns"
   ]
  },
  {
   "cell_type": "markdown",
   "metadata": {},
   "source": [
    "## 4. Inspect the free-text descriptions"
   ]
  },
  {
   "cell_type": "code",
   "execution_count": 13,
   "metadata": {},
   "outputs": [
    {
     "name": "stdout",
     "output_type": "stream",
     "text": [
      "Alterations, extensions and changes of use to property including erection of two storey roof extension to provide a Class A2 unit at ground and 1st floors, and 4 new residential flats at part 1st to 4th floors; alterations to the front and rear facades of the building including installation of a new shopfront and balconies; and provision of refuse and cycle storage \n",
      "\n",
      "Erection of 3 storey extension plus basement to existing property to provide 4 flats (2x 1-bed and 2x 2-bed) (Class C3) with rear roof terraces and refuse and cycle store at the front, following demolition of 2 storey garage extension and 1-bed flat. \n",
      "\n",
      "Amalgamation of 2 flats to form 1 maisonette.\n",
      "\n",
      "Change of use from HMO (sui generis) to 4 x residential units (C3) with; side and rear dormer roof windows, and; ground floor rear extensions to create; 1 x 3 bed, 1 x 2 bed and 2 x Studio flats, with; refuse, recycling and cycle stores [part retrospective].\n",
      "\n",
      "Change of use of the 4th floor from office (Class E) to residential (Class C3); installation of new plant equipment and acoustic enclosure at roof level; various alterations to front and rear fenestrations including replacement windows, doors, balustrades and external lighting.\n",
      "\n",
      "Conversion of 1 x 1 bed flat and 1 x 3 bed flat into 1 x 4 bed dwellinghouse, erection of single storey rear and side extension following removal of existing external stair, new windows to rear closet wing, replacement of existing french doors with new glass door and railings at first floor level on the rear elevation, new metal railings to existing roof terrace at second floor level on the rear elevation. \n",
      "\n",
      "Conversion of a 5 bedroom dwellinghouse at upper floors into one 1 bedroom self-contained flat and one 2 bedroom self-contained maisonette (Class C3).\n",
      "\n",
      "Demolition of existing buildings and erection of a four storey block with retail units at ground floor and 3 x 3-bed residential units above  \n",
      "\n",
      "Conversion of former fire station tower (Sui Generis) to a 1 bedroom residential unit (Class C3) on 2nd to 5th floors plus creation of roof terrace including installation of balustrade and removal of chimneys\n",
      "\n",
      "Amalgamation of flats 1 (lower and upper ground floor) and 3 (first floor) into one unit. Alterations to rear windows and door.\n",
      "\n"
     ]
    }
   ],
   "source": [
    "for text in list(df['description'][0:10]):\n",
    "    print(text+'\\n')"
   ]
  },
  {
   "cell_type": "code",
   "execution_count": 11,
   "metadata": {},
   "outputs": [],
   "source": [
    "camden_21_descriptions = list(df['description'])"
   ]
  },
  {
   "cell_type": "code",
   "execution_count": 14,
   "metadata": {},
   "outputs": [
    {
     "name": "stdout",
     "output_type": "stream",
     "text": [
      "Number of descriptions for residential planning applictaions in Camden in 2021:  98\n"
     ]
    }
   ],
   "source": [
    "print(\"Number of descriptions for residential planning applictaions in Camden in 2021: \", len(camden_21_descriptions))"
   ]
  },
  {
   "cell_type": "markdown",
   "metadata": {},
   "source": [
    "## 5. Regex match \n",
    "\n",
    "Simple regex match to see how many applications mention 'lightwells'. "
   ]
  },
  {
   "cell_type": "code",
   "execution_count": 12,
   "metadata": {},
   "outputs": [],
   "source": [
    "# regex match for the text 'lightwell'\n",
    "\n",
    "lightwell_regex = re.compile(r'\\b(?:lightwell|light well)\\b', re.IGNORECASE)\n",
    "lightwell_matches = []\n",
    "for text in camden_21_descriptions:\n",
    "    if lightwell_regex.search(text):\n",
    "        lightwell_matches.append(text)"
   ]
  },
  {
   "cell_type": "code",
   "execution_count": 15,
   "metadata": {},
   "outputs": [
    {
     "name": "stdout",
     "output_type": "stream",
     "text": [
      "6 matches found for the regex \"lightwell\" in the descriptions of residential units in Camden in 2021.\n"
     ]
    }
   ],
   "source": [
    "print(f'{len(lightwell_matches)} matches found for the regex \"lightwell\" in the descriptions of residential units in Camden in 2021.')"
   ]
  }
 ],
 "metadata": {
  "kernelspec": {
   "display_name": "venv",
   "language": "python",
   "name": "python3"
  },
  "language_info": {
   "codemirror_mode": {
    "name": "ipython",
    "version": 3
   },
   "file_extension": ".py",
   "mimetype": "text/x-python",
   "name": "python",
   "nbconvert_exporter": "python",
   "pygments_lexer": "ipython3",
   "version": "3.12.5"
  }
 },
 "nbformat": 4,
 "nbformat_minor": 2
}
